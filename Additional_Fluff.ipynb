{
 "cells": [
  {
   "cell_type": "markdown",
   "metadata": {},
   "source": [
    "<img src=\"dolan_logo.png\" alt=\"Drawing\" style=\"width: 200px;\"/>"
   ]
  },
  {
   "cell_type": "markdown",
   "metadata": {},
   "source": [
    "# Additional Fluff to Intro"
   ]
  },
  {
   "cell_type": "markdown",
   "metadata": {},
   "source": [
    "An IPO is an (Initial Public Offering). It is the first opportunity for a private company to sell stock in their company publicly. Companies do this so they can raise money in their company. \n",
    "\n",
    "Typically, a company going through the IPO process hires an underwriter, usually an investment bank, who helps them with pricing their company. \n",
    "\n",
    "Because the company is so new and exclusive, IPOs typically attract a lot of attention when they hit the market. They are typically pretty risky and volatile investments, since the historical pricing data is not there, so it is difficult to predict where the price will go. In finance, there is usually a tradeoff between risk and return. With that said, investors will invest in riskier IPOs hoping for a big potential return. \n",
    "\n",
    "So with all this being said, we are lucky to have obtained data from over 600 firms that our client is seeking analysis around. In our data we have 22 features to test around to see what are the determinants of IPO underpricing phenomena."
   ]
  },
  {
   "cell_type": "markdown",
   "metadata": {},
   "source": [
    "# Additional Notes About the Project 1 Submission File"
   ]
  },
  {
   "cell_type": "markdown",
   "metadata": {},
   "source": [
    "1) Don't need link to data dictionary since she have image screenshot of it"
   ]
  },
  {
   "cell_type": "markdown",
   "metadata": {},
   "source": [
    "2) The word easily is spelled wrong here - \"Null values have been updated to more easilly identifiable.\" "
   ]
  },
  {
   "cell_type": "markdown",
   "metadata": {},
   "source": [
    "3) Change this sentance...\"Strangely, the data type of I3 appears to be object. In taking a closer look we can see several rows have a string representation of a lists of integers rather than a single integer.\"\n",
    "\n",
    "to...\n",
    "\n",
    "Strangely, the data type of I3 appears to be an object. In taking a closer look we can see several rows have string representation of lists of integers rather than a single integer."
   ]
  },
  {
   "cell_type": "markdown",
   "metadata": {},
   "source": [
    "4) Fix \"In order to correctly impur the data we will create histograms and review the boxplots to get a better view of the correct imputation strategy for each field.\"\n",
    "\n",
    "correctly \"imput\""
   ]
  },
  {
   "cell_type": "markdown",
   "metadata": {},
   "source": [
    "5) Don't think we need to show the SIC codes twice in charts"
   ]
  },
  {
   "cell_type": "markdown",
   "metadata": {},
   "source": [
    "6) INSERT FIELD HERE, which leveraged l1 normalization. \n",
    "\n",
    "total_shares was the field here"
   ]
  },
  {
   "cell_type": "markdown",
   "metadata": {},
   "source": [
    "7) \"We expect the diagnol to be a perfect correlation\"\n",
    "\n",
    "diagnol is spelled wrong"
   ]
  },
  {
   "cell_type": "markdown",
   "metadata": {},
   "source": [
    "8) Remove this section for sure\n",
    "\n",
    "test_feats = {\n",
    "    'C1': ['C1', 'C1_normalized'],\n",
    "    'C3': ['C3_imputed','C3_imputed_iqr_standardized','C3_imputed_normalized', 'C3_imputed_iqr_standardized_normalized'],\n",
    "    'C4': ['C4', 'C4_iqr_standardized', 'C4_normalized', 'C4_iqr_standardized_normalized'],\n",
    "    'C5_prime': ['C5_prime', 'C5_prime_iqr_standardized','C5_prime_normalized','C5_prime_iqr_standardized_normalized'],\n",
    "    'C6_prime': ['C6_imputed_std_scaled', 'C6_imputed_iqr_standardized_std_scaled'],\n",
    "    'C7': ['C7_imputed_std_scaled', 'C7_imputed_iqr_standardized_std_scaled'],\n",
    "    'words_per_sentence': ['words_per_sentence_imputed_std_scaled', 'words_per_sentence_imputed_iqr_standardized_std_scaled'],\n",
    "    'real_word_per': ['real_word_per_imputed_std_scaled','real_word_per_imputed_iqr_standardized_std_scaled'],\n",
    "    #'non_real_word_per': ['non_real_word_per_imputed_std_scaled','non_real_word_per_imputed_iqr_standardized_std_scaled'],\n",
    "    'short_sentences_per': ['short_sentences_imputed_std_scaled', 'short_sentences_imputed_iqr_standardized_std_scaled'],\n",
    "    'long_sentences_per': [],\n",
    "    'pos_words_percent': ['pos_words_percent_imputed_std_scaled','pos_words_percent_imputed_iqr_standardized_std_scaled'],\n",
    "    'neg_words_percent': ['neg_words_percent_imputed_std_scaled', 'neg_words_percent_imputed_iqr_standardized_std_scaled'],\n",
    "    'uncertain_words_percent': ['uncertain_words_percent_imputed_std_scaled','uncertain_words_percent_imputed_iqr_standardized_std_scaled'],\n",
    "    'total_shares': ['total_shares_imputed_std_scaled','total_shares_imputed_iqr_standardized_std_scaled'],\n",
    "    'sales_per_share': ['sales_per_share_imputed_std_scaled','sales_per_share_imputed_iqr_standardized_std_scaled'],\n",
    "    'outstanding_share_per': ['C5\\'_imputed_std_scaled', 'C5\\'_imputed_iqr_standardized_std_scaled'],\n",
    "    'offering_share_per': ['C6\\'_imputed_std_scaled', 'C6\\'_imputed_iqr_standardized_std_scaled'],\n",
    "    \n",
    "}"
   ]
  },
  {
   "cell_type": "markdown",
   "metadata": {},
   "source": [
    "9) Last sentance of the entire workbook cuts off into nothing?"
   ]
  },
  {
   "cell_type": "code",
   "execution_count": null,
   "metadata": {},
   "outputs": [],
   "source": []
  }
 ],
 "metadata": {
  "kernelspec": {
   "display_name": "Python 3",
   "language": "python",
   "name": "python3"
  },
  "language_info": {
   "codemirror_mode": {
    "name": "ipython",
    "version": 3
   },
   "file_extension": ".py",
   "mimetype": "text/x-python",
   "name": "python",
   "nbconvert_exporter": "python",
   "pygments_lexer": "ipython3",
   "version": "3.6.7"
  }
 },
 "nbformat": 4,
 "nbformat_minor": 4
}
