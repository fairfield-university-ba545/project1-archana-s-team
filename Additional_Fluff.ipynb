{
 "cells": [
  {
   "cell_type": "markdown",
   "metadata": {},
   "source": [
    "<img src=\"dolan_logo.png\" alt=\"Drawing\" style=\"width: 200px;\"/>"
   ]
  },
  {
   "cell_type": "markdown",
   "metadata": {},
   "source": [
    "# Additional Fluff to Intro"
   ]
  },
  {
   "cell_type": "markdown",
   "metadata": {},
   "source": [
    "An IPO is an (Initial Public Offering). It is the first opportunity for a private company to sell stock in their company publicly. Companies do this so they can raise money in their company. \n",
    "\n",
    "Typically, a company going through the IPO process hires an underwriter, usually an investment bank, who helps them with pricing their company. \n",
    "\n",
    "Because the company is so new and exclusive, IPOs typically attract a lot of attention when they hit the market. They are typically pretty risky and volatile investments, since the historical pricing data is not there, so it is difficult to predict where the price will go. In finance, there is usually a tradeoff between risk and return. With that said, investors will invest in riskier IPOs hoping for a big potential return. \n",
    "\n",
    "So with all this being said, we are lucky to have obtained data from over 600 firms that our client is seeking analysis around. In our data we have 22 features to test around to see what are the determinants of IPO underpricing phenomena."
   ]
  }
 ],
 "metadata": {
  "kernelspec": {
   "display_name": "Python 3",
   "language": "python",
   "name": "python3"
  },
  "language_info": {
   "codemirror_mode": {
    "name": "ipython",
    "version": 3
   },
   "file_extension": ".py",
   "mimetype": "text/x-python",
   "name": "python",
   "nbconvert_exporter": "python",
   "pygments_lexer": "ipython3",
   "version": "3.6.7"
  }
 },
 "nbformat": 4,
 "nbformat_minor": 4
}
