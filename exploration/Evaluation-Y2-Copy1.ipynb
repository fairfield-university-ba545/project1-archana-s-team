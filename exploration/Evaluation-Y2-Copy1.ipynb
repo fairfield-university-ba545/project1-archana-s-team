{
 "cells": [
  {
   "cell_type": "code",
   "execution_count": 2,
   "metadata": {
    "collapsed": false
   },
   "outputs": [],
   "source": [
    "# import required package for data handling\n",
    "import pandas as pd\n",
    "import numpy as np\n",
    "\n",
    "# import required packages for splitting data\n",
    "from sklearn import model_selection\n",
    "from sklearn.model_selection import cross_val_score\n",
    "from sklearn.model_selection import train_test_split\n",
    "\n",
    "# import required packages for evaluating models\n",
    "from sklearn import metrics\n",
    "from sklearn.metrics import confusion_matrix\n",
    "from sklearn.metrics import classification_report\n",
    "from sklearn.metrics import roc_auc_score\n",
    "from sklearn.metrics import accuracy_score\n",
    "from sklearn.metrics import precision_recall_fscore_support\n",
    "\n",
    "# import `logistic regression` model\n",
    "from sklearn.linear_model import LogisticRegression\n",
    "\n",
    "import pandas as pd\n",
    "import numpy as np\n",
    "import matplotlib.pyplot as plt\n",
    "from scipy.stats import shapiro\n",
    "import seaborn as sns\n",
    "from scipy.stats import zscore, skew\n",
    "from sklearn import preprocessing\n",
    "from sklearn.feature_selection import RFE\n",
    "from sklearn.linear_model import LogisticRegression\n",
    "from sklearn.ensemble import RandomForestClassifier\n",
    "from sklearn.model_selection import train_test_split\n",
    "from itertools import chain\n",
    "import xgboost\n",
    "from sklearn import metrics, model_selection\n",
    "from sklearn.metrics import confusion_matrix\n",
    "from sklearn.metrics import classification_report\n",
    "from sklearn.metrics import roc_auc_score\n",
    "from sklearn.metrics import accuracy_score\n",
    "from sklearn.metrics import precision_recall_fscore_support\n",
    "from sklearn.decomposition import PCA\n",
    "\n",
    "from sklearn.metrics import roc_curve, confusion_matrix\n",
    "\n",
    "from sklearn.model_selection import cross_val_score\n",
    "from sklearn.model_selection import train_test_split\n",
    "\n",
    "pd.set_option('display.max_columns', 500)"
   ]
  },
  {
   "cell_type": "code",
   "execution_count": 3,
   "metadata": {
    "collapsed": false
   },
   "outputs": [],
   "source": [
    "feat_mat = pd.read_csv('feat_mat.csv', header=0).drop(columns = ['Unnamed: 0', 'Unnamed: 0.1'])\n",
    "tar = pd.read_csv('target_df.csv')"
   ]
  },
  {
   "cell_type": "code",
   "execution_count": 4,
   "metadata": {
    "collapsed": true
   },
   "outputs": [],
   "source": [
    "y2 = tar.Y2"
   ]
  },
  {
   "cell_type": "code",
   "execution_count": 5,
   "metadata": {},
   "outputs": [],
   "source": [
    "high_corr_map = {'C7_imputed_iqr_standardized_normalized': ['sales_per_share_iqr_standardized_normalized'],\n",
    " 'words_per_sentence_iqr_standardized_normalized': ['short_sentences_per_iqr_standardized_normalized',\n",
    "  'long_sentences_per_iqr_standardized_normalized'],\n",
    " 'real_word_per_iqr_standardized_normalized': ['non_real_word_per_iqr_standardized_normalized'],\n",
    " 'non_real_word_per_iqr_standardized_normalized': ['real_word_per_iqr_standardized_normalized'],\n",
    " 'short_sentences_per_iqr_standardized_normalized': ['words_per_sentence_iqr_standardized_normalized',\n",
    "  'long_sentences_per_iqr_standardized_normalized'],\n",
    " 'long_sentences_per_iqr_standardized_normalized': ['words_per_sentence_iqr_standardized_normalized',\n",
    "  'short_sentences_per_iqr_standardized_normalized'],\n",
    " 'neg_words_percent_iqr_standardized_normalized': ['uncertain_words_percent_iqr_standardized_normalized'],\n",
    " 'uncertain_words_percent_iqr_standardized_normalized': ['neg_words_percent_iqr_standardized_normalized'],\n",
    " 'sales_per_share_iqr_standardized_normalized': ['C7_imputed_iqr_standardized_normalized'],\n",
    " 'outstanding_share_per_iqr_standardized_normalized': ['offering_share_per_iqr_standardized_normalized',\n",
    "  'C5_prime_iqr_standardized_normalized'],\n",
    " 'offering_share_per_iqr_standardized_normalized': ['outstanding_share_per_iqr_standardized_normalized',\n",
    "  'C5_prime_iqr_standardized_normalized'],\n",
    " 'C5_prime_iqr_standardized_normalized': ['outstanding_share_per_iqr_standardized_normalized',\n",
    "  'offering_share_per_iqr_standardized_normalized']}"
   ]
  },
  {
   "cell_type": "code",
   "execution_count": 6,
   "metadata": {},
   "outputs": [],
   "source": [
    "high_corr_map_alt = {'C7_imputed_normalized_alt': ['sales_per_share_normalized_alt'],\n",
    " 'words_per_sentence_normalized_alt': ['short_sentences_per_normalized_alt',\n",
    "  'long_sentences_per_normalized_alt'],\n",
    " 'real_word_per_normalized_alt': ['non_real_word_per_normalized_alt'],\n",
    " 'non_real_word_per_normalized_alt': ['real_word_per_normalized_alt'],\n",
    " 'short_sentences_per_normalized_alt': ['words_per_sentence_normalized_alt',\n",
    "  'long_sentences_per_normalized_alt'],\n",
    " 'long_sentences_per_normalized_alt': ['words_per_sentence_normalized_alt',\n",
    "  'short_sentences_per_normalized_alt'],\n",
    " 'neg_words_percent_normalized_alt': ['uncertain_words_percent_normalized_alt'],\n",
    " 'uncertain_words_percent_normalized_alt': ['neg_words_percent_normalized_alt'],\n",
    " 'sales_per_share_normalized_alt': ['C7_imputed_normalized_alt'],\n",
    " 'outstanding_share_per_normalized_alt': ['offering_share_per_normalized_alt',\n",
    "  'C5_prime_normalized_alt'],\n",
    " 'offering_share_per_normalized_alt': ['outstanding_share_per_normalized_alt',\n",
    "  'C5_prime_normalized_alt'],\n",
    " 'C5_prime_normalized_alt': ['outstanding_share_per_normalized_alt',\n",
    "  'offering_share_per_normalized_alt']}"
   ]
  },
  {
   "cell_type": "code",
   "execution_count": 7,
   "metadata": {},
   "outputs": [],
   "source": [
    "def get_important_features_rfe(xTrain, yTrain, num_feats):\n",
    "    '''\n",
    "    Takes training values and returns the most important features in order\n",
    "    '''\n",
    "    clf = LogisticRegression(random_state=123, max_iter = 1000)\n",
    "    selector = RFE(clf, num_feats, step=1)\n",
    "    selector.fit(xTrain, yTrain)\n",
    "    \n",
    "    return [x for _,x in sorted(zip(selector.ranking_, list(xTrain.columns)))]\n",
    "    \n",
    "    \n",
    "feat_rfe = get_important_features_rfe(feat_mat[[i for i in list(feat_mat.columns) \n",
    "                                     if i != 'I1' and \n",
    "                                                (('iqr_standardized_normalized' in i) or \n",
    "                                                 ('normalized_alt' in i))]],\n",
    "                          y2, 10)"
   ]
  },
  {
   "cell_type": "code",
   "execution_count": 8,
   "metadata": {},
   "outputs": [
    {
     "data": {
      "text/plain": [
       "['C3_imputed_normalized_alt',\n",
       " 'C4_iqr_standardized_normalized',\n",
       " 'C4_normalized_alt',\n",
       " 'C5_prime_normalized_alt',\n",
       " 'C6_prime_iqr_standardized_normalized',\n",
       " 'neg_words_percent_normalized_alt',\n",
       " 'offering_share_per_iqr_standardized_normalized',\n",
       " 'outstanding_share_per_normalized_alt',\n",
       " 'short_sentences_per_iqr_standardized_normalized',\n",
       " 'short_sentences_per_normalized_alt']"
      ]
     },
     "execution_count": 8,
     "metadata": {},
     "output_type": "execute_result"
    }
   ],
   "source": [
    "feat_rfe[:10]"
   ]
  },
  {
   "cell_type": "code",
   "execution_count": 9,
   "metadata": {
    "collapsed": false
   },
   "outputs": [
    {
     "name": "stderr",
     "output_type": "stream",
     "text": [
      "/opt/tljh/user/lib/python3.6/site-packages/sklearn/model_selection/_split.py:296: FutureWarning: Setting a random_state has no effect since shuffle is False. This will raise an error in 0.24. You should leave random_state to its default (None), or set shuffle=True.\n",
      "  FutureWarning\n",
      "/opt/tljh/user/lib/python3.6/site-packages/sklearn/model_selection/_split.py:296: FutureWarning: Setting a random_state has no effect since shuffle is False. This will raise an error in 0.24. You should leave random_state to its default (None), or set shuffle=True.\n",
      "  FutureWarning\n",
      "/opt/tljh/user/lib/python3.6/site-packages/sklearn/model_selection/_split.py:296: FutureWarning: Setting a random_state has no effect since shuffle is False. This will raise an error in 0.24. You should leave random_state to its default (None), or set shuffle=True.\n",
      "  FutureWarning\n",
      "/opt/tljh/user/lib/python3.6/site-packages/sklearn/model_selection/_split.py:296: FutureWarning: Setting a random_state has no effect since shuffle is False. This will raise an error in 0.24. You should leave random_state to its default (None), or set shuffle=True.\n",
      "  FutureWarning\n",
      "/opt/tljh/user/lib/python3.6/site-packages/sklearn/model_selection/_split.py:296: FutureWarning: Setting a random_state has no effect since shuffle is False. This will raise an error in 0.24. You should leave random_state to its default (None), or set shuffle=True.\n",
      "  FutureWarning\n",
      "/opt/tljh/user/lib/python3.6/site-packages/sklearn/model_selection/_split.py:296: FutureWarning: Setting a random_state has no effect since shuffle is False. This will raise an error in 0.24. You should leave random_state to its default (None), or set shuffle=True.\n",
      "  FutureWarning\n",
      "/opt/tljh/user/lib/python3.6/site-packages/sklearn/model_selection/_split.py:296: FutureWarning: Setting a random_state has no effect since shuffle is False. This will raise an error in 0.24. You should leave random_state to its default (None), or set shuffle=True.\n",
      "  FutureWarning\n",
      "/opt/tljh/user/lib/python3.6/site-packages/sklearn/model_selection/_split.py:296: FutureWarning: Setting a random_state has no effect since shuffle is False. This will raise an error in 0.24. You should leave random_state to its default (None), or set shuffle=True.\n",
      "  FutureWarning\n"
     ]
    },
    {
     "name": "stdout",
     "output_type": "stream",
     "text": [
      "F1 0.6701; AUC 0.6212 \n",
      "Accuracy of classifier on test set: 0.636\n",
      "10-fold cross validation average accuracy of clf1: 0.604\n",
      "Confusion Matrix for Classfier:\n",
      "[[18 15]\n",
      " [33 66]]\n",
      "Classification Report for Classfier:\n",
      "              precision    recall  f1-score   support\n",
      "\n",
      "           0       0.35      0.55      0.43        33\n",
      "           1       0.81      0.67      0.73        99\n",
      "\n",
      "    accuracy                           0.64       132\n",
      "   macro avg       0.58      0.61      0.58       132\n",
      "weighted avg       0.70      0.64      0.66       132\n",
      "\n"
     ]
    },
    {
     "name": "stderr",
     "output_type": "stream",
     "text": [
      "/opt/tljh/user/lib/python3.6/site-packages/sklearn/model_selection/_split.py:296: FutureWarning: Setting a random_state has no effect since shuffle is False. This will raise an error in 0.24. You should leave random_state to its default (None), or set shuffle=True.\n",
      "  FutureWarning\n"
     ]
    },
    {
     "data": {
      "text/html": [
       "<div>\n",
       "<style scoped>\n",
       "    .dataframe tbody tr th:only-of-type {\n",
       "        vertical-align: middle;\n",
       "    }\n",
       "\n",
       "    .dataframe tbody tr th {\n",
       "        vertical-align: top;\n",
       "    }\n",
       "\n",
       "    .dataframe thead th {\n",
       "        text-align: right;\n",
       "    }\n",
       "</style>\n",
       "<table border=\"1\" class=\"dataframe\">\n",
       "  <thead>\n",
       "    <tr style=\"text-align: right;\">\n",
       "      <th></th>\n",
       "      <th>field</th>\n",
       "      <th>importance</th>\n",
       "    </tr>\n",
       "  </thead>\n",
       "  <tbody>\n",
       "    <tr>\n",
       "      <th>2</th>\n",
       "      <td>C4_normalized_alt</td>\n",
       "      <td>-1.287942</td>\n",
       "    </tr>\n",
       "    <tr>\n",
       "      <th>0</th>\n",
       "      <td>C3_imputed_normalized_alt</td>\n",
       "      <td>-0.306260</td>\n",
       "    </tr>\n",
       "    <tr>\n",
       "      <th>5</th>\n",
       "      <td>neg_words_percent_normalized_alt</td>\n",
       "      <td>-0.147031</td>\n",
       "    </tr>\n",
       "    <tr>\n",
       "      <th>9</th>\n",
       "      <td>short_sentences_per_normalized_alt</td>\n",
       "      <td>-0.112678</td>\n",
       "    </tr>\n",
       "    <tr>\n",
       "      <th>7</th>\n",
       "      <td>outstanding_share_per_normalized_alt</td>\n",
       "      <td>0.152084</td>\n",
       "    </tr>\n",
       "    <tr>\n",
       "      <th>8</th>\n",
       "      <td>short_sentences_per_iqr_standardized_normalized</td>\n",
       "      <td>0.153150</td>\n",
       "    </tr>\n",
       "    <tr>\n",
       "      <th>4</th>\n",
       "      <td>C6_prime_iqr_standardized_normalized</td>\n",
       "      <td>0.525858</td>\n",
       "    </tr>\n",
       "    <tr>\n",
       "      <th>6</th>\n",
       "      <td>offering_share_per_iqr_standardized_normalized</td>\n",
       "      <td>0.582705</td>\n",
       "    </tr>\n",
       "    <tr>\n",
       "      <th>3</th>\n",
       "      <td>C5_prime_normalized_alt</td>\n",
       "      <td>0.598360</td>\n",
       "    </tr>\n",
       "    <tr>\n",
       "      <th>1</th>\n",
       "      <td>C4_iqr_standardized_normalized</td>\n",
       "      <td>1.485722</td>\n",
       "    </tr>\n",
       "  </tbody>\n",
       "</table>\n",
       "</div>"
      ],
      "text/plain": [
       "                                             field  importance\n",
       "2                                C4_normalized_alt   -1.287942\n",
       "0                        C3_imputed_normalized_alt   -0.306260\n",
       "5                 neg_words_percent_normalized_alt   -0.147031\n",
       "9               short_sentences_per_normalized_alt   -0.112678\n",
       "7             outstanding_share_per_normalized_alt    0.152084\n",
       "8  short_sentences_per_iqr_standardized_normalized    0.153150\n",
       "4             C6_prime_iqr_standardized_normalized    0.525858\n",
       "6   offering_share_per_iqr_standardized_normalized    0.582705\n",
       "3                          C5_prime_normalized_alt    0.598360\n",
       "1                   C4_iqr_standardized_normalized    1.485722"
      ]
     },
     "execution_count": 9,
     "metadata": {},
     "output_type": "execute_result"
    }
   ],
   "source": [
    "predictors_y2 = feat_mat[feat_rfe[:10]]\n",
    "\n",
    "# lists for f1-score and AUC\n",
    "f1_score_lst = []\n",
    "auc_lst = []\n",
    "\n",
    "\n",
    "#loop to calculate f1 and auc scores and present averages after 10 runs\n",
    "for count in range (1,10):\n",
    "    #Model building\n",
    "    clf1 = LogisticRegression()\n",
    "\n",
    "    \n",
    "    # Splitting data into testing and training\n",
    "    X2_train, X2_test, y2_train, y2_test = train_test_split(predictors_y2, y2, test_size=0.2, random_state=123)\n",
    "    \n",
    "    # Begin oversampling\n",
    "    oversample = pd.concat([X2_train,y2_train],axis=1)\n",
    "    max_size = oversample['Y2'].value_counts().max()\n",
    "    lst = [oversample]\n",
    "    for class_index, group in oversample.groupby('Y2'):\n",
    "        lst.append(group.sample(max_size-len(group), replace=True))\n",
    "    X2_train = pd.concat(lst)\n",
    "    y2_train=pd.DataFrame.copy(X2_train['Y2'])\n",
    "    del X2_train['Y2']\n",
    "    \n",
    "    # fitting model on oversampled data\n",
    "    clf1.fit(X2_train, y2_train)\n",
    "    \n",
    "    y2_pred = clf1.predict(X2_test)\n",
    "    \n",
    "    \n",
    "    #10-fold cross validation\n",
    "    kfold = model_selection.KFold(n_splits=10, random_state=123)\n",
    "    scoring = 'accuracy'\n",
    "    results = model_selection.cross_val_score(clf1, X2_train, y2_train, cv=kfold, scoring=scoring)\n",
    "    \n",
    "    #calculate f1-score and AUC\n",
    "    \n",
    "    clf1_roc_auc = roc_auc_score(y2_test, y2_pred)\n",
    "    \n",
    "    \n",
    "    #calculate average f1-score and AUC\n",
    "    f1_score_lst.append(precision_recall_fscore_support(y2_test, y2_pred, average='weighted')[2])\n",
    "    auc_lst.append(clf1_roc_auc)\n",
    "    \n",
    "    \n",
    "print('F1 {:.4f}; AUC {:.4f} '.format(np.mean(f1_score_lst),np.mean(auc_lst)))\n",
    "\n",
    "confusion_matrix_y2 = confusion_matrix(y2_test, y2_pred)\n",
    "\n",
    "\n",
    "print('Accuracy of classifier on test set: {:.3f}'.format(clf1.score(X2_test, y2_test)))\n",
    "\n",
    "print(\"10-fold cross validation average accuracy of clf1: %.3f\" % (results.mean()))\n",
    "\n",
    "print('Confusion Matrix for Classfier:')\n",
    "print(confusion_matrix_y2)\n",
    "\n",
    "print('Classification Report for Classfier:')\n",
    "print(classification_report(y2_test, y2_pred))\n",
    "\n",
    "imp = pd.DataFrame(zip(predictors_y2.columns, clf1.coef_[0]))\n",
    "imp.columns = ['field','importance']\n",
    "imp.sort_values('importance', inplace = True)\n",
    "imp\n"
   ]
  },
  {
   "cell_type": "code",
   "execution_count": 10,
   "metadata": {},
   "outputs": [
    {
     "data": {
      "text/html": [
       "<div>\n",
       "<style scoped>\n",
       "    .dataframe tbody tr th:only-of-type {\n",
       "        vertical-align: middle;\n",
       "    }\n",
       "\n",
       "    .dataframe tbody tr th {\n",
       "        vertical-align: top;\n",
       "    }\n",
       "\n",
       "    .dataframe thead th {\n",
       "        text-align: right;\n",
       "    }\n",
       "</style>\n",
       "<table border=\"1\" class=\"dataframe\">\n",
       "  <thead>\n",
       "    <tr style=\"text-align: right;\">\n",
       "      <th></th>\n",
       "      <th>field</th>\n",
       "      <th>importance</th>\n",
       "    </tr>\n",
       "  </thead>\n",
       "  <tbody>\n",
       "    <tr>\n",
       "      <th>2</th>\n",
       "      <td>C4_normalized_alt</td>\n",
       "      <td>-1.287942</td>\n",
       "    </tr>\n",
       "    <tr>\n",
       "      <th>0</th>\n",
       "      <td>C3_imputed_normalized_alt</td>\n",
       "      <td>-0.306260</td>\n",
       "    </tr>\n",
       "    <tr>\n",
       "      <th>5</th>\n",
       "      <td>neg_words_percent_normalized_alt</td>\n",
       "      <td>-0.147031</td>\n",
       "    </tr>\n",
       "    <tr>\n",
       "      <th>9</th>\n",
       "      <td>short_sentences_per_normalized_alt</td>\n",
       "      <td>-0.112678</td>\n",
       "    </tr>\n",
       "    <tr>\n",
       "      <th>7</th>\n",
       "      <td>outstanding_share_per_normalized_alt</td>\n",
       "      <td>0.152084</td>\n",
       "    </tr>\n",
       "    <tr>\n",
       "      <th>8</th>\n",
       "      <td>short_sentences_per_iqr_standardized_normalized</td>\n",
       "      <td>0.153150</td>\n",
       "    </tr>\n",
       "    <tr>\n",
       "      <th>4</th>\n",
       "      <td>C6_prime_iqr_standardized_normalized</td>\n",
       "      <td>0.525858</td>\n",
       "    </tr>\n",
       "    <tr>\n",
       "      <th>6</th>\n",
       "      <td>offering_share_per_iqr_standardized_normalized</td>\n",
       "      <td>0.582705</td>\n",
       "    </tr>\n",
       "    <tr>\n",
       "      <th>3</th>\n",
       "      <td>C5_prime_normalized_alt</td>\n",
       "      <td>0.598360</td>\n",
       "    </tr>\n",
       "    <tr>\n",
       "      <th>1</th>\n",
       "      <td>C4_iqr_standardized_normalized</td>\n",
       "      <td>1.485722</td>\n",
       "    </tr>\n",
       "  </tbody>\n",
       "</table>\n",
       "</div>"
      ],
      "text/plain": [
       "                                             field  importance\n",
       "2                                C4_normalized_alt   -1.287942\n",
       "0                        C3_imputed_normalized_alt   -0.306260\n",
       "5                 neg_words_percent_normalized_alt   -0.147031\n",
       "9               short_sentences_per_normalized_alt   -0.112678\n",
       "7             outstanding_share_per_normalized_alt    0.152084\n",
       "8  short_sentences_per_iqr_standardized_normalized    0.153150\n",
       "4             C6_prime_iqr_standardized_normalized    0.525858\n",
       "6   offering_share_per_iqr_standardized_normalized    0.582705\n",
       "3                          C5_prime_normalized_alt    0.598360\n",
       "1                   C4_iqr_standardized_normalized    1.485722"
      ]
     },
     "execution_count": 10,
     "metadata": {},
     "output_type": "execute_result"
    }
   ],
   "source": [
    "imp"
   ]
  },
  {
   "cell_type": "code",
   "execution_count": 11,
   "metadata": {},
   "outputs": [],
   "source": [
    "for i in high_corr_map:\n",
    "    if i in imp.field.values:\n",
    "        map_flds = [j for j in high_corr_map[i] if j in imp.field.values]\n",
    "        if len(map_flds) > 0:\n",
    "            print(i, map_flds)"
   ]
  },
  {
   "cell_type": "code",
   "execution_count": 12,
   "metadata": {},
   "outputs": [
    {
     "name": "stdout",
     "output_type": "stream",
     "text": [
      "outstanding_share_per_normalized_alt ['C5_prime_normalized_alt']\n",
      "C5_prime_normalized_alt ['outstanding_share_per_normalized_alt']\n"
     ]
    }
   ],
   "source": [
    "for i in high_corr_map_alt:\n",
    "    if i in imp.field.values:\n",
    "        map_flds = [j for j in high_corr_map_alt[i] if j in imp.field.values]\n",
    "        if len(map_flds) > 0:\n",
    "            print(i, map_flds)"
   ]
  },
  {
   "cell_type": "code",
   "execution_count": 13,
   "metadata": {
    "collapsed": false
   },
   "outputs": [
    {
     "name": "stderr",
     "output_type": "stream",
     "text": [
      "/opt/tljh/user/lib/python3.6/site-packages/sklearn/model_selection/_split.py:296: FutureWarning: Setting a random_state has no effect since shuffle is False. This will raise an error in 0.24. You should leave random_state to its default (None), or set shuffle=True.\n",
      "  FutureWarning\n",
      "/opt/tljh/user/lib/python3.6/site-packages/sklearn/model_selection/_split.py:296: FutureWarning: Setting a random_state has no effect since shuffle is False. This will raise an error in 0.24. You should leave random_state to its default (None), or set shuffle=True.\n",
      "  FutureWarning\n",
      "/opt/tljh/user/lib/python3.6/site-packages/sklearn/model_selection/_split.py:296: FutureWarning: Setting a random_state has no effect since shuffle is False. This will raise an error in 0.24. You should leave random_state to its default (None), or set shuffle=True.\n",
      "  FutureWarning\n",
      "/opt/tljh/user/lib/python3.6/site-packages/sklearn/model_selection/_split.py:296: FutureWarning: Setting a random_state has no effect since shuffle is False. This will raise an error in 0.24. You should leave random_state to its default (None), or set shuffle=True.\n",
      "  FutureWarning\n",
      "/opt/tljh/user/lib/python3.6/site-packages/sklearn/model_selection/_split.py:296: FutureWarning: Setting a random_state has no effect since shuffle is False. This will raise an error in 0.24. You should leave random_state to its default (None), or set shuffle=True.\n",
      "  FutureWarning\n",
      "/opt/tljh/user/lib/python3.6/site-packages/sklearn/model_selection/_split.py:296: FutureWarning: Setting a random_state has no effect since shuffle is False. This will raise an error in 0.24. You should leave random_state to its default (None), or set shuffle=True.\n",
      "  FutureWarning\n",
      "/opt/tljh/user/lib/python3.6/site-packages/sklearn/model_selection/_split.py:296: FutureWarning: Setting a random_state has no effect since shuffle is False. This will raise an error in 0.24. You should leave random_state to its default (None), or set shuffle=True.\n",
      "  FutureWarning\n",
      "/opt/tljh/user/lib/python3.6/site-packages/sklearn/model_selection/_split.py:296: FutureWarning: Setting a random_state has no effect since shuffle is False. This will raise an error in 0.24. You should leave random_state to its default (None), or set shuffle=True.\n",
      "  FutureWarning\n",
      "/opt/tljh/user/lib/python3.6/site-packages/sklearn/model_selection/_split.py:296: FutureWarning: Setting a random_state has no effect since shuffle is False. This will raise an error in 0.24. You should leave random_state to its default (None), or set shuffle=True.\n",
      "  FutureWarning\n"
     ]
    },
    {
     "name": "stdout",
     "output_type": "stream",
     "text": [
      "F1 0.6692; AUC 0.6094 \n",
      "Accuracy of classifier on test set: 0.644\n",
      "10-fold cross validation average accuracy of clf1: 0.598\n",
      "Confusion Matrix for Classfier:\n",
      "[[18 15]\n",
      " [32 67]]\n",
      "Classification Report for Classfier:\n",
      "              precision    recall  f1-score   support\n",
      "\n",
      "           0       0.36      0.55      0.43        33\n",
      "           1       0.82      0.68      0.74        99\n",
      "\n",
      "    accuracy                           0.64       132\n",
      "   macro avg       0.59      0.61      0.59       132\n",
      "weighted avg       0.70      0.64      0.66       132\n",
      "\n"
     ]
    }
   ],
   "source": [
    "predictors_y2 = feat_mat[[i for i in feat_rfe[:16] \n",
    "                          if i not in ['short_sentences_per_normalized_alt','outstanding_share_per_normalized_alt',\n",
    "                                      'short_sentences_per_iqr_standardized_normalized',\n",
    "                                       'long_sentences_per_iqr_standardized_normalized',\n",
    "                                      'neg_words_percent_iqr_standardized_normalized',\n",
    "                                      'C4_normalized_alt','outstanding_share_per_iqr_standardized_normalized',\n",
    "                                      'uncertain_words_percent_normalized_alt']]]\n",
    "\n",
    "# lists for f1-score and AUC\n",
    "f1_score_lst = []\n",
    "auc_lst = []\n",
    "\n",
    "\n",
    "#loop to calculate f1 and auc scores and present averages after 10 runs\n",
    "for count in range (1,10):\n",
    "    #Model building\n",
    "    clf1 = LogisticRegression()\n",
    "\n",
    "    \n",
    "    # Splitting data into testing and training\n",
    "    X2_train, X2_test, y2_train, y2_test = train_test_split(predictors_y2, y2, test_size=0.2, random_state=123)\n",
    "    \n",
    "    # Begin oversampling\n",
    "    oversample = pd.concat([X2_train,y2_train],axis=1)\n",
    "    max_size = oversample['Y2'].value_counts().max()\n",
    "    lst = [oversample]\n",
    "    for class_index, group in oversample.groupby('Y2'):\n",
    "        lst.append(group.sample(max_size-len(group), replace=True))\n",
    "    X2_train = pd.concat(lst)\n",
    "    y2_train=pd.DataFrame.copy(X2_train['Y2'])\n",
    "    del X2_train['Y2']\n",
    "    \n",
    "    # fitting model on oversampled data\n",
    "    clf1.fit(X2_train, y2_train)\n",
    "    \n",
    "    y2_pred = clf1.predict(X2_test)\n",
    "    \n",
    "    \n",
    "    #10-fold cross validation\n",
    "    kfold = model_selection.KFold(n_splits=10, random_state=123)\n",
    "    scoring = 'accuracy'\n",
    "    results = model_selection.cross_val_score(clf1, X2_train, y2_train, cv=kfold, scoring=scoring)\n",
    "    \n",
    "    #calculate f1-score and AUC\n",
    "    \n",
    "    clf1_roc_auc = roc_auc_score(y2_test, y2_pred)\n",
    "    \n",
    "    \n",
    "    #calculate average f1-score and AUC\n",
    "    f1_score_lst.append(precision_recall_fscore_support(y2_test, y2_pred, average='weighted')[2])\n",
    "    auc_lst.append(clf1_roc_auc)\n",
    "    \n",
    "    \n",
    "print('F1 {:.4f}; AUC {:.4f} '.format(np.mean(f1_score_lst),np.mean(auc_lst)))\n",
    "\n",
    "confusion_matrix_y2 = confusion_matrix(y2_test, y2_pred)\n",
    "\n",
    "\n",
    "print('Accuracy of classifier on test set: {:.3f}'.format(clf1.score(X2_test, y2_test)))\n",
    "\n",
    "print(\"10-fold cross validation average accuracy of clf1: %.3f\" % (results.mean()))\n",
    "\n",
    "print('Confusion Matrix for Classfier:')\n",
    "print(confusion_matrix_y2)\n",
    "\n",
    "print('Classification Report for Classfier:')\n",
    "print(classification_report(y2_test, y2_pred))\n",
    "\n",
    "imp = pd.DataFrame(zip(predictors_y2.columns, clf1.coef_[0]))\n",
    "\n"
   ]
  },
  {
   "cell_type": "code",
   "execution_count": 14,
   "metadata": {},
   "outputs": [
    {
     "data": {
      "text/html": [
       "<div>\n",
       "<style scoped>\n",
       "    .dataframe tbody tr th:only-of-type {\n",
       "        vertical-align: middle;\n",
       "    }\n",
       "\n",
       "    .dataframe tbody tr th {\n",
       "        vertical-align: top;\n",
       "    }\n",
       "\n",
       "    .dataframe thead th {\n",
       "        text-align: right;\n",
       "    }\n",
       "</style>\n",
       "<table border=\"1\" class=\"dataframe\">\n",
       "  <thead>\n",
       "    <tr style=\"text-align: right;\">\n",
       "      <th></th>\n",
       "      <th>field</th>\n",
       "      <th>imp</th>\n",
       "    </tr>\n",
       "  </thead>\n",
       "  <tbody>\n",
       "    <tr>\n",
       "      <th>0</th>\n",
       "      <td>C3_imputed_normalized_alt</td>\n",
       "      <td>-0.406219</td>\n",
       "    </tr>\n",
       "    <tr>\n",
       "      <th>7</th>\n",
       "      <td>words_per_sentence_iqr_standardized_normalized</td>\n",
       "      <td>-0.287696</td>\n",
       "    </tr>\n",
       "    <tr>\n",
       "      <th>4</th>\n",
       "      <td>neg_words_percent_normalized_alt</td>\n",
       "      <td>-0.116932</td>\n",
       "    </tr>\n",
       "    <tr>\n",
       "      <th>1</th>\n",
       "      <td>C4_iqr_standardized_normalized</td>\n",
       "      <td>0.182342</td>\n",
       "    </tr>\n",
       "    <tr>\n",
       "      <th>6</th>\n",
       "      <td>words_per_sentence_normalized_alt</td>\n",
       "      <td>0.360963</td>\n",
       "    </tr>\n",
       "    <tr>\n",
       "      <th>5</th>\n",
       "      <td>offering_share_per_iqr_standardized_normalized</td>\n",
       "      <td>0.416194</td>\n",
       "    </tr>\n",
       "    <tr>\n",
       "      <th>3</th>\n",
       "      <td>C6_prime_iqr_standardized_normalized</td>\n",
       "      <td>0.572325</td>\n",
       "    </tr>\n",
       "    <tr>\n",
       "      <th>2</th>\n",
       "      <td>C5_prime_normalized_alt</td>\n",
       "      <td>0.597271</td>\n",
       "    </tr>\n",
       "  </tbody>\n",
       "</table>\n",
       "</div>"
      ],
      "text/plain": [
       "                                            field       imp\n",
       "0                       C3_imputed_normalized_alt -0.406219\n",
       "7  words_per_sentence_iqr_standardized_normalized -0.287696\n",
       "4                neg_words_percent_normalized_alt -0.116932\n",
       "1                  C4_iqr_standardized_normalized  0.182342\n",
       "6               words_per_sentence_normalized_alt  0.360963\n",
       "5  offering_share_per_iqr_standardized_normalized  0.416194\n",
       "3            C6_prime_iqr_standardized_normalized  0.572325\n",
       "2                         C5_prime_normalized_alt  0.597271"
      ]
     },
     "execution_count": 14,
     "metadata": {},
     "output_type": "execute_result"
    }
   ],
   "source": [
    "imp.columns = ['field', 'imp']\n",
    "imp.sort_values(by = 'imp')\n",
    "imp.sort_values('imp')"
   ]
  },
  {
   "cell_type": "code",
   "execution_count": 15,
   "metadata": {},
   "outputs": [],
   "source": [
    "for i in high_corr_map:\n",
    "    if i in imp.field.values:\n",
    "        map_flds = [j for j in high_corr_map[i] if j in imp.field.values]\n",
    "        if len(map_flds) > 0:\n",
    "            print(i, map_flds)"
   ]
  },
  {
   "cell_type": "code",
   "execution_count": 16,
   "metadata": {},
   "outputs": [],
   "source": [
    "for i in high_corr_map_alt:\n",
    "    if i in imp.field.values:\n",
    "        map_flds = [j for j in high_corr_map_alt[i] if j in imp.field.values]\n",
    "        if len(map_flds) > 0:\n",
    "            print(i, map_flds)"
   ]
  },
  {
   "cell_type": "code",
   "execution_count": null,
   "metadata": {},
   "outputs": [],
   "source": []
  },
  {
   "cell_type": "code",
   "execution_count": null,
   "metadata": {},
   "outputs": [],
   "source": []
  },
  {
   "cell_type": "markdown",
   "metadata": {},
   "source": [
    "### PCA"
   ]
  },
  {
   "cell_type": "code",
   "execution_count": 17,
   "metadata": {},
   "outputs": [
    {
     "data": {
      "text/plain": [
       "Index(['C2', 'data_updated', 'C3_prime', 'industry_bin__Manufacturing',\n",
       "       'industry_bin__Other', 'industry_bin__Services'],\n",
       "      dtype='object')"
      ]
     },
     "execution_count": 17,
     "metadata": {},
     "output_type": "execute_result"
    }
   ],
   "source": [
    "feat_mat.columns[-6:]"
   ]
  },
  {
   "cell_type": "code",
   "execution_count": 18,
   "metadata": {},
   "outputs": [],
   "source": [
    "pca = PCA(0.95)\n",
    "# pca_transformed = pca.fit_transform(feat_mat[[i for i in feat_rfe[:10]]])\n",
    "\n",
    "pca_transformed = pca.fit_transform(feat_mat[[i for i in feat_rfe[:11] if 'alt' in i or i in feat_mat.columns[-6:]]])"
   ]
  },
  {
   "cell_type": "code",
   "execution_count": 19,
   "metadata": {
    "collapsed": false
   },
   "outputs": [
    {
     "name": "stderr",
     "output_type": "stream",
     "text": [
      "/opt/tljh/user/lib/python3.6/site-packages/sklearn/model_selection/_split.py:296: FutureWarning: Setting a random_state has no effect since shuffle is False. This will raise an error in 0.24. You should leave random_state to its default (None), or set shuffle=True.\n",
      "  FutureWarning\n",
      "/opt/tljh/user/lib/python3.6/site-packages/sklearn/model_selection/_split.py:296: FutureWarning: Setting a random_state has no effect since shuffle is False. This will raise an error in 0.24. You should leave random_state to its default (None), or set shuffle=True.\n",
      "  FutureWarning\n",
      "/opt/tljh/user/lib/python3.6/site-packages/sklearn/model_selection/_split.py:296: FutureWarning: Setting a random_state has no effect since shuffle is False. This will raise an error in 0.24. You should leave random_state to its default (None), or set shuffle=True.\n",
      "  FutureWarning\n",
      "/opt/tljh/user/lib/python3.6/site-packages/sklearn/model_selection/_split.py:296: FutureWarning: Setting a random_state has no effect since shuffle is False. This will raise an error in 0.24. You should leave random_state to its default (None), or set shuffle=True.\n",
      "  FutureWarning\n",
      "/opt/tljh/user/lib/python3.6/site-packages/sklearn/model_selection/_split.py:296: FutureWarning: Setting a random_state has no effect since shuffle is False. This will raise an error in 0.24. You should leave random_state to its default (None), or set shuffle=True.\n",
      "  FutureWarning\n",
      "/opt/tljh/user/lib/python3.6/site-packages/sklearn/model_selection/_split.py:296: FutureWarning: Setting a random_state has no effect since shuffle is False. This will raise an error in 0.24. You should leave random_state to its default (None), or set shuffle=True.\n",
      "  FutureWarning\n",
      "/opt/tljh/user/lib/python3.6/site-packages/sklearn/model_selection/_split.py:296: FutureWarning: Setting a random_state has no effect since shuffle is False. This will raise an error in 0.24. You should leave random_state to its default (None), or set shuffle=True.\n",
      "  FutureWarning\n",
      "/opt/tljh/user/lib/python3.6/site-packages/sklearn/model_selection/_split.py:296: FutureWarning: Setting a random_state has no effect since shuffle is False. This will raise an error in 0.24. You should leave random_state to its default (None), or set shuffle=True.\n",
      "  FutureWarning\n"
     ]
    },
    {
     "name": "stdout",
     "output_type": "stream",
     "text": [
      "F1 0.5963; AUC 0.5527 \n",
      "Accuracy of classifier on test set: 0.545\n",
      "10-fold cross validation average accuracy of clf1: 0.492\n",
      "Confusion Matrix for Classfier:\n",
      "[[16 17]\n",
      " [43 56]]\n",
      "Classification Report for Classfier:\n",
      "              precision    recall  f1-score   support\n",
      "\n",
      "           0       0.27      0.48      0.35        33\n",
      "           1       0.77      0.57      0.65        99\n",
      "\n",
      "    accuracy                           0.55       132\n",
      "   macro avg       0.52      0.53      0.50       132\n",
      "weighted avg       0.64      0.55      0.58       132\n",
      "\n"
     ]
    },
    {
     "name": "stderr",
     "output_type": "stream",
     "text": [
      "/opt/tljh/user/lib/python3.6/site-packages/sklearn/model_selection/_split.py:296: FutureWarning: Setting a random_state has no effect since shuffle is False. This will raise an error in 0.24. You should leave random_state to its default (None), or set shuffle=True.\n",
      "  FutureWarning\n"
     ]
    }
   ],
   "source": [
    "predictors_y2 = pca_transformed\n",
    "\n",
    "# lists for f1-score and AUC\n",
    "f1_score_lst = []\n",
    "auc_lst = []\n",
    "\n",
    "\n",
    "#loop to calculate f1 and auc scores and present averages after 10 runs\n",
    "for count in range (1,10):\n",
    "    #Model building\n",
    "    clf1 = LogisticRegression()\n",
    "\n",
    "    \n",
    "    # Splitting data into testing and training\n",
    "    X2_train, X2_test, y2_train, y2_test = train_test_split(predictors_y2, y2, test_size=0.2, random_state=123)\n",
    "    X2_train = pd.DataFrame(X2_train)\n",
    "    X2_train['Y2'] = y2_train.values\n",
    "    # Begin oversampling\n",
    "    oversample = X2_train\n",
    "    max_size = oversample['Y2'].value_counts().max()\n",
    "    lst = [oversample]\n",
    "    for class_index, group in oversample.groupby('Y2'):\n",
    "        lst.append(group.sample(max_size-len(group), replace=True))\n",
    "    X2_train = pd.concat(lst)\n",
    "    y2_train=pd.DataFrame.copy(X2_train['Y2'])\n",
    "    del X2_train['Y2']\n",
    "    \n",
    "    # fitting model on oversampled data\n",
    "    clf1.fit(pd.DataFrame(X2_train), y2_train)\n",
    "    \n",
    "    y2_pred = clf1.predict(X2_test)\n",
    "    \n",
    "    \n",
    "    #10-fold cross validation\n",
    "    kfold = model_selection.KFold(n_splits=10, random_state=123)\n",
    "    scoring = 'accuracy'\n",
    "    results = model_selection.cross_val_score(clf1, X2_train, y2_train, cv=kfold, scoring=scoring)\n",
    "    \n",
    "    #calculate f1-score and AUC\n",
    "    \n",
    "    clf1_roc_auc = roc_auc_score(y2_test, y2_pred)\n",
    "    \n",
    "    \n",
    "    #calculate average f1-score and AUC\n",
    "    f1_score_lst.append(precision_recall_fscore_support(y2_test, y2_pred, average='weighted')[2])\n",
    "    auc_lst.append(clf1_roc_auc)\n",
    "    \n",
    "    \n",
    "print('F1 {:.4f}; AUC {:.4f} '.format(np.mean(f1_score_lst),np.mean(auc_lst)))\n",
    "\n",
    "confusion_matrix_y2 = confusion_matrix(y2_test, y2_pred)\n",
    "\n",
    "\n",
    "print('Accuracy of classifier on test set: {:.3f}'.format(clf1.score(X2_test, y2_test)))\n",
    "\n",
    "print(\"10-fold cross validation average accuracy of clf1: %.3f\" % (results.mean()))\n",
    "\n",
    "print('Confusion Matrix for Classfier:')\n",
    "print(confusion_matrix_y2)\n",
    "\n",
    "print('Classification Report for Classfier:')\n",
    "print(classification_report(y2_test, y2_pred))\n"
   ]
  },
  {
   "cell_type": "markdown",
   "metadata": {},
   "source": [
    "No immediate clear impact here"
   ]
  },
  {
   "cell_type": "code",
   "execution_count": null,
   "metadata": {},
   "outputs": [],
   "source": []
  },
  {
   "cell_type": "code",
   "execution_count": null,
   "metadata": {},
   "outputs": [],
   "source": []
  },
  {
   "cell_type": "code",
   "execution_count": null,
   "metadata": {},
   "outputs": [],
   "source": []
  },
  {
   "cell_type": "markdown",
   "metadata": {},
   "source": [
    "Alt approach:\n",
    "- RFE on each set\n",
    "- See which one has best representation of each variable\n",
    "- same with cat vars"
   ]
  },
  {
   "cell_type": "code",
   "execution_count": 68,
   "metadata": {},
   "outputs": [
    {
     "data": {
      "text/plain": [
       "Index(['C2', 'data_updated', 'C3_prime', 'industry_bin__Manufacturing',\n",
       "       'industry_bin__Other', 'industry_bin__Services'],\n",
       "      dtype='object')"
      ]
     },
     "execution_count": 68,
     "metadata": {},
     "output_type": "execute_result"
    }
   ],
   "source": []
  },
  {
   "cell_type": "code",
   "execution_count": 69,
   "metadata": {},
   "outputs": [],
   "source": [
    "# def get_important_features_rfe_alt(xTrain, yTrain, num_feats):\n",
    "#     '''\n",
    "#     Takes training values and returns the most important features in order\n",
    "#     '''\n",
    "#     clf = LogisticRegression(random_state=123, max_iter = 1000)\n",
    "#     selector = RFE(clf, num_feats, step=1)\n",
    "#     selector.fit(xTrain, yTrain)\n",
    "    \n",
    "#     return [x for _,x in sorted(zip(selector.ranking_, list(xTrain.columns)))]\n",
    "    \n"
   ]
  },
  {
   "cell_type": "code",
   "execution_count": 20,
   "metadata": {},
   "outputs": [
    {
     "data": {
      "text/plain": [
       "RFE(estimator=LogisticRegression(C=1.0, class_weight=None, dual=False,\n",
       "                                 fit_intercept=True, intercept_scaling=1,\n",
       "                                 l1_ratio=None, max_iter=1000,\n",
       "                                 multi_class='auto', n_jobs=None, penalty='l2',\n",
       "                                 random_state=123, solver='lbfgs', tol=0.0001,\n",
       "                                 verbose=0, warm_start=False),\n",
       "    n_features_to_select=3, step=1, verbose=0)"
      ]
     },
     "execution_count": 20,
     "metadata": {},
     "output_type": "execute_result"
    }
   ],
   "source": [
    "clf = LogisticRegression(random_state=123, max_iter = 1000)\n",
    "selector = RFE(clf, 3, step=1)\n",
    "selector.fit(feat_mat[feat_mat.columns[-6:]],y2)"
   ]
  },
  {
   "cell_type": "code",
   "execution_count": 21,
   "metadata": {},
   "outputs": [
    {
     "data": {
      "text/plain": [
       "array([1, 2, 4, 3, 1, 1])"
      ]
     },
     "execution_count": 21,
     "metadata": {},
     "output_type": "execute_result"
    }
   ],
   "source": [
    "selector.ranking_"
   ]
  },
  {
   "cell_type": "code",
   "execution_count": 22,
   "metadata": {},
   "outputs": [
    {
     "data": {
      "text/plain": [
       "Index(['C2', 'data_updated', 'C3_prime', 'industry_bin__Manufacturing',\n",
       "       'industry_bin__Other', 'industry_bin__Services'],\n",
       "      dtype='object')"
      ]
     },
     "execution_count": 22,
     "metadata": {},
     "output_type": "execute_result"
    }
   ],
   "source": [
    "feat_mat.columns[-6:]"
   ]
  },
  {
   "cell_type": "code",
   "execution_count": 23,
   "metadata": {},
   "outputs": [
    {
     "data": {
      "text/plain": [
       "['industry_bin__Other',\n",
       " 'C2',\n",
       " 'industry_bin__Services',\n",
       " 'data_updated',\n",
       " 'industry_bin__Manufacturing',\n",
       " 'C3_prime']"
      ]
     },
     "execution_count": 23,
     "metadata": {},
     "output_type": "execute_result"
    }
   ],
   "source": [
    "cat_feat_rfe = get_important_features_rfe(feat_mat[feat_mat.columns[-6:]],\n",
    "                          y2, 1)\n",
    "cat_feat_rfe"
   ]
  },
  {
   "cell_type": "code",
   "execution_count": 24,
   "metadata": {},
   "outputs": [
    {
     "data": {
      "text/plain": [
       "['C4_iqr_standardized_normalized',\n",
       " 'C5_prime_iqr_standardized_normalized',\n",
       " 'C6_prime_iqr_standardized_normalized',\n",
       " 'offering_share_per_iqr_standardized_normalized',\n",
       " 'uncertain_words_percent_iqr_standardized_normalized',\n",
       " 'outstanding_share_per_iqr_standardized_normalized',\n",
       " 'short_sentences_iqr_standardized_normalized',\n",
       " 'real_word_per_iqr_standardized_normalized',\n",
       " 'non_real_word_per_iqr_standardized_normalized',\n",
       " 'pos_words_percent_iqr_standardized_normalized',\n",
       " 'neg_words_percent_iqr_standardized_normalized',\n",
       " 'sales_per_share_iqr_standardized_normalized',\n",
       " 'short_sentences_per_iqr_standardized_normalized',\n",
       " 'words_per_sentence_iqr_standardized_normalized',\n",
       " 'C7_imputed_iqr_standardized_normalized',\n",
       " 'total_shares_iqr_standardized_normalized',\n",
       " 'long_words_per_iqr_standardized_normalized',\n",
       " 'long_sentences_per_iqr_standardized_normalized',\n",
       " 'C3_imputed_iqr_standardized_normalized',\n",
       " 'C1_iqr_standardized_normalized']"
      ]
     },
     "execution_count": 24,
     "metadata": {},
     "output_type": "execute_result"
    }
   ],
   "source": [
    "orig_cont_feat_rfe = get_important_features_rfe(feat_mat[[i for i in feat_mat.columns if 'iqr_standardized_normalized' in i]],\n",
    "                          y2, 5)\n",
    "orig_cont_feat_rfe"
   ]
  },
  {
   "cell_type": "code",
   "execution_count": 25,
   "metadata": {},
   "outputs": [
    {
     "data": {
      "text/plain": [
       "['C3_imputed_normalized_alt',\n",
       " 'C5_prime_normalized_alt',\n",
       " 'C6_prime_normalized_alt',\n",
       " 'outstanding_share_per_normalized_alt',\n",
       " 'uncertain_words_percent_normalized_alt',\n",
       " 'offering_share_per_normalized_alt',\n",
       " 'C4_normalized_alt',\n",
       " 'short_sentences_per_normalized_alt',\n",
       " 'long_sentences_per_normalized_alt',\n",
       " 'pos_words_percent_normalized_alt',\n",
       " 'neg_words_percent_normalized_alt',\n",
       " 'short_sentences_normalized_alt',\n",
       " 'words_per_sentence_normalized_alt',\n",
       " 'sales_per_share_normalized_alt',\n",
       " 'C7_imputed_normalized_alt',\n",
       " 'real_word_per_normalized_alt',\n",
       " 'non_real_word_per_normalized_alt',\n",
       " 'long_words_per_normalized_alt',\n",
       " 'C1_normalized_alt',\n",
       " 'total_shares_normalized_alt']"
      ]
     },
     "execution_count": 25,
     "metadata": {},
     "output_type": "execute_result"
    }
   ],
   "source": [
    "alt_cont_feat_rfe = get_important_features_rfe(feat_mat[[i for i in feat_mat.columns if 'alt' in i]],\n",
    "                          y2, 5)\n",
    "alt_cont_feat_rfe"
   ]
  },
  {
   "cell_type": "code",
   "execution_count": 26,
   "metadata": {},
   "outputs": [],
   "source": [
    "initial_feat_list = [i for i in (cat_feat_rfe[:3] + orig_cont_feat_rfe[:5] + alt_cont_feat_rfe[:5]) if \n",
    "                     i not in ['C6_prime_iqr_standardized_normalized','C5_prime_iqr_standardized_normalized']]"
   ]
  },
  {
   "cell_type": "code",
   "execution_count": 27,
   "metadata": {},
   "outputs": [
    {
     "data": {
      "text/plain": [
       "['industry_bin__Other',\n",
       " 'C2',\n",
       " 'industry_bin__Services',\n",
       " 'C4_iqr_standardized_normalized',\n",
       " 'offering_share_per_iqr_standardized_normalized',\n",
       " 'uncertain_words_percent_iqr_standardized_normalized',\n",
       " 'C3_imputed_normalized_alt',\n",
       " 'C5_prime_normalized_alt',\n",
       " 'C6_prime_normalized_alt',\n",
       " 'outstanding_share_per_normalized_alt',\n",
       " 'uncertain_words_percent_normalized_alt']"
      ]
     },
     "execution_count": 27,
     "metadata": {},
     "output_type": "execute_result"
    }
   ],
   "source": [
    "initial_feat_list"
   ]
  },
  {
   "cell_type": "code",
   "execution_count": 28,
   "metadata": {},
   "outputs": [],
   "source": [
    "alt_feat_lst = get_important_features_rfe(feat_mat[[i for i in feat_mat.columns if 'I1' not in i \n",
    "                                                    and i not in ['C4_normalized_alt', 'C4','outstanding_share_per_normalized_alt',\n",
    "                                                                 'short_sentences', 'C4_normalized',\n",
    "                                                                  'outstanding_share_per_normalized',\n",
    "                                                                  'offering_share_per_normalized_alt',\n",
    "                                                                 'offering_share_per_normalized',\n",
    "                                                                 'C5_prime_normalized_alt',\n",
    "                                                                 'C5_prime_normalized',\n",
    "                                                                 'C5_prime',\n",
    "                                                                 'offering_share_per',\n",
    "                                                                 'outstanding_share_per']]],\n",
    "                          y2, 10)"
   ]
  },
  {
   "cell_type": "code",
   "execution_count": 29,
   "metadata": {},
   "outputs": [
    {
     "data": {
      "text/plain": [
       "['C2',\n",
       " 'C3_imputed_normalized',\n",
       " 'C5_prime_iqr_standardized_normalized',\n",
       " 'C6_prime_iqr_standardized_normalized',\n",
       " 'C7_imputed',\n",
       " 'industry_bin__Other',\n",
       " 'offering_share_per_iqr_standardized_normalized',\n",
       " 'outstanding_share_per_iqr_standardized_normalized',\n",
       " 'short_sentences_iqr_standardized',\n",
       " 'total_shares_iqr_standardized']"
      ]
     },
     "execution_count": 29,
     "metadata": {},
     "output_type": "execute_result"
    }
   ],
   "source": [
    "alt_feat_lst[:10]"
   ]
  },
  {
   "cell_type": "code",
   "execution_count": 30,
   "metadata": {
    "collapsed": false
   },
   "outputs": [
    {
     "name": "stderr",
     "output_type": "stream",
     "text": [
      "/opt/tljh/user/lib/python3.6/site-packages/sklearn/model_selection/_split.py:296: FutureWarning: Setting a random_state has no effect since shuffle is False. This will raise an error in 0.24. You should leave random_state to its default (None), or set shuffle=True.\n",
      "  FutureWarning\n",
      "/opt/tljh/user/lib/python3.6/site-packages/sklearn/model_selection/_split.py:296: FutureWarning: Setting a random_state has no effect since shuffle is False. This will raise an error in 0.24. You should leave random_state to its default (None), or set shuffle=True.\n",
      "  FutureWarning\n",
      "/opt/tljh/user/lib/python3.6/site-packages/sklearn/model_selection/_split.py:296: FutureWarning: Setting a random_state has no effect since shuffle is False. This will raise an error in 0.24. You should leave random_state to its default (None), or set shuffle=True.\n",
      "  FutureWarning\n",
      "/opt/tljh/user/lib/python3.6/site-packages/sklearn/model_selection/_split.py:296: FutureWarning: Setting a random_state has no effect since shuffle is False. This will raise an error in 0.24. You should leave random_state to its default (None), or set shuffle=True.\n",
      "  FutureWarning\n",
      "/opt/tljh/user/lib/python3.6/site-packages/sklearn/model_selection/_split.py:296: FutureWarning: Setting a random_state has no effect since shuffle is False. This will raise an error in 0.24. You should leave random_state to its default (None), or set shuffle=True.\n",
      "  FutureWarning\n",
      "/opt/tljh/user/lib/python3.6/site-packages/sklearn/model_selection/_split.py:296: FutureWarning: Setting a random_state has no effect since shuffle is False. This will raise an error in 0.24. You should leave random_state to its default (None), or set shuffle=True.\n",
      "  FutureWarning\n",
      "/opt/tljh/user/lib/python3.6/site-packages/sklearn/model_selection/_split.py:296: FutureWarning: Setting a random_state has no effect since shuffle is False. This will raise an error in 0.24. You should leave random_state to its default (None), or set shuffle=True.\n",
      "  FutureWarning\n",
      "/opt/tljh/user/lib/python3.6/site-packages/sklearn/model_selection/_split.py:296: FutureWarning: Setting a random_state has no effect since shuffle is False. This will raise an error in 0.24. You should leave random_state to its default (None), or set shuffle=True.\n",
      "  FutureWarning\n"
     ]
    },
    {
     "name": "stdout",
     "output_type": "stream",
     "text": [
      "F1 0.6594; AUC 0.6100 \n",
      "Accuracy of classifier on test set: 0.629\n",
      "10-fold cross validation average accuracy of clf1: 0.597\n",
      "Confusion Matrix for Classfier:\n",
      "[[17 16]\n",
      " [33 66]]\n",
      "Classification Report for Classfier:\n",
      "              precision    recall  f1-score   support\n",
      "\n",
      "           0       0.34      0.52      0.41        33\n",
      "           1       0.80      0.67      0.73        99\n",
      "\n",
      "    accuracy                           0.63       132\n",
      "   macro avg       0.57      0.59      0.57       132\n",
      "weighted avg       0.69      0.63      0.65       132\n",
      "\n"
     ]
    },
    {
     "name": "stderr",
     "output_type": "stream",
     "text": [
      "/opt/tljh/user/lib/python3.6/site-packages/sklearn/model_selection/_split.py:296: FutureWarning: Setting a random_state has no effect since shuffle is False. This will raise an error in 0.24. You should leave random_state to its default (None), or set shuffle=True.\n",
      "  FutureWarning\n"
     ]
    },
    {
     "data": {
      "text/html": [
       "<div>\n",
       "<style scoped>\n",
       "    .dataframe tbody tr th:only-of-type {\n",
       "        vertical-align: middle;\n",
       "    }\n",
       "\n",
       "    .dataframe tbody tr th {\n",
       "        vertical-align: top;\n",
       "    }\n",
       "\n",
       "    .dataframe thead th {\n",
       "        text-align: right;\n",
       "    }\n",
       "</style>\n",
       "<table border=\"1\" class=\"dataframe\">\n",
       "  <thead>\n",
       "    <tr style=\"text-align: right;\">\n",
       "      <th></th>\n",
       "      <th>field</th>\n",
       "      <th>importance</th>\n",
       "    </tr>\n",
       "  </thead>\n",
       "  <tbody>\n",
       "    <tr>\n",
       "      <th>5</th>\n",
       "      <td>industry_bin__Other</td>\n",
       "      <td>-0.764601</td>\n",
       "    </tr>\n",
       "    <tr>\n",
       "      <th>9</th>\n",
       "      <td>total_shares_iqr_standardized</td>\n",
       "      <td>-0.498943</td>\n",
       "    </tr>\n",
       "    <tr>\n",
       "      <th>1</th>\n",
       "      <td>C3_imputed_normalized</td>\n",
       "      <td>-0.261560</td>\n",
       "    </tr>\n",
       "    <tr>\n",
       "      <th>8</th>\n",
       "      <td>short_sentences_iqr_standardized</td>\n",
       "      <td>-0.106187</td>\n",
       "    </tr>\n",
       "    <tr>\n",
       "      <th>7</th>\n",
       "      <td>outstanding_share_per_iqr_standardized_normalized</td>\n",
       "      <td>-0.098272</td>\n",
       "    </tr>\n",
       "    <tr>\n",
       "      <th>0</th>\n",
       "      <td>C2</td>\n",
       "      <td>-0.054217</td>\n",
       "    </tr>\n",
       "    <tr>\n",
       "      <th>6</th>\n",
       "      <td>offering_share_per_iqr_standardized_normalized</td>\n",
       "      <td>0.199567</td>\n",
       "    </tr>\n",
       "    <tr>\n",
       "      <th>2</th>\n",
       "      <td>C5_prime_iqr_standardized_normalized</td>\n",
       "      <td>0.429627</td>\n",
       "    </tr>\n",
       "    <tr>\n",
       "      <th>3</th>\n",
       "      <td>C6_prime_iqr_standardized_normalized</td>\n",
       "      <td>0.591088</td>\n",
       "    </tr>\n",
       "    <tr>\n",
       "      <th>4</th>\n",
       "      <td>C7_imputed</td>\n",
       "      <td>0.822015</td>\n",
       "    </tr>\n",
       "  </tbody>\n",
       "</table>\n",
       "</div>"
      ],
      "text/plain": [
       "                                               field  importance\n",
       "5                                industry_bin__Other   -0.764601\n",
       "9                      total_shares_iqr_standardized   -0.498943\n",
       "1                              C3_imputed_normalized   -0.261560\n",
       "8                   short_sentences_iqr_standardized   -0.106187\n",
       "7  outstanding_share_per_iqr_standardized_normalized   -0.098272\n",
       "0                                                 C2   -0.054217\n",
       "6     offering_share_per_iqr_standardized_normalized    0.199567\n",
       "2               C5_prime_iqr_standardized_normalized    0.429627\n",
       "3               C6_prime_iqr_standardized_normalized    0.591088\n",
       "4                                         C7_imputed    0.822015"
      ]
     },
     "execution_count": 30,
     "metadata": {},
     "output_type": "execute_result"
    }
   ],
   "source": [
    "predictors_y2 = feat_mat[alt_feat_lst[:10]]\n",
    "\n",
    "# lists for f1-score and AUC\n",
    "f1_score_lst = []\n",
    "auc_lst = []\n",
    "\n",
    "\n",
    "#loop to calculate f1 and auc scores and present averages after 10 runs\n",
    "for count in range (1,10):\n",
    "    #Model building\n",
    "    clf1 = LogisticRegression()\n",
    "\n",
    "    \n",
    "    # Splitting data into testing and training\n",
    "    X2_train, X2_test, y2_train, y2_test = train_test_split(predictors_y2, y2, test_size=0.2, random_state=123)\n",
    "    \n",
    "    # Begin oversampling\n",
    "    oversample = pd.concat([X2_train,y2_train],axis=1)\n",
    "    max_size = oversample['Y2'].value_counts().max()\n",
    "    lst = [oversample]\n",
    "    for class_index, group in oversample.groupby('Y2'):\n",
    "        lst.append(group.sample(max_size-len(group), replace=True))\n",
    "    X2_train = pd.concat(lst)\n",
    "    y2_train=pd.DataFrame.copy(X2_train['Y2'])\n",
    "    del X2_train['Y2']\n",
    "    \n",
    "    # fitting model on oversampled data\n",
    "    clf1.fit(X2_train, y2_train)\n",
    "    \n",
    "    y2_pred = clf1.predict(X2_test)\n",
    "    \n",
    "    \n",
    "    #10-fold cross validation\n",
    "    kfold = model_selection.KFold(n_splits=10, random_state=123)\n",
    "    scoring = 'accuracy'\n",
    "    results = model_selection.cross_val_score(clf1, X2_train, y2_train, cv=kfold, scoring=scoring)\n",
    "    \n",
    "    #calculate f1-score and AUC\n",
    "    \n",
    "    clf1_roc_auc = roc_auc_score(y2_test, y2_pred)\n",
    "    \n",
    "    \n",
    "    #calculate average f1-score and AUC\n",
    "    f1_score_lst.append(precision_recall_fscore_support(y2_test, y2_pred, average='weighted')[2])\n",
    "    auc_lst.append(clf1_roc_auc)\n",
    "    \n",
    "    \n",
    "print('F1 {:.4f}; AUC {:.4f} '.format(np.mean(f1_score_lst),np.mean(auc_lst)))\n",
    "\n",
    "confusion_matrix_y2 = confusion_matrix(y2_test, y2_pred)\n",
    "\n",
    "\n",
    "print('Accuracy of classifier on test set: {:.3f}'.format(clf1.score(X2_test, y2_test)))\n",
    "\n",
    "print(\"10-fold cross validation average accuracy of clf1: %.3f\" % (results.mean()))\n",
    "\n",
    "print('Confusion Matrix for Classfier:')\n",
    "print(confusion_matrix_y2)\n",
    "\n",
    "print('Classification Report for Classfier:')\n",
    "print(classification_report(y2_test, y2_pred))\n",
    "\n",
    "imp = pd.DataFrame(zip(predictors_y2.columns, clf1.coef_[0]))\n",
    "imp.columns = ['field','importance']\n",
    "imp.sort_values('importance')\n"
   ]
  },
  {
   "cell_type": "code",
   "execution_count": null,
   "metadata": {},
   "outputs": [],
   "source": []
  },
  {
   "cell_type": "code",
   "execution_count": 39,
   "metadata": {},
   "outputs": [],
   "source": [
    "predictors_y2 = feat_mat[['industry_bin__Other','short_sentences_iqr_standardized','C3_imputed_normalized',\n",
    "                'total_shares_iqr_standardized','outstanding_share_per_iqr_standardized_normalized',\n",
    "                'C2','offering_share_per_iqr_standardized_normalized','C5_prime_iqr_standardized_normalized',\n",
    "                'C6_prime_iqr_standardized_normalized','C7_imputed']]"
   ]
  },
  {
   "cell_type": "code",
   "execution_count": 44,
   "metadata": {},
   "outputs": [],
   "source": [
    "predictors_y2 = feat_mat[[i for i in feat_mat.columns if 'I1' not in i]]"
   ]
  },
  {
   "cell_type": "code",
   "execution_count": 62,
   "metadata": {},
   "outputs": [],
   "source": [
    "predictors_y2 = feat_mat[['industry_bin__Other','short_sentences_iqr_standardized','C3_imputed_normalized',\n",
    "                'total_shares_iqr_standardized','outstanding_share_per_iqr_standardized_normalized',\n",
    "                'C2','offering_share_per_iqr_standardized_normalized','C5_prime_iqr_standardized_normalized',\n",
    "                'C6_prime_iqr_standardized_normalized','C7_imputed']]"
   ]
  },
  {
   "cell_type": "markdown",
   "metadata": {},
   "source": [
    "# Alt Models"
   ]
  },
  {
   "cell_type": "markdown",
   "metadata": {},
   "source": [
    "xgboost"
   ]
  },
  {
   "cell_type": "code",
   "execution_count": 31,
   "metadata": {},
   "outputs": [],
   "source": [
    "from sklearn.model_selection import RandomizedSearchCV, GridSearchCV, StratifiedKFold\n",
    "import xgboost as xgb\n",
    "from sklearn.metrics import f1_score"
   ]
  },
  {
   "cell_type": "code",
   "execution_count": 74,
   "metadata": {},
   "outputs": [],
   "source": [
    "# Splitting data into testing and training\n",
    "X2_train, X2_test, y2_train, y2_test = train_test_split(predictors_y2, y2, test_size=0.2, random_state=123)\n",
    "\n",
    "# Begin oversampling\n",
    "oversample = pd.concat([X2_train,y2_train],axis=1)\n",
    "max_size = oversample['Y2'].value_counts().max()\n",
    "lst = [oversample]\n",
    "for class_index, group in oversample.groupby('Y2'):\n",
    "    lst.append(group.sample(max_size-len(group), replace=True))\n",
    "X2_train = pd.concat(lst)\n",
    "y2_train=pd.DataFrame.copy(X2_train['Y2'])\n",
    "del X2_train['Y2']"
   ]
  },
  {
   "cell_type": "code",
   "execution_count": 75,
   "metadata": {},
   "outputs": [
    {
     "name": "stdout",
     "output_type": "stream",
     "text": [
      "Fitting 2 folds for each of 500 candidates, totalling 1000 fits\n"
     ]
    },
    {
     "name": "stderr",
     "output_type": "stream",
     "text": [
      "[Parallel(n_jobs=-4)]: Using backend LokyBackend with 13 concurrent workers.\n",
      "[Parallel(n_jobs=-4)]: Done   6 tasks      | elapsed:    0.2s\n",
      "[Parallel(n_jobs=-4)]: Done 178 tasks      | elapsed:    1.7s\n",
      "[Parallel(n_jobs=-4)]: Done 498 tasks      | elapsed:    4.7s\n",
      "[Parallel(n_jobs=-4)]: Done 946 tasks      | elapsed:    8.5s\n",
      "[Parallel(n_jobs=-4)]: Done 1000 out of 1000 | elapsed:    8.9s finished\n"
     ]
    },
    {
     "data": {
      "text/plain": [
       "RandomizedSearchCV(cv=<generator object _BaseKFold.split at 0x7fc3d8e89938>,\n",
       "                   error_score=nan,\n",
       "                   estimator=XGBClassifier(base_score=0.5, booster='gbtree',\n",
       "                                           colsample_bylevel=1,\n",
       "                                           colsample_bynode=1,\n",
       "                                           colsample_bytree=1,\n",
       "                                           eval_metric=['auc'],\n",
       "                                           eval_set=[(     industry_bin__Other  short_sentences_iqr_standardized  \\\n",
       "303                    0                          0.320988   \n",
       "75                     0                          0.308642   \n",
       "267                    0                          0.460905   \n",
       "491                    0                          0.399177   \n",
       "101                    0                          0.386831   \n",
       "..                   ...                               ....\n",
       "                   iid='deprecated', n_iter=500, n_jobs=-4,\n",
       "                   param_distributions={'booster': ['gbtree', 'dart'],\n",
       "                                        'colsample_bytree': [0.2, 0.3, 0.5],\n",
       "                                        'gamma': [0, 1, 5],\n",
       "                                        'lambda': [0, 0.33, 0.66, 1],\n",
       "                                        'learning_rate': [0.01, 0.05, 0.1],\n",
       "                                        'max_depth': [3, 4, 5],\n",
       "                                        'scale_pos_weight': [1],\n",
       "                                        'subsample': [0.3, 0.4],\n",
       "                                        'verbosity': [2]},\n",
       "                   pre_dispatch='2*n_jobs', random_state=6, refit=True,\n",
       "                   return_train_score=False, scoring='roc_auc', verbose=3)"
      ]
     },
     "execution_count": 75,
     "metadata": {},
     "output_type": "execute_result"
    }
   ],
   "source": [
    "parameters = {\n",
    "                'booster': ['gbtree','dart'],\n",
    "                'verbosity': [2],\n",
    "                'learning_rate': [0.01,0.05,0.1],\n",
    "#                 \"n_estimators\":[75,150,200],\n",
    "                'gamma': [0,1,5],\n",
    "                'max_depth': [3,4,5],\n",
    "                'scale_pos_weight': [1],\n",
    "                'subsample': [0.3, 0.4],\n",
    "                'colsample_bytree': [0.2,0.3,0.5],\n",
    "                'lambda': [0,0.33,0.66,1]\n",
    "            }\n",
    "\n",
    "eval_set = [(X2_train, y2_train), (X2_test, y2_test)]\n",
    "eval_metric = [\"auc\"]\n",
    "\n",
    "xgb_test = xgb.XGBClassifier(objective='binary:logistic',\n",
    "                    silent=True, eval_metric=eval_metric, eval_set=eval_set)\n",
    "\n",
    "folds = 2\n",
    "param_comb = 500\n",
    "\n",
    "skf = StratifiedKFold(n_splits=folds, shuffle = True, random_state = 6)\n",
    "\n",
    "random_search = RandomizedSearchCV(xgb_test, param_distributions=parameters, n_iter=param_comb, scoring='roc_auc', \n",
    "                                   n_jobs=-4, cv=skf.split(X2_train,y2_train), verbose=3, random_state=6 )\n",
    "\n",
    "random_search.fit(X2_train, y2_train)\n"
   ]
  },
  {
   "cell_type": "code",
   "execution_count": 79,
   "metadata": {},
   "outputs": [
    {
     "data": {
      "text/plain": [
       "XGBClassifier(base_score=0.5, booster='gbtree', colsample_bylevel=1,\n",
       "              colsample_bynode=1, colsample_bytree=0.5, eval_metric=['auc'],\n",
       "              eval_set=[(     industry_bin__Other  short_sentences_iqr_standardized  \\\n",
       "303                    0                          0.320988   \n",
       "75                     0                          0.308642   \n",
       "267                    0                          0.460905   \n",
       "491                    0                          0.399177   \n",
       "101                    0                          0.386831   \n",
       "..                   ...                               ...   \n",
       "580                    0                          0.432099   \n",
       "77                     0                          0.374486   \n",
       "121                    1                          0.530864   \n",
       "436                    0                          0.419753   \n",
       "253                    0                          0.226337   \n",
       "\n",
       "     C3_imputed_normalized  total_shares_i...\n",
       "[132 rows x 10 columns],\n",
       "                         552    1\n",
       "43     0\n",
       "132    1\n",
       "461    1\n",
       "345    1\n",
       "      ..\n",
       "150    0\n",
       "533    1\n",
       "66     1\n",
       "275    1\n",
       "242    1\n",
       "Name: Y2, Length: 132, dtype: int64)],\n",
       "              gamma=0, lambda=1, learning_rate=0.1, max_delta_step=0,\n",
       "              max_depth=5, min_child_weight=1, missing=None, n_estimators=100,\n",
       "              n_jobs=1, nthread=None, objective='binary:logistic',\n",
       "              random_state=0, reg_alpha=0, reg_lambda=1, scale_pos_weight=1,\n",
       "              seed=None, silent=True, subsample=0.4, verbosity=2)"
      ]
     },
     "execution_count": 79,
     "metadata": {},
     "output_type": "execute_result"
    }
   ],
   "source": [
    "random_search.best_estimator_"
   ]
  },
  {
   "cell_type": "code",
   "execution_count": 76,
   "metadata": {},
   "outputs": [
    {
     "name": "stdout",
     "output_type": "stream",
     "text": [
      "              precision    recall  f1-score   support\n",
      "\n",
      "           0       0.43      0.36      0.39        33\n",
      "           1       0.80      0.84      0.82        99\n",
      "\n",
      "    accuracy                           0.72       132\n",
      "   macro avg       0.61      0.60      0.61       132\n",
      "weighted avg       0.71      0.72      0.71       132\n",
      "\n"
     ]
    }
   ],
   "source": [
    "print(classification_report(y_pred=random_search.best_estimator_.predict(X2_test), y_true=y2_test))"
   ]
  },
  {
   "cell_type": "code",
   "execution_count": 77,
   "metadata": {},
   "outputs": [
    {
     "name": "stdout",
     "output_type": "stream",
     "text": [
      "              precision    recall  f1-score   support\n",
      "\n",
      "           0       0.96      0.96      0.96       362\n",
      "           1       0.96      0.96      0.96       362\n",
      "\n",
      "    accuracy                           0.96       724\n",
      "   macro avg       0.96      0.96      0.96       724\n",
      "weighted avg       0.96      0.96      0.96       724\n",
      "\n"
     ]
    }
   ],
   "source": [
    "print(classification_report(y_pred=random_search.best_estimator_.predict(X2_train), y_true=y2_train))"
   ]
  },
  {
   "cell_type": "code",
   "execution_count": 78,
   "metadata": {},
   "outputs": [
    {
     "data": {
      "image/png": "[encoded data removed]",
      "text/plain": [
       "<Figure size 432x288 with 1 Axes>"
      ]
     },
     "metadata": {
      "needs_background": "light"
     },
     "output_type": "display_data"
    },
    {
     "name": "stdout",
     "output_type": "stream",
     "text": [
      "0.6874808692990511\n"
     ]
    }
   ],
   "source": [
    "xgb_proba = random_search.best_estimator_.predict_proba(X2_test)\n",
    "\n",
    "probs = xgb_proba[:, 1]\n",
    "# calculate roc curve\n",
    "fpr, tpr, thresholds = roc_curve(y2_test, probs)\n",
    "# plot no skill\n",
    "plt.plot([0, 1], [0, 1], linestyle='--')\n",
    "# plot the roc curve for the model\n",
    "plt.plot(fpr, tpr)\n",
    "# show the plot\n",
    "plt.show()\n",
    "auc = roc_auc_score(y2_test, probs)\n",
    "print(auc)"
   ]
  },
  {
   "cell_type": "code",
   "execution_count": null,
   "metadata": {},
   "outputs": [],
   "source": []
  },
  {
   "cell_type": "code",
   "execution_count": null,
   "metadata": {},
   "outputs": [],
   "source": []
  },
  {
   "cell_type": "code",
   "execution_count": null,
   "metadata": {},
   "outputs": [],
   "source": []
  },
  {
   "cell_type": "code",
   "execution_count": null,
   "metadata": {},
   "outputs": [],
   "source": []
  },
  {
   "cell_type": "code",
   "execution_count": null,
   "metadata": {},
   "outputs": [],
   "source": []
  },
  {
   "cell_type": "code",
   "execution_count": null,
   "metadata": {},
   "outputs": [],
   "source": []
  },
  {
   "cell_type": "code",
   "execution_count": null,
   "metadata": {},
   "outputs": [],
   "source": []
  },
  {
   "cell_type": "code",
   "execution_count": null,
   "metadata": {},
   "outputs": [],
   "source": []
  },
  {
   "cell_type": "code",
   "execution_count": null,
   "metadata": {},
   "outputs": [],
   "source": []
  },
  {
   "cell_type": "code",
   "execution_count": null,
   "metadata": {},
   "outputs": [],
   "source": []
  },
  {
   "cell_type": "code",
   "execution_count": null,
   "metadata": {},
   "outputs": [],
   "source": []
  },
  {
   "cell_type": "code",
   "execution_count": null,
   "metadata": {},
   "outputs": [],
   "source": []
  },
  {
   "cell_type": "code",
   "execution_count": 80,
   "metadata": {},
   "outputs": [
    {
     "name": "stdout",
     "output_type": "stream",
     "text": [
      "Fitting 2 folds for each of 500 candidates, totalling 1000 fits\n"
     ]
    },
    {
     "name": "stderr",
     "output_type": "stream",
     "text": [
      "[Parallel(n_jobs=-4)]: Using backend LokyBackend with 13 concurrent workers.\n",
      "[Parallel(n_jobs=-4)]: Done   6 tasks      | elapsed:    0.2s\n",
      "[Parallel(n_jobs=-4)]: Done 178 tasks      | elapsed:    2.4s\n",
      "[Parallel(n_jobs=-4)]: Done 498 tasks      | elapsed:    6.5s\n",
      "[Parallel(n_jobs=-4)]: Done 946 tasks      | elapsed:   12.1s\n",
      "[Parallel(n_jobs=-4)]: Done 975 out of 1000 | elapsed:   12.4s remaining:    0.3s\n",
      "[Parallel(n_jobs=-4)]: Done 1000 out of 1000 | elapsed:   13.0s finished\n"
     ]
    },
    {
     "data": {
      "text/plain": [
       "RandomizedSearchCV(cv=<generator object _BaseKFold.split at 0x7fc3d8e89888>,\n",
       "                   error_score=nan,\n",
       "                   estimator=XGBClassifier(base_score=0.5, booster='gbtree',\n",
       "                                           colsample_bylevel=1,\n",
       "                                           colsample_bynode=1,\n",
       "                                           colsample_bytree=1,\n",
       "                                           eval_metric=['auc'],\n",
       "                                           eval_set=[(     industry_bin__Other  short_sentences_iqr_standardized  \\\n",
       "303                    0                          0.320988   \n",
       "75                     0                          0.308642   \n",
       "267                    0                          0.460905   \n",
       "491                    0                          0.399177   \n",
       "101                    0                          0.386831   \n",
       "..                   ...                               ....\n",
       "                   param_distributions={'booster': ['gbtree', 'dart'],\n",
       "                                        'colsample_bytree': [0.2, 0.3, 0.5],\n",
       "                                        'gamma': [0, 1, 5],\n",
       "                                        'lambda': [0, 0.33, 0.66, 1],\n",
       "                                        'learning_rate': [0.01, 0.05, 0.1],\n",
       "                                        'max_depth': [3, 4, 5],\n",
       "                                        'n_estimators': [75, 150, 200],\n",
       "                                        'scale_pos_weight': [1],\n",
       "                                        'subsample': [0.3, 0.4],\n",
       "                                        'verbosity': [2]},\n",
       "                   pre_dispatch='2*n_jobs', random_state=6, refit=True,\n",
       "                   return_train_score=False, scoring='roc_auc', verbose=3)"
      ]
     },
     "execution_count": 80,
     "metadata": {},
     "output_type": "execute_result"
    }
   ],
   "source": [
    "parameters = {\n",
    "                'booster': ['gbtree','dart'],\n",
    "                'verbosity': [2],\n",
    "                'learning_rate': [0.01,0.05,0.1],\n",
    "                \"n_estimators\":[75,150,200],\n",
    "                'gamma': [0,1,5],\n",
    "                'max_depth': [3,4,5],\n",
    "                'scale_pos_weight': [1],\n",
    "                'subsample': [0.3, 0.4],\n",
    "                'colsample_bytree': [0.2,0.3,0.5],\n",
    "                'lambda': [0,0.33,0.66,1]\n",
    "            }\n",
    "\n",
    "eval_set = [(X2_train, y2_train), (X2_test, y2_test)]\n",
    "eval_metric = [\"auc\"]\n",
    "\n",
    "xgb_test = xgb.XGBClassifier(objective='binary:logistic',\n",
    "                    silent=True, eval_metric=eval_metric, eval_set=eval_set)\n",
    "\n",
    "folds = 2\n",
    "param_comb = 500\n",
    "\n",
    "skf = StratifiedKFold(n_splits=folds, shuffle = True, random_state = 6)\n",
    "\n",
    "random_search = RandomizedSearchCV(xgb_test, param_distributions=parameters, n_iter=param_comb, scoring='roc_auc', \n",
    "                                   n_jobs=-4, cv=skf.split(X2_train,y2_train), verbose=3, random_state=6 )\n",
    "\n",
    "random_search.fit(X2_train, y2_train)\n"
   ]
  },
  {
   "cell_type": "code",
   "execution_count": 81,
   "metadata": {},
   "outputs": [
    {
     "name": "stdout",
     "output_type": "stream",
     "text": [
      "              precision    recall  f1-score   support\n",
      "\n",
      "           0       0.40      0.36      0.38        33\n",
      "           1       0.79      0.82      0.81        99\n",
      "\n",
      "    accuracy                           0.70       132\n",
      "   macro avg       0.60      0.59      0.59       132\n",
      "weighted avg       0.70      0.70      0.70       132\n",
      "\n"
     ]
    }
   ],
   "source": [
    "print(classification_report(y_pred=random_search.best_estimator_.predict(X2_test), y_true=y2_test))"
   ]
  },
  {
   "cell_type": "code",
   "execution_count": 82,
   "metadata": {},
   "outputs": [
    {
     "data": {
      "image/png": "[encoded data removed]",
      "text/plain": [
       "<Figure size 432x288 with 1 Axes>"
      ]
     },
     "metadata": {
      "needs_background": "light"
     },
     "output_type": "display_data"
    },
    {
     "name": "stdout",
     "output_type": "stream",
     "text": [
      "0.6406489133761861\n"
     ]
    }
   ],
   "source": [
    "xgb_proba = random_search.best_estimator_.predict_proba(X2_test)\n",
    "\n",
    "probs = xgb_proba[:, 1]\n",
    "# calculate roc curve\n",
    "fpr, tpr, thresholds = roc_curve(y2_test, probs)\n",
    "# plot no skill\n",
    "plt.plot([0, 1], [0, 1], linestyle='--')\n",
    "# plot the roc curve for the model\n",
    "plt.plot(fpr, tpr)\n",
    "# show the plot\n",
    "plt.show()\n",
    "auc = roc_auc_score(y2_test, probs)\n",
    "print(auc)"
   ]
  },
  {
   "cell_type": "code",
   "execution_count": null,
   "metadata": {},
   "outputs": [],
   "source": []
  },
  {
   "cell_type": "code",
   "execution_count": null,
   "metadata": {},
   "outputs": [],
   "source": []
  },
  {
   "cell_type": "code",
   "execution_count": null,
   "metadata": {},
   "outputs": [],
   "source": []
  },
  {
   "cell_type": "code",
   "execution_count": null,
   "metadata": {},
   "outputs": [],
   "source": []
  },
  {
   "cell_type": "code",
   "execution_count": null,
   "metadata": {},
   "outputs": [],
   "source": []
  },
  {
   "cell_type": "code",
   "execution_count": 155,
   "metadata": {},
   "outputs": [],
   "source": [
    "# Splitting data into testing and training\n",
    "X2_train, X2_test, y2_train, y2_test = train_test_split(predictors_y2, y2, test_size=0.2, random_state=123)\n",
    "\n",
    "# Begin oversampling\n",
    "oversample = pd.concat([X2_train,y2_train],axis=1)\n",
    "max_size = oversample['Y2'].value_counts().max()\n",
    "lst = [oversample]\n",
    "for class_index, group in oversample.groupby('Y2'):\n",
    "    lst.append(group.sample(max_size-len(group), replace=True))\n",
    "X2_train = pd.concat(lst)\n",
    "y2_train=pd.DataFrame.copy(X2_train['Y2'])\n",
    "del X2_train['Y2']"
   ]
  },
  {
   "cell_type": "code",
   "execution_count": 174,
   "metadata": {},
   "outputs": [
    {
     "name": "stdout",
     "output_type": "stream",
     "text": [
      "Fitting 2 folds for each of 100 candidates, totalling 200 fits\n"
     ]
    },
    {
     "name": "stderr",
     "output_type": "stream",
     "text": [
      "[Parallel(n_jobs=-4)]: Using backend LokyBackend with 13 concurrent workers.\n",
      "[Parallel(n_jobs=-4)]: Done   6 tasks      | elapsed:    0.2s\n",
      "[Parallel(n_jobs=-4)]: Done 200 out of 200 | elapsed:    2.0s finished\n"
     ]
    },
    {
     "data": {
      "text/plain": [
       "RandomizedSearchCV(cv=<generator object _BaseKFold.split at 0x7f4042368c50>,\n",
       "                   error_score=nan,\n",
       "                   estimator=XGBClassifier(base_score=0.5, booster='gbtree',\n",
       "                                           colsample_bylevel=1,\n",
       "                                           colsample_bynode=1,\n",
       "                                           colsample_bytree=1,\n",
       "                                           eval_metric=['auc'],\n",
       "                                           eval_set=[(      C2  C3_imputed_normalized  C5_prime_iqr_standardized_normalized  \\\n",
       "303  1.0               0.066772                             -0.702535   \n",
       "75   1.0               0.069067                              1.476454   \n",
       "267  1.0               0.10163...\n",
       "                   iid='deprecated', n_iter=100, n_jobs=-4,\n",
       "                   param_distributions={'booster': ['gbtree', 'dart'],\n",
       "                                        'colsample_bytree': [0.2, 0.3, 0.5],\n",
       "                                        'gamma': [0, 1, 5],\n",
       "                                        'lambda': [0, 0.33, 0.66, 1],\n",
       "                                        'learning_rate': [0.01, 0.05, 0.1],\n",
       "                                        'max_depth': [3, 4, 5],\n",
       "                                        'scale_pos_weight': [1],\n",
       "                                        'subsample': [0.6, 0.7],\n",
       "                                        'verbosity': [2]},\n",
       "                   pre_dispatch='2*n_jobs', random_state=6, refit=True,\n",
       "                   return_train_score=False, scoring='roc_auc', verbose=3)"
      ]
     },
     "execution_count": 174,
     "metadata": {},
     "output_type": "execute_result"
    }
   ],
   "source": [
    "parameters = {\n",
    "                'booster': ['gbtree','dart'],\n",
    "                'verbosity': [2],\n",
    "                'learning_rate': [0.01,0.05,0.1],\n",
    "#                 \"n_estimators\":[75,150,200],\n",
    "                'gamma': [0,1,5],\n",
    "                'max_depth': [3,4,5],\n",
    "                'scale_pos_weight': [1],\n",
    "                'subsample': [0.6, 0.7],\n",
    "                'colsample_bytree': [0.2,0.3,0.5],\n",
    "                'lambda': [0,0.33,0.66,1]\n",
    "            }\n",
    "\n",
    "eval_set = [(X2_train, y2_train), (X2_test, y2_test)]\n",
    "eval_metric = [\"auc\"]\n",
    "\n",
    "xgb_test = xgb.XGBClassifier(objective='binary:logistic',\n",
    "                    silent=True, eval_metric=eval_metric, eval_set=eval_set)\n",
    "\n",
    "folds = 2\n",
    "param_comb = 100\n",
    "\n",
    "skf = StratifiedKFold(n_splits=folds, shuffle = True, random_state = 6)\n",
    "\n",
    "random_search = RandomizedSearchCV(xgb_test, param_distributions=parameters, n_iter=param_comb, scoring='roc_auc', \n",
    "                                   n_jobs=-4, cv=skf.split(X2_train,y2_train), verbose=3, random_state=6 )\n",
    "\n",
    "random_search.fit(X2_train, y2_train)\n"
   ]
  },
  {
   "cell_type": "code",
   "execution_count": 175,
   "metadata": {},
   "outputs": [
    {
     "name": "stdout",
     "output_type": "stream",
     "text": [
      "              precision    recall  f1-score   support\n",
      "\n",
      "           0       0.52      0.36      0.43        33\n",
      "           1       0.81      0.89      0.85        99\n",
      "\n",
      "    accuracy                           0.76       132\n",
      "   macro avg       0.66      0.63      0.64       132\n",
      "weighted avg       0.74      0.76      0.74       132\n",
      "\n"
     ]
    }
   ],
   "source": [
    "print(classification_report(y_pred=random_search.best_estimator_.predict(X2_test), y_true=y2_test))"
   ]
  },
  {
   "cell_type": "code",
   "execution_count": 178,
   "metadata": {},
   "outputs": [
    {
     "data": {
      "text/plain": [
       "0.7417582417582418"
      ]
     },
     "execution_count": 178,
     "metadata": {},
     "output_type": "execute_result"
    }
   ],
   "source": [
    "precision_recall_fscore_support(y2_test, random_search.best_estimator_.predict(X2_test), average='weighted')[2]"
   ]
  },
  {
   "cell_type": "code",
   "execution_count": 176,
   "metadata": {},
   "outputs": [
    {
     "data": {
      "image/png": "[encoded data removed]",
      "text/plain": [
       "<Figure size 432x288 with 1 Axes>"
      ]
     },
     "metadata": {
      "needs_background": "light"
     },
     "output_type": "display_data"
    },
    {
     "name": "stdout",
     "output_type": "stream",
     "text": [
      "0.6991123354759717\n"
     ]
    }
   ],
   "source": [
    "xgb_proba = random_search.best_estimator_.predict_proba(X2_test)\n",
    "\n",
    "probs = xgb_proba[:, 1]\n",
    "# calculate roc curve\n",
    "fpr, tpr, thresholds = roc_curve(y2_test, probs)\n",
    "# plot no skill\n",
    "plt.plot([0, 1], [0, 1], linestyle='--')\n",
    "# plot the roc curve for the model\n",
    "plt.plot(fpr, tpr)\n",
    "# show the plot\n",
    "plt.show()\n",
    "auc = roc_auc_score(y2_test, probs)\n",
    "print(auc)"
   ]
  },
  {
   "cell_type": "code",
   "execution_count": null,
   "metadata": {},
   "outputs": [],
   "source": []
  },
  {
   "cell_type": "code",
   "execution_count": 186,
   "metadata": {},
   "outputs": [
    {
     "data": {
      "text/plain": [
       "<matplotlib.axes._subplots.AxesSubplot at 0x7f4078988278>"
      ]
     },
     "execution_count": 186,
     "metadata": {},
     "output_type": "execute_result"
    },
    {
     "data": {
      "image/png": "[encoded data removed]",
      "text/plain": [
       "<Figure size 432x288 with 1 Axes>"
      ]
     },
     "metadata": {
      "needs_background": "light"
     },
     "output_type": "display_data"
    }
   ],
   "source": [
    "xgb.plot_importance(random_search.best_estimator_)\n"
   ]
  },
  {
   "cell_type": "markdown",
   "metadata": {},
   "source": [
    "The XGBoost model predicts far better than the previous Logistic Regression. We can leverage the feature importances provided by this model for use in the Logistic Regression to see how much of an impact we can make."
   ]
  },
  {
   "cell_type": "code",
   "execution_count": null,
   "metadata": {},
   "outputs": [],
   "source": []
  },
  {
   "cell_type": "code",
   "execution_count": null,
   "metadata": {},
   "outputs": [],
   "source": []
  },
  {
   "cell_type": "code",
   "execution_count": 188,
   "metadata": {
    "collapsed": false
   },
   "outputs": [
    {
     "name": "stderr",
     "output_type": "stream",
     "text": [
      "/opt/tljh/user/lib/python3.6/site-packages/sklearn/model_selection/_split.py:296: FutureWarning: Setting a random_state has no effect since shuffle is False. This will raise an error in 0.24. You should leave random_state to its default (None), or set shuffle=True.\n",
      "  FutureWarning\n",
      "/opt/tljh/user/lib/python3.6/site-packages/sklearn/model_selection/_split.py:296: FutureWarning: Setting a random_state has no effect since shuffle is False. This will raise an error in 0.24. You should leave random_state to its default (None), or set shuffle=True.\n",
      "  FutureWarning\n",
      "/opt/tljh/user/lib/python3.6/site-packages/sklearn/model_selection/_split.py:296: FutureWarning: Setting a random_state has no effect since shuffle is False. This will raise an error in 0.24. You should leave random_state to its default (None), or set shuffle=True.\n",
      "  FutureWarning\n",
      "/opt/tljh/user/lib/python3.6/site-packages/sklearn/model_selection/_split.py:296: FutureWarning: Setting a random_state has no effect since shuffle is False. This will raise an error in 0.24. You should leave random_state to its default (None), or set shuffle=True.\n",
      "  FutureWarning\n",
      "/opt/tljh/user/lib/python3.6/site-packages/sklearn/model_selection/_split.py:296: FutureWarning: Setting a random_state has no effect since shuffle is False. This will raise an error in 0.24. You should leave random_state to its default (None), or set shuffle=True.\n",
      "  FutureWarning\n",
      "/opt/tljh/user/lib/python3.6/site-packages/sklearn/model_selection/_split.py:296: FutureWarning: Setting a random_state has no effect since shuffle is False. This will raise an error in 0.24. You should leave random_state to its default (None), or set shuffle=True.\n",
      "  FutureWarning\n",
      "/opt/tljh/user/lib/python3.6/site-packages/sklearn/model_selection/_split.py:296: FutureWarning: Setting a random_state has no effect since shuffle is False. This will raise an error in 0.24. You should leave random_state to its default (None), or set shuffle=True.\n",
      "  FutureWarning\n",
      "/opt/tljh/user/lib/python3.6/site-packages/sklearn/model_selection/_split.py:296: FutureWarning: Setting a random_state has no effect since shuffle is False. This will raise an error in 0.24. You should leave random_state to its default (None), or set shuffle=True.\n",
      "  FutureWarning\n"
     ]
    },
    {
     "name": "stdout",
     "output_type": "stream",
     "text": [
      "F1 0.6652; AUC 0.6195 \n",
      "Accuracy of classifier on test set: 0.636\n",
      "10-fold cross validation average accuracy of clf1: 0.597\n",
      "Confusion Matrix for Classfier:\n",
      "[[19 14]\n",
      " [34 65]]\n",
      "Classification Report for Classfier:\n",
      "              precision    recall  f1-score   support\n",
      "\n",
      "           0       0.36      0.58      0.44        33\n",
      "           1       0.82      0.66      0.73        99\n",
      "\n",
      "    accuracy                           0.64       132\n",
      "   macro avg       0.59      0.62      0.59       132\n",
      "weighted avg       0.71      0.64      0.66       132\n",
      "\n"
     ]
    },
    {
     "name": "stderr",
     "output_type": "stream",
     "text": [
      "/opt/tljh/user/lib/python3.6/site-packages/sklearn/model_selection/_split.py:296: FutureWarning: Setting a random_state has no effect since shuffle is False. This will raise an error in 0.24. You should leave random_state to its default (None), or set shuffle=True.\n",
      "  FutureWarning\n"
     ]
    },
    {
     "data": {
      "text/html": [
       "<div>\n",
       "<style scoped>\n",
       "    .dataframe tbody tr th:only-of-type {\n",
       "        vertical-align: middle;\n",
       "    }\n",
       "\n",
       "    .dataframe tbody tr th {\n",
       "        vertical-align: top;\n",
       "    }\n",
       "\n",
       "    .dataframe thead th {\n",
       "        text-align: right;\n",
       "    }\n",
       "</style>\n",
       "<table border=\"1\" class=\"dataframe\">\n",
       "  <thead>\n",
       "    <tr style=\"text-align: right;\">\n",
       "      <th></th>\n",
       "      <th>field</th>\n",
       "      <th>importance</th>\n",
       "    </tr>\n",
       "  </thead>\n",
       "  <tbody>\n",
       "    <tr>\n",
       "      <th>8</th>\n",
       "      <td>industry_bin__Other</td>\n",
       "      <td>-0.608272</td>\n",
       "    </tr>\n",
       "    <tr>\n",
       "      <th>4</th>\n",
       "      <td>total_shares_iqr_standardized</td>\n",
       "      <td>-0.494426</td>\n",
       "    </tr>\n",
       "    <tr>\n",
       "      <th>2</th>\n",
       "      <td>C3_imputed_normalized</td>\n",
       "      <td>-0.433148</td>\n",
       "    </tr>\n",
       "    <tr>\n",
       "      <th>0</th>\n",
       "      <td>short_sentences_iqr_standardized</td>\n",
       "      <td>-0.346653</td>\n",
       "    </tr>\n",
       "    <tr>\n",
       "      <th>7</th>\n",
       "      <td>outstanding_share_per_iqr_standardized_normalized</td>\n",
       "      <td>-0.081626</td>\n",
       "    </tr>\n",
       "    <tr>\n",
       "      <th>9</th>\n",
       "      <td>C2</td>\n",
       "      <td>0.132328</td>\n",
       "    </tr>\n",
       "    <tr>\n",
       "      <th>6</th>\n",
       "      <td>offering_share_per_iqr_standardized_normalized</td>\n",
       "      <td>0.342903</td>\n",
       "    </tr>\n",
       "    <tr>\n",
       "      <th>1</th>\n",
       "      <td>C5_prime_iqr_standardized_normalized</td>\n",
       "      <td>0.527213</td>\n",
       "    </tr>\n",
       "    <tr>\n",
       "      <th>5</th>\n",
       "      <td>C6_prime_iqr_standardized_normalized</td>\n",
       "      <td>0.598862</td>\n",
       "    </tr>\n",
       "    <tr>\n",
       "      <th>3</th>\n",
       "      <td>C7_imputed</td>\n",
       "      <td>0.671099</td>\n",
       "    </tr>\n",
       "  </tbody>\n",
       "</table>\n",
       "</div>"
      ],
      "text/plain": [
       "                                               field  importance\n",
       "8                                industry_bin__Other   -0.608272\n",
       "4                      total_shares_iqr_standardized   -0.494426\n",
       "2                              C3_imputed_normalized   -0.433148\n",
       "0                   short_sentences_iqr_standardized   -0.346653\n",
       "7  outstanding_share_per_iqr_standardized_normalized   -0.081626\n",
       "9                                                 C2    0.132328\n",
       "6     offering_share_per_iqr_standardized_normalized    0.342903\n",
       "1               C5_prime_iqr_standardized_normalized    0.527213\n",
       "5               C6_prime_iqr_standardized_normalized    0.598862\n",
       "3                                         C7_imputed    0.671099"
      ]
     },
     "execution_count": 188,
     "metadata": {},
     "output_type": "execute_result"
    }
   ],
   "source": [
    "predictors_y2 = feat_mat[['short_sentences_iqr_standardized','C5_prime_iqr_standardized_normalized',\n",
    "                         'C3_imputed_normalized','C7_imputed','total_shares_iqr_standardized',\n",
    "                         'C6_prime_iqr_standardized_normalized','offering_share_per_iqr_standardized_normalized',\n",
    "                         'outstanding_share_per_iqr_standardized_normalized','industry_bin__Other',\n",
    "                         'C2']]\n",
    "\n",
    "# lists for f1-score and AUC\n",
    "f1_score_lst = []\n",
    "auc_lst = []\n",
    "\n",
    "\n",
    "#loop to calculate f1 and auc scores and present averages after 10 runs\n",
    "for count in range (1,10):\n",
    "    #Model building\n",
    "    clf1 = LogisticRegression()\n",
    "\n",
    "    \n",
    "    # Splitting data into testing and training\n",
    "    X2_train, X2_test, y2_train, y2_test = train_test_split(predictors_y2, y2, test_size=0.2, random_state=123)\n",
    "    \n",
    "    # Begin oversampling\n",
    "    oversample = pd.concat([X2_train,y2_train],axis=1)\n",
    "    max_size = oversample['Y2'].value_counts().max()\n",
    "    lst = [oversample]\n",
    "    for class_index, group in oversample.groupby('Y2'):\n",
    "        lst.append(group.sample(max_size-len(group), replace=True))\n",
    "    X2_train = pd.concat(lst)\n",
    "    y2_train=pd.DataFrame.copy(X2_train['Y2'])\n",
    "    del X2_train['Y2']\n",
    "    \n",
    "    # fitting model on oversampled data\n",
    "    clf1.fit(X2_train, y2_train)\n",
    "    \n",
    "    y2_pred = clf1.predict(X2_test)\n",
    "    \n",
    "    \n",
    "    #10-fold cross validation\n",
    "    kfold = model_selection.KFold(n_splits=10, random_state=123)\n",
    "    scoring = 'accuracy'\n",
    "    results = model_selection.cross_val_score(clf1, X2_train, y2_train, cv=kfold, scoring=scoring)\n",
    "    \n",
    "    #calculate f1-score and AUC\n",
    "    \n",
    "    clf1_roc_auc = roc_auc_score(y2_test, y2_pred)\n",
    "    \n",
    "    \n",
    "    #calculate average f1-score and AUC\n",
    "    f1_score_lst.append(precision_recall_fscore_support(y2_test, y2_pred, average='weighted')[2])\n",
    "    auc_lst.append(clf1_roc_auc)\n",
    "    \n",
    "    \n",
    "print('F1 {:.4f}; AUC {:.4f} '.format(np.mean(f1_score_lst),np.mean(auc_lst)))\n",
    "\n",
    "confusion_matrix_y2 = confusion_matrix(y2_test, y2_pred)\n",
    "\n",
    "\n",
    "print('Accuracy of classifier on test set: {:.3f}'.format(clf1.score(X2_test, y2_test)))\n",
    "\n",
    "print(\"10-fold cross validation average accuracy of clf1: %.3f\" % (results.mean()))\n",
    "\n",
    "print('Confusion Matrix for Classfier:')\n",
    "print(confusion_matrix_y2)\n",
    "\n",
    "print('Classification Report for Classfier:')\n",
    "print(classification_report(y2_test, y2_pred))\n",
    "\n",
    "imp = pd.DataFrame(zip(predictors_y2.columns, clf1.coef_[0]))\n",
    "imp.columns = ['field','importance']\n",
    "imp.sort_values('importance')\n"
   ]
  },
  {
   "cell_type": "markdown",
   "metadata": {},
   "source": [
    "No real luck here, but we know that there is a reliable XGBoost model which can perform better. "
   ]
  }
 ],
 "metadata": {
  "kernelspec": {
   "display_name": "Python 3",
   "language": "python",
   "name": "python3"
  },
  "language_info": {
   "codemirror_mode": {
    "name": "ipython",
    "version": 3
   },
   "file_extension": ".py",
   "mimetype": "text/x-python",
   "name": "python",
   "nbconvert_exporter": "python",
   "pygments_lexer": "ipython3",
   "version": "3.6.7"
  }
 },
 "nbformat": 4,
 "nbformat_minor": 2
}
