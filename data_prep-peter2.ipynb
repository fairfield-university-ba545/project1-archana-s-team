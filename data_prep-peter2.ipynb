{
 "cells": [
  {
   "cell_type": "markdown",
   "metadata": {},
   "source": [
    "# REMEMBER: throw out rows with null values needed to calculate the target"
   ]
  },
  {
   "cell_type": "markdown",
   "metadata": {},
   "source": [
    "# Step 0: Imports and loading data"
   ]
  },
  {
   "cell_type": "code",
   "execution_count": 1,
   "metadata": {},
   "outputs": [],
   "source": [
    "import pandas as pd\n",
    "import numpy as np\n",
    "import matplotlib.pyplot as plt\n",
    "from scipy.stats import shapiro\n",
    "import seaborn as sns\n",
    "from scipy.stats import zscore, skew\n",
    "from sklearn import preprocessing\n",
    "from sklearn.feature_selection import RFE\n",
    "from sklearn.linear_model import LogisticRegression\n",
    "from sklearn.model_selection import train_test_split\n",
    "import xgboost\n",
    "from sklearn import metrics\n",
    "from sklearn.metrics import confusion_matrix\n",
    "from sklearn.metrics import classification_report\n",
    "from sklearn.metrics import roc_auc_score\n",
    "from sklearn.metrics import accuracy_score\n",
    "from sklearn.metrics import precision_recall_fscore_support\n",
    "from sklearn.decomposition import PCA\n",
    "\n",
    "pd.set_option('display.max_columns', 500)"
   ]
  },
  {
   "cell_type": "code",
   "execution_count": 2,
   "metadata": {},
   "outputs": [],
   "source": [
    "raw_data = pd.read_excel('Competition1_raw_data.xlsx')\n",
    "data = raw_data.copy()"
   ]
  },
  {
   "cell_type": "code",
   "execution_count": 3,
   "metadata": {},
   "outputs": [
    {
     "data": {
      "text/html": [
       "<div>\n",
       "<style scoped>\n",
       "    .dataframe tbody tr th:only-of-type {\n",
       "        vertical-align: middle;\n",
       "    }\n",
       "\n",
       "    .dataframe tbody tr th {\n",
       "        vertical-align: top;\n",
       "    }\n",
       "\n",
       "    .dataframe thead th {\n",
       "        text-align: right;\n",
       "    }\n",
       "</style>\n",
       "<table border=\"1\" class=\"dataframe\">\n",
       "  <thead>\n",
       "    <tr style=\"text-align: right;\">\n",
       "      <th></th>\n",
       "      <th>I1</th>\n",
       "      <th>I2</th>\n",
       "      <th>I3</th>\n",
       "      <th>P(IPO)</th>\n",
       "      <th>P(H)</th>\n",
       "      <th>P(L)</th>\n",
       "      <th>P(1Day)</th>\n",
       "      <th>C1</th>\n",
       "      <th>C2</th>\n",
       "      <th>C3</th>\n",
       "      <th>C4</th>\n",
       "      <th>C5</th>\n",
       "      <th>C6</th>\n",
       "      <th>C7</th>\n",
       "      <th>T1</th>\n",
       "      <th>T2</th>\n",
       "      <th>T3</th>\n",
       "      <th>T4</th>\n",
       "      <th>T5</th>\n",
       "      <th>S1</th>\n",
       "      <th>S2</th>\n",
       "      <th>S3</th>\n",
       "    </tr>\n",
       "  </thead>\n",
       "  <tbody>\n",
       "    <tr>\n",
       "      <th>0</th>\n",
       "      <td>AATI</td>\n",
       "      <td>ADVANCED ANALOGIC TECHNOLOGIES INC</td>\n",
       "      <td>3674</td>\n",
       "      <td>10</td>\n",
       "      <td>9.5</td>\n",
       "      <td>8.5</td>\n",
       "      <td>11.87</td>\n",
       "      <td>122</td>\n",
       "      <td>1</td>\n",
       "      <td>3.43</td>\n",
       "      <td>0.0290743</td>\n",
       "      <td>40962052</td>\n",
       "      <td>10600000</td>\n",
       "      <td>51.345</td>\n",
       "      <td>470</td>\n",
       "      <td>12719</td>\n",
       "      <td>11560</td>\n",
       "      <td>301</td>\n",
       "      <td>690</td>\n",
       "      <td>62</td>\n",
       "      <td>117</td>\n",
       "      <td>139</td>\n",
       "    </tr>\n",
       "    <tr>\n",
       "      <th>1</th>\n",
       "      <td>ABPI</td>\n",
       "      <td>ACCENTIA BIOPHARMACEUTICALS INC</td>\n",
       "      <td>2834</td>\n",
       "      <td>8</td>\n",
       "      <td>10</td>\n",
       "      <td>8</td>\n",
       "      <td>7.25</td>\n",
       "      <td>259</td>\n",
       "      <td>0</td>\n",
       "      <td>-1.62</td>\n",
       "      <td>-0.0133516</td>\n",
       "      <td>28869196</td>\n",
       "      <td>2400000</td>\n",
       "      <td>25.936</td>\n",
       "      <td>791</td>\n",
       "      <td>21792</td>\n",
       "      <td>19585</td>\n",
       "      <td>510</td>\n",
       "      <td>1120</td>\n",
       "      <td>71</td>\n",
       "      <td>242</td>\n",
       "      <td>237</td>\n",
       "    </tr>\n",
       "    <tr>\n",
       "      <th>2</th>\n",
       "      <td>ACAD</td>\n",
       "      <td>ACADIA PHARMACEUTICALS INC</td>\n",
       "      <td>2834</td>\n",
       "      <td>7</td>\n",
       "      <td>14</td>\n",
       "      <td>12</td>\n",
       "      <td>6.7</td>\n",
       "      <td>90</td>\n",
       "      <td>1</td>\n",
       "      <td>-1.24</td>\n",
       "      <td>0.020715</td>\n",
       "      <td>16845668</td>\n",
       "      <td>5000000</td>\n",
       "      <td>7.378</td>\n",
       "      <td>201</td>\n",
       "      <td>5262</td>\n",
       "      <td>4785</td>\n",
       "      <td>128</td>\n",
       "      <td>325</td>\n",
       "      <td>61</td>\n",
       "      <td>33</td>\n",
       "      <td>60</td>\n",
       "    </tr>\n",
       "  </tbody>\n",
       "</table>\n",
       "</div>"
      ],
      "text/plain": [
       "     I1                                  I2    I3 P(IPO) P(H) P(L) P(1Day)  \\\n",
       "0  AATI  ADVANCED ANALOGIC TECHNOLOGIES INC  3674     10  9.5  8.5   11.87   \n",
       "1  ABPI     ACCENTIA BIOPHARMACEUTICALS INC  2834      8   10    8    7.25   \n",
       "2  ACAD          ACADIA PHARMACEUTICALS INC  2834      7   14   12     6.7   \n",
       "\n",
       "    C1 C2    C3         C4        C5        C6      C7   T1     T2     T3  \\\n",
       "0  122  1  3.43  0.0290743  40962052  10600000  51.345  470  12719  11560   \n",
       "1  259  0 -1.62 -0.0133516  28869196   2400000  25.936  791  21792  19585   \n",
       "2   90  1 -1.24   0.020715  16845668   5000000   7.378  201   5262   4785   \n",
       "\n",
       "    T4    T5  S1   S2   S3  \n",
       "0  301   690  62  117  139  \n",
       "1  510  1120  71  242  237  \n",
       "2  128   325  61   33   60  "
      ]
     },
     "execution_count": 3,
     "metadata": {},
     "output_type": "execute_result"
    }
   ],
   "source": [
    "data.head(3)"
   ]
  },
  {
   "cell_type": "markdown",
   "metadata": {},
   "source": [
    "# Step 1: Identify the null values"
   ]
  },
  {
   "cell_type": "code",
   "execution_count": 4,
   "metadata": {},
   "outputs": [],
   "source": [
    "for col in data.columns:\n",
    "    data[col] = data[col].apply(lambda x: np.nan if x == '-' else x)"
   ]
  },
  {
   "cell_type": "code",
   "execution_count": 5,
   "metadata": {},
   "outputs": [],
   "source": [
    "def data_validation(row):  \n",
    "    '''\n",
    "    Run initially, fix issues, then rerun until only nulls left\n",
    "    \n",
    "    Look at those which logically dont make sense and address them\n",
    "    '''\n",
    "    # If any nulls we know it's off\n",
    "    ret_val = 0\n",
    "    if row.isna().any():\n",
    "        ret_val = 1\n",
    "    \n",
    "    # P(H) > P(L)\n",
    "    #Higher range of price > lower range\n",
    "    if row['P(H)'] < row['P(L)']:\n",
    "        ret_val = 2\n",
    "    \n",
    "    # T4 < T1\n",
    "    # Number of long sentences less than number of sentences\n",
    "    elif row['T4'] > row['T1']:\n",
    "        ret_val = 3\n",
    "        \n",
    "    # T3 < T2\n",
    "    # Number of words > number of real words\n",
    "    elif row['T3'] > row['T2']:\n",
    "        ret_val = 4\n",
    "        \n",
    "    # T5 < T2\n",
    "    # Number of long words < number of total words\n",
    "    elif row['T5'] > row['T2']:\n",
    "        ret_val = 5\n",
    "        \n",
    "    # T1 < T2\n",
    "    # Number of words > number of sentences\n",
    "    elif row['T1'] > row['T2']:\n",
    "        ret_val = 6\n",
    "    \n",
    "    # C2, C3' in [0,1]\n",
    "    # Defined as only being one of these two\n",
    "    elif row['C2'] not in [0.0,1.0] and pd.notnull(row['C2']):\n",
    "        ret_val = 7\n",
    "    \n",
    "    return ret_val\n",
    "    "
   ]
  },
  {
   "cell_type": "code",
   "execution_count": 6,
   "metadata": {},
   "outputs": [],
   "source": [
    "data['data_updated'] = data.apply(lambda row: data_validation(row), axis = 1)"
   ]
  },
  {
   "cell_type": "code",
   "execution_count": 7,
   "metadata": {},
   "outputs": [
    {
     "data": {
      "text/plain": [
       "0    590\n",
       "1     87\n",
       "4      2\n",
       "2      2\n",
       "3      1\n",
       "Name: data_updated, dtype: int64"
      ]
     },
     "execution_count": 7,
     "metadata": {},
     "output_type": "execute_result"
    }
   ],
   "source": [
    "data.data_updated.value_counts()"
   ]
  },
  {
   "cell_type": "code",
   "execution_count": 8,
   "metadata": {},
   "outputs": [],
   "source": [
    "data.loc[data['data_updated'] == 2, ['P(H)','P(L)']] = np.nan"
   ]
  },
  {
   "cell_type": "code",
   "execution_count": 9,
   "metadata": {},
   "outputs": [],
   "source": [
    "data.loc[data['data_updated'] == 3, ['T4','T1']] = np.nan"
   ]
  },
  {
   "cell_type": "code",
   "execution_count": 10,
   "metadata": {},
   "outputs": [],
   "source": [
    "data.loc[data['data_updated'] == 4, ['T3','T2']] = np.nan"
   ]
  },
  {
   "cell_type": "code",
   "execution_count": 11,
   "metadata": {},
   "outputs": [],
   "source": [
    "data['data_updated'] = data.apply(lambda row: data_validation(row), axis = 1)"
   ]
  },
  {
   "cell_type": "code",
   "execution_count": 12,
   "metadata": {},
   "outputs": [
    {
     "data": {
      "text/plain": [
       "0    590\n",
       "1     91\n",
       "4      1\n",
       "Name: data_updated, dtype: int64"
      ]
     },
     "execution_count": 12,
     "metadata": {},
     "output_type": "execute_result"
    }
   ],
   "source": [
    "data.data_updated.value_counts()"
   ]
  },
  {
   "cell_type": "markdown",
   "metadata": {},
   "source": [
    "Row had more than one issue, run again to fix this"
   ]
  },
  {
   "cell_type": "code",
   "execution_count": 13,
   "metadata": {},
   "outputs": [],
   "source": [
    "data.loc[data['data_updated'] == 4, ['T3','T2']] = np.nan"
   ]
  },
  {
   "cell_type": "code",
   "execution_count": 14,
   "metadata": {},
   "outputs": [],
   "source": [
    "data['data_updated'] = data.apply(lambda row: data_validation(row), axis = 1)"
   ]
  },
  {
   "cell_type": "code",
   "execution_count": 15,
   "metadata": {},
   "outputs": [
    {
     "data": {
      "text/plain": [
       "0    590\n",
       "1     92\n",
       "Name: data_updated, dtype: int64"
      ]
     },
     "execution_count": 15,
     "metadata": {},
     "output_type": "execute_result"
    }
   ],
   "source": [
    "data.data_updated.value_counts()"
   ]
  },
  {
   "cell_type": "markdown",
   "metadata": {},
   "source": [
    "Now only issue left is the null values which we can address through imputation and also have a column showing those which we need to fix in some way either through logic checks or imputation"
   ]
  },
  {
   "cell_type": "markdown",
   "metadata": {},
   "source": [
    "# Step 2: Descriptive Statistics\n",
    "- Mean/median/std/min/max/count/quartiles\n",
    "- Missing Records\n",
    "- Outlier Identification\n",
    "    - Address Outliers\n",
    "- Data Types/Fix data types"
   ]
  },
  {
   "cell_type": "code",
   "execution_count": 16,
   "metadata": {},
   "outputs": [
    {
     "data": {
      "text/html": [
       "<div>\n",
       "<style scoped>\n",
       "    .dataframe tbody tr th:only-of-type {\n",
       "        vertical-align: middle;\n",
       "    }\n",
       "\n",
       "    .dataframe tbody tr th {\n",
       "        vertical-align: top;\n",
       "    }\n",
       "\n",
       "    .dataframe thead th {\n",
       "        text-align: right;\n",
       "    }\n",
       "</style>\n",
       "<table border=\"1\" class=\"dataframe\">\n",
       "  <thead>\n",
       "    <tr style=\"text-align: right;\">\n",
       "      <th></th>\n",
       "      <th>P(IPO)</th>\n",
       "      <th>P(H)</th>\n",
       "      <th>P(L)</th>\n",
       "      <th>P(1Day)</th>\n",
       "      <th>C1</th>\n",
       "      <th>C2</th>\n",
       "      <th>C3</th>\n",
       "      <th>C4</th>\n",
       "      <th>C5</th>\n",
       "      <th>C6</th>\n",
       "      <th>C7</th>\n",
       "      <th>T1</th>\n",
       "      <th>T2</th>\n",
       "      <th>T3</th>\n",
       "      <th>T4</th>\n",
       "      <th>T5</th>\n",
       "      <th>S1</th>\n",
       "      <th>S2</th>\n",
       "      <th>S3</th>\n",
       "      <th>data_updated</th>\n",
       "    </tr>\n",
       "  </thead>\n",
       "  <tbody>\n",
       "    <tr>\n",
       "      <th>count</th>\n",
       "      <td>677.000000</td>\n",
       "      <td>670.000000</td>\n",
       "      <td>670.000000</td>\n",
       "      <td>660.000000</td>\n",
       "      <td>660.000000</td>\n",
       "      <td>660.000000</td>\n",
       "      <td>646.000000</td>\n",
       "      <td>660.000000</td>\n",
       "      <td>6.760000e+02</td>\n",
       "      <td>6.760000e+02</td>\n",
       "      <td>610.000000</td>\n",
       "      <td>680.000000</td>\n",
       "      <td>678.000000</td>\n",
       "      <td>678.000000</td>\n",
       "      <td>680.000000</td>\n",
       "      <td>681.000000</td>\n",
       "      <td>681.000000</td>\n",
       "      <td>681.000000</td>\n",
       "      <td>681.000000</td>\n",
       "      <td>682.000000</td>\n",
       "    </tr>\n",
       "    <tr>\n",
       "      <th>mean</th>\n",
       "      <td>13.837666</td>\n",
       "      <td>15.522925</td>\n",
       "      <td>13.527030</td>\n",
       "      <td>25.934766</td>\n",
       "      <td>149.728788</td>\n",
       "      <td>0.859091</td>\n",
       "      <td>1.788904</td>\n",
       "      <td>0.007282</td>\n",
       "      <td>4.935776e+07</td>\n",
       "      <td>1.241519e+07</td>\n",
       "      <td>500.459962</td>\n",
       "      <td>465.957353</td>\n",
       "      <td>12814.283186</td>\n",
       "      <td>11377.873156</td>\n",
       "      <td>294.264706</td>\n",
       "      <td>679.220264</td>\n",
       "      <td>68.421439</td>\n",
       "      <td>120.104258</td>\n",
       "      <td>144.759178</td>\n",
       "      <td>0.134897</td>\n",
       "    </tr>\n",
       "    <tr>\n",
       "      <th>std</th>\n",
       "      <td>6.053731</td>\n",
       "      <td>6.618732</td>\n",
       "      <td>5.839649</td>\n",
       "      <td>73.234948</td>\n",
       "      <td>152.817467</td>\n",
       "      <td>0.348192</td>\n",
       "      <td>162.666532</td>\n",
       "      <td>0.033318</td>\n",
       "      <td>1.043764e+08</td>\n",
       "      <td>2.512855e+07</td>\n",
       "      <td>1648.337634</td>\n",
       "      <td>175.668619</td>\n",
       "      <td>5396.780570</td>\n",
       "      <td>4833.321230</td>\n",
       "      <td>121.599795</td>\n",
       "      <td>472.914323</td>\n",
       "      <td>39.096525</td>\n",
       "      <td>84.828959</td>\n",
       "      <td>69.276285</td>\n",
       "      <td>0.341865</td>\n",
       "    </tr>\n",
       "    <tr>\n",
       "      <th>min</th>\n",
       "      <td>3.000000</td>\n",
       "      <td>4.000000</td>\n",
       "      <td>3.000000</td>\n",
       "      <td>0.000000</td>\n",
       "      <td>10.000000</td>\n",
       "      <td>0.000000</td>\n",
       "      <td>-786.239000</td>\n",
       "      <td>-0.162352</td>\n",
       "      <td>3.693227e+06</td>\n",
       "      <td>5.250000e+05</td>\n",
       "      <td>0.074000</td>\n",
       "      <td>132.000000</td>\n",
       "      <td>3271.000000</td>\n",
       "      <td>0.000000</td>\n",
       "      <td>0.000000</td>\n",
       "      <td>-1.000000</td>\n",
       "      <td>-1.000000</td>\n",
       "      <td>20.000000</td>\n",
       "      <td>26.000000</td>\n",
       "      <td>0.000000</td>\n",
       "    </tr>\n",
       "    <tr>\n",
       "      <th>25%</th>\n",
       "      <td>10.000000</td>\n",
       "      <td>13.000000</td>\n",
       "      <td>11.000000</td>\n",
       "      <td>11.000000</td>\n",
       "      <td>85.000000</td>\n",
       "      <td>1.000000</td>\n",
       "      <td>-0.852500</td>\n",
       "      <td>-0.013927</td>\n",
       "      <td>1.871417e+07</td>\n",
       "      <td>5.000000e+06</td>\n",
       "      <td>37.245750</td>\n",
       "      <td>351.750000</td>\n",
       "      <td>9213.250000</td>\n",
       "      <td>8135.000000</td>\n",
       "      <td>212.750000</td>\n",
       "      <td>462.000000</td>\n",
       "      <td>45.000000</td>\n",
       "      <td>73.000000</td>\n",
       "      <td>100.000000</td>\n",
       "      <td>0.000000</td>\n",
       "    </tr>\n",
       "    <tr>\n",
       "      <th>50%</th>\n",
       "      <td>13.500000</td>\n",
       "      <td>15.000000</td>\n",
       "      <td>13.000000</td>\n",
       "      <td>14.845000</td>\n",
       "      <td>107.000000</td>\n",
       "      <td>1.000000</td>\n",
       "      <td>0.010000</td>\n",
       "      <td>0.009125</td>\n",
       "      <td>2.740018e+07</td>\n",
       "      <td>7.398704e+06</td>\n",
       "      <td>103.833000</td>\n",
       "      <td>444.500000</td>\n",
       "      <td>12056.000000</td>\n",
       "      <td>10774.500000</td>\n",
       "      <td>279.000000</td>\n",
       "      <td>624.000000</td>\n",
       "      <td>60.000000</td>\n",
       "      <td>100.000000</td>\n",
       "      <td>134.000000</td>\n",
       "      <td>0.000000</td>\n",
       "    </tr>\n",
       "    <tr>\n",
       "      <th>75%</th>\n",
       "      <td>17.000000</td>\n",
       "      <td>17.000000</td>\n",
       "      <td>15.000000</td>\n",
       "      <td>20.485000</td>\n",
       "      <td>155.250000</td>\n",
       "      <td>1.000000</td>\n",
       "      <td>0.470000</td>\n",
       "      <td>0.031571</td>\n",
       "      <td>4.980786e+07</td>\n",
       "      <td>1.200000e+07</td>\n",
       "      <td>331.138000</td>\n",
       "      <td>551.250000</td>\n",
       "      <td>15243.250000</td>\n",
       "      <td>13712.000000</td>\n",
       "      <td>353.250000</td>\n",
       "      <td>795.000000</td>\n",
       "      <td>85.000000</td>\n",
       "      <td>142.000000</td>\n",
       "      <td>173.000000</td>\n",
       "      <td>0.000000</td>\n",
       "    </tr>\n",
       "    <tr>\n",
       "      <th>max</th>\n",
       "      <td>85.000000</td>\n",
       "      <td>135.000000</td>\n",
       "      <td>108.000000</td>\n",
       "      <td>1159.200562</td>\n",
       "      <td>2087.000000</td>\n",
       "      <td>1.000000</td>\n",
       "      <td>3864.500000</td>\n",
       "      <td>0.092896</td>\n",
       "      <td>2.138085e+09</td>\n",
       "      <td>4.212336e+08</td>\n",
       "      <td>30683.000000</td>\n",
       "      <td>1750.000000</td>\n",
       "      <td>49056.000000</td>\n",
       "      <td>43952.000000</td>\n",
       "      <td>1058.000000</td>\n",
       "      <td>10277.000000</td>\n",
       "      <td>309.000000</td>\n",
       "      <td>944.000000</td>\n",
       "      <td>883.000000</td>\n",
       "      <td>1.000000</td>\n",
       "    </tr>\n",
       "  </tbody>\n",
       "</table>\n",
       "</div>"
      ],
      "text/plain": [
       "           P(IPO)        P(H)        P(L)      P(1Day)           C1  \\\n",
       "count  677.000000  670.000000  670.000000   660.000000   660.000000   \n",
       "mean    13.837666   15.522925   13.527030    25.934766   149.728788   \n",
       "std      6.053731    6.618732    5.839649    73.234948   152.817467   \n",
       "min      3.000000    4.000000    3.000000     0.000000    10.000000   \n",
       "25%     10.000000   13.000000   11.000000    11.000000    85.000000   \n",
       "50%     13.500000   15.000000   13.000000    14.845000   107.000000   \n",
       "75%     17.000000   17.000000   15.000000    20.485000   155.250000   \n",
       "max     85.000000  135.000000  108.000000  1159.200562  2087.000000   \n",
       "\n",
       "               C2           C3          C4            C5            C6  \\\n",
       "count  660.000000   646.000000  660.000000  6.760000e+02  6.760000e+02   \n",
       "mean     0.859091     1.788904    0.007282  4.935776e+07  1.241519e+07   \n",
       "std      0.348192   162.666532    0.033318  1.043764e+08  2.512855e+07   \n",
       "min      0.000000  -786.239000   -0.162352  3.693227e+06  5.250000e+05   \n",
       "25%      1.000000    -0.852500   -0.013927  1.871417e+07  5.000000e+06   \n",
       "50%      1.000000     0.010000    0.009125  2.740018e+07  7.398704e+06   \n",
       "75%      1.000000     0.470000    0.031571  4.980786e+07  1.200000e+07   \n",
       "max      1.000000  3864.500000    0.092896  2.138085e+09  4.212336e+08   \n",
       "\n",
       "                 C7           T1            T2            T3           T4  \\\n",
       "count    610.000000   680.000000    678.000000    678.000000   680.000000   \n",
       "mean     500.459962   465.957353  12814.283186  11377.873156   294.264706   \n",
       "std     1648.337634   175.668619   5396.780570   4833.321230   121.599795   \n",
       "min        0.074000   132.000000   3271.000000      0.000000     0.000000   \n",
       "25%       37.245750   351.750000   9213.250000   8135.000000   212.750000   \n",
       "50%      103.833000   444.500000  12056.000000  10774.500000   279.000000   \n",
       "75%      331.138000   551.250000  15243.250000  13712.000000   353.250000   \n",
       "max    30683.000000  1750.000000  49056.000000  43952.000000  1058.000000   \n",
       "\n",
       "                 T5          S1          S2          S3  data_updated  \n",
       "count    681.000000  681.000000  681.000000  681.000000    682.000000  \n",
       "mean     679.220264   68.421439  120.104258  144.759178      0.134897  \n",
       "std      472.914323   39.096525   84.828959   69.276285      0.341865  \n",
       "min       -1.000000   -1.000000   20.000000   26.000000      0.000000  \n",
       "25%      462.000000   45.000000   73.000000  100.000000      0.000000  \n",
       "50%      624.000000   60.000000  100.000000  134.000000      0.000000  \n",
       "75%      795.000000   85.000000  142.000000  173.000000      0.000000  \n",
       "max    10277.000000  309.000000  944.000000  883.000000      1.000000  "
      ]
     },
     "execution_count": 16,
     "metadata": {},
     "output_type": "execute_result"
    }
   ],
   "source": [
    "data.describe()"
   ]
  },
  {
   "cell_type": "markdown",
   "metadata": {},
   "source": [
    "Counts of null values"
   ]
  },
  {
   "cell_type": "code",
   "execution_count": 17,
   "metadata": {},
   "outputs": [
    {
     "data": {
      "text/plain": [
       "I1               0\n",
       "I2               0\n",
       "I3               8\n",
       "P(IPO)           5\n",
       "P(H)            12\n",
       "P(L)            12\n",
       "P(1Day)         22\n",
       "C1              22\n",
       "C2              22\n",
       "C3              36\n",
       "C4              22\n",
       "C5               6\n",
       "C6               6\n",
       "C7              72\n",
       "T1               2\n",
       "T2               4\n",
       "T3               4\n",
       "T4               2\n",
       "T5               1\n",
       "S1               1\n",
       "S2               1\n",
       "S3               1\n",
       "data_updated     0\n",
       "dtype: int64"
      ]
     },
     "execution_count": 17,
     "metadata": {},
     "output_type": "execute_result"
    }
   ],
   "source": [
    "pd.isna(data).sum()"
   ]
  },
  {
   "cell_type": "markdown",
   "metadata": {},
   "source": [
    "Data Types"
   ]
  },
  {
   "cell_type": "code",
   "execution_count": 18,
   "metadata": {},
   "outputs": [
    {
     "data": {
      "text/plain": [
       "I1               object\n",
       "I2               object\n",
       "I3               object\n",
       "P(IPO)          float64\n",
       "P(H)            float64\n",
       "P(L)            float64\n",
       "P(1Day)         float64\n",
       "C1              float64\n",
       "C2              float64\n",
       "C3              float64\n",
       "C4              float64\n",
       "C5              float64\n",
       "C6              float64\n",
       "C7              float64\n",
       "T1              float64\n",
       "T2              float64\n",
       "T3              float64\n",
       "T4              float64\n",
       "T5              float64\n",
       "S1              float64\n",
       "S2              float64\n",
       "S3              float64\n",
       "data_updated      int64\n",
       "dtype: object"
      ]
     },
     "execution_count": 18,
     "metadata": {},
     "output_type": "execute_result"
    }
   ],
   "source": [
    "data.dtypes"
   ]
  },
  {
   "cell_type": "markdown",
   "metadata": {},
   "source": [
    "Box Plots"
   ]
  },
  {
   "cell_type": "markdown",
   "metadata": {},
   "source": [
    "Top level view"
   ]
  },
  {
   "cell_type": "code",
   "execution_count": 19,
   "metadata": {},
   "outputs": [
    {
     "data": {
      "image/png": "[encoded data removed]",
      "text/plain": [
       "<Figure size 432x288 with 1 Axes>"
      ]
     },
     "metadata": {
      "needs_background": "light"
     },
     "output_type": "display_data"
    }
   ],
   "source": [
    "data[[i for i in data.columns if i not in ['I1','I2','I3','C5','C6']]].boxplot()\n",
    "plt.show()"
   ]
  },
  {
   "cell_type": "markdown",
   "metadata": {},
   "source": [
    "More specific per field"
   ]
  },
  {
   "cell_type": "markdown",
   "metadata": {},
   "source": [
    "Seems to be a lot of strange data here, update those at far ends of the spectrum"
   ]
  },
  {
   "cell_type": "markdown",
   "metadata": {},
   "source": [
    "# Step 3: Data Imputation\n",
    "- Address null values dependent on the type of value in question\n",
    "- Create a seperate column which shows whether or not imputation occurred"
   ]
  },
  {
   "cell_type": "code",
   "execution_count": 21,
   "metadata": {},
   "outputs": [],
   "source": [
    "def impute_nulls_df(df, col, replace_val):\n",
    "    '''\n",
    "    params:\n",
    "    \n",
    "    df - dataframe containing nulls\n",
    "    col - columns with nulls to replace\n",
    "    replace_val - options: 'mean', 'median', 'mode'\n",
    "    \n",
    "    Example:\n",
    "\n",
    "    imputed_data = impute_nulls(data, C1, 'mean')\n",
    "    '''\n",
    "    \n",
    "    if replace_val not in ['mean','median','mode']:\n",
    "        print('requires one of the following: mean, median, mode')\n",
    "        return\n",
    "    \n",
    "    elif replace_val == 'mean':\n",
    "        df[col + '_imputed'] = df[col].fillna(df[col].mean())\n",
    "    elif replace_val == 'median':\n",
    "        df[col + '_imputed'] = df[col].fillna(df[col].median())\n",
    "    elif replace_val == 'mode':\n",
    "        df[col + '_imputed'] = df[col].fillna(df[col].mode().values[0])\n",
    "        \n",
    "    return df"
   ]
  },
  {
   "cell_type": "markdown",
   "metadata": {},
   "source": [
    "Create a dictionary for each value with the column and the type of imputation. Can then use a loop and the function above to impute them all."
   ]
  },
  {
   "cell_type": "markdown",
   "metadata": {},
   "source": [
    "Reminder of columns which need imputation"
   ]
  },
  {
   "cell_type": "code",
   "execution_count": 22,
   "metadata": {},
   "outputs": [
    {
     "data": {
      "text/plain": [
       "I3          8\n",
       "P(IPO)      5\n",
       "P(H)       12\n",
       "P(L)       12\n",
       "P(1Day)    22\n",
       "C1         22\n",
       "C2         22\n",
       "C3         36\n",
       "C4         22\n",
       "C5          6\n",
       "C6          6\n",
       "C7         72\n",
       "T1          2\n",
       "T2          4\n",
       "T3          4\n",
       "T4          2\n",
       "T5          1\n",
       "S1          1\n",
       "S2          1\n",
       "S3          1\n",
       "dtype: int64"
      ]
     },
     "execution_count": 22,
     "metadata": {},
     "output_type": "execute_result"
    }
   ],
   "source": [
    "null_cols = pd.isna(data).sum()\n",
    "null_cols = null_cols[null_cols.values != 0]\n",
    "null_cols"
   ]
  },
  {
   "cell_type": "markdown",
   "metadata": {},
   "source": [
    "Look at histograms to get a better view of what to do for each"
   ]
  },
  {
   "cell_type": "code",
   "execution_count": 23,
   "metadata": {},
   "outputs": [
    {
     "data": {
      "image/png": "[encoded data removed]",
      "text/plain": [
       "<Figure size 432x288 with 1 Axes>"
      ]
     },
     "metadata": {
      "needs_background": "light"
     },
     "output_type": "display_data"
    },
    {
     "data": {
      "image/png": "[encoded data removed]",
      "text/plain": [
       "<Figure size 432x288 with 1 Axes>"
      ]
     },
     "metadata": {
      "needs_background": "light"
     },
     "output_type": "display_data"
    },
    {
     "data": {
      "image/png": "[encoded data removed]",
      "text/plain": [
       "<Figure size 432x288 with 1 Axes>"
      ]
     },
     "metadata": {
      "needs_background": "light"
     },
     "output_type": "display_data"
    },
    {
     "data": {
      "image/png": "[encoded data removed]",
      "text/plain": [
       "<Figure size 432x288 with 1 Axes>"
      ]
     },
     "metadata": {
      "needs_background": "light"
     },
     "output_type": "display_data"
    },
    {
     "data": {
      "image/png": "[encoded data removed]",
      "text/plain": [
       "<Figure size 432x288 with 1 Axes>"
      ]
     },
     "metadata": {
      "needs_background": "light"
     },
     "output_type": "display_data"
    },
    {
     "data": {
      "image/png": "[encoded data removed]",
      "text/plain": [
       "<Figure size 432x288 with 1 Axes>"
      ]
     },
     "metadata": {
      "needs_background": "light"
     },
     "output_type": "display_data"
    },
    {
     "data": {
      "image/png": "[encoded data removed]",
      "text/plain": [
       "<Figure size 432x288 with 1 Axes>"
      ]
     },
     "metadata": {
      "needs_background": "light"
     },
     "output_type": "display_data"
    },
    {
     "data": {
      "image/png": "[encoded data removed]",
      "text/plain": [
       "<Figure size 432x288 with 1 Axes>"
      ]
     },
     "metadata": {
      "needs_background": "light"
     },
     "output_type": "display_data"
    },
    {
     "data": {
      "image/png": "[encoded data removed]",
      "text/plain": [
       "<Figure size 432x288 with 1 Axes>"
      ]
     },
     "metadata": {
      "needs_background": "light"
     },
     "output_type": "display_data"
    },
    {
     "data": {
      "image/png": "[encoded data removed]",
      "text/plain": [
       "<Figure size 432x288 with 1 Axes>"
      ]
     },
     "metadata": {
      "needs_background": "light"
     },
     "output_type": "display_data"
    },
    {
     "data": {
      "image/png": "[encoded data removed]",
      "text/plain": [
       "<Figure size 432x288 with 1 Axes>"
      ]
     },
     "metadata": {
      "needs_background": "light"
     },
     "output_type": "display_data"
    },
    {
     "data": {
      "image/png": "[encoded data removed]",
      "text/plain": [
       "<Figure size 432x288 with 1 Axes>"
      ]
     },
     "metadata": {
      "needs_background": "light"
     },
     "output_type": "display_data"
    },
    {
     "data": {
      "image/png": "[encoded data removed]",
      "text/plain": [
       "<Figure size 432x288 with 1 Axes>"
      ]
     },
     "metadata": {
      "needs_background": "light"
     },
     "output_type": "display_data"
    },
    {
     "data": {
      "image/png": "[encoded data removed]",
      "text/plain": [
       "<Figure size 432x288 with 1 Axes>"
      ]
     },
     "metadata": {
      "needs_background": "light"
     },
     "output_type": "display_data"
    },
    {
     "data": {
      "image/png": "[encoded data removed]",
      "text/plain": [
       "<Figure size 432x288 with 1 Axes>"
      ]
     },
     "metadata": {
      "needs_background": "light"
     },
     "output_type": "display_data"
    },
    {
     "data": {
      "image/png": "[encoded data removed]",
      "text/plain": [
       "<Figure size 432x288 with 1 Axes>"
      ]
     },
     "metadata": {
      "needs_background": "light"
     },
     "output_type": "display_data"
    },
    {
     "data": {
      "image/png": "[encoded data removed]",
      "text/plain": [
       "<Figure size 432x288 with 1 Axes>"
      ]
     },
     "metadata": {
      "needs_background": "light"
     },
     "output_type": "display_data"
    },
    {
     "data": {
      "image/png": "[encoded data removed]",
      "text/plain": [
       "<Figure size 432x288 with 1 Axes>"
      ]
     },
     "metadata": {
      "needs_background": "light"
     },
     "output_type": "display_data"
    },
    {
     "data": {
      "image/png": "[encoded data removed]",
      "text/plain": [
       "<Figure size 432x288 with 1 Axes>"
      ]
     },
     "metadata": {
      "needs_background": "light"
     },
     "output_type": "display_data"
    }
   ],
   "source": [
    "#Only plot numerical columns so drop non-numerical\n",
    "for col in [i for i in list(null_cols.index) if i != 'I3']:\n",
    "    #Create Histograms\n",
    "    data[col].hist()\n",
    "    #plt.xlabel(col)\n",
    "    plt.title(col)\n",
    "    plt.axvline(data[col].mean(), color = 'red')\n",
    "    plt.axvline(data[col].median(), color = 'green')\n",
    "    plt.show()"
   ]
  },
  {
   "cell_type": "code",
   "execution_count": 31,
   "metadata": {},
   "outputs": [],
   "source": [
    "# There are a lot of heavy outliers in the dataset, so mean is used for many imputations\n",
    "\n",
    "imputing = {\n",
    "    'P(IPO)': 'mean',\n",
    "    'P(H)': 'median',\n",
    "    'P(L)': 'median',\n",
    "    'P(1Day)': 'median',\n",
    "    'C1': 'mean',\n",
    "    'C2': 'mode', # categorical column\n",
    "    'C3': 'median',\n",
    "    'C4': 'mean',\n",
    "    'C5': 'mean',\n",
    "    'C6': 'mean',\n",
    "    'C7': 'mean',\n",
    "    'T1': 'mean',\n",
    "    'T2': 'mean',\n",
    "    'T3': 'mean',\n",
    "    'T4': 'mean',\n",
    "    'T5': 'mean',\n",
    "    'S1': 'mean',\n",
    "    'S2': 'mean',\n",
    "    'S3': 'mean'\n",
    "}\n",
    "\n",
    "data_w_imputed = data.copy()\n",
    "\n",
    "for key in imputing.keys():\n",
    "    data_w_imputed = impute_nulls_df(data_w_imputed, key, imputing[key])"
   ]
  },
  {
   "cell_type": "code",
   "execution_count": 32,
   "metadata": {},
   "outputs": [
    {
     "data": {
      "text/plain": [
       "I1                  0\n",
       "I2                  0\n",
       "I3                  8\n",
       "P(IPO)              5\n",
       "P(H)               12\n",
       "P(L)               12\n",
       "P(1Day)            22\n",
       "C1                 22\n",
       "C2                 22\n",
       "C3                 36\n",
       "C4                 22\n",
       "C5                  6\n",
       "C6                  6\n",
       "C7                 72\n",
       "T1                  2\n",
       "T2                  4\n",
       "T3                  4\n",
       "T4                  2\n",
       "T5                  1\n",
       "S1                  1\n",
       "S2                  1\n",
       "S3                  1\n",
       "data_updated        0\n",
       "P(IPO)_imputed      0\n",
       "P(H)_imputed        0\n",
       "P(L)_imputed        0\n",
       "P(1Day)_imputed     0\n",
       "C1_imputed          0\n",
       "C2_imputed          0\n",
       "C3_imputed          0\n",
       "C4_imputed          0\n",
       "C5_imputed          0\n",
       "C6_imputed          0\n",
       "C7_imputed          0\n",
       "T1_imputed          0\n",
       "T2_imputed          0\n",
       "T3_imputed          0\n",
       "T4_imputed          0\n",
       "T5_imputed          0\n",
       "S1_imputed          0\n",
       "S2_imputed          0\n",
       "S3_imputed          0\n",
       "dtype: int64"
      ]
     },
     "execution_count": 32,
     "metadata": {},
     "output_type": "execute_result"
    }
   ],
   "source": [
    "pd.isna(data_w_imputed).sum()"
   ]
  },
  {
   "cell_type": "markdown",
   "metadata": {},
   "source": [
    "Now there are new imputed columns at the end of the dataframe"
   ]
  },
  {
   "cell_type": "code",
   "execution_count": 26,
   "metadata": {},
   "outputs": [
    {
     "data": {
      "text/html": [
       "<div>\n",
       "<style scoped>\n",
       "    .dataframe tbody tr th:only-of-type {\n",
       "        vertical-align: middle;\n",
       "    }\n",
       "\n",
       "    .dataframe tbody tr th {\n",
       "        vertical-align: top;\n",
       "    }\n",
       "\n",
       "    .dataframe thead th {\n",
       "        text-align: right;\n",
       "    }\n",
       "</style>\n",
       "<table border=\"1\" class=\"dataframe\">\n",
       "  <thead>\n",
       "    <tr style=\"text-align: right;\">\n",
       "      <th></th>\n",
       "      <th>I1</th>\n",
       "      <th>I2</th>\n",
       "      <th>I3</th>\n",
       "      <th>P(IPO)</th>\n",
       "      <th>P(H)</th>\n",
       "      <th>P(L)</th>\n",
       "      <th>P(1Day)</th>\n",
       "      <th>C1</th>\n",
       "      <th>C2</th>\n",
       "      <th>C3</th>\n",
       "      <th>C4</th>\n",
       "      <th>C5</th>\n",
       "      <th>C6</th>\n",
       "      <th>C7</th>\n",
       "      <th>T1</th>\n",
       "      <th>T2</th>\n",
       "      <th>T3</th>\n",
       "      <th>T4</th>\n",
       "      <th>T5</th>\n",
       "      <th>S1</th>\n",
       "      <th>S2</th>\n",
       "      <th>S3</th>\n",
       "      <th>data_updated</th>\n",
       "      <th>P(IPO)_imputed</th>\n",
       "      <th>P(H)_imputed</th>\n",
       "      <th>P(L)_imputed</th>\n",
       "      <th>P(1Day)_imputed</th>\n",
       "      <th>C1_imputed</th>\n",
       "      <th>C2_imputed</th>\n",
       "      <th>C3_imputed</th>\n",
       "      <th>C4_imputed</th>\n",
       "      <th>C5_imputed</th>\n",
       "      <th>C6_imputed</th>\n",
       "      <th>C7_imputed</th>\n",
       "      <th>T1_imputed</th>\n",
       "      <th>T2_imputed</th>\n",
       "      <th>T3_imputed</th>\n",
       "      <th>T4_imputed</th>\n",
       "      <th>T5_imputed</th>\n",
       "      <th>S1_imputed</th>\n",
       "      <th>S2_imputed</th>\n",
       "      <th>S3_imputed</th>\n",
       "    </tr>\n",
       "  </thead>\n",
       "  <tbody>\n",
       "    <tr>\n",
       "      <th>0</th>\n",
       "      <td>AATI</td>\n",
       "      <td>ADVANCED ANALOGIC TECHNOLOGIES INC</td>\n",
       "      <td>3674</td>\n",
       "      <td>10.0</td>\n",
       "      <td>9.5</td>\n",
       "      <td>8.5</td>\n",
       "      <td>11.87</td>\n",
       "      <td>122.0</td>\n",
       "      <td>1.0</td>\n",
       "      <td>3.43</td>\n",
       "      <td>0.029074</td>\n",
       "      <td>40962052.0</td>\n",
       "      <td>10600000.0</td>\n",
       "      <td>51.345</td>\n",
       "      <td>470.0</td>\n",
       "      <td>12719.0</td>\n",
       "      <td>11560.0</td>\n",
       "      <td>301.0</td>\n",
       "      <td>690.0</td>\n",
       "      <td>62.0</td>\n",
       "      <td>117.0</td>\n",
       "      <td>139.0</td>\n",
       "      <td>0</td>\n",
       "      <td>10.0</td>\n",
       "      <td>9.5</td>\n",
       "      <td>8.5</td>\n",
       "      <td>11.87</td>\n",
       "      <td>122.0</td>\n",
       "      <td>1.0</td>\n",
       "      <td>3.43</td>\n",
       "      <td>0.029074</td>\n",
       "      <td>40962052.0</td>\n",
       "      <td>10600000.0</td>\n",
       "      <td>51.345</td>\n",
       "      <td>470.0</td>\n",
       "      <td>12719.0</td>\n",
       "      <td>11560.0</td>\n",
       "      <td>301.0</td>\n",
       "      <td>690.0</td>\n",
       "      <td>62.0</td>\n",
       "      <td>117.0</td>\n",
       "      <td>139.0</td>\n",
       "    </tr>\n",
       "    <tr>\n",
       "      <th>1</th>\n",
       "      <td>ABPI</td>\n",
       "      <td>ACCENTIA BIOPHARMACEUTICALS INC</td>\n",
       "      <td>2834</td>\n",
       "      <td>8.0</td>\n",
       "      <td>10.0</td>\n",
       "      <td>8.0</td>\n",
       "      <td>7.25</td>\n",
       "      <td>259.0</td>\n",
       "      <td>0.0</td>\n",
       "      <td>-1.62</td>\n",
       "      <td>-0.013352</td>\n",
       "      <td>28869196.0</td>\n",
       "      <td>2400000.0</td>\n",
       "      <td>25.936</td>\n",
       "      <td>791.0</td>\n",
       "      <td>21792.0</td>\n",
       "      <td>19585.0</td>\n",
       "      <td>510.0</td>\n",
       "      <td>1120.0</td>\n",
       "      <td>71.0</td>\n",
       "      <td>242.0</td>\n",
       "      <td>237.0</td>\n",
       "      <td>0</td>\n",
       "      <td>8.0</td>\n",
       "      <td>10.0</td>\n",
       "      <td>8.0</td>\n",
       "      <td>7.25</td>\n",
       "      <td>259.0</td>\n",
       "      <td>0.0</td>\n",
       "      <td>-1.62</td>\n",
       "      <td>-0.013352</td>\n",
       "      <td>28869196.0</td>\n",
       "      <td>2400000.0</td>\n",
       "      <td>25.936</td>\n",
       "      <td>791.0</td>\n",
       "      <td>21792.0</td>\n",
       "      <td>19585.0</td>\n",
       "      <td>510.0</td>\n",
       "      <td>1120.0</td>\n",
       "      <td>71.0</td>\n",
       "      <td>242.0</td>\n",
       "      <td>237.0</td>\n",
       "    </tr>\n",
       "    <tr>\n",
       "      <th>2</th>\n",
       "      <td>ACAD</td>\n",
       "      <td>ACADIA PHARMACEUTICALS INC</td>\n",
       "      <td>2834</td>\n",
       "      <td>7.0</td>\n",
       "      <td>14.0</td>\n",
       "      <td>12.0</td>\n",
       "      <td>6.70</td>\n",
       "      <td>90.0</td>\n",
       "      <td>1.0</td>\n",
       "      <td>-1.24</td>\n",
       "      <td>0.020715</td>\n",
       "      <td>16845668.0</td>\n",
       "      <td>5000000.0</td>\n",
       "      <td>7.378</td>\n",
       "      <td>201.0</td>\n",
       "      <td>5262.0</td>\n",
       "      <td>4785.0</td>\n",
       "      <td>128.0</td>\n",
       "      <td>325.0</td>\n",
       "      <td>61.0</td>\n",
       "      <td>33.0</td>\n",
       "      <td>60.0</td>\n",
       "      <td>0</td>\n",
       "      <td>7.0</td>\n",
       "      <td>14.0</td>\n",
       "      <td>12.0</td>\n",
       "      <td>6.70</td>\n",
       "      <td>90.0</td>\n",
       "      <td>1.0</td>\n",
       "      <td>-1.24</td>\n",
       "      <td>0.020715</td>\n",
       "      <td>16845668.0</td>\n",
       "      <td>5000000.0</td>\n",
       "      <td>7.378</td>\n",
       "      <td>201.0</td>\n",
       "      <td>5262.0</td>\n",
       "      <td>4785.0</td>\n",
       "      <td>128.0</td>\n",
       "      <td>325.0</td>\n",
       "      <td>61.0</td>\n",
       "      <td>33.0</td>\n",
       "      <td>60.0</td>\n",
       "    </tr>\n",
       "  </tbody>\n",
       "</table>\n",
       "</div>"
      ],
      "text/plain": [
       "     I1                                  I2    I3  P(IPO)  P(H)  P(L)  \\\n",
       "0  AATI  ADVANCED ANALOGIC TECHNOLOGIES INC  3674    10.0   9.5   8.5   \n",
       "1  ABPI     ACCENTIA BIOPHARMACEUTICALS INC  2834     8.0  10.0   8.0   \n",
       "2  ACAD          ACADIA PHARMACEUTICALS INC  2834     7.0  14.0  12.0   \n",
       "\n",
       "   P(1Day)     C1   C2    C3        C4          C5          C6      C7     T1  \\\n",
       "0    11.87  122.0  1.0  3.43  0.029074  40962052.0  10600000.0  51.345  470.0   \n",
       "1     7.25  259.0  0.0 -1.62 -0.013352  28869196.0   2400000.0  25.936  791.0   \n",
       "2     6.70   90.0  1.0 -1.24  0.020715  16845668.0   5000000.0   7.378  201.0   \n",
       "\n",
       "        T2       T3     T4      T5    S1     S2     S3  data_updated  \\\n",
       "0  12719.0  11560.0  301.0   690.0  62.0  117.0  139.0             0   \n",
       "1  21792.0  19585.0  510.0  1120.0  71.0  242.0  237.0             0   \n",
       "2   5262.0   4785.0  128.0   325.0  61.0   33.0   60.0             0   \n",
       "\n",
       "   P(IPO)_imputed  P(H)_imputed  P(L)_imputed  P(1Day)_imputed  C1_imputed  \\\n",
       "0            10.0           9.5           8.5            11.87       122.0   \n",
       "1             8.0          10.0           8.0             7.25       259.0   \n",
       "2             7.0          14.0          12.0             6.70        90.0   \n",
       "\n",
       "   C2_imputed  C3_imputed  C4_imputed  C5_imputed  C6_imputed  C7_imputed  \\\n",
       "0         1.0        3.43    0.029074  40962052.0  10600000.0      51.345   \n",
       "1         0.0       -1.62   -0.013352  28869196.0   2400000.0      25.936   \n",
       "2         1.0       -1.24    0.020715  16845668.0   5000000.0       7.378   \n",
       "\n",
       "   T1_imputed  T2_imputed  T3_imputed  T4_imputed  T5_imputed  S1_imputed  \\\n",
       "0       470.0     12719.0     11560.0       301.0       690.0        62.0   \n",
       "1       791.0     21792.0     19585.0       510.0      1120.0        71.0   \n",
       "2       201.0      5262.0      4785.0       128.0       325.0        61.0   \n",
       "\n",
       "   S2_imputed  S3_imputed  \n",
       "0       117.0       139.0  \n",
       "1       242.0       237.0  \n",
       "2        33.0        60.0  "
      ]
     },
     "execution_count": 26,
     "metadata": {},
     "output_type": "execute_result"
    }
   ],
   "source": [
    "data_w_imputed.head(3)"
   ]
  },
  {
   "cell_type": "markdown",
   "metadata": {},
   "source": [
    "# ******Peter Start Pipeline Here******"
   ]
  },
  {
   "cell_type": "markdown",
   "metadata": {},
   "source": [
    "# Normalize"
   ]
  },
  {
   "cell_type": "code",
   "execution_count": 36,
   "metadata": {},
   "outputs": [],
   "source": [
    "data_imputed = data_w_imputed.copy()"
   ]
  },
  {
   "cell_type": "code",
   "execution_count": 37,
   "metadata": {},
   "outputs": [
    {
     "data": {
      "text/html": [
       "<div>\n",
       "<style scoped>\n",
       "    .dataframe tbody tr th:only-of-type {\n",
       "        vertical-align: middle;\n",
       "    }\n",
       "\n",
       "    .dataframe tbody tr th {\n",
       "        vertical-align: top;\n",
       "    }\n",
       "\n",
       "    .dataframe thead th {\n",
       "        text-align: right;\n",
       "    }\n",
       "</style>\n",
       "<table border=\"1\" class=\"dataframe\">\n",
       "  <thead>\n",
       "    <tr style=\"text-align: right;\">\n",
       "      <th></th>\n",
       "      <th>I1</th>\n",
       "      <th>I2</th>\n",
       "      <th>I3</th>\n",
       "      <th>P(IPO)</th>\n",
       "      <th>P(H)</th>\n",
       "      <th>P(L)</th>\n",
       "      <th>P(1Day)</th>\n",
       "      <th>C1</th>\n",
       "      <th>C2</th>\n",
       "      <th>C3</th>\n",
       "      <th>C4</th>\n",
       "      <th>C5</th>\n",
       "      <th>C6</th>\n",
       "      <th>C7</th>\n",
       "      <th>T1</th>\n",
       "      <th>T2</th>\n",
       "      <th>T3</th>\n",
       "      <th>T4</th>\n",
       "      <th>T5</th>\n",
       "      <th>S1</th>\n",
       "      <th>S2</th>\n",
       "      <th>S3</th>\n",
       "      <th>data_updated</th>\n",
       "      <th>P(IPO)_imputed</th>\n",
       "      <th>P(H)_imputed</th>\n",
       "      <th>P(L)_imputed</th>\n",
       "      <th>P(1Day)_imputed</th>\n",
       "      <th>C1_imputed</th>\n",
       "      <th>C2_imputed</th>\n",
       "      <th>C3_imputed</th>\n",
       "      <th>C4_imputed</th>\n",
       "      <th>C5_imputed</th>\n",
       "      <th>C6_imputed</th>\n",
       "      <th>C7_imputed</th>\n",
       "      <th>T1_imputed</th>\n",
       "      <th>T2_imputed</th>\n",
       "      <th>T3_imputed</th>\n",
       "      <th>T4_imputed</th>\n",
       "      <th>T5_imputed</th>\n",
       "      <th>S1_imputed</th>\n",
       "      <th>S2_imputed</th>\n",
       "      <th>S3_imputed</th>\n",
       "    </tr>\n",
       "  </thead>\n",
       "  <tbody>\n",
       "    <tr>\n",
       "      <th>0</th>\n",
       "      <td>AATI</td>\n",
       "      <td>ADVANCED ANALOGIC TECHNOLOGIES INC</td>\n",
       "      <td>3674</td>\n",
       "      <td>10.0</td>\n",
       "      <td>9.5</td>\n",
       "      <td>8.5</td>\n",
       "      <td>11.87</td>\n",
       "      <td>122.0</td>\n",
       "      <td>1.0</td>\n",
       "      <td>3.43</td>\n",
       "      <td>0.029074</td>\n",
       "      <td>40962052.0</td>\n",
       "      <td>10600000.0</td>\n",
       "      <td>51.345</td>\n",
       "      <td>470.0</td>\n",
       "      <td>12719.0</td>\n",
       "      <td>11560.0</td>\n",
       "      <td>301.0</td>\n",
       "      <td>690.0</td>\n",
       "      <td>62.0</td>\n",
       "      <td>117.0</td>\n",
       "      <td>139.0</td>\n",
       "      <td>0</td>\n",
       "      <td>10.0</td>\n",
       "      <td>9.5</td>\n",
       "      <td>8.5</td>\n",
       "      <td>11.87</td>\n",
       "      <td>122.0</td>\n",
       "      <td>1.0</td>\n",
       "      <td>3.43</td>\n",
       "      <td>0.029074</td>\n",
       "      <td>40962052.0</td>\n",
       "      <td>10600000.0</td>\n",
       "      <td>51.345</td>\n",
       "      <td>470.0</td>\n",
       "      <td>12719.0</td>\n",
       "      <td>11560.0</td>\n",
       "      <td>301.0</td>\n",
       "      <td>690.0</td>\n",
       "      <td>62.0</td>\n",
       "      <td>117.0</td>\n",
       "      <td>139.0</td>\n",
       "    </tr>\n",
       "    <tr>\n",
       "      <th>1</th>\n",
       "      <td>ABPI</td>\n",
       "      <td>ACCENTIA BIOPHARMACEUTICALS INC</td>\n",
       "      <td>2834</td>\n",
       "      <td>8.0</td>\n",
       "      <td>10.0</td>\n",
       "      <td>8.0</td>\n",
       "      <td>7.25</td>\n",
       "      <td>259.0</td>\n",
       "      <td>0.0</td>\n",
       "      <td>-1.62</td>\n",
       "      <td>-0.013352</td>\n",
       "      <td>28869196.0</td>\n",
       "      <td>2400000.0</td>\n",
       "      <td>25.936</td>\n",
       "      <td>791.0</td>\n",
       "      <td>21792.0</td>\n",
       "      <td>19585.0</td>\n",
       "      <td>510.0</td>\n",
       "      <td>1120.0</td>\n",
       "      <td>71.0</td>\n",
       "      <td>242.0</td>\n",
       "      <td>237.0</td>\n",
       "      <td>0</td>\n",
       "      <td>8.0</td>\n",
       "      <td>10.0</td>\n",
       "      <td>8.0</td>\n",
       "      <td>7.25</td>\n",
       "      <td>259.0</td>\n",
       "      <td>0.0</td>\n",
       "      <td>-1.62</td>\n",
       "      <td>-0.013352</td>\n",
       "      <td>28869196.0</td>\n",
       "      <td>2400000.0</td>\n",
       "      <td>25.936</td>\n",
       "      <td>791.0</td>\n",
       "      <td>21792.0</td>\n",
       "      <td>19585.0</td>\n",
       "      <td>510.0</td>\n",
       "      <td>1120.0</td>\n",
       "      <td>71.0</td>\n",
       "      <td>242.0</td>\n",
       "      <td>237.0</td>\n",
       "    </tr>\n",
       "    <tr>\n",
       "      <th>2</th>\n",
       "      <td>ACAD</td>\n",
       "      <td>ACADIA PHARMACEUTICALS INC</td>\n",
       "      <td>2834</td>\n",
       "      <td>7.0</td>\n",
       "      <td>14.0</td>\n",
       "      <td>12.0</td>\n",
       "      <td>6.70</td>\n",
       "      <td>90.0</td>\n",
       "      <td>1.0</td>\n",
       "      <td>-1.24</td>\n",
       "      <td>0.020715</td>\n",
       "      <td>16845668.0</td>\n",
       "      <td>5000000.0</td>\n",
       "      <td>7.378</td>\n",
       "      <td>201.0</td>\n",
       "      <td>5262.0</td>\n",
       "      <td>4785.0</td>\n",
       "      <td>128.0</td>\n",
       "      <td>325.0</td>\n",
       "      <td>61.0</td>\n",
       "      <td>33.0</td>\n",
       "      <td>60.0</td>\n",
       "      <td>0</td>\n",
       "      <td>7.0</td>\n",
       "      <td>14.0</td>\n",
       "      <td>12.0</td>\n",
       "      <td>6.70</td>\n",
       "      <td>90.0</td>\n",
       "      <td>1.0</td>\n",
       "      <td>-1.24</td>\n",
       "      <td>0.020715</td>\n",
       "      <td>16845668.0</td>\n",
       "      <td>5000000.0</td>\n",
       "      <td>7.378</td>\n",
       "      <td>201.0</td>\n",
       "      <td>5262.0</td>\n",
       "      <td>4785.0</td>\n",
       "      <td>128.0</td>\n",
       "      <td>325.0</td>\n",
       "      <td>61.0</td>\n",
       "      <td>33.0</td>\n",
       "      <td>60.0</td>\n",
       "    </tr>\n",
       "  </tbody>\n",
       "</table>\n",
       "</div>"
      ],
      "text/plain": [
       "     I1                                  I2    I3  P(IPO)  P(H)  P(L)  \\\n",
       "0  AATI  ADVANCED ANALOGIC TECHNOLOGIES INC  3674    10.0   9.5   8.5   \n",
       "1  ABPI     ACCENTIA BIOPHARMACEUTICALS INC  2834     8.0  10.0   8.0   \n",
       "2  ACAD          ACADIA PHARMACEUTICALS INC  2834     7.0  14.0  12.0   \n",
       "\n",
       "   P(1Day)     C1   C2    C3        C4          C5          C6      C7     T1  \\\n",
       "0    11.87  122.0  1.0  3.43  0.029074  40962052.0  10600000.0  51.345  470.0   \n",
       "1     7.25  259.0  0.0 -1.62 -0.013352  28869196.0   2400000.0  25.936  791.0   \n",
       "2     6.70   90.0  1.0 -1.24  0.020715  16845668.0   5000000.0   7.378  201.0   \n",
       "\n",
       "        T2       T3     T4      T5    S1     S2     S3  data_updated  \\\n",
       "0  12719.0  11560.0  301.0   690.0  62.0  117.0  139.0             0   \n",
       "1  21792.0  19585.0  510.0  1120.0  71.0  242.0  237.0             0   \n",
       "2   5262.0   4785.0  128.0   325.0  61.0   33.0   60.0             0   \n",
       "\n",
       "   P(IPO)_imputed  P(H)_imputed  P(L)_imputed  P(1Day)_imputed  C1_imputed  \\\n",
       "0            10.0           9.5           8.5            11.87       122.0   \n",
       "1             8.0          10.0           8.0             7.25       259.0   \n",
       "2             7.0          14.0          12.0             6.70        90.0   \n",
       "\n",
       "   C2_imputed  C3_imputed  C4_imputed  C5_imputed  C6_imputed  C7_imputed  \\\n",
       "0         1.0        3.43    0.029074  40962052.0  10600000.0      51.345   \n",
       "1         0.0       -1.62   -0.013352  28869196.0   2400000.0      25.936   \n",
       "2         1.0       -1.24    0.020715  16845668.0   5000000.0       7.378   \n",
       "\n",
       "   T1_imputed  T2_imputed  T3_imputed  T4_imputed  T5_imputed  S1_imputed  \\\n",
       "0       470.0     12719.0     11560.0       301.0       690.0        62.0   \n",
       "1       791.0     21792.0     19585.0       510.0      1120.0        71.0   \n",
       "2       201.0      5262.0      4785.0       128.0       325.0        61.0   \n",
       "\n",
       "   S2_imputed  S3_imputed  \n",
       "0       117.0       139.0  \n",
       "1       242.0       237.0  \n",
       "2        33.0        60.0  "
      ]
     },
     "execution_count": 37,
     "metadata": {},
     "output_type": "execute_result"
    }
   ],
   "source": [
    "data_imputed.head(3)"
   ]
  },
  {
   "cell_type": "markdown",
   "metadata": {},
   "source": [
    "# Create Values Outlined in Data Dictionary\n",
    "- T1-T5 as ratios\n",
    "- S1-S3 as ratios\n",
    "- C3', C5', C6'\n",
    "- Y1, Y2\n",
    "- Any additional that seem reasonable\n",
    "\n",
    "Reference here: https://github.com/fairfield-university-ba545/project1-archana-s-team/blob/master/DataDictionary20190115.pdf"
   ]
  },
  {
   "cell_type": "code",
   "execution_count": 39,
   "metadata": {},
   "outputs": [],
   "source": [
    "# Example Ratio, divide the column with the number of words and columns with number of sentences to get words per sentence\n",
    "data_imputed['words_per_sentence_imputed'] = data_imputed.T2_imputed / data_imputed.T1_imputed\n",
    "data_imputed['real_word_per_imputed'] = data_imputed.T3_imputed / data_imputed.T2_imputed\n",
    "data_imputed['non_real_word_per_imputed'] = (data_imputed.T2_imputed - data_imputed.T3_imputed) / data_imputed.T2_imputed\n",
    "data_imputed['short_sentences_imputed'] = data_imputed.T1_imputed - data_imputed.T4_imputed\n",
    "data_imputed['short_sentences_per_imputed'] = data_imputed.short_sentences_imputed / data_imputed.T1_imputed\n",
    "data_imputed['long_sentences_per_imputed'] = data_imputed.T4_imputed / data_imputed.T1_imputed"
   ]
  },
  {
   "cell_type": "code",
   "execution_count": 40,
   "metadata": {},
   "outputs": [],
   "source": [
    "# Percentage of positive words by dividing count of positive words by total words\n",
    "data_imputed['pos_words_percent_imputed'] = data_imputed.S1_imputed / (data_imputed.S1_imputed + \n",
    "                                                                       data_imputed.S2_imputed + data_imputed.S3_imputed)\n",
    "data_imputed['neg_words_percent_imputed'] = data_imputed.S2_imputed / (data_imputed.S1_imputed + \n",
    "                                                                       data_imputed.S2_imputed + data_imputed.S3_imputed)\n",
    "data_imputed['uncertain_words_percent_imputed'] = data_imputed.S3_imputed / (data_imputed.S1_imputed + \n",
    "                                                                             data_imputed.S2_imputed + \n",
    "                                                                             data_imputed.S3_imputed)"
   ]
  },
  {
   "cell_type": "code",
   "execution_count": 41,
   "metadata": {},
   "outputs": [],
   "source": [
    "data_imputed['total_shares_imputed'] = data_imputed.C5_imputed + data_imputed.C6_imputed\n",
    "data_imputed['sales_per_share_imputed'] = data_imputed.C7_imputed/data_imputed.total_shares_imputed"
   ]
  },
  {
   "cell_type": "code",
   "execution_count": 43,
   "metadata": {},
   "outputs": [],
   "source": [
    "data_imputed['C3\\'_imputed'] = data_imputed.C3_imputed.apply(lambda x: 1 if x>0 else 0)\n",
    "data_imputed['C5\\'_imputed'] = data_imputed['C5_imputed']/ data_imputed['C6_imputed']\n",
    "data_imputed['P(mid)'] = (data_imputed['P(H)'] + data_imputed['P(L)'])/2\n",
    "data_imputed['C6\\'_imputed'] = (data_imputed['P(IPO)'] - data_imputed['P(mid)'])/data_imputed['P(mid)']*100\n",
    "data_imputed['Y1'] = data_imputed.apply(lambda row: 1 if row['P(IPO)'] < row['P(mid)'] else 0, axis = 1)\n",
    "data_imputed['Y2'] = data_imputed.apply(lambda row: 1 if row['P(IPO)'] < row['P(1Day)'] else 0, axis = 1)"
   ]
  },
  {
   "cell_type": "markdown",
   "metadata": {},
   "source": [
    "SIC codes classified as follows, can be used for binning"
   ]
  },
  {
   "cell_type": "markdown",
   "metadata": {},
   "source": [
    "<table class=\"wikitable sortable jquery-tablesorter\">\n",
    "\n",
    "<thead><tr>\n",
    "<th class=\"headerSort\" tabindex=\"0\" role=\"columnheader button\" title=\"Sort ascending\">Range of SIC Codes\n",
    "</th>\n",
    "<th class=\"headerSort\" tabindex=\"0\" role=\"columnheader button\" title=\"Sort ascending\">Division\n",
    "</th></tr></thead><tbody>\n",
    "<tr>\n",
    "<td>0100-0999\n",
    "</td>\n",
    "<td>Agriculture, Forestry and Fishing\n",
    "</td></tr>\n",
    "<tr>\n",
    "<td>1000-1499\n",
    "</td>\n",
    "<td>Mining\n",
    "</td></tr>\n",
    "<tr>\n",
    "<td>1500-1799\n",
    "</td>\n",
    "<td>Construction\n",
    "</td></tr>\n",
    "<tr>\n",
    "<td>1800-1999\n",
    "</td>\n",
    "<td>not used\n",
    "</td></tr>\n",
    "<tr>\n",
    "<td>2000-3999\n",
    "</td>\n",
    "<td>Manufacturing\n",
    "</td></tr>\n",
    "<tr>\n",
    "<td>4000-4999\n",
    "</td>\n",
    "<td>Transportation, Communications, Electric, Gas and Sanitary service\n",
    "</td></tr>\n",
    "<tr>\n",
    "<td>5000-5199\n",
    "</td>\n",
    "<td>Wholesale Trade\n",
    "</td></tr>\n",
    "<tr>\n",
    "<td>5200-5999\n",
    "</td>\n",
    "<td>Retail Trade\n",
    "</td></tr>\n",
    "<tr>\n",
    "<td>6000-6799\n",
    "</td>\n",
    "<td>Finance, Insurance and Real Estate\n",
    "</td></tr>\n",
    "<tr>\n",
    "<td>7000-8999\n",
    "</td>\n",
    "<td>Services\n",
    "</td></tr>\n",
    "<tr>\n",
    "<td>9100-9729\n",
    "</td>\n",
    "<td>Public Administration\n",
    "</td></tr>\n",
    "<tr>\n",
    "<td>9900-9999\n",
    "</td>\n",
    "<td>Nonclassifiable\n",
    "</td></tr></tbody><tfoot></tfoot></table>"
   ]
  },
  {
   "cell_type": "code",
   "execution_count": 45,
   "metadata": {},
   "outputs": [],
   "source": [
    "def bin_sic(val):\n",
    "    try:\n",
    "        val = int(val)\n",
    "    except Exception as e:\n",
    "        return 'Other'\n",
    "    if val <= 999:\n",
    "        return 'Agriculture, Forestry and Fishing'\n",
    "    if val <= 1499:\n",
    "        return 'Mining'\n",
    "    if val <= 1799:\n",
    "        return 'Construction'\n",
    "    if val <= 1999:\n",
    "        return 'Other'\n",
    "    if val <= 3999:\n",
    "        return 'Manufacturing'\n",
    "    if val <= 4999:\n",
    "        return 'Transportation, Communications, Electric, Gas and Sanitary service'\n",
    "    if val <= 5199:\n",
    "        return 'Wholesale Trade'\n",
    "    if val <= 5999:\n",
    "        return 'Retail Trade'\n",
    "    if val <= 6799:\n",
    "        return 'Finance, Insurance and Real Estate'\n",
    "    if val <= 8999:\n",
    "        return 'Services'\n",
    "    if val <= 9729:\n",
    "        return 'Public Administration'\n",
    "    return 'Other'"
   ]
  },
  {
   "cell_type": "code",
   "execution_count": 46,
   "metadata": {},
   "outputs": [],
   "source": [
    "data_imputed['industry_bin'] = data_imputed['I3'].apply(bin_sic)\n",
    "data_imputed['industry_bin'] = data_imputed['industry_bin'].astype('category')"
   ]
  },
  {
   "cell_type": "markdown",
   "metadata": {},
   "source": [
    "# Normality Part 2\n",
    "\n",
    "- Histogram\n",
    "- Shapiro test for normality: a p-value of lower than 0.05 implies non-normal values"
   ]
  },
  {
   "cell_type": "code",
   "execution_count": 47,
   "metadata": {},
   "outputs": [],
   "source": [
    "def check_normal_by_hist(df, col):\n",
    "    '''\n",
    "    Creates a histogram to view values to check normality\n",
    "    \n",
    "    params:\n",
    "    df - DataFrame\n",
    "    col - Columns of DataFrame you want to test\n",
    "    \n",
    "    return:\n",
    "    Void, however will print a histogram\n",
    "    \n",
    "    '''\n",
    "    df[col].hist()\n",
    "    plt.title(col)\n",
    "    plt.show()\n",
    "    \n",
    "def check_normal_by_shapiro(df, col):\n",
    "    '''\n",
    "    Runs the Shapiro normality test on the values from a dataframe\n",
    "    \n",
    "    params:\n",
    "    df - DataFrame\n",
    "    col - Columns of DataFrame you want to test\n",
    "    \n",
    "    return:\n",
    "    tuple - (Test Statistic, p-value)\n",
    "    \n",
    "    A p-value lower than 0.05 implies the values are NOT normal\n",
    "    \n",
    "    '''\n",
    "    \n",
    "    return shapiro(df[col].values)\n",
    "\n",
    "def check_skew(df, col):\n",
    "    return skew(df[col])\n",
    "\n",
    "def bad_skew(df, col_list):\n",
    "    bad_ones = []\n",
    "    skews = []\n",
    "    for i in col_list:\n",
    "        skw = skew(df[i])\n",
    "        if (skw > 0.5) or (skw < -0.5):\n",
    "            bad_ones.append(i)\n",
    "            skews.append(skw)\n",
    "    return bad_ones, skews"
   ]
  },
  {
   "cell_type": "code",
   "execution_count": 48,
   "metadata": {},
   "outputs": [
    {
     "data": {
      "image/png": "[encoded data removed]",
      "text/plain": [
       "<Figure size 432x288 with 1 Axes>"
      ]
     },
     "metadata": {
      "needs_background": "light"
     },
     "output_type": "display_data"
    },
    {
     "name": "stdout",
     "output_type": "stream",
     "text": [
      "(0.8102320432662964, 1.4996843809499167e-27)\n",
      "skew is 3.3950175252664994\n"
     ]
    },
    {
     "data": {
      "image/png": "[encoded data removed]",
      "text/plain": [
       "<Figure size 432x288 with 1 Axes>"
      ]
     },
     "metadata": {
      "needs_background": "light"
     },
     "output_type": "display_data"
    },
    {
     "name": "stdout",
     "output_type": "stream",
     "text": [
      "(0.5686391592025757, 6.86919309808954e-38)\n",
      "skew is 9.464541685647873\n"
     ]
    },
    {
     "data": {
      "image/png": "[encoded data removed]",
      "text/plain": [
       "<Figure size 432x288 with 1 Axes>"
      ]
     },
     "metadata": {
      "needs_background": "light"
     },
     "output_type": "display_data"
    },
    {
     "name": "stdout",
     "output_type": "stream",
     "text": [
      "(0.6496447324752808, 4.1608080435856374e-35)\n",
      "skew is 7.159331151261171\n"
     ]
    },
    {
     "data": {
      "image/png": "[encoded data removed]",
      "text/plain": [
       "<Figure size 432x288 with 1 Axes>"
      ]
     },
     "metadata": {
      "needs_background": "light"
     },
     "output_type": "display_data"
    },
    {
     "name": "stdout",
     "output_type": "stream",
     "text": [
      "(0.17979323863983154, 0.0)\n",
      "skew is 12.495039015655216\n"
     ]
    },
    {
     "data": {
      "image/png": "[encoded data removed]",
      "text/plain": [
       "<Figure size 432x288 with 1 Axes>"
      ]
     },
     "metadata": {
      "needs_background": "light"
     },
     "output_type": "display_data"
    },
    {
     "name": "stdout",
     "output_type": "stream",
     "text": [
      "(0.5366458892822266, 7.148707300171482e-39)\n",
      "skew is 5.72981096320028\n"
     ]
    },
    {
     "data": {
      "image/png": "[encoded data removed]",
      "text/plain": [
       "<Figure size 432x288 with 1 Axes>"
      ]
     },
     "metadata": {
      "needs_background": "light"
     },
     "output_type": "display_data"
    },
    {
     "name": "stdout",
     "output_type": "stream",
     "text": [
      "(0.40568774938583374, 2.1537957396672438e-42)\n",
      "skew is -2.1192517713040706\n"
     ]
    },
    {
     "data": {
      "image/png": "[encoded data removed]",
      "text/plain": [
       "<Figure size 432x288 with 1 Axes>"
      ]
     },
     "metadata": {
      "needs_background": "light"
     },
     "output_type": "display_data"
    },
    {
     "name": "stdout",
     "output_type": "stream",
     "text": [
      "(0.0666353702545166, 0.0)\n",
      "skew is 21.11220357833542\n"
     ]
    },
    {
     "data": {
      "image/png": "[encoded data removed]",
      "text/plain": [
       "<Figure size 432x288 with 1 Axes>"
      ]
     },
     "metadata": {
      "needs_background": "light"
     },
     "output_type": "display_data"
    },
    {
     "name": "stdout",
     "output_type": "stream",
     "text": [
      "(0.9848333597183228, 1.618549049453577e-06)\n",
      "skew is -0.48468727547433627\n"
     ]
    },
    {
     "data": {
      "image/png": "[encoded data removed]",
      "text/plain": [
       "<Figure size 432x288 with 1 Axes>"
      ]
     },
     "metadata": {
      "needs_background": "light"
     },
     "output_type": "display_data"
    },
    {
     "name": "stdout",
     "output_type": "stream",
     "text": [
      "(0.27015477418899536, 1.401298464324817e-45)\n",
      "skew is 13.631467843891096\n"
     ]
    },
    {
     "data": {
      "image/png": "[encoded data removed]",
      "text/plain": [
       "<Figure size 432x288 with 1 Axes>"
      ]
     },
     "metadata": {
      "needs_background": "light"
     },
     "output_type": "display_data"
    },
    {
     "name": "stdout",
     "output_type": "stream",
     "text": [
      "(0.2619563341140747, 1.401298464324817e-45)\n",
      "skew is 12.58693418968681\n"
     ]
    },
    {
     "data": {
      "image/png": "[encoded data removed]",
      "text/plain": [
       "<Figure size 432x288 with 1 Axes>"
      ]
     },
     "metadata": {
      "needs_background": "light"
     },
     "output_type": "display_data"
    },
    {
     "name": "stdout",
     "output_type": "stream",
     "text": [
      "(0.26462793350219727, 1.401298464324817e-45)\n",
      "skew is 12.355700256922756\n"
     ]
    },
    {
     "data": {
      "image/png": "[encoded data removed]",
      "text/plain": [
       "<Figure size 432x288 with 1 Axes>"
      ]
     },
     "metadata": {
      "needs_background": "light"
     },
     "output_type": "display_data"
    },
    {
     "name": "stdout",
     "output_type": "stream",
     "text": [
      "(0.9009252786636353, 1.368564022679162e-20)\n",
      "skew is 1.7399411075754017\n"
     ]
    },
    {
     "data": {
      "image/png": "[encoded data removed]",
      "text/plain": [
       "<Figure size 432x288 with 1 Axes>"
      ]
     },
     "metadata": {
      "needs_background": "light"
     },
     "output_type": "display_data"
    },
    {
     "name": "stdout",
     "output_type": "stream",
     "text": [
      "(0.8983656167984009, 7.645945441318744e-21)\n",
      "skew is 1.7212580017911832\n"
     ]
    },
    {
     "data": {
      "image/png": "[encoded data removed]",
      "text/plain": [
       "<Figure size 432x288 with 1 Axes>"
      ]
     },
     "metadata": {
      "needs_background": "light"
     },
     "output_type": "display_data"
    },
    {
     "name": "stdout",
     "output_type": "stream",
     "text": [
      "(0.907270610332489, 6.089528539970076e-20)\n",
      "skew is 1.6319601611171242\n"
     ]
    },
    {
     "data": {
      "image/png": "[encoded data removed]",
      "text/plain": [
       "<Figure size 432x288 with 1 Axes>"
      ]
     },
     "metadata": {
      "needs_background": "light"
     },
     "output_type": "display_data"
    },
    {
     "name": "stdout",
     "output_type": "stream",
     "text": [
      "(0.9238683581352234, 4.468599654627335e-18)\n",
      "skew is 1.4197739671875498\n"
     ]
    },
    {
     "data": {
      "image/png": "[encoded data removed]",
      "text/plain": [
       "<Figure size 432x288 with 1 Axes>"
      ]
     },
     "metadata": {
      "needs_background": "light"
     },
     "output_type": "display_data"
    },
    {
     "name": "stdout",
     "output_type": "stream",
     "text": [
      "(0.4630507230758667, 6.139789221439186e-41)\n",
      "skew is 12.744150646180715\n"
     ]
    },
    {
     "data": {
      "image/png": "[encoded data removed]",
      "text/plain": [
       "<Figure size 432x288 with 1 Axes>"
      ]
     },
     "metadata": {
      "needs_background": "light"
     },
     "output_type": "display_data"
    },
    {
     "name": "stdout",
     "output_type": "stream",
     "text": [
      "(0.8290369510650635, 2.3243957594916174e-26)\n",
      "skew is 2.306986338155954\n"
     ]
    },
    {
     "data": {
      "image/png": "[encoded data removed]",
      "text/plain": [
       "<Figure size 432x288 with 1 Axes>"
      ]
     },
     "metadata": {
      "needs_background": "light"
     },
     "output_type": "display_data"
    },
    {
     "name": "stdout",
     "output_type": "stream",
     "text": [
      "(0.7089569568634033, 1.0155094962069773e-32)\n",
      "skew is 3.729074713680402\n"
     ]
    },
    {
     "data": {
      "image/png": "[encoded data removed]",
      "text/plain": [
       "<Figure size 432x288 with 1 Axes>"
      ]
     },
     "metadata": {
      "needs_background": "light"
     },
     "output_type": "display_data"
    },
    {
     "name": "stdout",
     "output_type": "stream",
     "text": [
      "(0.7924658060073853, 1.3583232415548324e-28)\n",
      "skew is 3.4322138412855754\n"
     ]
    }
   ],
   "source": [
    "for i in [j for j in data_imputed if 'imputed' in j][:19]:\n",
    "    check_normal_by_hist(data_imputed, i)\n",
    "    print(check_normal_by_shapiro(data_imputed, i))\n",
    "    print('skew is ' + str(check_skew(data_imputed, i)))"
   ]
  },
  {
   "cell_type": "code",
   "execution_count": 49,
   "metadata": {},
   "outputs": [],
   "source": [
    "for i in [j for j in data_imputed if 'standardized' in j]:\n",
    "    check_normal_by_hist(data_imputed, i)\n",
    "    print(check_normal_by_shapiro(data_imputed, i))\n",
    "    print('skew is ' + str(check_skew(data_imputed, i)))"
   ]
  },
  {
   "cell_type": "markdown",
   "metadata": {},
   "source": [
    "IQR Standardized look ALOT better than the others"
   ]
  },
  {
   "cell_type": "code",
   "execution_count": 51,
   "metadata": {},
   "outputs": [
    {
     "data": {
      "text/plain": [
       "([], [])"
      ]
     },
     "execution_count": 51,
     "metadata": {},
     "output_type": "execute_result"
    }
   ],
   "source": [
    "bad_skew(data_imputed, [j for j in data_imputed if 'standardized' in j])"
   ]
  },
  {
   "cell_type": "markdown",
   "metadata": {},
   "source": [
    "# New Columns with Normalized values of non-normal fields\n",
    "- Try applying squaring, log(), square root, 1/x function\n",
    "- Leverage Histograms and Shapiro-Wilk test"
   ]
  },
  {
   "cell_type": "code",
   "execution_count": 57,
   "metadata": {},
   "outputs": [],
   "source": [
    "def normalize_log(col_vals):\n",
    "    return np.log(col_vals + min(col_vals))\n",
    "\n",
    "def normalize_sqrt(col_vals):\n",
    "    if min(col_vals) < 0:\n",
    "        print('Can\\'t sqrt with negative values')\n",
    "        return\n",
    "    return np.sqrt(col_vals)\n",
    "\n",
    "def normalize_recip_sqrt(col_vals):\n",
    "    if min(col_vals) < 0:\n",
    "        print('Can\\'t sqrt with negative values')\n",
    "        return\n",
    "    return 1/np.sqrt(col_vals)\n",
    "\n",
    "def normalize_sigmoid(col_vals):\n",
    "    return [1/(1+np.e**(-i)) for i in col_vals]\n",
    "\n",
    "def normalize_div(col_vals):\n",
    "    return 1/col_vals\n",
    "\n",
    "def normalize_log_div(col_vals):\n",
    "    return 1/np.log(col_vals + min(col_vals))\n",
    "\n",
    "def normalize_shift_left(col_vals):\n",
    "    return col_vals - len(col_vals)\n",
    "\n",
    "def normalize_shift_right(col_vals):\n",
    "    return col_vals + len(col_vals)\n",
    "\n",
    "def normalize_by_power(col_vals):\n",
    "    return [i**2 for i in col_vals]\n",
    "\n",
    "def normalize_by_e(col_vals):\n",
    "    return [np.e **(i + min(col_vals)) for i in col_vals]\n",
    "\n",
    "def normalize_data(df, col, normalize_function = None):\n",
    "    '''\n",
    "    Given a dataframe, column, and type of normalization, attempt to make the field normal.\n",
    "    \n",
    "    params:\n",
    "    df - dataframe\n",
    "    col - string - column to normalize\n",
    "    normalize_function - function - type of normalization to perform. If blank then all will be performed and compared.\n",
    "        options are functions above\n",
    "        \n",
    "    '''\n",
    "    \n",
    "    if normalize_function is not None:\n",
    "        try:\n",
    "            new_vals = normalize_function(df[col].values)\n",
    "            p_val = shapiro(new_vals)[1]\n",
    "            valid = 'Normal' if p_val > 0.05 else 'Non-Normal'\n",
    "            print('Shapiro Test says given function made the data ' + valid +' with a p-value of ' + str(p_val))\n",
    "            if p_val > 0.05:\n",
    "                plt.hist(new_vals)\n",
    "                return True\n",
    "            else:\n",
    "                return False\n",
    "        except Exception as e:\n",
    "            print(e)    "
   ]
  },
  {
   "cell_type": "code",
   "execution_count": 61,
   "metadata": {},
   "outputs": [
    {
     "data": {
      "text/plain": [
       "[]"
      ]
     },
     "execution_count": 61,
     "metadata": {},
     "output_type": "execute_result"
    }
   ],
   "source": [
    "[j for j in data_imputed if 'standardized' in j]"
   ]
  },
  {
   "cell_type": "code",
   "execution_count": 64,
   "metadata": {},
   "outputs": [
    {
     "name": "stdout",
     "output_type": "stream",
     "text": [
      "'P(IPO)_imputed_standardized'\n"
     ]
    }
   ],
   "source": [
    "normalize_data(data_imputed, 'P(IPO)_imputed_standardized', normalize_div)\n"
   ]
  },
  {
   "cell_type": "code",
   "execution_count": 65,
   "metadata": {},
   "outputs": [
    {
     "name": "stdout",
     "output_type": "stream",
     "text": [
      "'P(IPO)_imputed_standardized'\n"
     ]
    }
   ],
   "source": [
    "normalize_data(data_imputed, 'P(IPO)_imputed_standardized', normalize_by_e)\n"
   ]
  },
  {
   "cell_type": "code",
   "execution_count": 66,
   "metadata": {},
   "outputs": [
    {
     "name": "stdout",
     "output_type": "stream",
     "text": [
      "'P(IPO)_imputed_standardized'\n"
     ]
    }
   ],
   "source": [
    "normalize_data(data_imputed, 'P(IPO)_imputed_standardized', normalize_div)\n"
   ]
  },
  {
   "cell_type": "markdown",
   "metadata": {},
   "source": [
    "# Z-Score (if normal)\n"
   ]
  },
  {
   "cell_type": "code",
   "execution_count": 67,
   "metadata": {},
   "outputs": [],
   "source": [
    "def z_score(df, col):\n",
    "    df[col + '_zscore'] = df[col].apply(zscore)"
   ]
  },
  {
   "cell_type": "markdown",
   "metadata": {},
   "source": [
    "Code For Z-Score\n",
    "\n",
    "Replace with proper dataframe once normalized"
   ]
  },
  {
   "cell_type": "code",
   "execution_count": 69,
   "metadata": {},
   "outputs": [
    {
     "name": "stdout",
     "output_type": "stream",
     "text": [
      "Column:  I1\n"
     ]
    },
    {
     "ename": "IndexError",
     "evalue": "tuple index out of range",
     "output_type": "error",
     "traceback": [
      "\u001b[0;31m---------------------------------------------------------------------------\u001b[0m",
      "\u001b[0;31mIndexError\u001b[0m                                Traceback (most recent call last)",
      "\u001b[0;32m<ipython-input-69-4cb9d53331f4>\u001b[0m in \u001b[0;36m<module>\u001b[0;34m\u001b[0m\n\u001b[1;32m      3\u001b[0m     \u001b[0mprint\u001b[0m\u001b[0;34m(\u001b[0m\u001b[0;34m\"Column: \"\u001b[0m\u001b[0;34m,\u001b[0m \u001b[0mcol\u001b[0m\u001b[0;34m)\u001b[0m\u001b[0;34m\u001b[0m\u001b[0;34m\u001b[0m\u001b[0m\n\u001b[1;32m      4\u001b[0m \u001b[0;34m\u001b[0m\u001b[0m\n\u001b[0;32m----> 5\u001b[0;31m     \u001b[0mz_score\u001b[0m\u001b[0;34m(\u001b[0m\u001b[0mdata_stand\u001b[0m\u001b[0;34m,\u001b[0m\u001b[0mcol\u001b[0m\u001b[0;34m)\u001b[0m\u001b[0;34m\u001b[0m\u001b[0;34m\u001b[0m\u001b[0m\n\u001b[0m\u001b[1;32m      6\u001b[0m     \u001b[0mprint\u001b[0m\u001b[0;34m(\u001b[0m\u001b[0mdata_stand\u001b[0m\u001b[0;34m[\u001b[0m\u001b[0mcol\u001b[0m \u001b[0;34m+\u001b[0m \u001b[0;34m'_zscore'\u001b[0m\u001b[0;34m]\u001b[0m\u001b[0;34m.\u001b[0m\u001b[0mhead\u001b[0m\u001b[0;34m(\u001b[0m\u001b[0;34m)\u001b[0m\u001b[0;34m)\u001b[0m\u001b[0;34m\u001b[0m\u001b[0;34m\u001b[0m\u001b[0m\n\u001b[1;32m      7\u001b[0m \u001b[0;34m\u001b[0m\u001b[0m\n",
      "\u001b[0;32m<ipython-input-67-ac518f3d3125>\u001b[0m in \u001b[0;36mz_score\u001b[0;34m(df, col)\u001b[0m\n\u001b[1;32m      1\u001b[0m \u001b[0;32mdef\u001b[0m \u001b[0mz_score\u001b[0m\u001b[0;34m(\u001b[0m\u001b[0mdf\u001b[0m\u001b[0;34m,\u001b[0m \u001b[0mcol\u001b[0m\u001b[0;34m)\u001b[0m\u001b[0;34m:\u001b[0m\u001b[0;34m\u001b[0m\u001b[0;34m\u001b[0m\u001b[0m\n\u001b[0;32m----> 2\u001b[0;31m     \u001b[0mdf\u001b[0m\u001b[0;34m[\u001b[0m\u001b[0mcol\u001b[0m \u001b[0;34m+\u001b[0m \u001b[0;34m'_zscore'\u001b[0m\u001b[0;34m]\u001b[0m \u001b[0;34m=\u001b[0m \u001b[0mdf\u001b[0m\u001b[0;34m[\u001b[0m\u001b[0mcol\u001b[0m\u001b[0;34m]\u001b[0m\u001b[0;34m.\u001b[0m\u001b[0mapply\u001b[0m\u001b[0;34m(\u001b[0m\u001b[0mzscore\u001b[0m\u001b[0;34m)\u001b[0m\u001b[0;34m\u001b[0m\u001b[0;34m\u001b[0m\u001b[0m\n\u001b[0m",
      "\u001b[0;32m/opt/tljh/user/lib/python3.6/site-packages/pandas/core/series.py\u001b[0m in \u001b[0;36mapply\u001b[0;34m(self, func, convert_dtype, args, **kwds)\u001b[0m\n\u001b[1;32m   4043\u001b[0m             \u001b[0;32melse\u001b[0m\u001b[0;34m:\u001b[0m\u001b[0;34m\u001b[0m\u001b[0;34m\u001b[0m\u001b[0m\n\u001b[1;32m   4044\u001b[0m                 \u001b[0mvalues\u001b[0m \u001b[0;34m=\u001b[0m \u001b[0mself\u001b[0m\u001b[0;34m.\u001b[0m\u001b[0mastype\u001b[0m\u001b[0;34m(\u001b[0m\u001b[0mobject\u001b[0m\u001b[0;34m)\u001b[0m\u001b[0;34m.\u001b[0m\u001b[0mvalues\u001b[0m\u001b[0;34m\u001b[0m\u001b[0;34m\u001b[0m\u001b[0m\n\u001b[0;32m-> 4045\u001b[0;31m                 \u001b[0mmapped\u001b[0m \u001b[0;34m=\u001b[0m \u001b[0mlib\u001b[0m\u001b[0;34m.\u001b[0m\u001b[0mmap_infer\u001b[0m\u001b[0;34m(\u001b[0m\u001b[0mvalues\u001b[0m\u001b[0;34m,\u001b[0m \u001b[0mf\u001b[0m\u001b[0;34m,\u001b[0m \u001b[0mconvert\u001b[0m\u001b[0;34m=\u001b[0m\u001b[0mconvert_dtype\u001b[0m\u001b[0;34m)\u001b[0m\u001b[0;34m\u001b[0m\u001b[0;34m\u001b[0m\u001b[0m\n\u001b[0m\u001b[1;32m   4046\u001b[0m \u001b[0;34m\u001b[0m\u001b[0m\n\u001b[1;32m   4047\u001b[0m         \u001b[0;32mif\u001b[0m \u001b[0mlen\u001b[0m\u001b[0;34m(\u001b[0m\u001b[0mmapped\u001b[0m\u001b[0;34m)\u001b[0m \u001b[0;32mand\u001b[0m \u001b[0misinstance\u001b[0m\u001b[0;34m(\u001b[0m\u001b[0mmapped\u001b[0m\u001b[0;34m[\u001b[0m\u001b[0;36m0\u001b[0m\u001b[0;34m]\u001b[0m\u001b[0;34m,\u001b[0m \u001b[0mSeries\u001b[0m\u001b[0;34m)\u001b[0m\u001b[0;34m:\u001b[0m\u001b[0;34m\u001b[0m\u001b[0;34m\u001b[0m\u001b[0m\n",
      "\u001b[0;32mpandas/_libs/lib.pyx\u001b[0m in \u001b[0;36mpandas._libs.lib.map_infer\u001b[0;34m()\u001b[0m\n",
      "\u001b[0;32m/opt/tljh/user/lib/python3.6/site-packages/scipy/stats/stats.py\u001b[0m in \u001b[0;36mzscore\u001b[0;34m(a, axis, ddof, nan_policy)\u001b[0m\n\u001b[1;32m   2414\u001b[0m         \u001b[0msstd\u001b[0m \u001b[0;34m=\u001b[0m \u001b[0mnp\u001b[0m\u001b[0;34m.\u001b[0m\u001b[0mnanstd\u001b[0m\u001b[0;34m(\u001b[0m\u001b[0ma\u001b[0m\u001b[0;34m=\u001b[0m\u001b[0ma\u001b[0m\u001b[0;34m,\u001b[0m \u001b[0maxis\u001b[0m\u001b[0;34m=\u001b[0m\u001b[0maxis\u001b[0m\u001b[0;34m,\u001b[0m \u001b[0mddof\u001b[0m\u001b[0;34m=\u001b[0m\u001b[0mddof\u001b[0m\u001b[0;34m,\u001b[0m \u001b[0mkeepdims\u001b[0m\u001b[0;34m=\u001b[0m\u001b[0;32mTrue\u001b[0m\u001b[0;34m)\u001b[0m\u001b[0;34m\u001b[0m\u001b[0;34m\u001b[0m\u001b[0m\n\u001b[1;32m   2415\u001b[0m     \u001b[0;32melse\u001b[0m\u001b[0;34m:\u001b[0m\u001b[0;34m\u001b[0m\u001b[0;34m\u001b[0m\u001b[0m\n\u001b[0;32m-> 2416\u001b[0;31m         \u001b[0mmns\u001b[0m \u001b[0;34m=\u001b[0m \u001b[0ma\u001b[0m\u001b[0;34m.\u001b[0m\u001b[0mmean\u001b[0m\u001b[0;34m(\u001b[0m\u001b[0maxis\u001b[0m\u001b[0;34m=\u001b[0m\u001b[0maxis\u001b[0m\u001b[0;34m,\u001b[0m \u001b[0mkeepdims\u001b[0m\u001b[0;34m=\u001b[0m\u001b[0;32mTrue\u001b[0m\u001b[0;34m)\u001b[0m\u001b[0;34m\u001b[0m\u001b[0;34m\u001b[0m\u001b[0m\n\u001b[0m\u001b[1;32m   2417\u001b[0m         \u001b[0msstd\u001b[0m \u001b[0;34m=\u001b[0m \u001b[0ma\u001b[0m\u001b[0;34m.\u001b[0m\u001b[0mstd\u001b[0m\u001b[0;34m(\u001b[0m\u001b[0maxis\u001b[0m\u001b[0;34m=\u001b[0m\u001b[0maxis\u001b[0m\u001b[0;34m,\u001b[0m \u001b[0mddof\u001b[0m\u001b[0;34m=\u001b[0m\u001b[0mddof\u001b[0m\u001b[0;34m,\u001b[0m \u001b[0mkeepdims\u001b[0m\u001b[0;34m=\u001b[0m\u001b[0;32mTrue\u001b[0m\u001b[0;34m)\u001b[0m\u001b[0;34m\u001b[0m\u001b[0;34m\u001b[0m\u001b[0m\n\u001b[1;32m   2418\u001b[0m \u001b[0;34m\u001b[0m\u001b[0m\n",
      "\u001b[0;32m/opt/tljh/user/lib/python3.6/site-packages/numpy/core/_methods.py\u001b[0m in \u001b[0;36m_mean\u001b[0;34m(a, axis, dtype, out, keepdims)\u001b[0m\n\u001b[1;32m    136\u001b[0m \u001b[0;34m\u001b[0m\u001b[0m\n\u001b[1;32m    137\u001b[0m     \u001b[0mis_float16_result\u001b[0m \u001b[0;34m=\u001b[0m \u001b[0;32mFalse\u001b[0m\u001b[0;34m\u001b[0m\u001b[0;34m\u001b[0m\u001b[0m\n\u001b[0;32m--> 138\u001b[0;31m     \u001b[0mrcount\u001b[0m \u001b[0;34m=\u001b[0m \u001b[0m_count_reduce_items\u001b[0m\u001b[0;34m(\u001b[0m\u001b[0marr\u001b[0m\u001b[0;34m,\u001b[0m \u001b[0maxis\u001b[0m\u001b[0;34m)\u001b[0m\u001b[0;34m\u001b[0m\u001b[0;34m\u001b[0m\u001b[0m\n\u001b[0m\u001b[1;32m    139\u001b[0m     \u001b[0;31m# Make this warning show up first\u001b[0m\u001b[0;34m\u001b[0m\u001b[0;34m\u001b[0m\u001b[0;34m\u001b[0m\u001b[0m\n\u001b[1;32m    140\u001b[0m     \u001b[0;32mif\u001b[0m \u001b[0mrcount\u001b[0m \u001b[0;34m==\u001b[0m \u001b[0;36m0\u001b[0m\u001b[0;34m:\u001b[0m\u001b[0;34m\u001b[0m\u001b[0;34m\u001b[0m\u001b[0m\n",
      "\u001b[0;32m/opt/tljh/user/lib/python3.6/site-packages/numpy/core/_methods.py\u001b[0m in \u001b[0;36m_count_reduce_items\u001b[0;34m(arr, axis)\u001b[0m\n\u001b[1;32m     55\u001b[0m     \u001b[0mitems\u001b[0m \u001b[0;34m=\u001b[0m \u001b[0;36m1\u001b[0m\u001b[0;34m\u001b[0m\u001b[0;34m\u001b[0m\u001b[0m\n\u001b[1;32m     56\u001b[0m     \u001b[0;32mfor\u001b[0m \u001b[0max\u001b[0m \u001b[0;32min\u001b[0m \u001b[0maxis\u001b[0m\u001b[0;34m:\u001b[0m\u001b[0;34m\u001b[0m\u001b[0;34m\u001b[0m\u001b[0m\n\u001b[0;32m---> 57\u001b[0;31m         \u001b[0mitems\u001b[0m \u001b[0;34m*=\u001b[0m \u001b[0marr\u001b[0m\u001b[0;34m.\u001b[0m\u001b[0mshape\u001b[0m\u001b[0;34m[\u001b[0m\u001b[0max\u001b[0m\u001b[0;34m]\u001b[0m\u001b[0;34m\u001b[0m\u001b[0;34m\u001b[0m\u001b[0m\n\u001b[0m\u001b[1;32m     58\u001b[0m     \u001b[0;32mreturn\u001b[0m \u001b[0mitems\u001b[0m\u001b[0;34m\u001b[0m\u001b[0;34m\u001b[0m\u001b[0m\n\u001b[1;32m     59\u001b[0m \u001b[0;34m\u001b[0m\u001b[0m\n",
      "\u001b[0;31mIndexError\u001b[0m: tuple index out of range"
     ]
    }
   ],
   "source": [
    "data_stand = data_imputed.copy() \n",
    "for col in data_stand.columns:\n",
    "    print(\"Column: \", col)\n",
    "    \n",
    "    z_score(data_stand,col)\n",
    "    print(data_stand[col + '_zscore'].head())\n",
    "    \n",
    "data_stand.drop(data.columns, axis=1)"
   ]
  },
  {
   "cell_type": "markdown",
   "metadata": {},
   "source": [
    "# Standard Dev Standardization"
   ]
  },
  {
   "cell_type": "code",
   "execution_count": 70,
   "metadata": {},
   "outputs": [
    {
     "name": "stdout",
     "output_type": "stream",
     "text": [
      "Column:  P(IPO)\n"
     ]
    },
    {
     "data": {
      "image/png": "[encoded data removed]",
      "text/plain": [
       "<Figure size 432x288 with 1 Axes>"
      ]
     },
     "metadata": {
      "needs_background": "light"
     },
     "output_type": "display_data"
    },
    {
     "name": "stdout",
     "output_type": "stream",
     "text": [
      "outliers low value < -4.323527564203351\n",
      "outlier low count:  0\n",
      "outliers high value > 31.9988599128001\n",
      "outlier high count:  8\n",
      "\n",
      "\n",
      "Column:  P(H)\n"
     ]
    },
    {
     "data": {
      "image/png": "[encoded data removed]",
      "text/plain": [
       "<Figure size 432x288 with 1 Axes>"
      ]
     },
     "metadata": {
      "needs_background": "light"
     },
     "output_type": "display_data"
    },
    {
     "name": "stdout",
     "output_type": "stream",
     "text": [
      "outliers low value < -4.333270347970581\n",
      "outlier low count:  0\n",
      "outliers high value > 35.37912109423924\n",
      "outlier high count:  7\n",
      "\n",
      "\n",
      "Column:  P(L)\n"
     ]
    },
    {
     "data": {
      "image/png": "[encoded data removed]",
      "text/plain": [
       "<Figure size 432x288 with 1 Axes>"
      ]
     },
     "metadata": {
      "needs_background": "light"
     },
     "output_type": "display_data"
    },
    {
     "name": "stdout",
     "output_type": "stream",
     "text": [
      "outliers low value < -3.9919186055506994\n",
      "outlier low count:  0\n",
      "outliers high value > 31.045978307043235\n",
      "outlier high count:  7\n",
      "\n",
      "\n",
      "Column:  P(1Day)\n"
     ]
    },
    {
     "data": {
      "image/png": "[encoded data removed]",
      "text/plain": [
       "<Figure size 432x288 with 1 Axes>"
      ]
     },
     "metadata": {
      "needs_background": "light"
     },
     "output_type": "display_data"
    },
    {
     "name": "stdout",
     "output_type": "stream",
     "text": [
      "outliers low value < -193.77007737082823\n",
      "outlier low count:  0\n",
      "outliers high value > 245.63960966954545\n",
      "outlier high count:  7\n",
      "\n",
      "\n",
      "Column:  C1\n"
     ]
    },
    {
     "data": {
      "image/png": "[encoded data removed]",
      "text/plain": [
       "<Figure size 432x288 with 1 Axes>"
      ]
     },
     "metadata": {
      "needs_background": "light"
     },
     "output_type": "display_data"
    },
    {
     "name": "stdout",
     "output_type": "stream",
     "text": [
      "outliers low value < -308.72361320842344\n",
      "outlier low count:  0\n",
      "outliers high value > 608.1811889659992\n",
      "outlier high count:  15\n",
      "\n",
      "\n",
      "Column:  C2\n"
     ]
    },
    {
     "data": {
      "image/png": "[encoded data removed]",
      "text/plain": [
       "<Figure size 432x288 with 1 Axes>"
      ]
     },
     "metadata": {
      "needs_background": "light"
     },
     "output_type": "display_data"
    },
    {
     "name": "stdout",
     "output_type": "stream",
     "text": [
      "outliers low value < -0.1854839845914531\n",
      "outlier low count:  0\n",
      "outliers high value > 1.9036658027732714\n",
      "outlier high count:  0\n",
      "\n",
      "\n",
      "Column:  C3\n"
     ]
    },
    {
     "data": {
      "image/png": "[encoded data removed]",
      "text/plain": [
       "<Figure size 432x288 with 1 Axes>"
      ]
     },
     "metadata": {
      "needs_background": "light"
     },
     "output_type": "display_data"
    },
    {
     "name": "stdout",
     "output_type": "stream",
     "text": [
      "outliers low value < -486.21069148307134\n",
      "outlier low count:  2\n",
      "outliers high value > 489.788499532607\n",
      "outlier high count:  2\n",
      "\n",
      "\n",
      "Column:  C4\n"
     ]
    },
    {
     "data": {
      "image/png": "[encoded data removed]",
      "text/plain": [
       "<Figure size 432x288 with 1 Axes>"
      ]
     },
     "metadata": {
      "needs_background": "light"
     },
     "output_type": "display_data"
    },
    {
     "name": "stdout",
     "output_type": "stream",
     "text": [
      "outliers low value < -0.09267073079434433\n",
      "outlier low count:  2\n",
      "outliers high value > 0.10723513361722141\n",
      "outlier high count:  0\n",
      "\n",
      "\n",
      "Column:  C5\n"
     ]
    },
    {
     "data": {
      "image/png": "[encoded data removed]",
      "text/plain": [
       "<Figure size 432x288 with 1 Axes>"
      ]
     },
     "metadata": {
      "needs_background": "light"
     },
     "output_type": "display_data"
    },
    {
     "name": "stdout",
     "output_type": "stream",
     "text": [
      "outliers low value < -263771547.09439728\n",
      "outlier low count:  0\n",
      "outliers high value > 362487065.78374636\n",
      "outlier high count:  4\n",
      "\n",
      "\n",
      "Column:  C6\n"
     ]
    },
    {
     "data": {
      "image/png": "[encoded data removed]",
      "text/plain": [
       "<Figure size 432x288 with 1 Axes>"
      ]
     },
     "metadata": {
      "needs_background": "light"
     },
     "output_type": "display_data"
    },
    {
     "name": "stdout",
     "output_type": "stream",
     "text": [
      "outliers low value < -62970469.94487368\n",
      "outlier low count:  0\n",
      "outliers high value > 87800858.40345356\n",
      "outlier high count:  5\n",
      "\n",
      "\n",
      "Column:  C7\n"
     ]
    },
    {
     "data": {
      "image/png": "[encoded data removed]",
      "text/plain": [
       "<Figure size 432x288 with 1 Axes>"
      ]
     },
     "metadata": {
      "needs_background": "light"
     },
     "output_type": "display_data"
    },
    {
     "name": "stdout",
     "output_type": "stream",
     "text": [
      "outliers low value < -4444.552940625089\n",
      "outlier low count:  0\n",
      "outliers high value > 5445.472865215253\n",
      "outlier high count:  7\n",
      "\n",
      "\n",
      "Column:  T1\n"
     ]
    },
    {
     "data": {
      "image/png": "[encoded data removed]",
      "text/plain": [
       "<Figure size 432x288 with 1 Axes>"
      ]
     },
     "metadata": {
      "needs_background": "light"
     },
     "output_type": "display_data"
    },
    {
     "name": "stdout",
     "output_type": "stream",
     "text": [
      "outliers low value < -61.0485029271112\n",
      "outlier low count:  0\n",
      "outliers high value > 992.963208809464\n",
      "outlier high count:  9\n",
      "\n",
      "\n",
      "Column:  T2\n"
     ]
    },
    {
     "data": {
      "image/png": "[encoded data removed]",
      "text/plain": [
       "<Figure size 432x288 with 1 Axes>"
      ]
     },
     "metadata": {
      "needs_background": "light"
     },
     "output_type": "display_data"
    },
    {
     "name": "stdout",
     "output_type": "stream",
     "text": [
      "outliers low value < -3376.058524608612\n",
      "outlier low count:  0\n",
      "outliers high value > 29004.624896290028\n",
      "outlier high count:  8\n",
      "\n",
      "\n",
      "Column:  T3\n"
     ]
    },
    {
     "data": {
      "image/png": "[encoded data removed]",
      "text/plain": [
       "<Figure size 432x288 with 1 Axes>"
      ]
     },
     "metadata": {
      "needs_background": "light"
     },
     "output_type": "display_data"
    },
    {
     "name": "stdout",
     "output_type": "stream",
     "text": [
      "outliers low value < -3122.0905350412286\n",
      "outlier low count:  0\n",
      "outliers high value > 25877.836847725594\n",
      "outlier high count:  9\n",
      "\n",
      "\n",
      "Column:  T4\n"
     ]
    },
    {
     "data": {
      "image/png": "[encoded data removed]",
      "text/plain": [
       "<Figure size 432x288 with 1 Axes>"
      ]
     },
     "metadata": {
      "needs_background": "light"
     },
     "output_type": "display_data"
    },
    {
     "name": "stdout",
     "output_type": "stream",
     "text": [
      "outliers low value < -70.53467848427653\n",
      "outlier low count:  0\n",
      "outliers high value > 659.0640902489824\n",
      "outlier high count:  9\n",
      "\n",
      "\n",
      "Column:  T5\n"
     ]
    },
    {
     "data": {
      "image/png": "[encoded data removed]",
      "text/plain": [
       "<Figure size 432x288 with 1 Axes>"
      ]
     },
     "metadata": {
      "needs_background": "light"
     },
     "output_type": "display_data"
    },
    {
     "name": "stdout",
     "output_type": "stream",
     "text": [
      "outliers low value < -739.5227059391386\n",
      "outlier low count:  0\n",
      "outliers high value > 2097.9632345735\n",
      "outlier high count:  4\n",
      "\n",
      "\n",
      "Column:  S1\n"
     ]
    },
    {
     "data": {
      "image/png": "[encoded data removed]",
      "text/plain": [
       "<Figure size 432x288 with 1 Axes>"
      ]
     },
     "metadata": {
      "needs_background": "light"
     },
     "output_type": "display_data"
    },
    {
     "name": "stdout",
     "output_type": "stream",
     "text": [
      "outliers low value < -48.86813737167449\n",
      "outlier low count:  0\n",
      "outliers high value > 185.71101549208566\n",
      "outlier high count:  14\n",
      "\n",
      "\n",
      "Column:  S2\n"
     ]
    },
    {
     "data": {
      "image/png": "[encoded data removed]",
      "text/plain": [
       "<Figure size 432x288 with 1 Axes>"
      ]
     },
     "metadata": {
      "needs_background": "light"
     },
     "output_type": "display_data"
    },
    {
     "name": "stdout",
     "output_type": "stream",
     "text": [
      "outliers low value < -134.3826196963994\n",
      "outlier low count:  0\n",
      "outliers high value > 374.5911365833304\n",
      "outlier high count:  13\n",
      "\n",
      "\n",
      "Column:  S3\n"
     ]
    },
    {
     "data": {
      "image/png": "[encoded data removed]",
      "text/plain": [
       "<Figure size 432x288 with 1 Axes>"
      ]
     },
     "metadata": {
      "needs_background": "light"
     },
     "output_type": "display_data"
    },
    {
     "name": "stdout",
     "output_type": "stream",
     "text": [
      "outliers low value < -63.06967776675194\n",
      "outlier low count:  0\n",
      "outliers high value > 352.58803312651696\n",
      "outlier high count:  6\n",
      "\n",
      "\n",
      "Column:  data_updated\n"
     ]
    },
    {
     "data": {
      "image/png": "[encoded data removed]",
      "text/plain": [
       "<Figure size 432x288 with 1 Axes>"
      ]
     },
     "metadata": {
      "needs_background": "light"
     },
     "output_type": "display_data"
    },
    {
     "name": "stdout",
     "output_type": "stream",
     "text": [
      "outliers low value < -0.8906965436214803\n",
      "outlier low count:  0\n",
      "outliers high value > 1.1604912650291048\n",
      "outlier high count:  0\n",
      "\n",
      "\n"
     ]
    }
   ],
   "source": [
    "#Only plot numberical columns so drop non-numerical\n",
    " for col in data.drop(['I1','I2','I3'],axis=1).columns:\n",
    "     print(\"Column: \", col)\n",
    "    \n",
    "     #Create Histograms\n",
    "     data[col].hist()\n",
    "     plt.xlabel(col)\n",
    "     plt.title('Histogram')\n",
    "     plt.show()\n",
    "    \n",
    "     #Find outliers within 3 standard deviations of mean\n",
    "     outliers_low = (data[col].mean() - 3*data[col].std())\n",
    "     outliers_high = (data[col].mean() + 3*data[col].std())\n",
    "    \n",
    "     #Print outlier values and counts of how many outliers\n",
    "     print(\"outliers low value <\", outliers_low)\n",
    "     print(\"outlier low count: \", data[col][data[col] < outliers_low].count())\n",
    "     print(\"outliers high value >\", outliers_high) \n",
    "     print(\"outlier high count: \", data[col][data[col] > outliers_high].count())\n",
    "     print('\\n')"
   ]
  },
  {
   "cell_type": "markdown",
   "metadata": {},
   "source": [
    "# ***** Peter End Pipeline Here*******"
   ]
  },
  {
   "cell_type": "code",
   "execution_count": null,
   "metadata": {},
   "outputs": [],
   "source": [
    "scaling_tar = [i + '_std_scaled' for i in ['C1_imputed', 'C3_imputed',\n",
    "       'C4_imputed', 'C5_imputed', 'C6_imputed', 'C7_imputed', 'T1_imputed',\n",
    "       'T2_imputed', 'T3_imputed', 'T4_imputed', 'T5_imputed', 'S1_imputed',\n",
    "       'S2_imputed', 'S3_imputed', 'C1_imputed_iqr_standardized',\n",
    "       'C3_imputed_iqr_standardized', 'C4_imputed_iqr_standardized',\n",
    "       'C5_imputed_iqr_standardized', 'C6_imputed_iqr_standardized',\n",
    "       'C7_imputed_iqr_standardized', 'T1_imputed_iqr_standardized',\n",
    "       'T2_imputed_iqr_standardized', 'T3_imputed_iqr_standardized',\n",
    "       'T4_imputed_iqr_standardized', 'T5_imputed_iqr_standardized',\n",
    "       'S1_imputed_iqr_standardized', 'S2_imputed_iqr_standardized',\n",
    "       'S3_imputed_iqr_standardized',\n",
    "       'words_per_sentence_imputed', 'real_word_per_imputed',\n",
    "       'non_real_word_per_imputed', 'short_sentences_imputed', 'pos_words_percent_imputed',\n",
    "       'neg_words_percent_imputed', 'uncertain_words_percent_imputed', 'total_shares_imputed',\n",
    "       'sales_per_share_imputed', 'C5\\'_imputed', 'C6\\'_imputed',\n",
    "       'words_per_sentence_imputed_iqr_standardized', 'real_word_per_imputed_iqr_standardized',\n",
    "       'non_real_word_per_imputed_iqr_standardized', 'short_sentences_imputed_iqr_standardized', 'pos_words_percent_imputed_iqr_standardized',\n",
    "       'neg_words_percent_imputed_iqr_standardized', 'uncertain_words_percent_imputed_iqr_standardized', 'total_shares_imputed_iqr_standardized',\n",
    "       'sales_per_share_imputed_iqr_standardized', 'C5\\'_imputed_iqr_standardized', 'C6\\'_imputed_iqr_standardized']]"
   ]
  },
  {
   "cell_type": "code",
   "execution_count": null,
   "metadata": {},
   "outputs": [],
   "source": [
    "scale = preprocessing.StandardScaler()\n",
    "\n",
    "data_imputed_iqr = data_imputed_iqr.reindex(columns=data_imputed_iqr.columns.tolist() + scaling_tar)\n",
    "data_imputed_iqr[scaling_tar] = scale.fit_transform(data_imputed_iqr[['C1_imputed', 'C3_imputed',\n",
    "       'C4_imputed', 'C5_imputed', 'C6_imputed', 'C7_imputed', 'T1_imputed',\n",
    "       'T2_imputed', 'T3_imputed', 'T4_imputed', 'T5_imputed', 'S1_imputed',\n",
    "       'S2_imputed', 'S3_imputed', 'C1_imputed_iqr_standardized',\n",
    "       'C3_imputed_iqr_standardized', 'C4_imputed_iqr_standardized',\n",
    "       'C5_imputed_iqr_standardized', 'C6_imputed_iqr_standardized',\n",
    "       'C7_imputed_iqr_standardized', 'T1_imputed_iqr_standardized',\n",
    "       'T2_imputed_iqr_standardized', 'T3_imputed_iqr_standardized',\n",
    "       'T4_imputed_iqr_standardized', 'T5_imputed_iqr_standardized',\n",
    "       'S1_imputed_iqr_standardized', 'S2_imputed_iqr_standardized',\n",
    "       'S3_imputed_iqr_standardized',\n",
    "       'words_per_sentence_imputed', 'real_word_per_imputed',\n",
    "       'non_real_word_per_imputed', 'short_sentences_imputed', 'pos_words_percent_imputed',\n",
    "       'neg_words_percent_imputed', 'uncertain_words_percent_imputed', 'total_shares_imputed',\n",
    "       'sales_per_share_imputed', 'C5\\'_imputed', 'C6\\'_imputed',\n",
    "       'words_per_sentence_imputed_iqr_standardized', 'real_word_per_imputed_iqr_standardized',\n",
    "       'non_real_word_per_imputed_iqr_standardized', 'short_sentences_imputed_iqr_standardized', 'pos_words_percent_imputed_iqr_standardized',\n",
    "       'neg_words_percent_imputed_iqr_standardized', 'uncertain_words_percent_imputed_iqr_standardized', 'total_shares_imputed_iqr_standardized',\n",
    "       'sales_per_share_imputed_iqr_standardized', 'C5\\'_imputed_iqr_standardized', 'C6\\'_imputed_iqr_standardized']])"
   ]
  },
  {
   "cell_type": "markdown",
   "metadata": {},
   "source": [
    "# Step 8B: Data Standardization (Categorical)\n",
    "- Identify viable categories (create as few as possible)\n",
    "- One-hot-encode if needed"
   ]
  },
  {
   "cell_type": "code",
   "execution_count": null,
   "metadata": {},
   "outputs": [],
   "source": [
    "data_imputed_iqr.head()"
   ]
  },
  {
   "cell_type": "markdown",
   "metadata": {},
   "source": [
    "Current Categorical: C2_imputed, C3', industry_bin\n",
    "- check how many classes for each and try to resolve it to be ~5 for each"
   ]
  },
  {
   "cell_type": "code",
   "execution_count": null,
   "metadata": {},
   "outputs": [],
   "source": [
    "data_imputed_iqr.C2_imputed.value_counts()"
   ]
  },
  {
   "cell_type": "code",
   "execution_count": null,
   "metadata": {},
   "outputs": [],
   "source": [
    "data_imputed_iqr['C3\\'_imputed'].value_counts()"
   ]
  },
  {
   "cell_type": "code",
   "execution_count": null,
   "metadata": {},
   "outputs": [],
   "source": [
    "data_imputed_iqr['C3\\'_imputed_iqr_standardized'].value_counts()"
   ]
  },
  {
   "cell_type": "code",
   "execution_count": null,
   "metadata": {},
   "outputs": [],
   "source": [
    "data_imputed_iqr.industry_bin.value_counts()"
   ]
  },
  {
   "cell_type": "markdown",
   "metadata": {},
   "source": [
    "Industry bin seems to be the only one that needs to be adjusted\n",
    "\n",
    "Combinations:\n",
    "- Trade = wholesale trade and retail trade\n",
    "- Add bottom 3 (Finance, Insurance and Real Estate | Construction | Agriculture, Forestry and Fishing to other)\n",
    "- Add Mining to Other"
   ]
  },
  {
   "cell_type": "code",
   "execution_count": null,
   "metadata": {},
   "outputs": [],
   "source": [
    "def combine_industry_col(val):\n",
    "    if val in ['Mining','Finance, Insurance and Real Estate', 'Construction', 'Agriculture, Forestry and Fishing']:\n",
    "        return 'Other'\n",
    "    elif val == 'Mining':\n",
    "        return 'Other'\n",
    "    elif val in ['Retail Trade','Wholesale Trade']:\n",
    "        return 'Trade'\n",
    "    else:\n",
    "        return val"
   ]
  },
  {
   "cell_type": "code",
   "execution_count": null,
   "metadata": {},
   "outputs": [],
   "source": [
    "data_imputed_iqr['industry_bin'] = data_imputed_iqr.industry_bin.apply(combine_industry_col)"
   ]
  },
  {
   "cell_type": "code",
   "execution_count": null,
   "metadata": {},
   "outputs": [],
   "source": [
    "def one_hot_encode(df, col):\n",
    "    return pd.get_dummies(df[col], prefix = col + '_')"
   ]
  },
  {
   "cell_type": "code",
   "execution_count": null,
   "metadata": {},
   "outputs": [],
   "source": []
  },
  {
   "cell_type": "markdown",
   "metadata": {},
   "source": [
    "# Step 7: Correlation of input variables\n",
    "- Line plot to display correlation\n",
    "- HeatMap to check correlation"
   ]
  },
  {
   "cell_type": "code",
   "execution_count": null,
   "metadata": {},
   "outputs": [],
   "source": [
    "corr = data_imputed_iqr.corr()\n",
    "plt.figure(figsize=(15,15))\n",
    "ax = sns.heatmap(\n",
    "    corr, \n",
    "    vmin=-1, vmax=1, center=0,\n",
    "    cmap=sns.diverging_palette(20, 220, n=200),\n",
    "    square=True\n",
    ")\n",
    "ax.set_xticklabels(\n",
    "    ax.get_xticklabels(),\n",
    "    rotation=45,\n",
    "    horizontalalignment='right'\n",
    ");"
   ]
  },
  {
   "cell_type": "code",
   "execution_count": null,
   "metadata": {},
   "outputs": [],
   "source": [
    "data_imputed_iqr.head()"
   ]
  },
  {
   "cell_type": "code",
   "execution_count": null,
   "metadata": {},
   "outputs": [],
   "source": [
    "imputed_only = ['P(IPO)_imputed', 'P(H)_imputed', 'P(L)_imputed',\n",
    "       'P(1Day)_imputed', 'C1_imputed', 'C2_imputed', 'C3_imputed',\n",
    "       'C4_imputed', 'C5_imputed', 'C6_imputed', 'C7_imputed', 'T1_imputed',\n",
    "       'T2_imputed', 'T3_imputed', 'T4_imputed', 'T5_imputed', 'S1_imputed',\n",
    "       'S2_imputed', 'S3_imputed', 'real_word_per_imputed',\n",
    "       'non_real_word_per_imputed', 'short_sentences_imputed', 'pos_words_percent_imputed',\n",
    "       'neg_words_percent_imputed', 'uncertain_words_percent_imputed', 'total_shares_imputed',\n",
    "       'sales_per_share_imputed', 'C3\\'_imputed', 'C5\\'_imputed', 'P(mid)', 'C6\\'_imputed', 'Y1', 'Y2',\n",
    "       'industry_bin']\n",
    "\n",
    "iqr_standardized_only = ['P(IPO)_imputed_iqr_standardized',\n",
    "       'P(H)_imputed_iqr_standardized', 'P(L)_imputed_iqr_standardized',\n",
    "       'P(1Day)_imputed_iqr_standardized', 'C1_imputed_iqr_standardized',\n",
    "       'C3_imputed_iqr_standardized', 'C4_imputed_iqr_standardized',\n",
    "       'C5_imputed_iqr_standardized', 'C6_imputed_iqr_standardized',\n",
    "       'C7_imputed_iqr_standardized', 'T1_imputed_iqr_standardized',\n",
    "       'T2_imputed_iqr_standardized', 'T3_imputed_iqr_standardized',\n",
    "       'T4_imputed_iqr_standardized', 'T5_imputed_iqr_standardized',\n",
    "       'S1_imputed_iqr_standardized', 'S2_imputed_iqr_standardized',\n",
    "       'S3_imputed_iqr_standardized', 'words_per_sentence_imputed_iqr_standardized', 'real_word_per_imputed_iqr_standardized',\n",
    "       'non_real_word_per_imputed_iqr_standardized', 'short_sentences_imputed_iqr_standardized', 'pos_words_percent_imputed_iqr_standardized',\n",
    "       'neg_words_percent_imputed_iqr_standardized', 'uncertain_words_percent_imputed_iqr_standardized', 'total_shares_imputed_iqr_standardized',\n",
    "       'sales_per_share_imputed_iqr_standardized', 'C3\\'_imputed_iqr_standardized', 'C5\\'_imputed_iqr_standardized', 'P(mid)', 'C6\\'_imputed_iqr_standardized', 'Y1', 'Y2',\n",
    "       'industry_bin']"
   ]
  },
  {
   "cell_type": "code",
   "execution_count": null,
   "metadata": {},
   "outputs": [],
   "source": [
    "corr = data_imputed_iqr[imputed_only].corr()\n",
    "plt.figure(figsize=(15,15))\n",
    "ax = sns.heatmap(\n",
    "    corr, \n",
    "    vmin=-1, vmax=1, center=0,\n",
    "    cmap=sns.diverging_palette(20, 220, n=200),\n",
    "    square=True\n",
    ")\n",
    "ax.set_xticklabels(\n",
    "    ax.get_xticklabels(),\n",
    "    rotation=45,\n",
    "    horizontalalignment='right'\n",
    ");"
   ]
  },
  {
   "cell_type": "code",
   "execution_count": null,
   "metadata": {},
   "outputs": [],
   "source": [
    "corr = data_imputed_iqr[iqr_standardized_only].corr()\n",
    "plt.figure(figsize=(15,15))\n",
    "ax = sns.heatmap(\n",
    "    corr, \n",
    "    vmin=-1, vmax=1, center=0,\n",
    "    cmap=sns.diverging_palette(20, 220, n=200),\n",
    "    square=True\n",
    ")\n",
    "ax.set_xticklabels(\n",
    "    ax.get_xticklabels(),\n",
    "    rotation=45,\n",
    "    horizontalalignment='right'\n",
    ");"
   ]
  },
  {
   "cell_type": "markdown",
   "metadata": {},
   "source": [
    "# Step 9: Identify and remove redundunt information\n",
    "- Leverage correlation analysis\n",
    "- RFE (recursive feature elimination) to select valuable items\n",
    "- JointPlots against target"
   ]
  },
  {
   "cell_type": "markdown",
   "metadata": {},
   "source": [
    "# Methodology \n",
    "- There will be a few different ways of representing the same information\n",
    "    - IQR updated\n",
    "    - Normalized\n",
    "    - Scaled\n",
    "- Take each of these in RFE to pick a \"winner\"\n",
    "- Keep only the \"winners\" and use these in PCA\n",
    "\n",
    "Only test fields intented for final results (nothing used in other features created, nothing relating to target variable)"
   ]
  },
  {
   "cell_type": "code",
   "execution_count": null,
   "metadata": {},
   "outputs": [],
   "source": [
    "for i in list(data_imputed_iqr.columns):\n",
    "    if 'std_scaled' in i: print(i)"
   ]
  },
  {
   "cell_type": "code",
   "execution_count": null,
   "metadata": {},
   "outputs": [],
   "source": [
    "def get_important_features_rfe(xTrain, yTrain, num_feats):\n",
    "    '''\n",
    "    Takes training values and returns the most important features in order\n",
    "    '''\n",
    "    clf = LogisticRegression()\n",
    "    selector = RFE(clf, num_feats, step=1)\n",
    "    selector.fit(xTrain, yTrain)\n",
    "    \n",
    "    return [x for _,x in sorted(zip(selector.ranking_, list(xTrain.columns)))]\n",
    "    \n",
    "    "
   ]
  },
  {
   "cell_type": "code",
   "execution_count": null,
   "metadata": {},
   "outputs": [],
   "source": [
    "test_feats = {\n",
    "    'C1': ['C1_imputed_std_scaled', 'C1_imputed_iqr_standardized_std_scaled'],\n",
    "    'C2': ['C2_imputed'],\n",
    "    'C3': ['C3\\'_imputed','C3\\'_imputed_iqr_standardized'],\n",
    "    'C4': ['C4_imputed_std_scaled', 'C4_imputed_iqr_standardized_std_scaled'],\n",
    "    #'C5': ['C5_imputed_std_scaled', 'C5_imputed_iqr_standardized_std_scaled'],\n",
    "    #'C6': ['C6_imputed_std_scaled', 'C6_imputed_iqr_standardized_std_scaled'],\n",
    "    #'C7': ['C7_imputed_std_scaled', 'C7_imputed_iqr_standardized_std_scaled'],\n",
    "    'words_per_sentence': ['words_per_sentence_imputed_std_scaled', 'words_per_sentence_imputed_iqr_standardized_std_scaled'],\n",
    "    'real_words': ['real_word_per_imputed_std_scaled','real_word_per_imputed_iqr_standardized_std_scaled'],\n",
    "    'non_real_words': ['non_real_word_per_imputed_std_scaled','non_real_word_per_imputed_iqr_standardized_std_scaled'],\n",
    "    'short_sent': ['short_sentences_imputed_std_scaled', 'short_sentences_imputed_iqr_standardized_std_scaled'],\n",
    "    'pos_words_per': ['pos_words_percent_imputed_std_scaled','pos_words_percent_imputed_iqr_standardized_std_scaled'],\n",
    "    'neg_word_per': ['neg_words_percent_imputed_std_scaled', 'neg_words_percent_imputed_iqr_standardized_std_scaled'],\n",
    "    'uncertain_word_per': ['uncertain_words_percent_imputed_std_scaled','uncertain_words_percent_imputed_iqr_standardized_std_scaled'],\n",
    "    'total_shares': ['total_shares_imputed_std_scaled','total_shares_imputed_iqr_standardized_std_scaled'],\n",
    "    'sales_per_share': ['sales_per_share_imputed_std_scaled','sales_per_share_imputed_iqr_standardized_std_scaled'],\n",
    "    'C5\\'': ['C5\\'_imputed_std_scaled', 'C5\\'_imputed_iqr_standardized_std_scaled'],\n",
    "    'C6\\'': ['C6\\'_imputed_std_scaled', 'C6\\'_imputed_iqr_standardized_std_scaled'],\n",
    "    \n",
    "}"
   ]
  },
  {
   "cell_type": "code",
   "execution_count": null,
   "metadata": {},
   "outputs": [],
   "source": [
    "picked_feats = dict.fromkeys(test_feats.keys(), '')"
   ]
  },
  {
   "cell_type": "code",
   "execution_count": null,
   "metadata": {},
   "outputs": [],
   "source": []
  },
  {
   "cell_type": "code",
   "execution_count": null,
   "metadata": {},
   "outputs": [],
   "source": [
    "data_imputed_iqr[test_feats['C6\\'']].isna().sum()"
   ]
  },
  {
   "cell_type": "markdown",
   "metadata": {},
   "source": [
    "# TEMP FIX OF ALTERING C6'"
   ]
  },
  {
   "cell_type": "code",
   "execution_count": null,
   "metadata": {},
   "outputs": [],
   "source": [
    "data_imputed_iqr['C6\\'_imputed_std_scaled'].fillna(0, inplace = True)\n",
    "data_imputed_iqr['C6\\'_imputed_iqr_standardized_std_scaled'].fillna(0, inplace = True)"
   ]
  },
  {
   "cell_type": "code",
   "execution_count": null,
   "metadata": {},
   "outputs": [],
   "source": [
    "for i in test_feats.keys():\n",
    "    if len(test_feats[i]) == 1:\n",
    "        picked_feats[i] = test_feats[i][0]\n",
    "    else:\n",
    "        #print(i)\n",
    "        xTrain = data_imputed_iqr[test_feats[i]]\n",
    "        yTrain = data_imputed_iqr.Y1\n",
    "        yTrain_alt = data_imputed_iqr.Y2\n",
    "        picked_feats[i] = get_important_features_rfe(xTrain, yTrain, 1)[0]\n",
    "        \n"
   ]
  },
  {
   "cell_type": "code",
   "execution_count": null,
   "metadata": {},
   "outputs": [],
   "source": [
    "picked_feats"
   ]
  },
  {
   "cell_type": "code",
   "execution_count": null,
   "metadata": {},
   "outputs": [],
   "source": [
    "for i in picked_feats.values():\n",
    "    if data_imputed_iqr[i].isnull().sum() > 0:\n",
    "        print(i)"
   ]
  },
  {
   "cell_type": "code",
   "execution_count": null,
   "metadata": {},
   "outputs": [],
   "source": [
    "data_imputed_iqr.C2_imputed.sort_values()"
   ]
  },
  {
   "cell_type": "code",
   "execution_count": null,
   "metadata": {},
   "outputs": [],
   "source": [
    "pca = PCA(.95)\n",
    "pca.fit(data_imputed_iqr[list(picked_feats.values())])"
   ]
  },
  {
   "cell_type": "code",
   "execution_count": null,
   "metadata": {},
   "outputs": [],
   "source": []
  },
  {
   "cell_type": "markdown",
   "metadata": {},
   "source": [
    "# Step 9B: Balance Sample Data\n",
    "- SMOTE\n",
    "- Split Data"
   ]
  },
  {
   "cell_type": "code",
   "execution_count": null,
   "metadata": {},
   "outputs": [],
   "source": []
  },
  {
   "cell_type": "markdown",
   "metadata": {},
   "source": [
    "# Step 10: Test against sample code\n",
    "- Test as-is to get baseline for AUC and F1 score\n",
    "- Test different scaled data\n",
    "- Test all data vs what we deem should be removed"
   ]
  },
  {
   "cell_type": "code",
   "execution_count": null,
   "metadata": {},
   "outputs": [],
   "source": []
  },
  {
   "cell_type": "markdown",
   "metadata": {},
   "source": [
    "# Step 11: Look at model specifics to seek room for improvement:\n",
    "- Coefficiants of remaining fields\n",
    "- Look at items with highest error rate and see if we can fit them to a class"
   ]
  },
  {
   "cell_type": "code",
   "execution_count": null,
   "metadata": {},
   "outputs": [],
   "source": []
  },
  {
   "cell_type": "markdown",
   "metadata": {},
   "source": [
    "# Step 12: Alternative Modeling techniques\n",
    "- Random Forest\n",
    "- Potentially XGBoost\n",
    "- See if either of this yields better results"
   ]
  },
  {
   "cell_type": "code",
   "execution_count": null,
   "metadata": {},
   "outputs": [],
   "source": []
  },
  {
   "cell_type": "code",
   "execution_count": null,
   "metadata": {},
   "outputs": [],
   "source": []
  }
 ],
 "metadata": {
  "kernelspec": {
   "display_name": "Python 3",
   "language": "python",
   "name": "python3"
  },
  "language_info": {
   "codemirror_mode": {
    "name": "ipython",
    "version": 3
   },
   "file_extension": ".py",
   "mimetype": "text/x-python",
   "name": "python",
   "nbconvert_exporter": "python",
   "pygments_lexer": "ipython3",
   "version": "3.6.7"
  }
 },
 "nbformat": 4,
 "nbformat_minor": 4
}
