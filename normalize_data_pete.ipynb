{
 "cells": [
  {
   "cell_type": "markdown",
   "metadata": {},
   "source": [
    "# Pipeline A: \n",
    "## Step 1) Normalize Data"
   ]
  },
  {
   "cell_type": "markdown",
   "metadata": {},
   "source": [
    "Import all the nessasary packages needed for Pipeline A & read in the data. Lastly make sure the data looks ok."
   ]
  },
  {
   "cell_type": "code",
   "execution_count": 16,
   "metadata": {},
   "outputs": [],
   "source": [
    "#Import Packages\n",
    "import pandas as pd\n",
    "import numpy as np\n",
    "import matplotlib.pyplot as plt\n",
    "from scipy.stats import shapiro\n",
    "import seaborn as sns\n",
    "from scipy.stats import zscore, skew\n",
    "from sklearn import preprocessing\n",
    "from sklearn.feature_selection import RFE\n",
    "from sklearn.linear_model import LogisticRegression\n",
    "from sklearn.model_selection import train_test_split\n",
    "from itertools import chain\n",
    "import xgboost\n",
    "from sklearn import metrics\n",
    "from sklearn.metrics import confusion_matrix\n",
    "from sklearn.metrics import classification_report\n",
    "from sklearn.metrics import roc_auc_score\n",
    "from sklearn.metrics import accuracy_score\n",
    "from sklearn.metrics import precision_recall_fscore_support\n",
    "from sklearn.decomposition import PCA\n",
    "\n",
    "pd.set_option('display.max_columns', 500)"
   ]
  },
  {
   "cell_type": "code",
   "execution_count": 17,
   "metadata": {},
   "outputs": [],
   "source": [
    "#Read In The Data Needed For Pipeline B\n",
    "conti = pd.read_csv('continuous_df.csv')\n",
    "# cate = pd.read_csv('categorical_df.csv')"
   ]
  },
  {
   "cell_type": "code",
   "execution_count": 18,
   "metadata": {},
   "outputs": [
    {
     "data": {
      "text/html": [
       "<div>\n",
       "<style scoped>\n",
       "    .dataframe tbody tr th:only-of-type {\n",
       "        vertical-align: middle;\n",
       "    }\n",
       "\n",
       "    .dataframe tbody tr th {\n",
       "        vertical-align: top;\n",
       "    }\n",
       "\n",
       "    .dataframe thead th {\n",
       "        text-align: right;\n",
       "    }\n",
       "</style>\n",
       "<table border=\"1\" class=\"dataframe\">\n",
       "  <thead>\n",
       "    <tr style=\"text-align: right;\">\n",
       "      <th></th>\n",
       "      <th>Unnamed: 0</th>\n",
       "      <th>I1</th>\n",
       "      <th>C7_imputed</th>\n",
       "      <th>C1</th>\n",
       "      <th>C4</th>\n",
       "      <th>C3_imputed</th>\n",
       "      <th>words_per_sentence</th>\n",
       "      <th>real_word_per</th>\n",
       "      <th>non_real_word_per</th>\n",
       "      <th>short_sentences</th>\n",
       "      <th>short_sentences_per</th>\n",
       "      <th>long_sentences_per</th>\n",
       "      <th>long_words_per</th>\n",
       "      <th>pos_words_percent</th>\n",
       "      <th>neg_words_percent</th>\n",
       "      <th>uncertain_words_percent</th>\n",
       "      <th>total_shares</th>\n",
       "      <th>sales_per_share</th>\n",
       "      <th>outstanding_share_per</th>\n",
       "      <th>offering_share_per</th>\n",
       "      <th>C5_prime</th>\n",
       "      <th>C6_prime</th>\n",
       "    </tr>\n",
       "  </thead>\n",
       "  <tbody>\n",
       "    <tr>\n",
       "      <th>0</th>\n",
       "      <td>0</td>\n",
       "      <td>AATI</td>\n",
       "      <td>51.345</td>\n",
       "      <td>122.0</td>\n",
       "      <td>0.029074</td>\n",
       "      <td>3.43</td>\n",
       "      <td>27.061702</td>\n",
       "      <td>0.908876</td>\n",
       "      <td>0.091124</td>\n",
       "      <td>169.0</td>\n",
       "      <td>0.359574</td>\n",
       "      <td>0.640426</td>\n",
       "      <td>0.05425</td>\n",
       "      <td>0.194969</td>\n",
       "      <td>0.367925</td>\n",
       "      <td>0.437107</td>\n",
       "      <td>51562052.0</td>\n",
       "      <td>9.957905e-07</td>\n",
       "      <td>0.794422</td>\n",
       "      <td>0.205578</td>\n",
       "      <td>3.864345</td>\n",
       "      <td>11.111111</td>\n",
       "    </tr>\n",
       "  </tbody>\n",
       "</table>\n",
       "</div>"
      ],
      "text/plain": [
       "   Unnamed: 0    I1  C7_imputed     C1        C4  C3_imputed  \\\n",
       "0           0  AATI      51.345  122.0  0.029074        3.43   \n",
       "\n",
       "   words_per_sentence  real_word_per  non_real_word_per  short_sentences  \\\n",
       "0           27.061702       0.908876           0.091124            169.0   \n",
       "\n",
       "   short_sentences_per  long_sentences_per  long_words_per  pos_words_percent  \\\n",
       "0             0.359574            0.640426         0.05425           0.194969   \n",
       "\n",
       "   neg_words_percent  uncertain_words_percent  total_shares  sales_per_share  \\\n",
       "0           0.367925                 0.437107    51562052.0     9.957905e-07   \n",
       "\n",
       "   outstanding_share_per  offering_share_per  C5_prime   C6_prime  \n",
       "0               0.794422            0.205578  3.864345  11.111111  "
      ]
     },
     "execution_count": 18,
     "metadata": {},
     "output_type": "execute_result"
    }
   ],
   "source": [
    "conti.head(1)"
   ]
  },
  {
   "cell_type": "markdown",
   "metadata": {},
   "source": [
    "Check Normality of fields. Create histograms to view values to check normality. Also use Shapiro to test the normality of the values."
   ]
  },
  {
   "cell_type": "code",
   "execution_count": 19,
   "metadata": {},
   "outputs": [],
   "source": [
    "def check_normal_by_hist(df, col):\n",
    "    \n",
    "    df[col].hist()\n",
    "    plt.title(col)\n",
    "    plt.show()\n",
    "    \n",
    "def check_normal_by_shapiro(df, col):\n",
    "    \n",
    "    return shapiro(df[col].values)\n",
    "\n",
    "def check_skew(df, col):\n",
    "    return skew(df[col])\n",
    "\n",
    "def bad_skew(df, col_list):\n",
    "    bad_ones = []\n",
    "    skews = []\n",
    "    for i in col_list:\n",
    "        skw = skew(df[i])\n",
    "        if (skw > 0.5) or (skw < -0.5):\n",
    "            bad_ones.append(i)\n",
    "            skews.append(skw)\n",
    "    return bad_ones, skews"
   ]
  },
  {
   "cell_type": "markdown",
   "metadata": {},
   "source": [
    "Drop Unnamed columns that came in via the csv read"
   ]
  },
  {
   "cell_type": "code",
   "execution_count": 20,
   "metadata": {},
   "outputs": [],
   "source": [
    "conti.drop(columns = ['Unnamed: 0'], inplace = True)"
   ]
  },
  {
   "cell_type": "code",
   "execution_count": 21,
   "metadata": {},
   "outputs": [],
   "source": [
    "bad_fields, bad_skew = bad_skew(conti, conti.columns.tolist()[1:])"
   ]
  },
  {
   "cell_type": "markdown",
   "metadata": {},
   "source": [
    "Code for normalization techniques to try to normalize our data"
   ]
  },
  {
   "cell_type": "code",
   "execution_count": 22,
   "metadata": {},
   "outputs": [],
   "source": [
    "def normalize_log(col_vals):\n",
    "    return np.log(col_vals + min(col_vals))\n",
    "\n",
    "def normalize_sqrt(col_vals):\n",
    "    if min(col_vals) < 0:\n",
    "        print('Can\\'t sqrt with negative values')\n",
    "        return\n",
    "    return np.sqrt(col_vals)\n",
    "\n",
    "def normalize_recip_sqrt(col_vals):\n",
    "    if min(col_vals) < 0:\n",
    "        print('Can\\'t sqrt with negative values')\n",
    "        return\n",
    "    return 1/np.sqrt(col_vals)\n",
    "\n",
    "def normalize_sigmoid(col_vals):\n",
    "    return [1/(1+np.e**(-i)) for i in col_vals]\n",
    "\n",
    "def normalize_div(col_vals):\n",
    "    return 1/col_vals\n",
    "\n",
    "def normalize_log_div(col_vals):\n",
    "    return 1/np.log(col_vals + min(col_vals))\n",
    "\n",
    "def normalize_shift_left(col_vals):\n",
    "    return col_vals - len(col_vals)\n",
    "\n",
    "def normalize_shift_right(col_vals):\n",
    "    return col_vals + len(col_vals)\n",
    "\n",
    "def normalize_by_power(col_vals):\n",
    "    return [i**2 for i in col_vals]\n",
    "\n",
    "def normalize_by_e(col_vals):\n",
    "    return [np.e **(i + min(col_vals)) for i in col_vals]\n",
    "\n",
    "def normalize_data(df, col, normalize_function = None):\n",
    "    '''\n",
    "    Given a dataframe, column, and type of normalization, attempt to make the field normal.\n",
    "    \n",
    "    params:\n",
    "    df - dataframe\n",
    "    col - string - column to normalize\n",
    "    normalize_function - function - type of normalization to perform. If blank then all will be performed and compared.\n",
    "        options are functions above\n",
    "        \n",
    "    '''\n",
    "    \n",
    "    if normalize_function is not None:\n",
    "        try:\n",
    "            new_vals = normalize_function(df[col].values)\n",
    "            p_val = shapiro(new_vals)[1]\n",
    "            valid = 'Normal' if p_val > 0.05 else 'Non-Normal'\n",
    "            print('Shapiro Test says given function made the data ' + valid +' with a p-value of ' + str(p_val))\n",
    "            if p_val > 0.05:\n",
    "                plt.hist(new_vals)\n",
    "                return True\n",
    "            else:\n",
    "                return False\n",
    "        except Exception as e:\n",
    "            print(e)"
   ]
  },
  {
   "cell_type": "markdown",
   "metadata": {},
   "source": [
    "Create Histograms of Fields"
   ]
  },
  {
   "cell_type": "code",
   "execution_count": 23,
   "metadata": {},
   "outputs": [
    {
     "data": {
      "image/png": "[encoded data removed]",
      "text/plain": [
       "<Figure size 432x288 with 1 Axes>"
      ]
     },
     "metadata": {
      "needs_background": "light"
     },
     "output_type": "display_data"
    },
    {
     "data": {
      "image/png": "[encoded data removed]",
      "text/plain": [
       "<Figure size 432x288 with 1 Axes>"
      ]
     },
     "metadata": {
      "needs_background": "light"
     },
     "output_type": "display_data"
    },
    {
     "data": {
      "image/png": "[encoded data removed]",
      "text/plain": [
       "<Figure size 432x288 with 1 Axes>"
      ]
     },
     "metadata": {
      "needs_background": "light"
     },
     "output_type": "display_data"
    },
    {
     "data": {
      "image/png": "[encoded data removed]",
      "text/plain": [
       "<Figure size 432x288 with 1 Axes>"
      ]
     },
     "metadata": {
      "needs_background": "light"
     },
     "output_type": "display_data"
    },
    {
     "data": {
      "image/png": "[encoded data removed]",
      "text/plain": [
       "<Figure size 432x288 with 1 Axes>"
      ]
     },
     "metadata": {
      "needs_background": "light"
     },
     "output_type": "display_data"
    },
    {
     "data": {
      "image/png": "[encoded data removed]",
      "text/plain": [
       "<Figure size 432x288 with 1 Axes>"
      ]
     },
     "metadata": {
      "needs_background": "light"
     },
     "output_type": "display_data"
    },
    {
     "data": {
      "image/png": "[encoded data removed]",
      "text/plain": [
       "<Figure size 432x288 with 1 Axes>"
      ]
     },
     "metadata": {
      "needs_background": "light"
     },
     "output_type": "display_data"
    },
    {
     "data": {
      "image/png": "[encoded data removed]",
      "text/plain": [
       "<Figure size 432x288 with 1 Axes>"
      ]
     },
     "metadata": {
      "needs_background": "light"
     },
     "output_type": "display_data"
    },
    {
     "data": {
      "image/png": "[encoded data removed]",
      "text/plain": [
       "<Figure size 432x288 with 1 Axes>"
      ]
     },
     "metadata": {
      "needs_background": "light"
     },
     "output_type": "display_data"
    },
    {
     "data": {
      "image/png": "[encoded data removed]",
      "text/plain": [
       "<Figure size 432x288 with 1 Axes>"
      ]
     },
     "metadata": {
      "needs_background": "light"
     },
     "output_type": "display_data"
    },
    {
     "data": {
      "image/png": "[encoded data removed]",
      "text/plain": [
       "<Figure size 432x288 with 1 Axes>"
      ]
     },
     "metadata": {
      "needs_background": "light"
     },
     "output_type": "display_data"
    },
    {
     "data": {
      "image/png": "[encoded data removed]",
      "text/plain": [
       "<Figure size 432x288 with 1 Axes>"
      ]
     },
     "metadata": {
      "needs_background": "light"
     },
     "output_type": "display_data"
    },
    {
     "data": {
      "image/png": "[encoded data removed]",
      "text/plain": [
       "<Figure size 432x288 with 1 Axes>"
      ]
     },
     "metadata": {
      "needs_background": "light"
     },
     "output_type": "display_data"
    },
    {
     "data": {
      "image/png": "[encoded data removed]",
      "text/plain": [
       "<Figure size 432x288 with 1 Axes>"
      ]
     },
     "metadata": {
      "needs_background": "light"
     },
     "output_type": "display_data"
    }
   ],
   "source": [
    "#For Loop created to view histograms of data\n",
    "for i in bad_fields:\n",
    "    conti[i].hist()\n",
    "    plt.title(i)\n",
    "    plt.show()"
   ]
  },
  {
   "cell_type": "markdown",
   "metadata": {},
   "source": [
    "Start data normalizing transform techniques"
   ]
  },
  {
   "cell_type": "code",
   "execution_count": 25,
   "metadata": {},
   "outputs": [],
   "source": [
    "norm = preprocessing.Normalizer()"
   ]
  },
  {
   "cell_type": "code",
   "execution_count": 26,
   "metadata": {},
   "outputs": [],
   "source": [
    "norm_vals = norm.fit_transform(conti[bad_fields].values)\n",
    "norm_vals = pd.DataFrame(norm_vals)\n",
    "norm_vals.columns = bad_fields"
   ]
  },
  {
   "cell_type": "code",
   "execution_count": 27,
   "metadata": {},
   "outputs": [
    {
     "name": "stdout",
     "output_type": "stream",
     "text": [
      "3.6852597590330025\n",
      "6.436211748354065\n",
      "13.64984410482497\n",
      "2.132744038500784\n",
      "2.087368811843916\n",
      "4.429300571372182\n",
      "1.935435922093024\n",
      "2.5838598818617062\n",
      "2.1568488331041613\n",
      "-10.242611937118271\n",
      "5.8854689566526766\n",
      "1.8302413997498381\n",
      "3.0794496041512573\n",
      "5.061315766965951\n"
     ]
    }
   ],
   "source": [
    "norm_l2 = []\n",
    "for i in norm_vals.columns:\n",
    "    print(skew(norm_vals[i]))\n",
    "    norm_l2.append(skew(norm_vals[i]))"
   ]
  },
  {
   "cell_type": "code",
   "execution_count": 37,
   "metadata": {},
   "outputs": [
    {
     "name": "stdout",
     "output_type": "stream",
     "text": [
      "3.6850336668882475\n",
      "6.435409402617369\n",
      "13.648768292468272\n",
      "2.1326370296240067\n",
      "2.087249966172831\n",
      "4.429307911898792\n",
      "1.9353460231079995\n",
      "2.583724390602478\n",
      "2.156749138820654\n",
      "-3.287077580125796\n",
      "5.885117883929834\n",
      "1.8301398975912537\n",
      "3.079321630418752\n",
      "5.061394083932776\n"
     ]
    }
   ],
   "source": [
    "norm_2 = preprocessing.Normalizer(norm = 'l1')\n",
    "norm_vals_2 = norm_2.fit_transform(conti[bad_fields].values)\n",
    "norm_vals_2 = pd.DataFrame(norm_vals_2)\n",
    "norm_vals_2.columns = bad_fields\n",
    "\n",
    "norm_l1 = []\n",
    "for i in norm_vals_2.columns:\n",
    "    print(skew(norm_vals_2[i]))\n",
    "    norm_l1.append(skew(norm_vals_2[i]))"
   ]
  },
  {
   "cell_type": "code",
   "execution_count": 38,
   "metadata": {},
   "outputs": [],
   "source": [
    "norm_2 = preprocessing.Normalizer(norm = 'l1')\n",
    "norm_vals_2 = norm_2.fit_transform([conti['total_shares'].values])"
   ]
  },
  {
   "cell_type": "code",
   "execution_count": 39,
   "metadata": {},
   "outputs": [
    {
     "name": "stdout",
     "output_type": "stream",
     "text": [
      "3.6852597689136135\n",
      "6.4362117828433805\n",
      "13.649844200252286\n",
      "2.1327440405964193\n",
      "2.087368814276934\n",
      "4.429300570906806\n",
      "1.9354359238326\n",
      "2.58385988492407\n",
      "2.1568488349000283\n",
      "0.0\n",
      "5.885468970314219\n",
      "1.8302414017734328\n",
      "3.0794496066631396\n",
      "5.061315765732395\n"
     ]
    }
   ],
   "source": [
    "norm_3 = preprocessing.Normalizer(norm = 'max')\n",
    "norm_vals_3 = norm_3.fit_transform(conti[bad_fields].values)\n",
    "norm_vals_3 = pd.DataFrame(norm_vals_3)\n",
    "norm_vals_3.columns = bad_fields\n",
    "\n",
    "norm_max = []\n",
    "for i in norm_vals_3.columns:\n",
    "    print(skew(norm_vals_3[i]))\n",
    "    norm_max.append(skew(norm_vals_3[i]))  "
   ]
  },
  {
   "cell_type": "code",
   "execution_count": 40,
   "metadata": {},
   "outputs": [],
   "source": [
    "norm_compare = pd.DataFrame()\n",
    "norm_compare['field'] = bad_fields\n",
    "norm_compare['orig'] = bad_skew\n",
    "norm_compare['l2'] = norm_l2\n",
    "norm_compare['l1'] = norm_l1\n",
    "norm_compare['max'] = norm_max"
   ]
  },
  {
   "cell_type": "code",
   "execution_count": 41,
   "metadata": {},
   "outputs": [
    {
     "data": {
      "text/html": [
       "<div>\n",
       "<style scoped>\n",
       "    .dataframe tbody tr th:only-of-type {\n",
       "        vertical-align: middle;\n",
       "    }\n",
       "\n",
       "    .dataframe tbody tr th {\n",
       "        vertical-align: top;\n",
       "    }\n",
       "\n",
       "    .dataframe thead th {\n",
       "        text-align: right;\n",
       "    }\n",
       "</style>\n",
       "<table border=\"1\" class=\"dataframe\">\n",
       "  <thead>\n",
       "    <tr style=\"text-align: right;\">\n",
       "      <th></th>\n",
       "      <th>field</th>\n",
       "      <th>orig</th>\n",
       "      <th>l2</th>\n",
       "      <th>l1</th>\n",
       "      <th>max</th>\n",
       "    </tr>\n",
       "  </thead>\n",
       "  <tbody>\n",
       "    <tr>\n",
       "      <th>0</th>\n",
       "      <td>C7_imputed</td>\n",
       "      <td>12.118756</td>\n",
       "      <td>3.685260</td>\n",
       "      <td>3.685034</td>\n",
       "      <td>3.685260</td>\n",
       "    </tr>\n",
       "    <tr>\n",
       "      <th>1</th>\n",
       "      <td>C1</td>\n",
       "      <td>5.645270</td>\n",
       "      <td>6.436212</td>\n",
       "      <td>6.435409</td>\n",
       "      <td>6.436212</td>\n",
       "    </tr>\n",
       "    <tr>\n",
       "      <th>2</th>\n",
       "      <td>C3_imputed</td>\n",
       "      <td>21.644949</td>\n",
       "      <td>13.649844</td>\n",
       "      <td>13.648768</td>\n",
       "      <td>13.649844</td>\n",
       "    </tr>\n",
       "    <tr>\n",
       "      <th>3</th>\n",
       "      <td>words_per_sentence</td>\n",
       "      <td>0.645238</td>\n",
       "      <td>2.132744</td>\n",
       "      <td>2.132637</td>\n",
       "      <td>2.132744</td>\n",
       "    </tr>\n",
       "    <tr>\n",
       "      <th>4</th>\n",
       "      <td>real_word_per</td>\n",
       "      <td>-11.914035</td>\n",
       "      <td>2.087369</td>\n",
       "      <td>2.087250</td>\n",
       "      <td>2.087369</td>\n",
       "    </tr>\n",
       "    <tr>\n",
       "      <th>5</th>\n",
       "      <td>non_real_word_per</td>\n",
       "      <td>11.914035</td>\n",
       "      <td>4.429301</td>\n",
       "      <td>4.429308</td>\n",
       "      <td>4.429301</td>\n",
       "    </tr>\n",
       "    <tr>\n",
       "      <th>6</th>\n",
       "      <td>short_sentences</td>\n",
       "      <td>1.922420</td>\n",
       "      <td>1.935436</td>\n",
       "      <td>1.935346</td>\n",
       "      <td>1.935436</td>\n",
       "    </tr>\n",
       "    <tr>\n",
       "      <th>7</th>\n",
       "      <td>short_sentences_per</td>\n",
       "      <td>1.587540</td>\n",
       "      <td>2.583860</td>\n",
       "      <td>2.583724</td>\n",
       "      <td>2.583860</td>\n",
       "    </tr>\n",
       "    <tr>\n",
       "      <th>8</th>\n",
       "      <td>long_sentences_per</td>\n",
       "      <td>-1.587540</td>\n",
       "      <td>2.156849</td>\n",
       "      <td>2.156749</td>\n",
       "      <td>2.156849</td>\n",
       "    </tr>\n",
       "    <tr>\n",
       "      <th>9</th>\n",
       "      <td>total_shares</td>\n",
       "      <td>13.272164</td>\n",
       "      <td>-10.242612</td>\n",
       "      <td>-3.287078</td>\n",
       "      <td>0.000000</td>\n",
       "    </tr>\n",
       "    <tr>\n",
       "      <th>10</th>\n",
       "      <td>sales_per_share</td>\n",
       "      <td>3.685260</td>\n",
       "      <td>5.885469</td>\n",
       "      <td>5.885118</td>\n",
       "      <td>5.885469</td>\n",
       "    </tr>\n",
       "    <tr>\n",
       "      <th>11</th>\n",
       "      <td>outstanding_share_per</td>\n",
       "      <td>-1.611875</td>\n",
       "      <td>1.830241</td>\n",
       "      <td>1.830140</td>\n",
       "      <td>1.830241</td>\n",
       "    </tr>\n",
       "    <tr>\n",
       "      <th>12</th>\n",
       "      <td>offering_share_per</td>\n",
       "      <td>1.611875</td>\n",
       "      <td>3.079450</td>\n",
       "      <td>3.079322</td>\n",
       "      <td>3.079450</td>\n",
       "    </tr>\n",
       "    <tr>\n",
       "      <th>13</th>\n",
       "      <td>C5_prime</td>\n",
       "      <td>13.370639</td>\n",
       "      <td>5.061316</td>\n",
       "      <td>5.061394</td>\n",
       "      <td>5.061316</td>\n",
       "    </tr>\n",
       "  </tbody>\n",
       "</table>\n",
       "</div>"
      ],
      "text/plain": [
       "                    field       orig         l2         l1        max\n",
       "0              C7_imputed  12.118756   3.685260   3.685034   3.685260\n",
       "1                      C1   5.645270   6.436212   6.435409   6.436212\n",
       "2              C3_imputed  21.644949  13.649844  13.648768  13.649844\n",
       "3      words_per_sentence   0.645238   2.132744   2.132637   2.132744\n",
       "4           real_word_per -11.914035   2.087369   2.087250   2.087369\n",
       "5       non_real_word_per  11.914035   4.429301   4.429308   4.429301\n",
       "6         short_sentences   1.922420   1.935436   1.935346   1.935436\n",
       "7     short_sentences_per   1.587540   2.583860   2.583724   2.583860\n",
       "8      long_sentences_per  -1.587540   2.156849   2.156749   2.156849\n",
       "9            total_shares  13.272164 -10.242612  -3.287078   0.000000\n",
       "10        sales_per_share   3.685260   5.885469   5.885118   5.885469\n",
       "11  outstanding_share_per  -1.611875   1.830241   1.830140   1.830241\n",
       "12     offering_share_per   1.611875   3.079450   3.079322   3.079450\n",
       "13               C5_prime  13.370639   5.061316   5.061394   5.061316"
      ]
     },
     "execution_count": 41,
     "metadata": {},
     "output_type": "execute_result"
    }
   ],
   "source": [
    "norm_compare"
   ]
  },
  {
   "cell_type": "markdown",
   "metadata": {},
   "source": [
    "# Yeo Johnson"
   ]
  },
  {
   "cell_type": "markdown",
   "metadata": {},
   "source": [
    "Transform fields using the Yeo Johnson method for normalizing. The Yeo Johnson is an alternative to the Box-Cox power transform technique. It estimates the optimal value of lambda. The Yeo Johnson is similar to the Box-Cox, however it allows for the transformation of non-positive data. "
   ]
  },
  {
   "cell_type": "code",
   "execution_count": 42,
   "metadata": {},
   "outputs": [
    {
     "name": "stderr",
     "output_type": "stream",
     "text": [
      "/opt/tljh/user/lib/python3.6/site-packages/sklearn/preprocessing/_data.py:2982: RuntimeWarning: divide by zero encountered in log\n",
      "  loglike = -n_samples / 2 * np.log(x_trans.var())\n"
     ]
    }
   ],
   "source": [
    "pwr_trs = preprocessing.power_transform(conti[bad_fields].values, method = 'yeo-johnson')\n",
    "\n",
    "#pwr_trs = pwr_transform.fit_transform(conti[bad_fields].values)\n",
    "pwr_trs = pd.DataFrame(pwr_trs)\n",
    "pwr_trs.columns = bad_fields\n",
    "\n",
    "pwr_norm = []\n",
    "for i in pwr_trs.columns:\n",
    "    #print(skew(pwr_trs[i]))\n",
    "    pwr_norm.append(skew(pwr_trs[i]))"
   ]
  },
  {
   "cell_type": "code",
   "execution_count": 43,
   "metadata": {},
   "outputs": [],
   "source": [
    "norm_compare['yeo_johnson'] = pwr_norm"
   ]
  },
  {
   "cell_type": "code",
   "execution_count": 44,
   "metadata": {},
   "outputs": [
    {
     "data": {
      "text/html": [
       "<div>\n",
       "<style scoped>\n",
       "    .dataframe tbody tr th:only-of-type {\n",
       "        vertical-align: middle;\n",
       "    }\n",
       "\n",
       "    .dataframe tbody tr th {\n",
       "        vertical-align: top;\n",
       "    }\n",
       "\n",
       "    .dataframe thead th {\n",
       "        text-align: right;\n",
       "    }\n",
       "</style>\n",
       "<table border=\"1\" class=\"dataframe\">\n",
       "  <thead>\n",
       "    <tr style=\"text-align: right;\">\n",
       "      <th></th>\n",
       "      <th>field</th>\n",
       "      <th>orig</th>\n",
       "      <th>l2</th>\n",
       "      <th>l1</th>\n",
       "      <th>max</th>\n",
       "      <th>yeo_johnson</th>\n",
       "    </tr>\n",
       "  </thead>\n",
       "  <tbody>\n",
       "    <tr>\n",
       "      <th>0</th>\n",
       "      <td>C7_imputed</td>\n",
       "      <td>12.118756</td>\n",
       "      <td>3.685260</td>\n",
       "      <td>3.685034</td>\n",
       "      <td>3.685260</td>\n",
       "      <td>0.007101</td>\n",
       "    </tr>\n",
       "    <tr>\n",
       "      <th>1</th>\n",
       "      <td>C1</td>\n",
       "      <td>5.645270</td>\n",
       "      <td>6.436212</td>\n",
       "      <td>6.435409</td>\n",
       "      <td>6.436212</td>\n",
       "      <td>-0.026878</td>\n",
       "    </tr>\n",
       "    <tr>\n",
       "      <th>2</th>\n",
       "      <td>C3_imputed</td>\n",
       "      <td>21.644949</td>\n",
       "      <td>13.649844</td>\n",
       "      <td>13.648768</td>\n",
       "      <td>13.649844</td>\n",
       "      <td>0.681790</td>\n",
       "    </tr>\n",
       "    <tr>\n",
       "      <th>3</th>\n",
       "      <td>words_per_sentence</td>\n",
       "      <td>0.645238</td>\n",
       "      <td>2.132744</td>\n",
       "      <td>2.132637</td>\n",
       "      <td>2.132744</td>\n",
       "      <td>-0.003890</td>\n",
       "    </tr>\n",
       "    <tr>\n",
       "      <th>4</th>\n",
       "      <td>real_word_per</td>\n",
       "      <td>-11.914035</td>\n",
       "      <td>2.087369</td>\n",
       "      <td>2.087250</td>\n",
       "      <td>2.087369</td>\n",
       "      <td>-0.204923</td>\n",
       "    </tr>\n",
       "    <tr>\n",
       "      <th>5</th>\n",
       "      <td>non_real_word_per</td>\n",
       "      <td>11.914035</td>\n",
       "      <td>4.429301</td>\n",
       "      <td>4.429308</td>\n",
       "      <td>4.429301</td>\n",
       "      <td>0.003048</td>\n",
       "    </tr>\n",
       "    <tr>\n",
       "      <th>6</th>\n",
       "      <td>short_sentences</td>\n",
       "      <td>1.922420</td>\n",
       "      <td>1.935436</td>\n",
       "      <td>1.935346</td>\n",
       "      <td>1.935436</td>\n",
       "      <td>-0.000855</td>\n",
       "    </tr>\n",
       "    <tr>\n",
       "      <th>7</th>\n",
       "      <td>short_sentences_per</td>\n",
       "      <td>1.587540</td>\n",
       "      <td>2.583860</td>\n",
       "      <td>2.583724</td>\n",
       "      <td>2.583860</td>\n",
       "      <td>-0.073547</td>\n",
       "    </tr>\n",
       "    <tr>\n",
       "      <th>8</th>\n",
       "      <td>long_sentences_per</td>\n",
       "      <td>-1.587540</td>\n",
       "      <td>2.156849</td>\n",
       "      <td>2.156749</td>\n",
       "      <td>2.156849</td>\n",
       "      <td>0.109992</td>\n",
       "    </tr>\n",
       "    <tr>\n",
       "      <th>9</th>\n",
       "      <td>total_shares</td>\n",
       "      <td>13.272164</td>\n",
       "      <td>-10.242612</td>\n",
       "      <td>-3.287078</td>\n",
       "      <td>0.000000</td>\n",
       "      <td>0.000000</td>\n",
       "    </tr>\n",
       "    <tr>\n",
       "      <th>10</th>\n",
       "      <td>sales_per_share</td>\n",
       "      <td>3.685260</td>\n",
       "      <td>5.885469</td>\n",
       "      <td>5.885118</td>\n",
       "      <td>5.885469</td>\n",
       "      <td>0.592103</td>\n",
       "    </tr>\n",
       "    <tr>\n",
       "      <th>11</th>\n",
       "      <td>outstanding_share_per</td>\n",
       "      <td>-1.611875</td>\n",
       "      <td>1.830241</td>\n",
       "      <td>1.830140</td>\n",
       "      <td>1.830241</td>\n",
       "      <td>0.090543</td>\n",
       "    </tr>\n",
       "    <tr>\n",
       "      <th>12</th>\n",
       "      <td>offering_share_per</td>\n",
       "      <td>1.611875</td>\n",
       "      <td>3.079450</td>\n",
       "      <td>3.079322</td>\n",
       "      <td>3.079450</td>\n",
       "      <td>-0.085923</td>\n",
       "    </tr>\n",
       "    <tr>\n",
       "      <th>13</th>\n",
       "      <td>C5_prime</td>\n",
       "      <td>13.370639</td>\n",
       "      <td>5.061316</td>\n",
       "      <td>5.061394</td>\n",
       "      <td>5.061316</td>\n",
       "      <td>-0.164024</td>\n",
       "    </tr>\n",
       "  </tbody>\n",
       "</table>\n",
       "</div>"
      ],
      "text/plain": [
       "                    field       orig         l2         l1        max  \\\n",
       "0              C7_imputed  12.118756   3.685260   3.685034   3.685260   \n",
       "1                      C1   5.645270   6.436212   6.435409   6.436212   \n",
       "2              C3_imputed  21.644949  13.649844  13.648768  13.649844   \n",
       "3      words_per_sentence   0.645238   2.132744   2.132637   2.132744   \n",
       "4           real_word_per -11.914035   2.087369   2.087250   2.087369   \n",
       "5       non_real_word_per  11.914035   4.429301   4.429308   4.429301   \n",
       "6         short_sentences   1.922420   1.935436   1.935346   1.935436   \n",
       "7     short_sentences_per   1.587540   2.583860   2.583724   2.583860   \n",
       "8      long_sentences_per  -1.587540   2.156849   2.156749   2.156849   \n",
       "9            total_shares  13.272164 -10.242612  -3.287078   0.000000   \n",
       "10        sales_per_share   3.685260   5.885469   5.885118   5.885469   \n",
       "11  outstanding_share_per  -1.611875   1.830241   1.830140   1.830241   \n",
       "12     offering_share_per   1.611875   3.079450   3.079322   3.079450   \n",
       "13               C5_prime  13.370639   5.061316   5.061394   5.061316   \n",
       "\n",
       "    yeo_johnson  \n",
       "0      0.007101  \n",
       "1     -0.026878  \n",
       "2      0.681790  \n",
       "3     -0.003890  \n",
       "4     -0.204923  \n",
       "5      0.003048  \n",
       "6     -0.000855  \n",
       "7     -0.073547  \n",
       "8      0.109992  \n",
       "9      0.000000  \n",
       "10     0.592103  \n",
       "11     0.090543  \n",
       "12    -0.085923  \n",
       "13    -0.164024  "
      ]
     },
     "execution_count": 44,
     "metadata": {},
     "output_type": "execute_result"
    }
   ],
   "source": [
    "norm_compare"
   ]
  },
  {
   "cell_type": "markdown",
   "metadata": {},
   "source": [
    "We notice that total_shares field, something has happened to make the max = 0. We can't have this and need to fix. Later we'll need to use the best value here so the l1 value of -3.287078 instead. "
   ]
  },
  {
   "cell_type": "code",
   "execution_count": 46,
   "metadata": {},
   "outputs": [
    {
     "data": {
      "image/png": "[encoded data removed]",
      "text/plain": [
       "<Figure size 432x288 with 1 Axes>"
      ]
     },
     "metadata": {
      "needs_background": "light"
     },
     "output_type": "display_data"
    }
   ],
   "source": [
    "#Look at the total_shares field\n",
    "pwr_trs['total_shares'].hist()\n",
    "plt.show()"
   ]
  },
  {
   "cell_type": "code",
   "execution_count": 47,
   "metadata": {},
   "outputs": [],
   "source": [
    "all_skew = pd.DataFrame()"
   ]
  },
  {
   "cell_type": "code",
   "execution_count": 48,
   "metadata": {},
   "outputs": [
    {
     "name": "stderr",
     "output_type": "stream",
     "text": [
      "/opt/tljh/user/lib/python3.6/site-packages/sklearn/preprocessing/_data.py:2982: RuntimeWarning: divide by zero encountered in log\n",
      "  loglike = -n_samples / 2 * np.log(x_trans.var())\n"
     ]
    }
   ],
   "source": [
    "pwr_transgorm_all = preprocessing.power_transform(conti[conti.columns[1:]].values, \n",
    "                                                  method = 'yeo-johnson')\n",
    "\n",
    "pwr_transgorm_all = pd.DataFrame(pwr_transgorm_all)\n",
    "pwr_transgorm_all.columns = conti.columns[:-1]\n",
    "\n",
    "pwr_norm_all = []\n",
    "for i in pwr_transgorm_all.columns:\n",
    "    #print(skew(pwr_trs[i]))\n",
    "    pwr_norm_all.append(skew(pwr_transgorm_all[i]))"
   ]
  },
  {
   "cell_type": "code",
   "execution_count": 49,
   "metadata": {},
   "outputs": [],
   "source": [
    "normal_skew = skew(conti[conti.columns[1:]])"
   ]
  },
  {
   "cell_type": "code",
   "execution_count": 50,
   "metadata": {},
   "outputs": [],
   "source": [
    "all_skew['yeo'] = pwr_norm_all\n",
    "all_skew['orig'] = normal_skew"
   ]
  },
  {
   "cell_type": "code",
   "execution_count": 51,
   "metadata": {},
   "outputs": [
    {
     "data": {
      "text/html": [
       "<div>\n",
       "<style scoped>\n",
       "    .dataframe tbody tr th:only-of-type {\n",
       "        vertical-align: middle;\n",
       "    }\n",
       "\n",
       "    .dataframe tbody tr th {\n",
       "        vertical-align: top;\n",
       "    }\n",
       "\n",
       "    .dataframe thead th {\n",
       "        text-align: right;\n",
       "    }\n",
       "</style>\n",
       "<table border=\"1\" class=\"dataframe\">\n",
       "  <thead>\n",
       "    <tr style=\"text-align: right;\">\n",
       "      <th></th>\n",
       "      <th>yeo</th>\n",
       "      <th>orig</th>\n",
       "    </tr>\n",
       "  </thead>\n",
       "  <tbody>\n",
       "    <tr>\n",
       "      <th>0</th>\n",
       "      <td>0.007101</td>\n",
       "      <td>12.118756</td>\n",
       "    </tr>\n",
       "    <tr>\n",
       "      <th>1</th>\n",
       "      <td>-0.026878</td>\n",
       "      <td>5.645270</td>\n",
       "    </tr>\n",
       "    <tr>\n",
       "      <th>2</th>\n",
       "      <td>-0.006848</td>\n",
       "      <td>-0.474540</td>\n",
       "    </tr>\n",
       "    <tr>\n",
       "      <th>3</th>\n",
       "      <td>0.681790</td>\n",
       "      <td>21.644949</td>\n",
       "    </tr>\n",
       "    <tr>\n",
       "      <th>4</th>\n",
       "      <td>-0.003890</td>\n",
       "      <td>0.645238</td>\n",
       "    </tr>\n",
       "    <tr>\n",
       "      <th>5</th>\n",
       "      <td>-0.204923</td>\n",
       "      <td>-11.914035</td>\n",
       "    </tr>\n",
       "    <tr>\n",
       "      <th>6</th>\n",
       "      <td>0.003048</td>\n",
       "      <td>11.914035</td>\n",
       "    </tr>\n",
       "    <tr>\n",
       "      <th>7</th>\n",
       "      <td>-0.000855</td>\n",
       "      <td>1.922420</td>\n",
       "    </tr>\n",
       "    <tr>\n",
       "      <th>8</th>\n",
       "      <td>-0.073547</td>\n",
       "      <td>1.587540</td>\n",
       "    </tr>\n",
       "    <tr>\n",
       "      <th>9</th>\n",
       "      <td>0.109992</td>\n",
       "      <td>-1.587540</td>\n",
       "    </tr>\n",
       "    <tr>\n",
       "      <th>10</th>\n",
       "      <td>0.012967</td>\n",
       "      <td>0.015915</td>\n",
       "    </tr>\n",
       "    <tr>\n",
       "      <th>11</th>\n",
       "      <td>-0.017027</td>\n",
       "      <td>0.474094</td>\n",
       "    </tr>\n",
       "    <tr>\n",
       "      <th>12</th>\n",
       "      <td>0.000108</td>\n",
       "      <td>0.300943</td>\n",
       "    </tr>\n",
       "    <tr>\n",
       "      <th>13</th>\n",
       "      <td>0.005647</td>\n",
       "      <td>0.026193</td>\n",
       "    </tr>\n",
       "    <tr>\n",
       "      <th>14</th>\n",
       "      <td>0.000000</td>\n",
       "      <td>13.272164</td>\n",
       "    </tr>\n",
       "    <tr>\n",
       "      <th>15</th>\n",
       "      <td>0.592103</td>\n",
       "      <td>3.685260</td>\n",
       "    </tr>\n",
       "    <tr>\n",
       "      <th>16</th>\n",
       "      <td>0.090543</td>\n",
       "      <td>-1.611875</td>\n",
       "    </tr>\n",
       "    <tr>\n",
       "      <th>17</th>\n",
       "      <td>-0.085923</td>\n",
       "      <td>1.611875</td>\n",
       "    </tr>\n",
       "    <tr>\n",
       "      <th>18</th>\n",
       "      <td>-0.164024</td>\n",
       "      <td>13.370639</td>\n",
       "    </tr>\n",
       "    <tr>\n",
       "      <th>19</th>\n",
       "      <td>0.248741</td>\n",
       "      <td>0.248845</td>\n",
       "    </tr>\n",
       "  </tbody>\n",
       "</table>\n",
       "</div>"
      ],
      "text/plain": [
       "         yeo       orig\n",
       "0   0.007101  12.118756\n",
       "1  -0.026878   5.645270\n",
       "2  -0.006848  -0.474540\n",
       "3   0.681790  21.644949\n",
       "4  -0.003890   0.645238\n",
       "5  -0.204923 -11.914035\n",
       "6   0.003048  11.914035\n",
       "7  -0.000855   1.922420\n",
       "8  -0.073547   1.587540\n",
       "9   0.109992  -1.587540\n",
       "10  0.012967   0.015915\n",
       "11 -0.017027   0.474094\n",
       "12  0.000108   0.300943\n",
       "13  0.005647   0.026193\n",
       "14  0.000000  13.272164\n",
       "15  0.592103   3.685260\n",
       "16  0.090543  -1.611875\n",
       "17 -0.085923   1.611875\n",
       "18 -0.164024  13.370639\n",
       "19  0.248741   0.248845"
      ]
     },
     "execution_count": 51,
     "metadata": {},
     "output_type": "execute_result"
    }
   ],
   "source": [
    "all_skew"
   ]
  },
  {
   "cell_type": "markdown",
   "metadata": {},
   "source": [
    "Everything here looks much better as it gets the values closer to 0. Now we need to fix field line 14 which is the total_shares column."
   ]
  },
  {
   "cell_type": "markdown",
   "metadata": {},
   "source": [
    "This made almost every one of them better so will use this for all..."
   ]
  },
  {
   "cell_type": "markdown",
   "metadata": {},
   "source": [
    "Create the new data"
   ]
  },
  {
   "cell_type": "code",
   "execution_count": 52,
   "metadata": {},
   "outputs": [
    {
     "name": "stderr",
     "output_type": "stream",
     "text": [
      "/opt/tljh/user/lib/python3.6/site-packages/sklearn/preprocessing/_data.py:2982: RuntimeWarning: divide by zero encountered in log\n",
      "  loglike = -n_samples / 2 * np.log(x_trans.var())\n"
     ]
    }
   ],
   "source": [
    "pwr_transgorm_all = preprocessing.power_transform(conti[conti.columns[1:]].values, \n",
    "                                                  method = 'yeo-johnson')"
   ]
  },
  {
   "cell_type": "code",
   "execution_count": 53,
   "metadata": {},
   "outputs": [],
   "source": [
    "pwr_transgorm_all = pd.DataFrame(pwr_transgorm_all)"
   ]
  },
  {
   "cell_type": "code",
   "execution_count": 54,
   "metadata": {},
   "outputs": [],
   "source": [
    "pwr_transgorm_all.columns = conti.columns[1:]"
   ]
  },
  {
   "cell_type": "code",
   "execution_count": 55,
   "metadata": {},
   "outputs": [],
   "source": [
    "pwr_transgorm_all['I1'] = conti['I1'].values"
   ]
  },
  {
   "cell_type": "code",
   "execution_count": 56,
   "metadata": {},
   "outputs": [
    {
     "data": {
      "text/html": [
       "<div>\n",
       "<style scoped>\n",
       "    .dataframe tbody tr th:only-of-type {\n",
       "        vertical-align: middle;\n",
       "    }\n",
       "\n",
       "    .dataframe tbody tr th {\n",
       "        vertical-align: top;\n",
       "    }\n",
       "\n",
       "    .dataframe thead th {\n",
       "        text-align: right;\n",
       "    }\n",
       "</style>\n",
       "<table border=\"1\" class=\"dataframe\">\n",
       "  <thead>\n",
       "    <tr style=\"text-align: right;\">\n",
       "      <th></th>\n",
       "      <th>C7_imputed</th>\n",
       "      <th>C1</th>\n",
       "      <th>C4</th>\n",
       "      <th>C3_imputed</th>\n",
       "      <th>words_per_sentence</th>\n",
       "      <th>real_word_per</th>\n",
       "      <th>non_real_word_per</th>\n",
       "      <th>short_sentences</th>\n",
       "      <th>short_sentences_per</th>\n",
       "      <th>long_sentences_per</th>\n",
       "      <th>long_words_per</th>\n",
       "      <th>pos_words_percent</th>\n",
       "      <th>neg_words_percent</th>\n",
       "      <th>uncertain_words_percent</th>\n",
       "      <th>total_shares</th>\n",
       "      <th>sales_per_share</th>\n",
       "      <th>outstanding_share_per</th>\n",
       "      <th>offering_share_per</th>\n",
       "      <th>C5_prime</th>\n",
       "      <th>C6_prime</th>\n",
       "      <th>I1</th>\n",
       "    </tr>\n",
       "  </thead>\n",
       "  <tbody>\n",
       "    <tr>\n",
       "      <th>0</th>\n",
       "      <td>-0.435522</td>\n",
       "      <td>0.083556</td>\n",
       "      <td>0.625661</td>\n",
       "      <td>0.090772</td>\n",
       "      <td>0.041098</td>\n",
       "      <td>0.612727</td>\n",
       "      <td>-0.600033</td>\n",
       "      <td>0.131210</td>\n",
       "      <td>-0.098516</td>\n",
       "      <td>0.104980</td>\n",
       "      <td>0.282355</td>\n",
       "      <td>-0.134616</td>\n",
       "      <td>0.319442</td>\n",
       "      <td>-0.131815</td>\n",
       "      <td>0.0</td>\n",
       "      <td>-0.901218</td>\n",
       "      <td>0.079809</td>\n",
       "      <td>-0.075456</td>\n",
       "      <td>0.095989</td>\n",
       "      <td>0.809059</td>\n",
       "      <td>AATI</td>\n",
       "    </tr>\n",
       "    <tr>\n",
       "      <th>1</th>\n",
       "      <td>-0.804847</td>\n",
       "      <td>1.194205</td>\n",
       "      <td>-0.676024</td>\n",
       "      <td>0.047297</td>\n",
       "      <td>0.187881</td>\n",
       "      <td>0.108388</td>\n",
       "      <td>-0.086026</td>\n",
       "      <td>1.476971</td>\n",
       "      <td>-0.159445</td>\n",
       "      <td>0.166681</td>\n",
       "      <td>-0.102942</td>\n",
       "      <td>-1.459202</td>\n",
       "      <td>1.210623</td>\n",
       "      <td>-0.217787</td>\n",
       "      <td>0.0</td>\n",
       "      <td>-0.965298</td>\n",
       "      <td>2.322293</td>\n",
       "      <td>-2.338805</td>\n",
       "      <td>2.225766</td>\n",
       "      <td>-0.380114</td>\n",
       "      <td>ABPI</td>\n",
       "    </tr>\n",
       "    <tr>\n",
       "      <th>2</th>\n",
       "      <td>-1.436472</td>\n",
       "      <td>-0.374917</td>\n",
       "      <td>0.348750</td>\n",
       "      <td>0.051042</td>\n",
       "      <td>-0.235919</td>\n",
       "      <td>0.637715</td>\n",
       "      <td>-0.625810</td>\n",
       "      <td>-2.095431</td>\n",
       "      <td>-0.048186</td>\n",
       "      <td>0.053969</td>\n",
       "      <td>1.296397</td>\n",
       "      <td>2.876214</td>\n",
       "      <td>-1.889155</td>\n",
       "      <td>-0.791761</td>\n",
       "      <td>0.0</td>\n",
       "      <td>-1.162858</td>\n",
       "      <td>-0.236703</td>\n",
       "      <td>0.234711</td>\n",
       "      <td>-0.196085</td>\n",
       "      <td>-2.255397</td>\n",
       "      <td>ACAD</td>\n",
       "    </tr>\n",
       "    <tr>\n",
       "      <th>3</th>\n",
       "      <td>-1.368097</td>\n",
       "      <td>0.881342</td>\n",
       "      <td>0.326299</td>\n",
       "      <td>0.054241</td>\n",
       "      <td>-0.569181</td>\n",
       "      <td>1.064157</td>\n",
       "      <td>-1.070172</td>\n",
       "      <td>-0.167316</td>\n",
       "      <td>1.157431</td>\n",
       "      <td>-1.173915</td>\n",
       "      <td>1.278336</td>\n",
       "      <td>1.905052</td>\n",
       "      <td>-1.532951</td>\n",
       "      <td>-0.067201</td>\n",
       "      <td>0.0</td>\n",
       "      <td>-1.120476</td>\n",
       "      <td>-0.284734</td>\n",
       "      <td>0.281706</td>\n",
       "      <td>-0.240845</td>\n",
       "      <td>-1.034174</td>\n",
       "      <td>ACHN</td>\n",
       "    </tr>\n",
       "    <tr>\n",
       "      <th>4</th>\n",
       "      <td>1.017824</td>\n",
       "      <td>-0.553817</td>\n",
       "      <td>-1.245978</td>\n",
       "      <td>0.063359</td>\n",
       "      <td>-0.318098</td>\n",
       "      <td>-0.344652</td>\n",
       "      <td>0.365494</td>\n",
       "      <td>1.015483</td>\n",
       "      <td>0.598786</td>\n",
       "      <td>-0.604285</td>\n",
       "      <td>-0.486958</td>\n",
       "      <td>-0.515508</td>\n",
       "      <td>0.588919</td>\n",
       "      <td>-0.146732</td>\n",
       "      <td>0.0</td>\n",
       "      <td>1.658317</td>\n",
       "      <td>-0.004083</td>\n",
       "      <td>0.006856</td>\n",
       "      <td>0.018987</td>\n",
       "      <td>0.482042</td>\n",
       "      <td>ACLI</td>\n",
       "    </tr>\n",
       "    <tr>\n",
       "      <th>...</th>\n",
       "      <td>...</td>\n",
       "      <td>...</td>\n",
       "      <td>...</td>\n",
       "      <td>...</td>\n",
       "      <td>...</td>\n",
       "      <td>...</td>\n",
       "      <td>...</td>\n",
       "      <td>...</td>\n",
       "      <td>...</td>\n",
       "      <td>...</td>\n",
       "      <td>...</td>\n",
       "      <td>...</td>\n",
       "      <td>...</td>\n",
       "      <td>...</td>\n",
       "      <td>...</td>\n",
       "      <td>...</td>\n",
       "      <td>...</td>\n",
       "      <td>...</td>\n",
       "      <td>...</td>\n",
       "      <td>...</td>\n",
       "      <td>...</td>\n",
       "    </tr>\n",
       "    <tr>\n",
       "      <th>653</th>\n",
       "      <td>0.293463</td>\n",
       "      <td>1.486274</td>\n",
       "      <td>-0.154037</td>\n",
       "      <td>0.059348</td>\n",
       "      <td>-0.674601</td>\n",
       "      <td>1.294081</td>\n",
       "      <td>-1.313241</td>\n",
       "      <td>0.681229</td>\n",
       "      <td>0.277588</td>\n",
       "      <td>-0.277001</td>\n",
       "      <td>-0.209906</td>\n",
       "      <td>0.620907</td>\n",
       "      <td>-0.748046</td>\n",
       "      <td>0.360780</td>\n",
       "      <td>0.0</td>\n",
       "      <td>0.016294</td>\n",
       "      <td>0.138336</td>\n",
       "      <td>-0.132935</td>\n",
       "      <td>0.149575</td>\n",
       "      <td>1.284717</td>\n",
       "      <td>ZIP</td>\n",
       "    </tr>\n",
       "    <tr>\n",
       "      <th>654</th>\n",
       "      <td>-0.814636</td>\n",
       "      <td>-0.246046</td>\n",
       "      <td>1.694689</td>\n",
       "      <td>0.058976</td>\n",
       "      <td>0.273820</td>\n",
       "      <td>0.475412</td>\n",
       "      <td>-0.458907</td>\n",
       "      <td>0.223660</td>\n",
       "      <td>-0.193850</td>\n",
       "      <td>0.201497</td>\n",
       "      <td>0.622589</td>\n",
       "      <td>-0.233011</td>\n",
       "      <td>-0.028931</td>\n",
       "      <td>0.307628</td>\n",
       "      <td>0.0</td>\n",
       "      <td>-1.039790</td>\n",
       "      <td>0.516487</td>\n",
       "      <td>-0.505666</td>\n",
       "      <td>0.494243</td>\n",
       "      <td>-0.499034</td>\n",
       "      <td>ZLTQ</td>\n",
       "    </tr>\n",
       "    <tr>\n",
       "      <th>655</th>\n",
       "      <td>-0.393276</td>\n",
       "      <td>-0.044796</td>\n",
       "      <td>0.671409</td>\n",
       "      <td>0.067985</td>\n",
       "      <td>0.042309</td>\n",
       "      <td>-0.297306</td>\n",
       "      <td>0.318760</td>\n",
       "      <td>-0.821352</td>\n",
       "      <td>-0.202167</td>\n",
       "      <td>0.209910</td>\n",
       "      <td>-0.564454</td>\n",
       "      <td>-0.399196</td>\n",
       "      <td>0.607066</td>\n",
       "      <td>-0.250225</td>\n",
       "      <td>0.0</td>\n",
       "      <td>-0.003881</td>\n",
       "      <td>-0.036973</td>\n",
       "      <td>0.039104</td>\n",
       "      <td>-0.011273</td>\n",
       "      <td>0.214481</td>\n",
       "      <td>ZSTN</td>\n",
       "    </tr>\n",
       "    <tr>\n",
       "      <th>656</th>\n",
       "      <td>0.030599</td>\n",
       "      <td>-0.592370</td>\n",
       "      <td>0.734814</td>\n",
       "      <td>0.064512</td>\n",
       "      <td>0.227300</td>\n",
       "      <td>0.640973</td>\n",
       "      <td>-0.629172</td>\n",
       "      <td>-2.059347</td>\n",
       "      <td>-1.176975</td>\n",
       "      <td>1.186528</td>\n",
       "      <td>-1.212307</td>\n",
       "      <td>0.955804</td>\n",
       "      <td>-2.049854</td>\n",
       "      <td>1.256821</td>\n",
       "      <td>0.0</td>\n",
       "      <td>0.737534</td>\n",
       "      <td>0.280647</td>\n",
       "      <td>-0.272912</td>\n",
       "      <td>0.279517</td>\n",
       "      <td>1.217828</td>\n",
       "      <td>ZUMZ</td>\n",
       "    </tr>\n",
       "    <tr>\n",
       "      <th>657</th>\n",
       "      <td>1.534014</td>\n",
       "      <td>1.312354</td>\n",
       "      <td>0.479029</td>\n",
       "      <td>0.069348</td>\n",
       "      <td>0.385859</td>\n",
       "      <td>0.377504</td>\n",
       "      <td>-0.358818</td>\n",
       "      <td>-0.444757</td>\n",
       "      <td>-0.538568</td>\n",
       "      <td>0.549192</td>\n",
       "      <td>0.322294</td>\n",
       "      <td>1.063110</td>\n",
       "      <td>-0.740532</td>\n",
       "      <td>-0.021413</td>\n",
       "      <td>0.0</td>\n",
       "      <td>1.387331</td>\n",
       "      <td>-0.326441</td>\n",
       "      <td>0.322504</td>\n",
       "      <td>-0.279827</td>\n",
       "      <td>0.571229</td>\n",
       "      <td>ZZ</td>\n",
       "    </tr>\n",
       "  </tbody>\n",
       "</table>\n",
       "<p>658 rows × 21 columns</p>\n",
       "</div>"
      ],
      "text/plain": [
       "     C7_imputed        C1        C4  C3_imputed  words_per_sentence  \\\n",
       "0     -0.435522  0.083556  0.625661    0.090772            0.041098   \n",
       "1     -0.804847  1.194205 -0.676024    0.047297            0.187881   \n",
       "2     -1.436472 -0.374917  0.348750    0.051042           -0.235919   \n",
       "3     -1.368097  0.881342  0.326299    0.054241           -0.569181   \n",
       "4      1.017824 -0.553817 -1.245978    0.063359           -0.318098   \n",
       "..          ...       ...       ...         ...                 ...   \n",
       "653    0.293463  1.486274 -0.154037    0.059348           -0.674601   \n",
       "654   -0.814636 -0.246046  1.694689    0.058976            0.273820   \n",
       "655   -0.393276 -0.044796  0.671409    0.067985            0.042309   \n",
       "656    0.030599 -0.592370  0.734814    0.064512            0.227300   \n",
       "657    1.534014  1.312354  0.479029    0.069348            0.385859   \n",
       "\n",
       "     real_word_per  non_real_word_per  short_sentences  short_sentences_per  \\\n",
       "0         0.612727          -0.600033         0.131210            -0.098516   \n",
       "1         0.108388          -0.086026         1.476971            -0.159445   \n",
       "2         0.637715          -0.625810        -2.095431            -0.048186   \n",
       "3         1.064157          -1.070172        -0.167316             1.157431   \n",
       "4        -0.344652           0.365494         1.015483             0.598786   \n",
       "..             ...                ...              ...                  ...   \n",
       "653       1.294081          -1.313241         0.681229             0.277588   \n",
       "654       0.475412          -0.458907         0.223660            -0.193850   \n",
       "655      -0.297306           0.318760        -0.821352            -0.202167   \n",
       "656       0.640973          -0.629172        -2.059347            -1.176975   \n",
       "657       0.377504          -0.358818        -0.444757            -0.538568   \n",
       "\n",
       "     long_sentences_per  long_words_per  pos_words_percent  neg_words_percent  \\\n",
       "0              0.104980        0.282355          -0.134616           0.319442   \n",
       "1              0.166681       -0.102942          -1.459202           1.210623   \n",
       "2              0.053969        1.296397           2.876214          -1.889155   \n",
       "3             -1.173915        1.278336           1.905052          -1.532951   \n",
       "4             -0.604285       -0.486958          -0.515508           0.588919   \n",
       "..                  ...             ...                ...                ...   \n",
       "653           -0.277001       -0.209906           0.620907          -0.748046   \n",
       "654            0.201497        0.622589          -0.233011          -0.028931   \n",
       "655            0.209910       -0.564454          -0.399196           0.607066   \n",
       "656            1.186528       -1.212307           0.955804          -2.049854   \n",
       "657            0.549192        0.322294           1.063110          -0.740532   \n",
       "\n",
       "     uncertain_words_percent  total_shares  sales_per_share  \\\n",
       "0                  -0.131815           0.0        -0.901218   \n",
       "1                  -0.217787           0.0        -0.965298   \n",
       "2                  -0.791761           0.0        -1.162858   \n",
       "3                  -0.067201           0.0        -1.120476   \n",
       "4                  -0.146732           0.0         1.658317   \n",
       "..                       ...           ...              ...   \n",
       "653                 0.360780           0.0         0.016294   \n",
       "654                 0.307628           0.0        -1.039790   \n",
       "655                -0.250225           0.0        -0.003881   \n",
       "656                 1.256821           0.0         0.737534   \n",
       "657                -0.021413           0.0         1.387331   \n",
       "\n",
       "     outstanding_share_per  offering_share_per  C5_prime  C6_prime    I1  \n",
       "0                 0.079809           -0.075456  0.095989  0.809059  AATI  \n",
       "1                 2.322293           -2.338805  2.225766 -0.380114  ABPI  \n",
       "2                -0.236703            0.234711 -0.196085 -2.255397  ACAD  \n",
       "3                -0.284734            0.281706 -0.240845 -1.034174  ACHN  \n",
       "4                -0.004083            0.006856  0.018987  0.482042  ACLI  \n",
       "..                     ...                 ...       ...       ...   ...  \n",
       "653               0.138336           -0.132935  0.149575  1.284717   ZIP  \n",
       "654               0.516487           -0.505666  0.494243 -0.499034  ZLTQ  \n",
       "655              -0.036973            0.039104 -0.011273  0.214481  ZSTN  \n",
       "656               0.280647           -0.272912  0.279517  1.217828  ZUMZ  \n",
       "657              -0.326441            0.322504 -0.279827  0.571229    ZZ  \n",
       "\n",
       "[658 rows x 21 columns]"
      ]
     },
     "execution_count": 56,
     "metadata": {},
     "output_type": "execute_result"
    }
   ],
   "source": [
    "pwr_transgorm_all"
   ]
  },
  {
   "cell_type": "markdown",
   "metadata": {},
   "source": [
    "Now will handle the total_shares column seperately"
   ]
  },
  {
   "cell_type": "code",
   "execution_count": 59,
   "metadata": {},
   "outputs": [],
   "source": [
    "pwr_transgorm_all['total_shares'] = norm_vals_2[0]"
   ]
  },
  {
   "cell_type": "code",
   "execution_count": 60,
   "metadata": {},
   "outputs": [],
   "source": [
    "pwr_transgorm_all.columns = [i + '_normalized' for i in list(pwr_transgorm_all.columns)]"
   ]
  },
  {
   "cell_type": "code",
   "execution_count": 61,
   "metadata": {},
   "outputs": [],
   "source": [
    "pwr_transgorm_all.to_csv('normalized_continuous_peter.csv')"
   ]
  },
  {
   "cell_type": "code",
   "execution_count": 62,
   "metadata": {},
   "outputs": [
    {
     "name": "stdout",
     "output_type": "stream",
     "text": [
      "0      0.001251\n",
      "1      0.000759\n",
      "2      0.000530\n",
      "3      0.000470\n",
      "4      0.000946\n",
      "         ...   \n",
      "653    0.001167\n",
      "654    0.000965\n",
      "655    0.000354\n",
      "656    0.000396\n",
      "657    0.002881\n",
      "Name: total_shares_normalized, Length: 658, dtype: float64\n"
     ]
    }
   ],
   "source": [
    "print(pwr_transgorm_all.total_shares_normalized)"
   ]
  }
 ],
 "metadata": {
  "kernelspec": {
   "display_name": "Python 3",
   "language": "python",
   "name": "python3"
  },
  "language_info": {
   "codemirror_mode": {
    "name": "ipython",
    "version": 3
   },
   "file_extension": ".py",
   "mimetype": "text/x-python",
   "name": "python",
   "nbconvert_exporter": "python",
   "pygments_lexer": "ipython3",
   "version": "3.6.7"
  }
 },
 "nbformat": 4,
 "nbformat_minor": 4
}
