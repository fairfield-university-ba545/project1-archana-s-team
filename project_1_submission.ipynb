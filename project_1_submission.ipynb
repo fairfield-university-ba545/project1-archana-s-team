{
 "cells": [
  {
   "cell_type": "markdown",
   "metadata": {},
   "source": [
    "# INTRO HERE"
   ]
  },
  {
   "cell_type": "code",
   "execution_count": null,
   "metadata": {},
   "outputs": [],
   "source": []
  },
  {
   "cell_type": "markdown",
   "metadata": {},
   "source": [
    "# Project Overview"
   ]
  },
  {
   "cell_type": "markdown",
   "metadata": {},
   "source": [
    "<img src=\"project_layout.png\" alt=\"Drawing\" style=\"width: 500px;\"/>"
   ]
  },
  {
   "cell_type": "markdown",
   "metadata": {},
   "source": [
    "# Step 0: Imports and loading data"
   ]
  },
  {
   "cell_type": "code",
   "execution_count": 68,
   "metadata": {},
   "outputs": [],
   "source": [
    "import pandas as pd\n",
    "import numpy as np\n",
    "import matplotlib.pyplot as plt\n",
    "from scipy.stats import shapiro\n",
    "import seaborn as sns\n",
    "from scipy.stats import zscore, skew\n",
    "from sklearn import preprocessing\n",
    "from sklearn.feature_selection import RFE\n",
    "from sklearn.linear_model import LogisticRegression\n",
    "from sklearn.ensemble import RandomForestClassifier\n",
    "from sklearn.model_selection import train_test_split\n",
    "from itertools import chain\n",
    "import xgboost\n",
    "from sklearn import metrics, model_selection\n",
    "from sklearn.metrics import confusion_matrix\n",
    "from sklearn.metrics import classification_report\n",
    "from sklearn.metrics import roc_auc_score\n",
    "from sklearn.metrics import accuracy_score\n",
    "from sklearn.metrics import precision_recall_fscore_support\n",
    "from sklearn.decomposition import PCA\n",
    "\n",
    "from sklearn.metrics import roc_curve, confusion_matrix\n",
    "\n",
    "from sklearn.model_selection import cross_val_score\n",
    "from sklearn.model_selection import train_test_split\n",
    "from sklearn.model_selection import RandomizedSearchCV, GridSearchCV, StratifiedKFold\n",
    "import xgboost as xgb\n",
    "from sklearn.metrics import f1_score\n",
    "\n",
    "pd.set_option('display.max_columns', 500)"
   ]
  },
  {
   "cell_type": "code",
   "execution_count": 2,
   "metadata": {},
   "outputs": [],
   "source": [
    "# Load the raw data and create a copy to use\n",
    "raw_data = pd.read_excel('Competition1_raw_data.xlsx')\n",
    "data = raw_data.copy()"
   ]
  },
  {
   "cell_type": "code",
   "execution_count": 6,
   "metadata": {},
   "outputs": [
    {
     "data": {
      "text/html": [
       "<div>\n",
       "<style scoped>\n",
       "    .dataframe tbody tr th:only-of-type {\n",
       "        vertical-align: middle;\n",
       "    }\n",
       "\n",
       "    .dataframe tbody tr th {\n",
       "        vertical-align: top;\n",
       "    }\n",
       "\n",
       "    .dataframe thead th {\n",
       "        text-align: right;\n",
       "    }\n",
       "</style>\n",
       "<table border=\"1\" class=\"dataframe\">\n",
       "  <thead>\n",
       "    <tr style=\"text-align: right;\">\n",
       "      <th></th>\n",
       "      <th>I1</th>\n",
       "      <th>I2</th>\n",
       "      <th>I3</th>\n",
       "      <th>P(IPO)</th>\n",
       "      <th>P(H)</th>\n",
       "      <th>P(L)</th>\n",
       "      <th>P(1Day)</th>\n",
       "      <th>C1</th>\n",
       "      <th>C2</th>\n",
       "      <th>C3</th>\n",
       "      <th>C4</th>\n",
       "      <th>C5</th>\n",
       "      <th>C6</th>\n",
       "      <th>C7</th>\n",
       "      <th>T1</th>\n",
       "      <th>T2</th>\n",
       "      <th>T3</th>\n",
       "      <th>T4</th>\n",
       "      <th>T5</th>\n",
       "      <th>S1</th>\n",
       "      <th>S2</th>\n",
       "      <th>S3</th>\n",
       "    </tr>\n",
       "  </thead>\n",
       "  <tbody>\n",
       "    <tr>\n",
       "      <th>0</th>\n",
       "      <td>AATI</td>\n",
       "      <td>ADVANCED ANALOGIC TECHNOLOGIES INC</td>\n",
       "      <td>3674</td>\n",
       "      <td>10</td>\n",
       "      <td>9.5</td>\n",
       "      <td>8.5</td>\n",
       "      <td>11.87</td>\n",
       "      <td>122</td>\n",
       "      <td>1</td>\n",
       "      <td>3.43</td>\n",
       "      <td>0.0290743</td>\n",
       "      <td>40962052</td>\n",
       "      <td>10600000</td>\n",
       "      <td>51.345</td>\n",
       "      <td>470</td>\n",
       "      <td>12719</td>\n",
       "      <td>11560</td>\n",
       "      <td>301</td>\n",
       "      <td>690</td>\n",
       "      <td>62</td>\n",
       "      <td>117</td>\n",
       "      <td>139</td>\n",
       "    </tr>\n",
       "    <tr>\n",
       "      <th>1</th>\n",
       "      <td>ABPI</td>\n",
       "      <td>ACCENTIA BIOPHARMACEUTICALS INC</td>\n",
       "      <td>2834</td>\n",
       "      <td>8</td>\n",
       "      <td>10</td>\n",
       "      <td>8</td>\n",
       "      <td>7.25</td>\n",
       "      <td>259</td>\n",
       "      <td>0</td>\n",
       "      <td>-1.62</td>\n",
       "      <td>-0.0133516</td>\n",
       "      <td>28869196</td>\n",
       "      <td>2400000</td>\n",
       "      <td>25.936</td>\n",
       "      <td>791</td>\n",
       "      <td>21792</td>\n",
       "      <td>19585</td>\n",
       "      <td>510</td>\n",
       "      <td>1120</td>\n",
       "      <td>71</td>\n",
       "      <td>242</td>\n",
       "      <td>237</td>\n",
       "    </tr>\n",
       "    <tr>\n",
       "      <th>2</th>\n",
       "      <td>ACAD</td>\n",
       "      <td>ACADIA PHARMACEUTICALS INC</td>\n",
       "      <td>2834</td>\n",
       "      <td>7</td>\n",
       "      <td>14</td>\n",
       "      <td>12</td>\n",
       "      <td>6.7</td>\n",
       "      <td>90</td>\n",
       "      <td>1</td>\n",
       "      <td>-1.24</td>\n",
       "      <td>0.020715</td>\n",
       "      <td>16845668</td>\n",
       "      <td>5000000</td>\n",
       "      <td>7.378</td>\n",
       "      <td>201</td>\n",
       "      <td>5262</td>\n",
       "      <td>4785</td>\n",
       "      <td>128</td>\n",
       "      <td>325</td>\n",
       "      <td>61</td>\n",
       "      <td>33</td>\n",
       "      <td>60</td>\n",
       "    </tr>\n",
       "    <tr>\n",
       "      <th>3</th>\n",
       "      <td>ACHN</td>\n",
       "      <td>ACHILLION PHARMACEUTICALS INC</td>\n",
       "      <td>2834</td>\n",
       "      <td>11.5</td>\n",
       "      <td>16</td>\n",
       "      <td>14</td>\n",
       "      <td>12.39</td>\n",
       "      <td>209</td>\n",
       "      <td>1</td>\n",
       "      <td>-0.91</td>\n",
       "      <td>0.0200231</td>\n",
       "      <td>14848637</td>\n",
       "      <td>4500000</td>\n",
       "      <td>8.526</td>\n",
       "      <td>328</td>\n",
       "      <td>8259</td>\n",
       "      <td>7574</td>\n",
       "      <td>177</td>\n",
       "      <td>509</td>\n",
       "      <td>80</td>\n",
       "      <td>59</td>\n",
       "      <td>110</td>\n",
       "    </tr>\n",
       "    <tr>\n",
       "      <th>4</th>\n",
       "      <td>ACLI</td>\n",
       "      <td>AMERICAN COMMERCIAL LINES INC.</td>\n",
       "      <td>4492</td>\n",
       "      <td>21</td>\n",
       "      <td>21</td>\n",
       "      <td>19</td>\n",
       "      <td>56.6</td>\n",
       "      <td>80</td>\n",
       "      <td>1</td>\n",
       "      <td>0.07</td>\n",
       "      <td>-0.0348947</td>\n",
       "      <td>30741716</td>\n",
       "      <td>8250000</td>\n",
       "      <td>632.298</td>\n",
       "      <td>572</td>\n",
       "      <td>14830</td>\n",
       "      <td>13176</td>\n",
       "      <td>336</td>\n",
       "      <td>720</td>\n",
       "      <td>67</td>\n",
       "      <td>149</td>\n",
       "      <td>167</td>\n",
       "    </tr>\n",
       "  </tbody>\n",
       "</table>\n",
       "</div>"
      ],
      "text/plain": [
       "     I1                                  I2    I3 P(IPO) P(H) P(L) P(1Day)  \\\n",
       "0  AATI  ADVANCED ANALOGIC TECHNOLOGIES INC  3674     10  9.5  8.5   11.87   \n",
       "1  ABPI     ACCENTIA BIOPHARMACEUTICALS INC  2834      8   10    8    7.25   \n",
       "2  ACAD          ACADIA PHARMACEUTICALS INC  2834      7   14   12     6.7   \n",
       "3  ACHN       ACHILLION PHARMACEUTICALS INC  2834   11.5   16   14   12.39   \n",
       "4  ACLI     AMERICAN COMMERCIAL LINES INC.   4492     21   21   19    56.6   \n",
       "\n",
       "    C1 C2    C3         C4        C5        C6       C7   T1     T2     T3  \\\n",
       "0  122  1  3.43  0.0290743  40962052  10600000   51.345  470  12719  11560   \n",
       "1  259  0 -1.62 -0.0133516  28869196   2400000   25.936  791  21792  19585   \n",
       "2   90  1 -1.24   0.020715  16845668   5000000    7.378  201   5262   4785   \n",
       "3  209  1 -0.91  0.0200231  14848637   4500000    8.526  328   8259   7574   \n",
       "4   80  1  0.07 -0.0348947  30741716   8250000  632.298  572  14830  13176   \n",
       "\n",
       "    T4    T5  S1   S2   S3  \n",
       "0  301   690  62  117  139  \n",
       "1  510  1120  71  242  237  \n",
       "2  128   325  61   33   60  \n",
       "3  177   509  80   59  110  \n",
       "4  336   720  67  149  167  "
      ]
     },
     "execution_count": 6,
     "metadata": {},
     "output_type": "execute_result"
    }
   ],
   "source": [
    "# Look at the initial data\n",
    "data.head()"
   ]
  },
  {
   "cell_type": "markdown",
   "metadata": {},
   "source": [
    "![title](data_dict.png)"
   ]
  },
  {
   "cell_type": "code",
   "execution_count": null,
   "metadata": {},
   "outputs": [],
   "source": []
  },
  {
   "cell_type": "markdown",
   "metadata": {},
   "source": [
    "# Step 1: Identify the null values"
   ]
  },
  {
   "cell_type": "markdown",
   "metadata": {},
   "source": [
    "As given, the data identifies some null values with the '-' symbol. Replacing these with actual null values will allow handling them to be easier."
   ]
  },
  {
   "cell_type": "code",
   "execution_count": 7,
   "metadata": {},
   "outputs": [],
   "source": [
    "# Replace the '-' indicator with nulls\n",
    "for col in data.columns:\n",
    "    data[col] = data[col].apply(lambda x: np.nan if x == '-' else x)"
   ]
  },
  {
   "cell_type": "markdown",
   "metadata": {},
   "source": [
    "Null values have been updated to more easilly identifiable. However, there are scenarios which logically do not make as much sense. These can be identified and then replaced with null values so we can impute them at a later time."
   ]
  },
  {
   "cell_type": "code",
   "execution_count": 8,
   "metadata": {},
   "outputs": [],
   "source": [
    "def data_validation(row):  \n",
    "    '''\n",
    "    Run initially to identify rows which do not logically make sense.\n",
    "    Fix the issues, and then rerun until only nulls left\n",
    "    \n",
    "    '''\n",
    "    # If any nulls we know it's off\n",
    "    ret_val = 0\n",
    "    if row.isna().any():\n",
    "        ret_val = 1\n",
    "    \n",
    "    # P(H) > P(L)\n",
    "    #Higher range of price > lower range\n",
    "    if row['P(H)'] < row['P(L)']:\n",
    "        ret_val = 2\n",
    "    \n",
    "    # T4 < T1\n",
    "    # Number of long sentences less than number of sentences\n",
    "    elif row['T4'] > row['T1']:\n",
    "        ret_val = 3\n",
    "        \n",
    "    # T3 < T2\n",
    "    # Number of words < number of real words\n",
    "    elif row['T3'] > row['T2']:\n",
    "        ret_val = 4\n",
    "        \n",
    "    # T5 < T2\n",
    "    # Number of long words < number of total words\n",
    "    elif row['T5'] > row['T2']:\n",
    "        ret_val = 5\n",
    "        \n",
    "    # T1 < T2\n",
    "    # Number of words > number of sentences\n",
    "    elif row['T1'] > row['T2']:\n",
    "        ret_val = 6\n",
    "    \n",
    "    # C2, C3' in [0,1]\n",
    "    # Defined as only being one of these two\n",
    "    elif row['C2'] not in [0.0,1.0] and pd.notnull(row['C2']):\n",
    "        ret_val = 7\n",
    "    \n",
    "    return ret_val\n",
    "    "
   ]
  },
  {
   "cell_type": "code",
   "execution_count": 9,
   "metadata": {},
   "outputs": [],
   "source": [
    "# Create a seperate field which indicates that the row, at some point, contained null values which needed to be imputed\n",
    "data['data_updated'] = data.apply(lambda row: data_validation(row), axis = 1)"
   ]
  },
  {
   "cell_type": "code",
   "execution_count": 10,
   "metadata": {},
   "outputs": [
    {
     "data": {
      "text/plain": [
       "0    590\n",
       "1     87\n",
       "4      2\n",
       "2      2\n",
       "3      1\n",
       "Name: data_updated, dtype: int64"
      ]
     },
     "execution_count": 10,
     "metadata": {},
     "output_type": "execute_result"
    }
   ],
   "source": [
    "data.data_updated.value_counts()"
   ]
  },
  {
   "cell_type": "markdown",
   "metadata": {},
   "source": [
    "We can see that there are 87 rows containing null values. Additionally, a few rows contain logic which does not make sense. We can fix those now, rerun, and check that all rows do not have logical flaws. "
   ]
  },
  {
   "cell_type": "code",
   "execution_count": 11,
   "metadata": {},
   "outputs": [],
   "source": [
    "data.loc[data['data_updated'] == 2, ['P(H)','P(L)']] = np.nan\n",
    "data.loc[data['data_updated'] == 3, ['T4','T1']] = np.nan\n",
    "data.loc[data['data_updated'] == 4, ['T3','T2']] = np.nan\n",
    "data['data_updated'] = data.apply(lambda row: data_validation(row), axis = 1)"
   ]
  },
  {
   "cell_type": "code",
   "execution_count": 12,
   "metadata": {},
   "outputs": [
    {
     "data": {
      "text/plain": [
       "0    590\n",
       "1     91\n",
       "4      1\n",
       "Name: data_updated, dtype: int64"
      ]
     },
     "execution_count": 12,
     "metadata": {},
     "output_type": "execute_result"
    }
   ],
   "source": [
    "data.data_updated.value_counts()"
   ]
  },
  {
   "cell_type": "markdown",
   "metadata": {},
   "source": [
    "A single row had more than one logical issue. We can fix this, and run or identification function again to ensure all rows have been cleaned."
   ]
  },
  {
   "cell_type": "code",
   "execution_count": 13,
   "metadata": {},
   "outputs": [
    {
     "data": {
      "text/plain": [
       "0    590\n",
       "1     92\n",
       "Name: data_updated, dtype: int64"
      ]
     },
     "execution_count": 13,
     "metadata": {},
     "output_type": "execute_result"
    }
   ],
   "source": [
    "data.loc[data['data_updated'] == 4, ['T3','T2']] = np.nan\n",
    "data['data_updated'] = data.apply(lambda row: data_validation(row), axis = 1)\n",
    "data.data_updated.value_counts()"
   ]
  },
  {
   "cell_type": "markdown",
   "metadata": {},
   "source": [
    "Now the only issue left is the null values which we can address through imputation."
   ]
  },
  {
   "cell_type": "markdown",
   "metadata": {},
   "source": [
    "# Step 2: Descriptive Statistics\n",
    "- Mean/median/std/min/max/count/quartiles\n",
    "- Missing Records\n",
    "- Outlier Identification\n",
    "    - Address Outliers\n",
    "- Data Types/Fix data types"
   ]
  },
  {
   "cell_type": "markdown",
   "metadata": {},
   "source": [
    "The describe method can give a lot of useful information about each of the column values including quartile information, the mean, minimum and maximum values, and the standard deviation."
   ]
  },
  {
   "cell_type": "code",
   "execution_count": 14,
   "metadata": {},
   "outputs": [
    {
     "data": {
      "text/html": [
       "<div>\n",
       "<style scoped>\n",
       "    .dataframe tbody tr th:only-of-type {\n",
       "        vertical-align: middle;\n",
       "    }\n",
       "\n",
       "    .dataframe tbody tr th {\n",
       "        vertical-align: top;\n",
       "    }\n",
       "\n",
       "    .dataframe thead th {\n",
       "        text-align: right;\n",
       "    }\n",
       "</style>\n",
       "<table border=\"1\" class=\"dataframe\">\n",
       "  <thead>\n",
       "    <tr style=\"text-align: right;\">\n",
       "      <th></th>\n",
       "      <th>P(IPO)</th>\n",
       "      <th>P(H)</th>\n",
       "      <th>P(L)</th>\n",
       "      <th>P(1Day)</th>\n",
       "      <th>C1</th>\n",
       "      <th>C2</th>\n",
       "      <th>C3</th>\n",
       "      <th>C4</th>\n",
       "      <th>C5</th>\n",
       "      <th>C6</th>\n",
       "      <th>C7</th>\n",
       "      <th>T1</th>\n",
       "      <th>T2</th>\n",
       "      <th>T3</th>\n",
       "      <th>T4</th>\n",
       "      <th>T5</th>\n",
       "      <th>S1</th>\n",
       "      <th>S2</th>\n",
       "      <th>S3</th>\n",
       "      <th>data_updated</th>\n",
       "    </tr>\n",
       "  </thead>\n",
       "  <tbody>\n",
       "    <tr>\n",
       "      <th>count</th>\n",
       "      <td>677.000000</td>\n",
       "      <td>670.000000</td>\n",
       "      <td>670.000000</td>\n",
       "      <td>660.000000</td>\n",
       "      <td>660.000000</td>\n",
       "      <td>660.000000</td>\n",
       "      <td>646.000000</td>\n",
       "      <td>660.000000</td>\n",
       "      <td>6.760000e+02</td>\n",
       "      <td>6.760000e+02</td>\n",
       "      <td>610.000000</td>\n",
       "      <td>680.000000</td>\n",
       "      <td>678.000000</td>\n",
       "      <td>678.000000</td>\n",
       "      <td>680.000000</td>\n",
       "      <td>681.000000</td>\n",
       "      <td>681.000000</td>\n",
       "      <td>681.000000</td>\n",
       "      <td>681.000000</td>\n",
       "      <td>682.000000</td>\n",
       "    </tr>\n",
       "    <tr>\n",
       "      <th>mean</th>\n",
       "      <td>13.837666</td>\n",
       "      <td>15.522925</td>\n",
       "      <td>13.527030</td>\n",
       "      <td>25.934766</td>\n",
       "      <td>149.728788</td>\n",
       "      <td>0.859091</td>\n",
       "      <td>1.788904</td>\n",
       "      <td>0.007282</td>\n",
       "      <td>4.935776e+07</td>\n",
       "      <td>1.241519e+07</td>\n",
       "      <td>500.459962</td>\n",
       "      <td>465.957353</td>\n",
       "      <td>12814.283186</td>\n",
       "      <td>11377.873156</td>\n",
       "      <td>294.264706</td>\n",
       "      <td>679.220264</td>\n",
       "      <td>68.421439</td>\n",
       "      <td>120.104258</td>\n",
       "      <td>144.759178</td>\n",
       "      <td>0.134897</td>\n",
       "    </tr>\n",
       "    <tr>\n",
       "      <th>std</th>\n",
       "      <td>6.053731</td>\n",
       "      <td>6.618732</td>\n",
       "      <td>5.839649</td>\n",
       "      <td>73.234948</td>\n",
       "      <td>152.817467</td>\n",
       "      <td>0.348192</td>\n",
       "      <td>162.666532</td>\n",
       "      <td>0.033318</td>\n",
       "      <td>1.043764e+08</td>\n",
       "      <td>2.512855e+07</td>\n",
       "      <td>1648.337634</td>\n",
       "      <td>175.668619</td>\n",
       "      <td>5396.780570</td>\n",
       "      <td>4833.321230</td>\n",
       "      <td>121.599795</td>\n",
       "      <td>472.914323</td>\n",
       "      <td>39.096525</td>\n",
       "      <td>84.828959</td>\n",
       "      <td>69.276285</td>\n",
       "      <td>0.341865</td>\n",
       "    </tr>\n",
       "    <tr>\n",
       "      <th>min</th>\n",
       "      <td>3.000000</td>\n",
       "      <td>4.000000</td>\n",
       "      <td>3.000000</td>\n",
       "      <td>0.000000</td>\n",
       "      <td>10.000000</td>\n",
       "      <td>0.000000</td>\n",
       "      <td>-786.239000</td>\n",
       "      <td>-0.162352</td>\n",
       "      <td>3.693227e+06</td>\n",
       "      <td>5.250000e+05</td>\n",
       "      <td>0.074000</td>\n",
       "      <td>132.000000</td>\n",
       "      <td>3271.000000</td>\n",
       "      <td>0.000000</td>\n",
       "      <td>0.000000</td>\n",
       "      <td>-1.000000</td>\n",
       "      <td>-1.000000</td>\n",
       "      <td>20.000000</td>\n",
       "      <td>26.000000</td>\n",
       "      <td>0.000000</td>\n",
       "    </tr>\n",
       "    <tr>\n",
       "      <th>25%</th>\n",
       "      <td>10.000000</td>\n",
       "      <td>13.000000</td>\n",
       "      <td>11.000000</td>\n",
       "      <td>11.000000</td>\n",
       "      <td>85.000000</td>\n",
       "      <td>1.000000</td>\n",
       "      <td>-0.852500</td>\n",
       "      <td>-0.013927</td>\n",
       "      <td>1.871417e+07</td>\n",
       "      <td>5.000000e+06</td>\n",
       "      <td>37.245750</td>\n",
       "      <td>351.750000</td>\n",
       "      <td>9213.250000</td>\n",
       "      <td>8135.000000</td>\n",
       "      <td>212.750000</td>\n",
       "      <td>462.000000</td>\n",
       "      <td>45.000000</td>\n",
       "      <td>73.000000</td>\n",
       "      <td>100.000000</td>\n",
       "      <td>0.000000</td>\n",
       "    </tr>\n",
       "    <tr>\n",
       "      <th>50%</th>\n",
       "      <td>13.500000</td>\n",
       "      <td>15.000000</td>\n",
       "      <td>13.000000</td>\n",
       "      <td>14.845000</td>\n",
       "      <td>107.000000</td>\n",
       "      <td>1.000000</td>\n",
       "      <td>0.010000</td>\n",
       "      <td>0.009125</td>\n",
       "      <td>2.740018e+07</td>\n",
       "      <td>7.398704e+06</td>\n",
       "      <td>103.833000</td>\n",
       "      <td>444.500000</td>\n",
       "      <td>12056.000000</td>\n",
       "      <td>10774.500000</td>\n",
       "      <td>279.000000</td>\n",
       "      <td>624.000000</td>\n",
       "      <td>60.000000</td>\n",
       "      <td>100.000000</td>\n",
       "      <td>134.000000</td>\n",
       "      <td>0.000000</td>\n",
       "    </tr>\n",
       "    <tr>\n",
       "      <th>75%</th>\n",
       "      <td>17.000000</td>\n",
       "      <td>17.000000</td>\n",
       "      <td>15.000000</td>\n",
       "      <td>20.485000</td>\n",
       "      <td>155.250000</td>\n",
       "      <td>1.000000</td>\n",
       "      <td>0.470000</td>\n",
       "      <td>0.031571</td>\n",
       "      <td>4.980786e+07</td>\n",
       "      <td>1.200000e+07</td>\n",
       "      <td>331.138000</td>\n",
       "      <td>551.250000</td>\n",
       "      <td>15243.250000</td>\n",
       "      <td>13712.000000</td>\n",
       "      <td>353.250000</td>\n",
       "      <td>795.000000</td>\n",
       "      <td>85.000000</td>\n",
       "      <td>142.000000</td>\n",
       "      <td>173.000000</td>\n",
       "      <td>0.000000</td>\n",
       "    </tr>\n",
       "    <tr>\n",
       "      <th>max</th>\n",
       "      <td>85.000000</td>\n",
       "      <td>135.000000</td>\n",
       "      <td>108.000000</td>\n",
       "      <td>1159.200562</td>\n",
       "      <td>2087.000000</td>\n",
       "      <td>1.000000</td>\n",
       "      <td>3864.500000</td>\n",
       "      <td>0.092896</td>\n",
       "      <td>2.138085e+09</td>\n",
       "      <td>4.212336e+08</td>\n",
       "      <td>30683.000000</td>\n",
       "      <td>1750.000000</td>\n",
       "      <td>49056.000000</td>\n",
       "      <td>43952.000000</td>\n",
       "      <td>1058.000000</td>\n",
       "      <td>10277.000000</td>\n",
       "      <td>309.000000</td>\n",
       "      <td>944.000000</td>\n",
       "      <td>883.000000</td>\n",
       "      <td>1.000000</td>\n",
       "    </tr>\n",
       "  </tbody>\n",
       "</table>\n",
       "</div>"
      ],
      "text/plain": [
       "           P(IPO)        P(H)        P(L)      P(1Day)           C1  \\\n",
       "count  677.000000  670.000000  670.000000   660.000000   660.000000   \n",
       "mean    13.837666   15.522925   13.527030    25.934766   149.728788   \n",
       "std      6.053731    6.618732    5.839649    73.234948   152.817467   \n",
       "min      3.000000    4.000000    3.000000     0.000000    10.000000   \n",
       "25%     10.000000   13.000000   11.000000    11.000000    85.000000   \n",
       "50%     13.500000   15.000000   13.000000    14.845000   107.000000   \n",
       "75%     17.000000   17.000000   15.000000    20.485000   155.250000   \n",
       "max     85.000000  135.000000  108.000000  1159.200562  2087.000000   \n",
       "\n",
       "               C2           C3          C4            C5            C6  \\\n",
       "count  660.000000   646.000000  660.000000  6.760000e+02  6.760000e+02   \n",
       "mean     0.859091     1.788904    0.007282  4.935776e+07  1.241519e+07   \n",
       "std      0.348192   162.666532    0.033318  1.043764e+08  2.512855e+07   \n",
       "min      0.000000  -786.239000   -0.162352  3.693227e+06  5.250000e+05   \n",
       "25%      1.000000    -0.852500   -0.013927  1.871417e+07  5.000000e+06   \n",
       "50%      1.000000     0.010000    0.009125  2.740018e+07  7.398704e+06   \n",
       "75%      1.000000     0.470000    0.031571  4.980786e+07  1.200000e+07   \n",
       "max      1.000000  3864.500000    0.092896  2.138085e+09  4.212336e+08   \n",
       "\n",
       "                 C7           T1            T2            T3           T4  \\\n",
       "count    610.000000   680.000000    678.000000    678.000000   680.000000   \n",
       "mean     500.459962   465.957353  12814.283186  11377.873156   294.264706   \n",
       "std     1648.337634   175.668619   5396.780570   4833.321230   121.599795   \n",
       "min        0.074000   132.000000   3271.000000      0.000000     0.000000   \n",
       "25%       37.245750   351.750000   9213.250000   8135.000000   212.750000   \n",
       "50%      103.833000   444.500000  12056.000000  10774.500000   279.000000   \n",
       "75%      331.138000   551.250000  15243.250000  13712.000000   353.250000   \n",
       "max    30683.000000  1750.000000  49056.000000  43952.000000  1058.000000   \n",
       "\n",
       "                 T5          S1          S2          S3  data_updated  \n",
       "count    681.000000  681.000000  681.000000  681.000000    682.000000  \n",
       "mean     679.220264   68.421439  120.104258  144.759178      0.134897  \n",
       "std      472.914323   39.096525   84.828959   69.276285      0.341865  \n",
       "min       -1.000000   -1.000000   20.000000   26.000000      0.000000  \n",
       "25%      462.000000   45.000000   73.000000  100.000000      0.000000  \n",
       "50%      624.000000   60.000000  100.000000  134.000000      0.000000  \n",
       "75%      795.000000   85.000000  142.000000  173.000000      0.000000  \n",
       "max    10277.000000  309.000000  944.000000  883.000000      1.000000  "
      ]
     },
     "execution_count": 14,
     "metadata": {},
     "output_type": "execute_result"
    }
   ],
   "source": [
    "data.describe()"
   ]
  },
  {
   "cell_type": "markdown",
   "metadata": {},
   "source": [
    "The dataframe above provides several interesting bits of information. To begin with, the min and max fields for each column show that many columns have dramatically different ranges, and therefore cannot be compared in a one-to-one manner as they are on a different scale, in different units.\n",
    "\n",
    "Additionally, the count of each field can be used to explore the columns containing the most null values. The lowest count of 610 implies that the field C7 contains the most null values and will need the most imputation. Due to the clear amount of null values, imputation will need to be explored in depth."
   ]
  },
  {
   "cell_type": "code",
   "execution_count": 15,
   "metadata": {},
   "outputs": [
    {
     "data": {
      "text/plain": [
       "I1               0\n",
       "I2               0\n",
       "I3               8\n",
       "P(IPO)           5\n",
       "P(H)            12\n",
       "P(L)            12\n",
       "P(1Day)         22\n",
       "C1              22\n",
       "C2              22\n",
       "C3              36\n",
       "C4              22\n",
       "C5               6\n",
       "C6               6\n",
       "C7              72\n",
       "T1               2\n",
       "T2               4\n",
       "T3               4\n",
       "T4               2\n",
       "T5               1\n",
       "S1               1\n",
       "S2               1\n",
       "S3               1\n",
       "data_updated     0\n",
       "dtype: int64"
      ]
     },
     "execution_count": 15,
     "metadata": {},
     "output_type": "execute_result"
    }
   ],
   "source": [
    "pd.isna(data).sum()"
   ]
  },
  {
   "cell_type": "markdown",
   "metadata": {},
   "source": [
    "As noticed above, C7 contains the most null values. However, it is easier to view in this format, and also shows that many other fields contain a fair amount of null values."
   ]
  },
  {
   "cell_type": "markdown",
   "metadata": {},
   "source": [
    "To continue our data exploration we can view the data types present in our data. We expect most to be numeric, either float or ints, with the exception of the first two columns."
   ]
  },
  {
   "cell_type": "code",
   "execution_count": 16,
   "metadata": {},
   "outputs": [
    {
     "data": {
      "text/plain": [
       "I1               object\n",
       "I2               object\n",
       "I3               object\n",
       "P(IPO)          float64\n",
       "P(H)            float64\n",
       "P(L)            float64\n",
       "P(1Day)         float64\n",
       "C1              float64\n",
       "C2              float64\n",
       "C3              float64\n",
       "C4              float64\n",
       "C5              float64\n",
       "C6              float64\n",
       "C7              float64\n",
       "T1              float64\n",
       "T2              float64\n",
       "T3              float64\n",
       "T4              float64\n",
       "T5              float64\n",
       "S1              float64\n",
       "S2              float64\n",
       "S3              float64\n",
       "data_updated      int64\n",
       "dtype: object"
      ]
     },
     "execution_count": 16,
     "metadata": {},
     "output_type": "execute_result"
    }
   ],
   "source": [
    "data.dtypes"
   ]
  },
  {
   "cell_type": "markdown",
   "metadata": {},
   "source": [
    "Strangely, the data type of I3 appears to be object. In taking a closer look we can see several rows have a string representation of a lists of integers rather than a single integer. "
   ]
  },
  {
   "cell_type": "code",
   "execution_count": 17,
   "metadata": {},
   "outputs": [
    {
     "data": {
      "text/html": [
       "<div>\n",
       "<style scoped>\n",
       "    .dataframe tbody tr th:only-of-type {\n",
       "        vertical-align: middle;\n",
       "    }\n",
       "\n",
       "    .dataframe tbody tr th {\n",
       "        vertical-align: top;\n",
       "    }\n",
       "\n",
       "    .dataframe thead th {\n",
       "        text-align: right;\n",
       "    }\n",
       "</style>\n",
       "<table border=\"1\" class=\"dataframe\">\n",
       "  <thead>\n",
       "    <tr style=\"text-align: right;\">\n",
       "      <th></th>\n",
       "      <th>I1</th>\n",
       "      <th>I2</th>\n",
       "      <th>I3</th>\n",
       "      <th>P(IPO)</th>\n",
       "      <th>P(H)</th>\n",
       "      <th>P(L)</th>\n",
       "      <th>P(1Day)</th>\n",
       "      <th>C1</th>\n",
       "      <th>C2</th>\n",
       "      <th>C3</th>\n",
       "      <th>C4</th>\n",
       "      <th>C5</th>\n",
       "      <th>C6</th>\n",
       "      <th>C7</th>\n",
       "      <th>T1</th>\n",
       "      <th>T2</th>\n",
       "      <th>T3</th>\n",
       "      <th>T4</th>\n",
       "      <th>T5</th>\n",
       "      <th>S1</th>\n",
       "      <th>S2</th>\n",
       "      <th>S3</th>\n",
       "      <th>data_updated</th>\n",
       "    </tr>\n",
       "  </thead>\n",
       "  <tbody>\n",
       "    <tr>\n",
       "      <th>174</th>\n",
       "      <td>DLB</td>\n",
       "      <td>Dolby Laboratories, Inc.</td>\n",
       "      <td>6794, 3861, 3663, 7819</td>\n",
       "      <td>18.0</td>\n",
       "      <td>18.0</td>\n",
       "      <td>16.0</td>\n",
       "      <td>24.299999</td>\n",
       "      <td>90.0</td>\n",
       "      <td>1.0</td>\n",
       "      <td>0.47</td>\n",
       "      <td>0.020090</td>\n",
       "      <td>97362135.0</td>\n",
       "      <td>27500000.0</td>\n",
       "      <td>289.041</td>\n",
       "      <td>500.0</td>\n",
       "      <td>15288.0</td>\n",
       "      <td>14243.0</td>\n",
       "      <td>360.0</td>\n",
       "      <td>912.0</td>\n",
       "      <td>69.0</td>\n",
       "      <td>122.0</td>\n",
       "      <td>165.0</td>\n",
       "      <td>0</td>\n",
       "    </tr>\n",
       "    <tr>\n",
       "      <th>187</th>\n",
       "      <td>DTSI</td>\n",
       "      <td>DTS, INC.</td>\n",
       "      <td>3651, 6794, 7819</td>\n",
       "      <td>17.0</td>\n",
       "      <td>16.0</td>\n",
       "      <td>14.0</td>\n",
       "      <td>24.920000</td>\n",
       "      <td>76.0</td>\n",
       "      <td>0.0</td>\n",
       "      <td>0.99</td>\n",
       "      <td>0.044011</td>\n",
       "      <td>13097313.0</td>\n",
       "      <td>3840000.0</td>\n",
       "      <td>41.056</td>\n",
       "      <td>339.0</td>\n",
       "      <td>8274.0</td>\n",
       "      <td>7487.0</td>\n",
       "      <td>204.0</td>\n",
       "      <td>421.0</td>\n",
       "      <td>49.0</td>\n",
       "      <td>95.0</td>\n",
       "      <td>70.0</td>\n",
       "      <td>0</td>\n",
       "    </tr>\n",
       "    <tr>\n",
       "      <th>499</th>\n",
       "      <td>RLD</td>\n",
       "      <td>RealD Inc.</td>\n",
       "      <td>3663, 3861, 6794</td>\n",
       "      <td>16.0</td>\n",
       "      <td>15.0</td>\n",
       "      <td>13.0</td>\n",
       "      <td>19.510000</td>\n",
       "      <td>98.0</td>\n",
       "      <td>1.0</td>\n",
       "      <td>-0.33</td>\n",
       "      <td>0.012058</td>\n",
       "      <td>47638374.0</td>\n",
       "      <td>12500000.0</td>\n",
       "      <td>39.675</td>\n",
       "      <td>629.0</td>\n",
       "      <td>15904.0</td>\n",
       "      <td>14741.0</td>\n",
       "      <td>364.0</td>\n",
       "      <td>899.0</td>\n",
       "      <td>104.0</td>\n",
       "      <td>139.0</td>\n",
       "      <td>227.0</td>\n",
       "      <td>0</td>\n",
       "    </tr>\n",
       "    <tr>\n",
       "      <th>620</th>\n",
       "      <td>UPG</td>\n",
       "      <td>UNIVERSAL POWER GROUP</td>\n",
       "      <td>7389, 5063</td>\n",
       "      <td>7.0</td>\n",
       "      <td>9.0</td>\n",
       "      <td>7.0</td>\n",
       "      <td>7.350000</td>\n",
       "      <td>101.0</td>\n",
       "      <td>0.0</td>\n",
       "      <td>0.38</td>\n",
       "      <td>-0.000171</td>\n",
       "      <td>5000000.0</td>\n",
       "      <td>3000000.0</td>\n",
       "      <td>81.275</td>\n",
       "      <td>304.0</td>\n",
       "      <td>6904.0</td>\n",
       "      <td>6234.0</td>\n",
       "      <td>147.0</td>\n",
       "      <td>287.0</td>\n",
       "      <td>29.0</td>\n",
       "      <td>61.0</td>\n",
       "      <td>66.0</td>\n",
       "      <td>0</td>\n",
       "    </tr>\n",
       "  </tbody>\n",
       "</table>\n",
       "</div>"
      ],
      "text/plain": [
       "       I1                         I2                      I3  P(IPO)  P(H)  \\\n",
       "174   DLB  Dolby Laboratories, Inc.   6794, 3861, 3663, 7819    18.0  18.0   \n",
       "187  DTSI                  DTS, INC.        3651, 6794, 7819    17.0  16.0   \n",
       "499   RLD                 RealD Inc.        3663, 3861, 6794    16.0  15.0   \n",
       "620   UPG     UNIVERSAL POWER GROUP               7389, 5063     7.0   9.0   \n",
       "\n",
       "     P(L)    P(1Day)     C1   C2    C3        C4          C5          C6  \\\n",
       "174  16.0  24.299999   90.0  1.0  0.47  0.020090  97362135.0  27500000.0   \n",
       "187  14.0  24.920000   76.0  0.0  0.99  0.044011  13097313.0   3840000.0   \n",
       "499  13.0  19.510000   98.0  1.0 -0.33  0.012058  47638374.0  12500000.0   \n",
       "620   7.0   7.350000  101.0  0.0  0.38 -0.000171   5000000.0   3000000.0   \n",
       "\n",
       "          C7     T1       T2       T3     T4     T5     S1     S2     S3  \\\n",
       "174  289.041  500.0  15288.0  14243.0  360.0  912.0   69.0  122.0  165.0   \n",
       "187   41.056  339.0   8274.0   7487.0  204.0  421.0   49.0   95.0   70.0   \n",
       "499   39.675  629.0  15904.0  14741.0  364.0  899.0  104.0  139.0  227.0   \n",
       "620   81.275  304.0   6904.0   6234.0  147.0  287.0   29.0   61.0   66.0   \n",
       "\n",
       "     data_updated  \n",
       "174             0  \n",
       "187             0  \n",
       "499             0  \n",
       "620             0  "
      ]
     },
     "execution_count": 17,
     "metadata": {},
     "output_type": "execute_result"
    }
   ],
   "source": [
    "data[data.I3.apply(lambda x: isinstance(x, str))]"
   ]
  },
  {
   "cell_type": "markdown",
   "metadata": {},
   "source": [
    "The column I3 refers to the SIC code value associated with a company. As these companies have more than one we can use the following chart to see if any of the rows with more than one SIC code have a natural grouping in their values. "
   ]
  },
  {
   "cell_type": "markdown",
   "metadata": {},
   "source": [
    "<table class=\"wikitable sortable jquery-tablesorter\">\n",
    "\n",
    "<thead><tr>\n",
    "<th class=\"headerSort\" tabindex=\"0\" role=\"columnheader button\" title=\"Sort ascending\">Range of SIC Codes\n",
    "</th>\n",
    "<th class=\"headerSort\" tabindex=\"0\" role=\"columnheader button\" title=\"Sort ascending\">Division\n",
    "</th></tr></thead><tbody>\n",
    "<tr>\n",
    "<td>0100-0999\n",
    "</td>\n",
    "<td>Agriculture, Forestry and Fishing\n",
    "</td></tr>\n",
    "<tr>\n",
    "<td>1000-1499\n",
    "</td>\n",
    "<td>Mining\n",
    "</td></tr>\n",
    "<tr>\n",
    "<td>1500-1799\n",
    "</td>\n",
    "<td>Construction\n",
    "</td></tr>\n",
    "<tr>\n",
    "<td>1800-1999\n",
    "</td>\n",
    "<td>not used\n",
    "</td></tr>\n",
    "<tr>\n",
    "<td>2000-3999\n",
    "</td>\n",
    "<td>Manufacturing\n",
    "</td></tr>\n",
    "<tr>\n",
    "<td>4000-4999\n",
    "</td>\n",
    "<td>Transportation, Communications, Electric, Gas and Sanitary service\n",
    "</td></tr>\n",
    "<tr>\n",
    "<td>5000-5199\n",
    "</td>\n",
    "<td>Wholesale Trade\n",
    "</td></tr>\n",
    "<tr>\n",
    "<td>5200-5999\n",
    "</td>\n",
    "<td>Retail Trade\n",
    "</td></tr>\n",
    "<tr>\n",
    "<td>6000-6799\n",
    "</td>\n",
    "<td>Finance, Insurance and Real Estate\n",
    "</td></tr>\n",
    "<tr>\n",
    "<td>7000-8999\n",
    "</td>\n",
    "<td>Services\n",
    "</td></tr>\n",
    "<tr>\n",
    "<td>9100-9729\n",
    "</td>\n",
    "<td>Public Administration\n",
    "</td></tr>\n",
    "<tr>\n",
    "<td>9900-9999\n",
    "</td>\n",
    "<td>Nonclassifiable\n",
    "</td></tr></tbody><tfoot></tfoot></table>"
   ]
  },
  {
   "cell_type": "markdown",
   "metadata": {},
   "source": [
    "Both Dolby Laboratories Inc. and RealD Inc. have some semblence of agreement in the SIC codes indicating mostly Manufacturing content. In order to represent this, these two rows will have their I3 column assigned to a value in the Manufacturing range.\n",
    "\n",
    "The other two rows do not have the same SIC code overlap and will be set as a code in the \"Nonclassifiable\" range to avoid making assumptions."
   ]
  },
  {
   "cell_type": "code",
   "execution_count": 18,
   "metadata": {},
   "outputs": [],
   "source": [
    "data.loc[174, ['I3']] = 3500\n",
    "data.loc[499, ['I3']] = 3500\n",
    "\n",
    "data.loc[187, ['I3']] = 9999\n",
    "data.loc[620, ['I3']] = 9999"
   ]
  },
  {
   "cell_type": "markdown",
   "metadata": {},
   "source": [
    "We can now check again to be sure we no longer have string fields for this column."
   ]
  },
  {
   "cell_type": "code",
   "execution_count": 19,
   "metadata": {},
   "outputs": [
    {
     "data": {
      "text/html": [
       "<div>\n",
       "<style scoped>\n",
       "    .dataframe tbody tr th:only-of-type {\n",
       "        vertical-align: middle;\n",
       "    }\n",
       "\n",
       "    .dataframe tbody tr th {\n",
       "        vertical-align: top;\n",
       "    }\n",
       "\n",
       "    .dataframe thead th {\n",
       "        text-align: right;\n",
       "    }\n",
       "</style>\n",
       "<table border=\"1\" class=\"dataframe\">\n",
       "  <thead>\n",
       "    <tr style=\"text-align: right;\">\n",
       "      <th></th>\n",
       "      <th>I1</th>\n",
       "      <th>I2</th>\n",
       "      <th>I3</th>\n",
       "      <th>P(IPO)</th>\n",
       "      <th>P(H)</th>\n",
       "      <th>P(L)</th>\n",
       "      <th>P(1Day)</th>\n",
       "      <th>C1</th>\n",
       "      <th>C2</th>\n",
       "      <th>C3</th>\n",
       "      <th>C4</th>\n",
       "      <th>C5</th>\n",
       "      <th>C6</th>\n",
       "      <th>C7</th>\n",
       "      <th>T1</th>\n",
       "      <th>T2</th>\n",
       "      <th>T3</th>\n",
       "      <th>T4</th>\n",
       "      <th>T5</th>\n",
       "      <th>S1</th>\n",
       "      <th>S2</th>\n",
       "      <th>S3</th>\n",
       "      <th>data_updated</th>\n",
       "    </tr>\n",
       "  </thead>\n",
       "  <tbody>\n",
       "  </tbody>\n",
       "</table>\n",
       "</div>"
      ],
      "text/plain": [
       "Empty DataFrame\n",
       "Columns: [I1, I2, I3, P(IPO), P(H), P(L), P(1Day), C1, C2, C3, C4, C5, C6, C7, T1, T2, T3, T4, T5, S1, S2, S3, data_updated]\n",
       "Index: []"
      ]
     },
     "execution_count": 19,
     "metadata": {},
     "output_type": "execute_result"
    }
   ],
   "source": [
    "data[data.I3.apply(lambda x: isinstance(x, str))]"
   ]
  },
  {
   "cell_type": "markdown",
   "metadata": {},
   "source": [
    "Now that this has been handled, this field can be read as a a float64 field as originally intended and similar to the other fields."
   ]
  },
  {
   "cell_type": "code",
   "execution_count": 20,
   "metadata": {},
   "outputs": [],
   "source": [
    "data['I3'] = data['I3'].astype(np.float64)"
   ]
  },
  {
   "cell_type": "markdown",
   "metadata": {},
   "source": [
    "With our data types handled appropriately, we can begin trying to obtain more useful information about the data. We will start by looking at the distribution of each continuous field."
   ]
  },
  {
   "cell_type": "code",
   "execution_count": 22,
   "metadata": {},
   "outputs": [
    {
     "data": {
      "image/png": "[encoded data removed]",
      "text/plain": [
       "<Figure size 432x288 with 1 Axes>"
      ]
     },
     "metadata": {
      "needs_background": "light"
     },
     "output_type": "display_data"
    }
   ],
   "source": [
    "data[[i for i in data.columns if i not in ['I1','I2','I3', 'C2', 'data_updated']]].boxplot()\n",
    "plt.show()"
   ]
  },
  {
   "cell_type": "markdown",
   "metadata": {},
   "source": [
    "This chart is not very useful as the scale is dramatically different based on the column in question. In order to properly view each of these fields we will add a scaler to bring the data within the range of 0 and 1."
   ]
  },
  {
   "cell_type": "code",
   "execution_count": 23,
   "metadata": {},
   "outputs": [],
   "source": [
    "def min_max_scale_col(df, cols):\n",
    "    scaler = preprocessing.MinMaxScaler()\n",
    "    return scaler.fit_transform(new_df[cols])\n",
    "\n",
    "def min_max_scale_df(df):\n",
    "    scaler = preprocessing.MinMaxScaler()\n",
    "    return scaler.fit_transform(df)"
   ]
  },
  {
   "cell_type": "code",
   "execution_count": 37,
   "metadata": {},
   "outputs": [
    {
     "data": {
      "image/png": "[encoded data removed]",
      "text/plain": [
       "<Figure size 432x288 with 1 Axes>"
      ]
     },
     "metadata": {
      "needs_background": "light"
     },
     "output_type": "display_data"
    }
   ],
   "source": [
    "hold_scaled = pd.DataFrame(min_max_scale_df(data[[i for i in data.columns if i not in ['I1','I2','I3', 'C2', 'data_updated']]]))\n",
    "hold_scaled.columns = [i for i in data.columns if i not in ['I1','I2','I3', 'C2', 'data_updated']]\n",
    "hold_scaled.boxplot(rot=45)\n",
    "plt.show()"
   ]
  },
  {
   "cell_type": "markdown",
   "metadata": {},
   "source": [
    "The scaled data allows all the fields to be viewed at once. This new representation appears to show that there are many outliers which will need to be dealt with at a later point.\n",
    "\n",
    "Additionally, the fields which will be leveraged to create our target variables also appear to have a drastic range. This implies that predicting our target variable will most likely be difficult given the data distribution."
   ]
  },
  {
   "cell_type": "code",
   "execution_count": null,
   "metadata": {},
   "outputs": [],
   "source": []
  },
  {
   "cell_type": "markdown",
   "metadata": {},
   "source": [
    "# Step 3: Data Imputation\n",
    "- Address null values dependent on the type of value in question\n",
    "- Create a seperate column which shows whether or not imputation occurred"
   ]
  },
  {
   "cell_type": "code",
   "execution_count": 38,
   "metadata": {},
   "outputs": [],
   "source": [
    "def impute_nulls_df(df, col, replace_val):\n",
    "    '''\n",
    "    params:\n",
    "    \n",
    "    df - dataframe containing nulls\n",
    "    col - columns with nulls to replace\n",
    "    replace_val - options: 'mean', 'median', 'mode'\n",
    "    \n",
    "    Example:\n",
    "\n",
    "    imputed_data = impute_nulls(data, C1, 'mean')\n",
    "    '''\n",
    "    \n",
    "    if replace_val not in ['mean','median','mode']:\n",
    "        print('requires one of the following: mean, median, mode')\n",
    "        return\n",
    "    \n",
    "    elif replace_val == 'mean':\n",
    "        df[col + '_imputed'] = df[col].fillna(df[col].mean())\n",
    "    elif replace_val == 'median':\n",
    "        df[col + '_imputed'] = df[col].fillna(df[col].median())\n",
    "    elif replace_val == 'mode':\n",
    "        df[col + '_imputed'] = df[col].fillna(df[col].mode().values[0])\n",
    "        \n",
    "    return df"
   ]
  },
  {
   "cell_type": "markdown",
   "metadata": {},
   "source": [
    "In order to do imputation in a more consistant manner we will create a dictionary containing each column and the type of imputation to be leveraged. Each field can then be imputed at the same time. "
   ]
  },
  {
   "cell_type": "code",
   "execution_count": 26,
   "metadata": {},
   "outputs": [
    {
     "data": {
      "text/plain": [
       "I3          8\n",
       "P(IPO)      5\n",
       "P(H)       12\n",
       "P(L)       12\n",
       "P(1Day)    22\n",
       "C1         22\n",
       "C2         22\n",
       "C3         36\n",
       "C4         22\n",
       "C5          6\n",
       "C6          6\n",
       "C7         72\n",
       "T1          2\n",
       "T2          4\n",
       "T3          4\n",
       "T4          2\n",
       "T5          1\n",
       "S1          1\n",
       "S2          1\n",
       "S3          1\n",
       "dtype: int64"
      ]
     },
     "execution_count": 26,
     "metadata": {},
     "output_type": "execute_result"
    }
   ],
   "source": [
    "null_cols = pd.isna(data).sum()\n",
    "null_cols = null_cols[null_cols.values != 0]\n",
    "null_cols"
   ]
  },
  {
   "cell_type": "markdown",
   "metadata": {},
   "source": [
    "Before imputation, certain rows should be dropped. All fields leading with 'P' are needed for creating our target variables. Dropping those with null values for these columns is acceptable"
   ]
  },
  {
   "cell_type": "code",
   "execution_count": 39,
   "metadata": {},
   "outputs": [],
   "source": [
    "data = data[(~pd.isna(data['P(IPO)'])) & (~pd.isna(data['P(H)'])) & (~pd.isna(data['P(L)'])) & (~pd.isna(data['P(1Day)']))]"
   ]
  },
  {
   "cell_type": "code",
   "execution_count": 40,
   "metadata": {},
   "outputs": [
    {
     "data": {
      "text/plain": [
       "C3    23\n",
       "C7    60\n",
       "T2     2\n",
       "T3     2\n",
       "dtype: int64"
      ]
     },
     "execution_count": 40,
     "metadata": {},
     "output_type": "execute_result"
    }
   ],
   "source": [
    "null_cols = pd.isna(data).sum()\n",
    "null_cols = null_cols[null_cols.values != 0]\n",
    "null_cols"
   ]
  },
  {
   "cell_type": "markdown",
   "metadata": {},
   "source": [
    "It appears that the items with null fields needed for the target variable constituted much of the null values across other columns. We now only need imputation for four fields."
   ]
  },
  {
   "cell_type": "code",
   "execution_count": null,
   "metadata": {},
   "outputs": [],
   "source": []
  },
  {
   "cell_type": "markdown",
   "metadata": {},
   "source": [
    "In order to correctly impur the data we will create histograms and review the boxplots to get a better view of the correct imputation strategy for each field.\n",
    "\n",
    "For histograms, the mean will be identified by a red line, and the median by one which is green."
   ]
  },
  {
   "cell_type": "code",
   "execution_count": null,
   "metadata": {},
   "outputs": [],
   "source": []
  },
  {
   "cell_type": "code",
   "execution_count": 41,
   "metadata": {},
   "outputs": [
    {
     "name": "stderr",
     "output_type": "stream",
     "text": [
      "/opt/tljh/user/lib/python3.6/site-packages/matplotlib/figure.py:2299: UserWarning: This figure includes Axes that are not compatible with tight_layout, so results might be incorrect.\n",
      "  warnings.warn(\"This figure includes Axes that are not compatible \"\n"
     ]
    },
    {
     "data": {
      "image/png": "[encoded data removed]",
      "text/plain": [
       "<Figure size 864x864 with 4 Axes>"
      ]
     },
     "metadata": {
      "needs_background": "light"
     },
     "output_type": "display_data"
    }
   ],
   "source": [
    "fig, axs = plt.subplots(2, 2, tight_layout=True, figsize=(12,12))\n",
    "\n",
    "x1 = data['C3'].dropna()\n",
    "x2 = data['C7'].dropna()\n",
    "x3 = data['T2'].dropna()\n",
    "x4 = data['T3'].dropna()\n",
    "\n",
    "axs[0,0].hist(x1)\n",
    "axs[0,0].axvline(x1.mean(), color = 'red')\n",
    "axs[0,0].axvline(x1.median(), color = 'green')\n",
    "axs[0,0].set_title('C3 Histogram')\n",
    "\n",
    "axs[0,1].hist(x2)\n",
    "axs[0,1].axvline(x2.mean(), color = 'red')\n",
    "axs[0,1].axvline(x2.median(), color = 'green')\n",
    "axs[0,1].set_title('C7 Histogram')\n",
    "\n",
    "axs[1,0].hist(x3)\n",
    "axs[1,0].axvline(x3.mean(), color = 'red')\n",
    "axs[1,0].axvline(x3.median(), color = 'green')\n",
    "axs[1,0].set_title('T2 Histogram')\n",
    "\n",
    "axs[1,1].hist(x4)\n",
    "axs[1,1].axvline(x4.mean(), color = 'red')\n",
    "axs[1,1].axvline(x4.median(), color = 'green')\n",
    "axs[1,1].set_title('T3 Histogram')\n",
    "\n",
    "plt.show()"
   ]
  },
  {
   "cell_type": "code",
   "execution_count": 42,
   "metadata": {},
   "outputs": [
    {
     "data": {
      "image/png": "[encoded data removed]",
      "text/plain": [
       "<Figure size 864x864 with 4 Axes>"
      ]
     },
     "metadata": {
      "needs_background": "light"
     },
     "output_type": "display_data"
    }
   ],
   "source": [
    "fig, axs = plt.subplots(2, 2, tight_layout=True, figsize=(12,12))\n",
    "\n",
    "axs[0,0].boxplot(x1)\n",
    "axs[0,0].set_title('C3 Box Plot')\n",
    "\n",
    "axs[0,1].boxplot(x2)\n",
    "axs[0,1].set_title('C7 Box Plot')\n",
    "\n",
    "axs[1,0].boxplot(x3)\n",
    "axs[1,0].set_title('T2 Box Plot')\n",
    "\n",
    "axs[1,1].boxplot(x4)\n",
    "axs[1,1].set_title('T3 Box Plot')\n",
    "\n",
    "plt.show()"
   ]
  },
  {
   "cell_type": "markdown",
   "metadata": {},
   "source": [
    "The difference between mean and median appears to be small in the histograms, but the amount of outliers seen in the boxplots makes median a safer method for imputation for each of these fields."
   ]
  },
  {
   "cell_type": "code",
   "execution_count": 43,
   "metadata": {},
   "outputs": [],
   "source": [
    "# There are a lot of heavy outliers in the dataset, so median is used for many imputations\n",
    "\n",
    "imputing = {\n",
    "    'C3': 'median',\n",
    "    'C7': 'median',\n",
    "    'T2': 'median',\n",
    "    'T3': 'median'\n",
    " }\n",
    "\n",
    "data_w_imputed = data.copy()\n",
    "\n",
    "for key in imputing.keys():\n",
    "    data_w_imputed = impute_nulls_df(data_w_imputed, key, imputing[key])"
   ]
  },
  {
   "cell_type": "markdown",
   "metadata": {},
   "source": [
    "Let's check to ensure that only the original four columns have null values and the imputed ones have none."
   ]
  },
  {
   "cell_type": "code",
   "execution_count": 45,
   "metadata": {},
   "outputs": [
    {
     "data": {
      "text/plain": [
       "I1               0\n",
       "I2               0\n",
       "I3               0\n",
       "P(IPO)           0\n",
       "P(H)             0\n",
       "P(L)             0\n",
       "P(1Day)          0\n",
       "C1               0\n",
       "C2               0\n",
       "C3              23\n",
       "C4               0\n",
       "C5               0\n",
       "C6               0\n",
       "C7              60\n",
       "T1               0\n",
       "T2               2\n",
       "T3               2\n",
       "T4               0\n",
       "T5               0\n",
       "S1               0\n",
       "S2               0\n",
       "S3               0\n",
       "data_updated     0\n",
       "C3_imputed       0\n",
       "C7_imputed       0\n",
       "T2_imputed       0\n",
       "T3_imputed       0\n",
       "dtype: int64"
      ]
     },
     "execution_count": 45,
     "metadata": {},
     "output_type": "execute_result"
    }
   ],
   "source": [
    "pd.isna(data_w_imputed).sum()"
   ]
  },
  {
   "cell_type": "markdown",
   "metadata": {},
   "source": [
    "Imputation appears sucessful so the original columns can be dropped."
   ]
  },
  {
   "cell_type": "code",
   "execution_count": 46,
   "metadata": {},
   "outputs": [],
   "source": [
    "data_w_imputed = data_w_imputed.drop(columns=['C3','C7','T2','T3'])"
   ]
  },
  {
   "cell_type": "code",
   "execution_count": null,
   "metadata": {},
   "outputs": [],
   "source": []
  },
  {
   "cell_type": "markdown",
   "metadata": {},
   "source": [
    "# Step 3B: Seperate Categorical and Continuous Fields"
   ]
  },
  {
   "cell_type": "markdown",
   "metadata": {},
   "source": [
    "The categorical and continuous fields will be seperated into seperate DataFrames. Both will retain the I1 field as a means of re-joining the data at a later time."
   ]
  },
  {
   "cell_type": "code",
   "execution_count": 47,
   "metadata": {},
   "outputs": [],
   "source": [
    "cat_fields = ['I1','I2', 'I3','C2','data_updated']\n",
    "cat_data = data_w_imputed[cat_fields]"
   ]
  },
  {
   "cell_type": "code",
   "execution_count": 48,
   "metadata": {},
   "outputs": [],
   "source": [
    "cont_data = data_w_imputed[['I1'] + list(set(data_w_imputed.columns) - set(cat_data.columns))]"
   ]
  },
  {
   "cell_type": "markdown",
   "metadata": {},
   "source": [
    "# Step 4: Create values outlined in Data Dictionary\n",
    "- T1-T5 as ratios\n",
    "- S1-S3 as ratios\n",
    "- C3', C5', C6'\n",
    "- Y1, Y2\n",
    "- Any additional that seem reasonable\n",
    "\n",
    "Reference here: https://github.com/fairfield-university-ba545/project1-archana-s-team/blob/master/DataDictionary20190115.pdf"
   ]
  },
  {
   "cell_type": "markdown",
   "metadata": {},
   "source": [
    "All the textual content describing word and sentence counts will be recreated as ratios to show the relative prevalance of each component piece."
   ]
  },
  {
   "cell_type": "code",
   "execution_count": 49,
   "metadata": {},
   "outputs": [
    {
     "name": "stderr",
     "output_type": "stream",
     "text": [
      "/opt/tljh/user/lib/python3.6/site-packages/ipykernel_launcher.py:2: SettingWithCopyWarning: \n",
      "A value is trying to be set on a copy of a slice from a DataFrame.\n",
      "Try using .loc[row_indexer,col_indexer] = value instead\n",
      "\n",
      "See the caveats in the documentation: http://pandas.pydata.org/pandas-docs/stable/user_guide/indexing.html#returning-a-view-versus-a-copy\n",
      "  \n",
      "/opt/tljh/user/lib/python3.6/site-packages/ipykernel_launcher.py:3: SettingWithCopyWarning: \n",
      "A value is trying to be set on a copy of a slice from a DataFrame.\n",
      "Try using .loc[row_indexer,col_indexer] = value instead\n",
      "\n",
      "See the caveats in the documentation: http://pandas.pydata.org/pandas-docs/stable/user_guide/indexing.html#returning-a-view-versus-a-copy\n",
      "  This is separate from the ipykernel package so we can avoid doing imports until\n",
      "/opt/tljh/user/lib/python3.6/site-packages/ipykernel_launcher.py:4: SettingWithCopyWarning: \n",
      "A value is trying to be set on a copy of a slice from a DataFrame.\n",
      "Try using .loc[row_indexer,col_indexer] = value instead\n",
      "\n",
      "See the caveats in the documentation: http://pandas.pydata.org/pandas-docs/stable/user_guide/indexing.html#returning-a-view-versus-a-copy\n",
      "  after removing the cwd from sys.path.\n"
     ]
    }
   ],
   "source": [
    "# Example Ratio, divide the column with the number of words and columns with number of sentences to get words per sentence\n",
    "cont_data['words_per_sentence'] = cont_data.T2_imputed / cont_data.T1\n",
    "cont_data['real_word_per'] = cont_data.T3_imputed / cont_data.T2_imputed\n",
    "cont_data['non_real_word_per'] = (cont_data.T2_imputed - cont_data.T3_imputed) / cont_data.T2_imputed\n",
    "cont_data['short_sentences'] = cont_data.T1 - cont_data.T4\n",
    "cont_data['short_sentences_per'] = cont_data.short_sentences / cont_data.T1\n",
    "cont_data['long_sentences_per'] = cont_data.T4 / cont_data.T1\n",
    "cont_data['long_words_per'] = cont_data.T5 / cont_data.T2_imputed"
   ]
  },
  {
   "cell_type": "code",
   "execution_count": 50,
   "metadata": {},
   "outputs": [],
   "source": [
    "# Percentage of positive words by dividing count of positive words by total words\n",
    "cont_data['pos_words_percent'] = cont_data.S1 / (cont_data.S1 + cont_data.S2 + cont_data.S3)\n",
    "cont_data['neg_words_percent'] = cont_data.S2 / (cont_data.S1 + cont_data.S2 + cont_data.S3)\n",
    "cont_data['uncertain_words_percent'] = cont_data.S3 / (cont_data.S1 + cont_data.S2 + cont_data.S3)"
   ]
  },
  {
   "cell_type": "code",
   "execution_count": 51,
   "metadata": {},
   "outputs": [],
   "source": [
    "cont_data['total_shares'] = cont_data.C5 + cont_data.C6\n",
    "cont_data['sales_per_share'] = cont_data.C7_imputed/cont_data.total_shares\n",
    "cont_data['outstanding_share_per'] = cont_data.C5/cont_data.total_shares\n",
    "cont_data['offering_share_per'] = cont_data.C6/cont_data.total_shares"
   ]
  },
  {
   "cell_type": "markdown",
   "metadata": {},
   "source": [
    "The following will be leveraged for target calculation as well as other control variables."
   ]
  },
  {
   "cell_type": "markdown",
   "metadata": {},
   "source": [
    "![title](target_desc.png)"
   ]
  },
  {
   "cell_type": "code",
   "execution_count": 54,
   "metadata": {},
   "outputs": [],
   "source": [
    "cont_data['C3_prime'] = cont_data.C3_imputed.apply(lambda x: 1 if x>0 else 0)\n",
    "cont_data['C5_prime'] = cont_data['C5']/ cont_data['C6']\n",
    "cont_data['P(mid)'] = (cont_data['P(H)'] + cont_data['P(L)'])/2\n",
    "cont_data['C6_prime'] = (cont_data['P(IPO)'] - cont_data['P(mid)'])/cont_data['P(mid)']*100\n",
    "cont_data['Y1'] = cont_data.apply(lambda row: 1 if row['P(IPO)'] < row['P(mid)'] else 0, axis = 1)\n",
    "cont_data['Y2'] = cont_data.apply(lambda row: 1 if row['P(IPO)'] < row['P(1Day)'] else 0, axis = 1)"
   ]
  },
  {
   "cell_type": "markdown",
   "metadata": {},
   "source": [
    "The I3 field contains dozens of different categories. Rather than leveraging these in their current state, they will be binned bassed on SIC code classification."
   ]
  },
  {
   "cell_type": "markdown",
   "metadata": {},
   "source": [
    "<table class=\"wikitable sortable jquery-tablesorter\">\n",
    "\n",
    "<thead><tr>\n",
    "<th class=\"headerSort\" tabindex=\"0\" role=\"columnheader button\" title=\"Sort ascending\">Range of SIC Codes\n",
    "</th>\n",
    "<th class=\"headerSort\" tabindex=\"0\" role=\"columnheader button\" title=\"Sort ascending\">Division\n",
    "</th></tr></thead><tbody>\n",
    "<tr>\n",
    "<td>0100-0999\n",
    "</td>\n",
    "<td>Agriculture, Forestry and Fishing\n",
    "</td></tr>\n",
    "<tr>\n",
    "<td>1000-1499\n",
    "</td>\n",
    "<td>Mining\n",
    "</td></tr>\n",
    "<tr>\n",
    "<td>1500-1799\n",
    "</td>\n",
    "<td>Construction\n",
    "</td></tr>\n",
    "<tr>\n",
    "<td>1800-1999\n",
    "</td>\n",
    "<td>not used\n",
    "</td></tr>\n",
    "<tr>\n",
    "<td>2000-3999\n",
    "</td>\n",
    "<td>Manufacturing\n",
    "</td></tr>\n",
    "<tr>\n",
    "<td>4000-4999\n",
    "</td>\n",
    "<td>Transportation, Communications, Electric, Gas and Sanitary service\n",
    "</td></tr>\n",
    "<tr>\n",
    "<td>5000-5199\n",
    "</td>\n",
    "<td>Wholesale Trade\n",
    "</td></tr>\n",
    "<tr>\n",
    "<td>5200-5999\n",
    "</td>\n",
    "<td>Retail Trade\n",
    "</td></tr>\n",
    "<tr>\n",
    "<td>6000-6799\n",
    "</td>\n",
    "<td>Finance, Insurance and Real Estate\n",
    "</td></tr>\n",
    "<tr>\n",
    "<td>7000-8999\n",
    "</td>\n",
    "<td>Services\n",
    "</td></tr>\n",
    "<tr>\n",
    "<td>9100-9729\n",
    "</td>\n",
    "<td>Public Administration\n",
    "</td></tr>\n",
    "<tr>\n",
    "<td>9900-9999\n",
    "</td>\n",
    "<td>Nonclassifiable\n",
    "</td></tr></tbody><tfoot></tfoot></table>"
   ]
  },
  {
   "cell_type": "code",
   "execution_count": 52,
   "metadata": {},
   "outputs": [],
   "source": [
    "def bin_sic(val):\n",
    "    try:\n",
    "        val = int(val)\n",
    "    except Exception as e:\n",
    "        return 'Other'\n",
    "    if val <= 999:\n",
    "        return 'Agriculture, Forestry and Fishing'\n",
    "    if val <= 1499:\n",
    "        return 'Mining'\n",
    "    if val <= 1799:\n",
    "        return 'Construction'\n",
    "    if val <= 1999:\n",
    "        return 'Other'\n",
    "    if val <= 3999:\n",
    "        return 'Manufacturing'\n",
    "    if val <= 4999:\n",
    "        return 'Transportation, Communications, Electric, Gas and Sanitary service'\n",
    "    if val <= 5199:\n",
    "        return 'Wholesale Trade'\n",
    "    if val <= 5999:\n",
    "        return 'Retail Trade'\n",
    "    if val <= 6799:\n",
    "        return 'Finance, Insurance and Real Estate'\n",
    "    if val <= 8999:\n",
    "        return 'Services'\n",
    "    if val <= 9729:\n",
    "        return 'Public Administration'\n",
    "    return 'Other'\n",
    "    "
   ]
  },
  {
   "cell_type": "code",
   "execution_count": 55,
   "metadata": {},
   "outputs": [
    {
     "name": "stderr",
     "output_type": "stream",
     "text": [
      "/opt/tljh/user/lib/python3.6/site-packages/ipykernel_launcher.py:1: SettingWithCopyWarning: \n",
      "A value is trying to be set on a copy of a slice from a DataFrame.\n",
      "Try using .loc[row_indexer,col_indexer] = value instead\n",
      "\n",
      "See the caveats in the documentation: http://pandas.pydata.org/pandas-docs/stable/user_guide/indexing.html#returning-a-view-versus-a-copy\n",
      "  \"\"\"Entry point for launching an IPython kernel.\n",
      "/opt/tljh/user/lib/python3.6/site-packages/ipykernel_launcher.py:2: SettingWithCopyWarning: \n",
      "A value is trying to be set on a copy of a slice from a DataFrame.\n",
      "Try using .loc[row_indexer,col_indexer] = value instead\n",
      "\n",
      "See the caveats in the documentation: http://pandas.pydata.org/pandas-docs/stable/user_guide/indexing.html#returning-a-view-versus-a-copy\n",
      "  \n",
      "/opt/tljh/user/lib/python3.6/site-packages/ipykernel_launcher.py:3: SettingWithCopyWarning: \n",
      "A value is trying to be set on a copy of a slice from a DataFrame.\n",
      "Try using .loc[row_indexer,col_indexer] = value instead\n",
      "\n",
      "See the caveats in the documentation: http://pandas.pydata.org/pandas-docs/stable/user_guide/indexing.html#returning-a-view-versus-a-copy\n",
      "  This is separate from the ipykernel package so we can avoid doing imports until\n"
     ]
    }
   ],
   "source": [
    "cat_data['industry_bin'] = cat_data['I3'].apply(bin_sic)\n",
    "cat_data['industry_bin'] = cat_data['industry_bin'].astype('category')\n",
    "cat_data['C3_prime'] = cont_data['C3_prime']"
   ]
  },
  {
   "cell_type": "markdown",
   "metadata": {},
   "source": [
    "Now that the target variables have been created, a seperate DataFrame has been created to hold this information."
   ]
  },
  {
   "cell_type": "code",
   "execution_count": 57,
   "metadata": {},
   "outputs": [],
   "source": [
    "target_df = cont_data[['I1','Y1','Y2']]"
   ]
  },
  {
   "cell_type": "markdown",
   "metadata": {},
   "source": [
    "Drop all fields used in creating additional fields."
   ]
  },
  {
   "cell_type": "code",
   "execution_count": 58,
   "metadata": {},
   "outputs": [
    {
     "data": {
      "text/html": [
       "<div>\n",
       "<style scoped>\n",
       "    .dataframe tbody tr th:only-of-type {\n",
       "        vertical-align: middle;\n",
       "    }\n",
       "\n",
       "    .dataframe tbody tr th {\n",
       "        vertical-align: top;\n",
       "    }\n",
       "\n",
       "    .dataframe thead th {\n",
       "        text-align: right;\n",
       "    }\n",
       "</style>\n",
       "<table border=\"1\" class=\"dataframe\">\n",
       "  <thead>\n",
       "    <tr style=\"text-align: right;\">\n",
       "      <th></th>\n",
       "      <th>I1</th>\n",
       "      <th>C1</th>\n",
       "      <th>C4</th>\n",
       "      <th>C7_imputed</th>\n",
       "      <th>C3_imputed</th>\n",
       "      <th>words_per_sentence</th>\n",
       "      <th>real_word_per</th>\n",
       "      <th>non_real_word_per</th>\n",
       "      <th>short_sentences</th>\n",
       "      <th>short_sentences_per</th>\n",
       "      <th>long_sentences_per</th>\n",
       "      <th>long_words_per</th>\n",
       "      <th>pos_words_percent</th>\n",
       "      <th>neg_words_percent</th>\n",
       "      <th>uncertain_words_percent</th>\n",
       "      <th>total_shares</th>\n",
       "      <th>sales_per_share</th>\n",
       "      <th>outstanding_share_per</th>\n",
       "      <th>offering_share_per</th>\n",
       "      <th>C5_prime</th>\n",
       "      <th>C6_prime</th>\n",
       "    </tr>\n",
       "  </thead>\n",
       "  <tbody>\n",
       "    <tr>\n",
       "      <th>0</th>\n",
       "      <td>AATI</td>\n",
       "      <td>122.0</td>\n",
       "      <td>0.029074</td>\n",
       "      <td>51.345</td>\n",
       "      <td>3.43</td>\n",
       "      <td>27.061702</td>\n",
       "      <td>0.908876</td>\n",
       "      <td>0.091124</td>\n",
       "      <td>169.0</td>\n",
       "      <td>0.359574</td>\n",
       "      <td>0.640426</td>\n",
       "      <td>0.054250</td>\n",
       "      <td>0.194969</td>\n",
       "      <td>0.367925</td>\n",
       "      <td>0.437107</td>\n",
       "      <td>51562052.0</td>\n",
       "      <td>9.957905e-07</td>\n",
       "      <td>0.794422</td>\n",
       "      <td>0.205578</td>\n",
       "      <td>3.864345</td>\n",
       "      <td>11.111111</td>\n",
       "    </tr>\n",
       "    <tr>\n",
       "      <th>1</th>\n",
       "      <td>ABPI</td>\n",
       "      <td>259.0</td>\n",
       "      <td>-0.013352</td>\n",
       "      <td>25.936</td>\n",
       "      <td>-1.62</td>\n",
       "      <td>27.549937</td>\n",
       "      <td>0.898724</td>\n",
       "      <td>0.101276</td>\n",
       "      <td>281.0</td>\n",
       "      <td>0.355247</td>\n",
       "      <td>0.644753</td>\n",
       "      <td>0.051395</td>\n",
       "      <td>0.129091</td>\n",
       "      <td>0.440000</td>\n",
       "      <td>0.430909</td>\n",
       "      <td>31269196.0</td>\n",
       "      <td>8.294425e-07</td>\n",
       "      <td>0.923247</td>\n",
       "      <td>0.076753</td>\n",
       "      <td>12.028832</td>\n",
       "      <td>-11.111111</td>\n",
       "    </tr>\n",
       "    <tr>\n",
       "      <th>2</th>\n",
       "      <td>ACAD</td>\n",
       "      <td>90.0</td>\n",
       "      <td>0.020715</td>\n",
       "      <td>7.378</td>\n",
       "      <td>-1.24</td>\n",
       "      <td>26.179104</td>\n",
       "      <td>0.909350</td>\n",
       "      <td>0.090650</td>\n",
       "      <td>73.0</td>\n",
       "      <td>0.363184</td>\n",
       "      <td>0.636816</td>\n",
       "      <td>0.061764</td>\n",
       "      <td>0.396104</td>\n",
       "      <td>0.214286</td>\n",
       "      <td>0.389610</td>\n",
       "      <td>21845668.0</td>\n",
       "      <td>3.377329e-07</td>\n",
       "      <td>0.771122</td>\n",
       "      <td>0.228878</td>\n",
       "      <td>3.369134</td>\n",
       "      <td>-46.153846</td>\n",
       "    </tr>\n",
       "    <tr>\n",
       "      <th>3</th>\n",
       "      <td>ACHN</td>\n",
       "      <td>209.0</td>\n",
       "      <td>0.020023</td>\n",
       "      <td>8.526</td>\n",
       "      <td>-0.91</td>\n",
       "      <td>25.179878</td>\n",
       "      <td>0.917060</td>\n",
       "      <td>0.082940</td>\n",
       "      <td>151.0</td>\n",
       "      <td>0.460366</td>\n",
       "      <td>0.539634</td>\n",
       "      <td>0.061630</td>\n",
       "      <td>0.321285</td>\n",
       "      <td>0.236948</td>\n",
       "      <td>0.441767</td>\n",
       "      <td>19348637.0</td>\n",
       "      <td>4.406512e-07</td>\n",
       "      <td>0.767425</td>\n",
       "      <td>0.232575</td>\n",
       "      <td>3.299697</td>\n",
       "      <td>-23.333333</td>\n",
       "    </tr>\n",
       "    <tr>\n",
       "      <th>4</th>\n",
       "      <td>ACLI</td>\n",
       "      <td>80.0</td>\n",
       "      <td>-0.034895</td>\n",
       "      <td>632.298</td>\n",
       "      <td>0.07</td>\n",
       "      <td>25.926573</td>\n",
       "      <td>0.888469</td>\n",
       "      <td>0.111531</td>\n",
       "      <td>236.0</td>\n",
       "      <td>0.412587</td>\n",
       "      <td>0.587413</td>\n",
       "      <td>0.048550</td>\n",
       "      <td>0.174935</td>\n",
       "      <td>0.389034</td>\n",
       "      <td>0.436031</td>\n",
       "      <td>38991716.0</td>\n",
       "      <td>1.621621e-05</td>\n",
       "      <td>0.788417</td>\n",
       "      <td>0.211583</td>\n",
       "      <td>3.726269</td>\n",
       "      <td>5.000000</td>\n",
       "    </tr>\n",
       "  </tbody>\n",
       "</table>\n",
       "</div>"
      ],
      "text/plain": [
       "     I1     C1        C4  C7_imputed  C3_imputed  words_per_sentence  \\\n",
       "0  AATI  122.0  0.029074      51.345        3.43           27.061702   \n",
       "1  ABPI  259.0 -0.013352      25.936       -1.62           27.549937   \n",
       "2  ACAD   90.0  0.020715       7.378       -1.24           26.179104   \n",
       "3  ACHN  209.0  0.020023       8.526       -0.91           25.179878   \n",
       "4  ACLI   80.0 -0.034895     632.298        0.07           25.926573   \n",
       "\n",
       "   real_word_per  non_real_word_per  short_sentences  short_sentences_per  \\\n",
       "0       0.908876           0.091124            169.0             0.359574   \n",
       "1       0.898724           0.101276            281.0             0.355247   \n",
       "2       0.909350           0.090650             73.0             0.363184   \n",
       "3       0.917060           0.082940            151.0             0.460366   \n",
       "4       0.888469           0.111531            236.0             0.412587   \n",
       "\n",
       "   long_sentences_per  long_words_per  pos_words_percent  neg_words_percent  \\\n",
       "0            0.640426        0.054250           0.194969           0.367925   \n",
       "1            0.644753        0.051395           0.129091           0.440000   \n",
       "2            0.636816        0.061764           0.396104           0.214286   \n",
       "3            0.539634        0.061630           0.321285           0.236948   \n",
       "4            0.587413        0.048550           0.174935           0.389034   \n",
       "\n",
       "   uncertain_words_percent  total_shares  sales_per_share  \\\n",
       "0                 0.437107    51562052.0     9.957905e-07   \n",
       "1                 0.430909    31269196.0     8.294425e-07   \n",
       "2                 0.389610    21845668.0     3.377329e-07   \n",
       "3                 0.441767    19348637.0     4.406512e-07   \n",
       "4                 0.436031    38991716.0     1.621621e-05   \n",
       "\n",
       "   outstanding_share_per  offering_share_per   C5_prime   C6_prime  \n",
       "0               0.794422            0.205578   3.864345  11.111111  \n",
       "1               0.923247            0.076753  12.028832 -11.111111  \n",
       "2               0.771122            0.228878   3.369134 -46.153846  \n",
       "3               0.767425            0.232575   3.299697 -23.333333  \n",
       "4               0.788417            0.211583   3.726269   5.000000  "
      ]
     },
     "execution_count": 58,
     "metadata": {},
     "output_type": "execute_result"
    }
   ],
   "source": [
    "continuous_df = cont_data.copy()\n",
    "continuous_df = continuous_df.drop(columns = ['S1','S2','S3','T1','T2_imputed','T3_imputed',\n",
    "                                              'T4','T5', 'P(IPO)', 'P(L)', 'P(H)', 'P(1Day)', 'P(mid)',\n",
    "                                             'C5','C6','C3_prime', 'Y1','Y2'])\n",
    "continuous_df.head()"
   ]
  },
  {
   "cell_type": "code",
   "execution_count": 59,
   "metadata": {},
   "outputs": [
    {
     "data": {
      "text/html": [
       "<div>\n",
       "<style scoped>\n",
       "    .dataframe tbody tr th:only-of-type {\n",
       "        vertical-align: middle;\n",
       "    }\n",
       "\n",
       "    .dataframe tbody tr th {\n",
       "        vertical-align: top;\n",
       "    }\n",
       "\n",
       "    .dataframe thead th {\n",
       "        text-align: right;\n",
       "    }\n",
       "</style>\n",
       "<table border=\"1\" class=\"dataframe\">\n",
       "  <thead>\n",
       "    <tr style=\"text-align: right;\">\n",
       "      <th></th>\n",
       "      <th>I1</th>\n",
       "      <th>C2</th>\n",
       "      <th>data_updated</th>\n",
       "      <th>industry_bin</th>\n",
       "      <th>C3_prime</th>\n",
       "    </tr>\n",
       "  </thead>\n",
       "  <tbody>\n",
       "    <tr>\n",
       "      <th>0</th>\n",
       "      <td>AATI</td>\n",
       "      <td>1.0</td>\n",
       "      <td>0</td>\n",
       "      <td>Manufacturing</td>\n",
       "      <td>1</td>\n",
       "    </tr>\n",
       "    <tr>\n",
       "      <th>1</th>\n",
       "      <td>ABPI</td>\n",
       "      <td>0.0</td>\n",
       "      <td>0</td>\n",
       "      <td>Manufacturing</td>\n",
       "      <td>0</td>\n",
       "    </tr>\n",
       "    <tr>\n",
       "      <th>2</th>\n",
       "      <td>ACAD</td>\n",
       "      <td>1.0</td>\n",
       "      <td>0</td>\n",
       "      <td>Manufacturing</td>\n",
       "      <td>0</td>\n",
       "    </tr>\n",
       "    <tr>\n",
       "      <th>3</th>\n",
       "      <td>ACHN</td>\n",
       "      <td>1.0</td>\n",
       "      <td>0</td>\n",
       "      <td>Manufacturing</td>\n",
       "      <td>0</td>\n",
       "    </tr>\n",
       "    <tr>\n",
       "      <th>4</th>\n",
       "      <td>ACLI</td>\n",
       "      <td>1.0</td>\n",
       "      <td>0</td>\n",
       "      <td>Transportation, Communications, Electric, Gas ...</td>\n",
       "      <td>1</td>\n",
       "    </tr>\n",
       "  </tbody>\n",
       "</table>\n",
       "</div>"
      ],
      "text/plain": [
       "     I1   C2  data_updated                                       industry_bin  \\\n",
       "0  AATI  1.0             0                                      Manufacturing   \n",
       "1  ABPI  0.0             0                                      Manufacturing   \n",
       "2  ACAD  1.0             0                                      Manufacturing   \n",
       "3  ACHN  1.0             0                                      Manufacturing   \n",
       "4  ACLI  1.0             0  Transportation, Communications, Electric, Gas ...   \n",
       "\n",
       "   C3_prime  \n",
       "0         1  \n",
       "1         0  \n",
       "2         0  \n",
       "3         0  \n",
       "4         1  "
      ]
     },
     "execution_count": 59,
     "metadata": {},
     "output_type": "execute_result"
    }
   ],
   "source": [
    "categorical_df = cat_data.copy()\n",
    "categorical_df = categorical_df.drop(columns = ['I3','I2'])\n",
    "categorical_df.head()"
   ]
  },
  {
   "cell_type": "markdown",
   "metadata": {},
   "source": [
    "Save categorical and continuous DFs"
   ]
  },
  {
   "cell_type": "code",
   "execution_count": 47,
   "metadata": {},
   "outputs": [],
   "source": [
    "categorical_df.to_csv('categorical_df.csv')\n",
    "continuous_df.to_csv('continuous_df.csv')\n",
    "target_df.to_csv('target_df.csv')"
   ]
  },
  {
   "cell_type": "markdown",
   "metadata": {},
   "source": [
    "# SEGMENT HERE FOR DIFFERENT VERSIONS"
   ]
  },
  {
   "cell_type": "markdown",
   "metadata": {},
   "source": [
    "The data can be interpreted in many different ways. We chose to leverage two different pipelines for our data. They were then combined to see which was the most effective. They appear as follows."
   ]
  },
  {
   "cell_type": "markdown",
   "metadata": {},
   "source": [
    "<img src=\"diff_pipelines.png\" alt=\"Drawing\" style=\"width: 500px;\"/>"
   ]
  },
  {
   "cell_type": "markdown",
   "metadata": {},
   "source": [
    "A brief summary of each pipeline is provided below. For further coding details on each please refer to pipeline_a.ipynb and normlize_data_pipeline_a.ipynb for pipeline A and pipeline_b.ipynb and normlize_data_pipeline_b.ipynb for pipeline B."
   ]
  },
  {
   "cell_type": "markdown",
   "metadata": {},
   "source": [
    "# Pipeline A\n",
    "The first pipeline normalizes the data as its first step. The most effective normalization technique was the yeo-johnson technique, with the exception of a single field, INSERT FIELD HERE, which leveraged l1 normalization.\n",
    "\n",
    "Following this, Z-Scores were calculated and those outside of three standard deviations from the mean had their values altered to the nearest edge of the three standard deviation range. "
   ]
  },
  {
   "cell_type": "code",
   "execution_count": null,
   "metadata": {},
   "outputs": [],
   "source": []
  },
  {
   "cell_type": "markdown",
   "metadata": {},
   "source": [
    "# Pipeline B\n",
    "Pipeline B took an alternative approach, first detecting outliers as points further than 1.5 * IQR. Points identified as further than this range had their values altered to sit at the end of the 1.5 * IQR range. \n",
    "\n",
    "The data was then standardized with a min-max scaler to place all values between 0 and 1. Following this, the data was normalized, with the yeo-johnson technique being the most effective in all cases."
   ]
  },
  {
   "cell_type": "code",
   "execution_count": null,
   "metadata": {},
   "outputs": [],
   "source": []
  },
  {
   "cell_type": "markdown",
   "metadata": {},
   "source": [
    "# Merge all data from both pipelines into the original data"
   ]
  },
  {
   "cell_type": "code",
   "execution_count": 3,
   "metadata": {},
   "outputs": [],
   "source": [
    "cont_min_max_scaled = pd.read_csv('cont_min_max_scaled_standardized.csv').drop(columns = ['Unnamed: 0'])\n",
    "categorical_df = pd.read_csv('categorical_df_standardized.csv').drop(columns = ['Unnamed: 0'])"
   ]
  },
  {
   "cell_type": "code",
   "execution_count": 4,
   "metadata": {},
   "outputs": [],
   "source": [
    "normalized_cont = pd.read_csv('normalized_continuous.csv').drop(columns = ['Unnamed: 0'])\n",
    "normalized_alt = pd.read_csv('normalized_continuous_peter.csv').drop(columns = ['Unnamed: 0'])\n",
    "normalized_alt.columns = [i + '_alt' for i in normalized_alt.columns]\n",
    "all_cont = cont_min_max_scaled.merge(normalized_cont, left_on = 'I1', right_on = 'I1_normalized', how = 'inner')\n",
    "all_cont = all_cont.merge(normalized_alt, left_on = 'I1', right_on = 'I1_normalized_alt', how = 'inner')"
   ]
  },
  {
   "cell_type": "code",
   "execution_count": 65,
   "metadata": {},
   "outputs": [],
   "source": []
  },
  {
   "cell_type": "markdown",
   "metadata": {},
   "source": [
    "# Merge Categorical Variables for final feature set candidates"
   ]
  },
  {
   "cell_type": "code",
   "execution_count": 5,
   "metadata": {},
   "outputs": [],
   "source": [
    "feat_mat = all_cont.merge(categorical_df)"
   ]
  },
  {
   "cell_type": "code",
   "execution_count": 6,
   "metadata": {},
   "outputs": [],
   "source": [
    "feat_mat.drop(columns = ['I1_normalized','I1_normalized_alt'], inplace = True)"
   ]
  },
  {
   "cell_type": "code",
   "execution_count": null,
   "metadata": {},
   "outputs": [],
   "source": []
  },
  {
   "cell_type": "markdown",
   "metadata": {},
   "source": [
    "We now have all of the fields created from either pipeline combined in the same feature matrix. We can look at the correlation between values from either pipeline and the original values to view the relationships between features."
   ]
  },
  {
   "cell_type": "markdown",
   "metadata": {},
   "source": [
    "# Step 7: Correlation of input variables\n",
    "- Line plot to display correlation\n",
    "- HeatMap to check correlation"
   ]
  },
  {
   "cell_type": "markdown",
   "metadata": {},
   "source": [
    "First the original fields will be explored. We would expect alternative versions of the same field to be heavilly correlated with the original, and that the correlation patterns would hold between pipelines."
   ]
  },
  {
   "cell_type": "code",
   "execution_count": 7,
   "metadata": {},
   "outputs": [
    {
     "data": {
      "text/plain": [
       "Text(0.5,1,'Original Variable Correlation')"
      ]
     },
     "execution_count": 7,
     "metadata": {},
     "output_type": "execute_result"
    },
    {
     "data": {
      "image/png": "[encoded data removed]",
      "text/plain": [
       "<Figure size 1080x1080 with 2 Axes>"
      ]
     },
     "metadata": {
      "needs_background": "light"
     },
     "output_type": "display_data"
    }
   ],
   "source": [
    "corr = cont_min_max_scaled[[i for i in list(cont_min_max_scaled.columns) if 'standardized' not in i]].corr()\n",
    "plt.figure(figsize=(15,15))\n",
    "ax = sns.heatmap(\n",
    "    corr, \n",
    "    vmin=-1, vmax=1, center=0,\n",
    "    cmap=sns.diverging_palette(20, 220, n=200),\n",
    "    square=True\n",
    ")\n",
    "ax.set_xticklabels(\n",
    "    ax.get_xticklabels(),\n",
    "    rotation=45,\n",
    "    horizontalalignment='right'\n",
    ")\n",
    "plt.title('Original Variable Correlation')"
   ]
  },
  {
   "cell_type": "markdown",
   "metadata": {},
   "source": [
    "We expect the diagnol to be a perfect correlation as it represents one field against itself. We also see others which are potentially correlated and need to be addressed. \n",
    "\n",
    "Some of these fields make intuitive sense as they were created off of the same input values. Initially both sets were retained as it was unknown which had the most predictive power. We can use this chart to pick subsets to be tested against each other later on."
   ]
  },
  {
   "cell_type": "code",
   "execution_count": 9,
   "metadata": {},
   "outputs": [],
   "source": [
    "# corr = cont_min_max_scaled[[i for i in list(cont_min_max_scaled.columns) if 'standardized' in i]].corr()\n",
    "# plt.figure(figsize=(15,15))\n",
    "# ax = sns.heatmap(\n",
    "#     corr, \n",
    "#     vmin=-1, vmax=1, center=0,\n",
    "#     cmap=sns.diverging_palette(20, 220, n=200),\n",
    "#     square=True\n",
    "# )\n",
    "# ax.set_xticklabels(\n",
    "#     ax.get_xticklabels(),\n",
    "#     rotation=45,\n",
    "#     horizontalalignment='right'\n",
    "# );"
   ]
  },
  {
   "cell_type": "markdown",
   "metadata": {},
   "source": [
    "Those standardized through leveraging IQR seem to present a very similar image and corersponding correlations. However, it can be seen that several correlations seem to have more magnitude once the IQR trimming mechanism was used. This implies that handling the outliers in this fashion caused more relationships to be seen."
   ]
  },
  {
   "cell_type": "code",
   "execution_count": null,
   "metadata": {},
   "outputs": [],
   "source": []
  },
  {
   "cell_type": "markdown",
   "metadata": {},
   "source": [
    "The Normalized data can also be viewed. It appears as if the correlation remains intact which implies that the normalization process did not leak any valuable data. "
   ]
  },
  {
   "cell_type": "code",
   "execution_count": 12,
   "metadata": {},
   "outputs": [],
   "source": [
    "# corr = normalized_cont[[i for i in list(normalized_cont.columns) if 'standardized' not in i]].corr()\n",
    "# plt.figure(figsize=(15,15))\n",
    "# ax = sns.heatmap(\n",
    "#     corr, \n",
    "#     vmin=-1, vmax=1, center=0,\n",
    "#     cmap=sns.diverging_palette(20, 220, n=200),\n",
    "#     square=True\n",
    "# )\n",
    "# ax.set_xticklabels(\n",
    "#     ax.get_xticklabels(),\n",
    "#     rotation=45,\n",
    "#     horizontalalignment='right'\n",
    "# );"
   ]
  },
  {
   "cell_type": "code",
   "execution_count": 37,
   "metadata": {},
   "outputs": [],
   "source": [
    "# corr = normalized_cont[[i for i in list(normalized_cont.columns) if 'standardized' in i]].corr()\n",
    "# plt.figure(figsize=(15,15))\n",
    "# ax = sns.heatmap(\n",
    "#     corr, \n",
    "#     vmin=-1, vmax=1, center=0,\n",
    "#     cmap=sns.diverging_palette(20, 220, n=200),\n",
    "#     square=True\n",
    "# )\n",
    "# ax.set_xticklabels(\n",
    "#     ax.get_xticklabels(),\n",
    "#     rotation=45,\n",
    "#     horizontalalignment='right'\n",
    "# );"
   ]
  },
  {
   "cell_type": "markdown",
   "metadata": {},
   "source": [
    "The Correlation plots can be used to group items together during feature selection to choose the best option to represent similar data."
   ]
  },
  {
   "cell_type": "code",
   "execution_count": 36,
   "metadata": {},
   "outputs": [],
   "source": [
    "# corr_alt = normalized_alt[[i for i in list(normalized_alt.columns) if 'normalized_alt' in i]].corr()\n",
    "# plt.figure(figsize=(15,15))\n",
    "# ax = sns.heatmap(\n",
    "#     corr_alt, \n",
    "#     vmin=-1, vmax=1, center=0,\n",
    "#     cmap=sns.diverging_palette(20, 220, n=200),\n",
    "#     square=True\n",
    "# )\n",
    "# ax.set_xticklabels(\n",
    "#     ax.get_xticklabels(),\n",
    "#     rotation=45,\n",
    "#     horizontalalignment='right'\n",
    "# );"
   ]
  },
  {
   "cell_type": "markdown",
   "metadata": {},
   "source": [
    "The alternative Pipeline also offers the same perspective as far as the correlation is concerned. As this is the case we can treat the correlated fields the same regardless of Pipeline."
   ]
  },
  {
   "cell_type": "code",
   "execution_count": 50,
   "metadata": {},
   "outputs": [
    {
     "data": {
      "image/png": "[encoded data removed]",
      "text/plain": [
       "<Figure size 1080x1080 with 2 Axes>"
      ]
     },
     "metadata": {},
     "output_type": "display_data"
    }
   ],
   "source": [
    "# NOTE that the dark version of Jupyterlab won't show the titles as the default is black...\n",
    "\n",
    "fig, (ax1, ax2) = plt.subplots(1,2, sharex=True, sharey=True, figsize=(15,15))\n",
    "\n",
    "\n",
    "sns.heatmap(corr_alt, \n",
    "    vmin=-1, vmax=1, center=0,\n",
    "    cmap=sns.diverging_palette(20, 220, n=200),\n",
    "    square=True, ax=ax1,\n",
    "           cbar = False)\n",
    "sns.heatmap(corr, \n",
    "    vmin=-1, vmax=1, center=0,\n",
    "    cmap=sns.diverging_palette(20, 220, n=200),\n",
    "    square=True, ax=ax2,\n",
    "            cbar = False)\n",
    "ax1.set(yticks=[])\n",
    "ax2.set(yticks=[])\n",
    "ax1.set(xticks=[])\n",
    "ax2.set(xticks=[])\n",
    "ax1.set_title('Pipeline A')\n",
    "ax2.set_title('Pipeline B')\n",
    "fig.tight_layout(rect=[0, 0, .9, 1])\n",
    "#fig.suptitle(\"Title centered above all subplots\", fontsize=14)\n",
    "plt.show()"
   ]
  },
  {
   "cell_type": "markdown",
   "metadata": {},
   "source": [
    "The areas of high correlation appear to be similar between pipelines. However, minor differences do occur, meaning that features from both pipelines may be useful for modelling. \n",
    "\n",
    "In order to ensure that we identify highly correlated fields, we can keep track of all pairwise sets with a correlation value either below 0.5 or above 0.5 in their correlation values."
   ]
  },
  {
   "cell_type": "code",
   "execution_count": 51,
   "metadata": {},
   "outputs": [],
   "source": [
    "high_corrs = corr[((corr>0.5) | (corr < -0.5)) & (corr != 1)]\n",
    "high_corrs_alt = corr_alt[((corr_alt>0.5) | (corr_alt < -0.5)) & (corr_alt != 1)]"
   ]
  },
  {
   "cell_type": "code",
   "execution_count": 52,
   "metadata": {},
   "outputs": [],
   "source": [
    "high_corr_map = {}\n",
    "\n",
    "for i in high_corrs.columns:\n",
    "    val = list(high_corrs[i].dropna().index)\n",
    "    if len(val) > 0:\n",
    "        high_corr_map[i] = list(high_corrs[i].dropna().index)"
   ]
  },
  {
   "cell_type": "code",
   "execution_count": 53,
   "metadata": {},
   "outputs": [],
   "source": [
    "high_corr_map_alt = {}\n",
    "\n",
    "for i in high_corrs_alt.columns:\n",
    "    val = list(high_corrs_alt[i].dropna().index)\n",
    "    if len(val) > 0:\n",
    "        high_corr_map_alt[i] = list(high_corrs_alt[i].dropna().index)"
   ]
  },
  {
   "cell_type": "markdown",
   "metadata": {},
   "source": [
    "This mapping can be used to ensure we are not leveraging correlated features once feature selection and modelling begins."
   ]
  },
  {
   "cell_type": "markdown",
   "metadata": {},
   "source": [
    "# Step 9: Identify and remove redundunt information through Feature Selection\n",
    "- Leverage correlation analysis\n",
    "- RFE (recursive feature elimination) to select valuable items\n",
    "- JointPlots against target"
   ]
  },
  {
   "cell_type": "markdown",
   "metadata": {},
   "source": [
    "# Methodology \n",
    "- There will be a few different ways of representing the same information\n",
    "    - Original Fields\n",
    "    - Pipeline A\n",
    "    - Pipeline B\n",
    "- Take each of these in RFE to pick a \"winner\"\n",
    "- Keep only the \"winners\" and use these in PCA\n",
    "\n",
    "Only test fields intented for final results (nothing used in other features created, nothing relating to target variable)"
   ]
  },
  {
   "cell_type": "code",
   "execution_count": 35,
   "metadata": {},
   "outputs": [],
   "source": [
    "def get_important_features_rfe(xTrain, yTrain, num_feats):\n",
    "    '''\n",
    "    Takes training values and returns the most important features in order\n",
    "    '''\n",
    "    clf = LogisticRegression(random_state=123)\n",
    "    selector = RFE(clf, num_feats, step=1)\n",
    "    selector.fit(xTrain, yTrain)\n",
    "    \n",
    "    return [x for _,x in sorted(zip(selector.ranking_, list(xTrain.columns)))]\n",
    "    \n",
    "    "
   ]
  },
  {
   "cell_type": "markdown",
   "metadata": {},
   "source": [
    "Maybe Remove the part below?"
   ]
  },
  {
   "cell_type": "code",
   "execution_count": 36,
   "metadata": {},
   "outputs": [],
   "source": [
    "test_feats = {\n",
    "    'C1': ['C1', 'C1_normalized'],\n",
    "    'C3': ['C3_imputed','C3_imputed_iqr_standardized','C3_imputed_normalized', 'C3_imputed_iqr_standardized_normalized'],\n",
    "    'C4': ['C4', 'C4_iqr_standardized', 'C4_normalized', 'C4_iqr_standardized_normalized'],\n",
    "    'C5_prime': ['C5_prime', 'C5_prime_iqr_standardized','C5_prime_normalized','C5_prime_iqr_standardized_normalized'],\n",
    "    'C6_prime': ['C6_imputed_std_scaled', 'C6_imputed_iqr_standardized_std_scaled'],\n",
    "    'C7': ['C7_imputed_std_scaled', 'C7_imputed_iqr_standardized_std_scaled'],\n",
    "    'words_per_sentence': ['words_per_sentence_imputed_std_scaled', 'words_per_sentence_imputed_iqr_standardized_std_scaled'],\n",
    "    'real_word_per': ['real_word_per_imputed_std_scaled','real_word_per_imputed_iqr_standardized_std_scaled'],\n",
    "    #'non_real_word_per': ['non_real_word_per_imputed_std_scaled','non_real_word_per_imputed_iqr_standardized_std_scaled'],\n",
    "    'short_sentences_per': ['short_sentences_imputed_std_scaled', 'short_sentences_imputed_iqr_standardized_std_scaled'],\n",
    "    'long_sentences_per': [],\n",
    "    'pos_words_percent': ['pos_words_percent_imputed_std_scaled','pos_words_percent_imputed_iqr_standardized_std_scaled'],\n",
    "    'neg_words_percent': ['neg_words_percent_imputed_std_scaled', 'neg_words_percent_imputed_iqr_standardized_std_scaled'],\n",
    "    'uncertain_words_percent': ['uncertain_words_percent_imputed_std_scaled','uncertain_words_percent_imputed_iqr_standardized_std_scaled'],\n",
    "    'total_shares': ['total_shares_imputed_std_scaled','total_shares_imputed_iqr_standardized_std_scaled'],\n",
    "    'sales_per_share': ['sales_per_share_imputed_std_scaled','sales_per_share_imputed_iqr_standardized_std_scaled'],\n",
    "    'outstanding_share_per': ['C5\\'_imputed_std_scaled', 'C5\\'_imputed_iqr_standardized_std_scaled'],\n",
    "    'offering_share_per': ['C6\\'_imputed_std_scaled', 'C6\\'_imputed_iqr_standardized_std_scaled'],\n",
    "    \n",
    "}"
   ]
  },
  {
   "cell_type": "code",
   "execution_count": 38,
   "metadata": {},
   "outputs": [],
   "source": [
    "picked_feats = {}\n",
    "for i in test_feats.keys():\n",
    "    testing_feats = [j for j in feat_mat.columns if i in j]\n",
    "    xTrain = feat_mat[testing_feats]\n",
    "    yTrain = target_df.Y1\n",
    "    yTrain_alt = target_df.Y2\n",
    "    picked_feats[i] = get_important_features_rfe(xTrain, yTrain, 1)[0]"
   ]
  },
  {
   "cell_type": "code",
   "execution_count": null,
   "metadata": {},
   "outputs": [],
   "source": []
  },
  {
   "cell_type": "code",
   "execution_count": 39,
   "metadata": {},
   "outputs": [
    {
     "data": {
      "text/html": [
       "<div>\n",
       "<style scoped>\n",
       "    .dataframe tbody tr th:only-of-type {\n",
       "        vertical-align: middle;\n",
       "    }\n",
       "\n",
       "    .dataframe tbody tr th {\n",
       "        vertical-align: top;\n",
       "    }\n",
       "\n",
       "    .dataframe thead th {\n",
       "        text-align: right;\n",
       "    }\n",
       "</style>\n",
       "<table border=\"1\" class=\"dataframe\">\n",
       "  <thead>\n",
       "    <tr style=\"text-align: right;\">\n",
       "      <th></th>\n",
       "      <th>C1_iqr_standardized</th>\n",
       "      <th>C3_imputed_normalized_alt</th>\n",
       "      <th>C4</th>\n",
       "      <th>C5_prime_normalized_alt</th>\n",
       "      <th>C6_prime_iqr_standardized_normalized</th>\n",
       "      <th>C7_imputed_normalized_alt</th>\n",
       "      <th>words_per_sentence_iqr_standardized_normalized</th>\n",
       "      <th>non_real_word_per_iqr_standardized</th>\n",
       "      <th>short_sentences_per</th>\n",
       "      <th>long_sentences_per</th>\n",
       "      <th>pos_words_percent_normalized</th>\n",
       "      <th>neg_words_percent_iqr_standardized</th>\n",
       "      <th>uncertain_words_percent_normalized_alt</th>\n",
       "      <th>total_shares</th>\n",
       "      <th>sales_per_share_iqr_standardized</th>\n",
       "      <th>outstanding_share_per_normalized_alt</th>\n",
       "      <th>offering_share_per_normalized</th>\n",
       "      <th>Unnamed: 0</th>\n",
       "      <th>I1</th>\n",
       "      <th>C2</th>\n",
       "      <th>data_updated</th>\n",
       "      <th>C3_prime</th>\n",
       "      <th>industry_bin__Manufacturing</th>\n",
       "      <th>industry_bin__Other</th>\n",
       "      <th>industry_bin__Services</th>\n",
       "    </tr>\n",
       "  </thead>\n",
       "  <tbody>\n",
       "    <tr>\n",
       "      <th>0</th>\n",
       "      <td>0.554455</td>\n",
       "      <td>0.090772</td>\n",
       "      <td>0.749962</td>\n",
       "      <td>0.095989</td>\n",
       "      <td>0.920862</td>\n",
       "      <td>-0.435522</td>\n",
       "      <td>0.034692</td>\n",
       "      <td>0.349467</td>\n",
       "      <td>0.224992</td>\n",
       "      <td>0.775008</td>\n",
       "      <td>-0.135878</td>\n",
       "      <td>0.569242</td>\n",
       "      <td>-0.131815</td>\n",
       "      <td>0.017940</td>\n",
       "      <td>0.085818</td>\n",
       "      <td>0.079809</td>\n",
       "      <td>-0.075282</td>\n",
       "      <td>0</td>\n",
       "      <td>AATI</td>\n",
       "      <td>1.0</td>\n",
       "      <td>0</td>\n",
       "      <td>1</td>\n",
       "      <td>1</td>\n",
       "      <td>0</td>\n",
       "      <td>0</td>\n",
       "    </tr>\n",
       "    <tr>\n",
       "      <th>1</th>\n",
       "      <td>1.000000</td>\n",
       "      <td>0.047297</td>\n",
       "      <td>0.583748</td>\n",
       "      <td>2.225766</td>\n",
       "      <td>-0.448096</td>\n",
       "      <td>-0.804847</td>\n",
       "      <td>0.193808</td>\n",
       "      <td>0.478117</td>\n",
       "      <td>0.219755</td>\n",
       "      <td>0.780245</td>\n",
       "      <td>-1.455280</td>\n",
       "      <td>0.813082</td>\n",
       "      <td>-0.217787</td>\n",
       "      <td>0.009994</td>\n",
       "      <td>0.071443</td>\n",
       "      <td>2.322293</td>\n",
       "      <td>-2.339497</td>\n",
       "      <td>1</td>\n",
       "      <td>ABPI</td>\n",
       "      <td>0.0</td>\n",
       "      <td>0</td>\n",
       "      <td>0</td>\n",
       "      <td>1</td>\n",
       "      <td>0</td>\n",
       "      <td>0</td>\n",
       "    </tr>\n",
       "    <tr>\n",
       "      <th>2</th>\n",
       "      <td>0.396040</td>\n",
       "      <td>0.051042</td>\n",
       "      <td>0.717213</td>\n",
       "      <td>-0.196085</td>\n",
       "      <td>-2.056332</td>\n",
       "      <td>-1.436472</td>\n",
       "      <td>-0.260820</td>\n",
       "      <td>0.343466</td>\n",
       "      <td>0.229360</td>\n",
       "      <td>0.770640</td>\n",
       "      <td>2.902532</td>\n",
       "      <td>0.049463</td>\n",
       "      <td>-0.791761</td>\n",
       "      <td>0.006303</td>\n",
       "      <td>0.028953</td>\n",
       "      <td>-0.236703</td>\n",
       "      <td>0.233961</td>\n",
       "      <td>2</td>\n",
       "      <td>ACAD</td>\n",
       "      <td>1.0</td>\n",
       "      <td>0</td>\n",
       "      <td>0</td>\n",
       "      <td>1</td>\n",
       "      <td>0</td>\n",
       "      <td>0</td>\n",
       "    </tr>\n",
       "    <tr>\n",
       "      <th>3</th>\n",
       "      <td>0.985149</td>\n",
       "      <td>0.054241</td>\n",
       "      <td>0.714502</td>\n",
       "      <td>-0.240845</td>\n",
       "      <td>-1.170267</td>\n",
       "      <td>-1.368097</td>\n",
       "      <td>-0.608578</td>\n",
       "      <td>0.245763</td>\n",
       "      <td>0.346964</td>\n",
       "      <td>0.653036</td>\n",
       "      <td>1.909651</td>\n",
       "      <td>0.126132</td>\n",
       "      <td>-0.067201</td>\n",
       "      <td>0.005325</td>\n",
       "      <td>0.037847</td>\n",
       "      <td>-0.284734</td>\n",
       "      <td>0.280817</td>\n",
       "      <td>3</td>\n",
       "      <td>ACHN</td>\n",
       "      <td>1.0</td>\n",
       "      <td>0</td>\n",
       "      <td>0</td>\n",
       "      <td>1</td>\n",
       "      <td>0</td>\n",
       "      <td>0</td>\n",
       "    </tr>\n",
       "    <tr>\n",
       "      <th>4</th>\n",
       "      <td>0.346535</td>\n",
       "      <td>0.063359</td>\n",
       "      <td>0.499347</td>\n",
       "      <td>0.018987</td>\n",
       "      <td>0.537671</td>\n",
       "      <td>1.017824</td>\n",
       "      <td>-0.347335</td>\n",
       "      <td>0.608070</td>\n",
       "      <td>0.289146</td>\n",
       "      <td>0.710854</td>\n",
       "      <td>-0.515221</td>\n",
       "      <td>0.640658</td>\n",
       "      <td>-0.146732</td>\n",
       "      <td>0.013018</td>\n",
       "      <td>1.000000</td>\n",
       "      <td>-0.004083</td>\n",
       "      <td>0.006788</td>\n",
       "      <td>4</td>\n",
       "      <td>ACLI</td>\n",
       "      <td>1.0</td>\n",
       "      <td>0</td>\n",
       "      <td>1</td>\n",
       "      <td>0</td>\n",
       "      <td>1</td>\n",
       "      <td>0</td>\n",
       "    </tr>\n",
       "  </tbody>\n",
       "</table>\n",
       "</div>"
      ],
      "text/plain": [
       "   C1_iqr_standardized  C3_imputed_normalized_alt        C4  \\\n",
       "0             0.554455                   0.090772  0.749962   \n",
       "1             1.000000                   0.047297  0.583748   \n",
       "2             0.396040                   0.051042  0.717213   \n",
       "3             0.985149                   0.054241  0.714502   \n",
       "4             0.346535                   0.063359  0.499347   \n",
       "\n",
       "   C5_prime_normalized_alt  C6_prime_iqr_standardized_normalized  \\\n",
       "0                 0.095989                              0.920862   \n",
       "1                 2.225766                             -0.448096   \n",
       "2                -0.196085                             -2.056332   \n",
       "3                -0.240845                             -1.170267   \n",
       "4                 0.018987                              0.537671   \n",
       "\n",
       "   C7_imputed_normalized_alt  words_per_sentence_iqr_standardized_normalized  \\\n",
       "0                  -0.435522                                        0.034692   \n",
       "1                  -0.804847                                        0.193808   \n",
       "2                  -1.436472                                       -0.260820   \n",
       "3                  -1.368097                                       -0.608578   \n",
       "4                   1.017824                                       -0.347335   \n",
       "\n",
       "   non_real_word_per_iqr_standardized  short_sentences_per  \\\n",
       "0                            0.349467             0.224992   \n",
       "1                            0.478117             0.219755   \n",
       "2                            0.343466             0.229360   \n",
       "3                            0.245763             0.346964   \n",
       "4                            0.608070             0.289146   \n",
       "\n",
       "   long_sentences_per  pos_words_percent_normalized  \\\n",
       "0            0.775008                     -0.135878   \n",
       "1            0.780245                     -1.455280   \n",
       "2            0.770640                      2.902532   \n",
       "3            0.653036                      1.909651   \n",
       "4            0.710854                     -0.515221   \n",
       "\n",
       "   neg_words_percent_iqr_standardized  uncertain_words_percent_normalized_alt  \\\n",
       "0                            0.569242                               -0.131815   \n",
       "1                            0.813082                               -0.217787   \n",
       "2                            0.049463                               -0.791761   \n",
       "3                            0.126132                               -0.067201   \n",
       "4                            0.640658                               -0.146732   \n",
       "\n",
       "   total_shares  sales_per_share_iqr_standardized  \\\n",
       "0      0.017940                          0.085818   \n",
       "1      0.009994                          0.071443   \n",
       "2      0.006303                          0.028953   \n",
       "3      0.005325                          0.037847   \n",
       "4      0.013018                          1.000000   \n",
       "\n",
       "   outstanding_share_per_normalized_alt  offering_share_per_normalized  \\\n",
       "0                              0.079809                      -0.075282   \n",
       "1                              2.322293                      -2.339497   \n",
       "2                             -0.236703                       0.233961   \n",
       "3                             -0.284734                       0.280817   \n",
       "4                             -0.004083                       0.006788   \n",
       "\n",
       "   Unnamed: 0    I1   C2  data_updated  C3_prime  industry_bin__Manufacturing  \\\n",
       "0           0  AATI  1.0             0         1                            1   \n",
       "1           1  ABPI  0.0             0         0                            1   \n",
       "2           2  ACAD  1.0             0         0                            1   \n",
       "3           3  ACHN  1.0             0         0                            1   \n",
       "4           4  ACLI  1.0             0         1                            0   \n",
       "\n",
       "   industry_bin__Other  industry_bin__Services  \n",
       "0                    0                       0  \n",
       "1                    0                       0  \n",
       "2                    0                       0  \n",
       "3                    0                       0  \n",
       "4                    1                       0  "
      ]
     },
     "execution_count": 39,
     "metadata": {},
     "output_type": "execute_result"
    }
   ],
   "source": [
    "final_feats = feat_mat[list(picked_feats.values()) + list(categorical_df.columns)]\n",
    "final_feats.head()"
   ]
  },
  {
   "cell_type": "markdown",
   "metadata": {},
   "source": [
    "However, as these are not all in the same scale it seems to produce less ideal results."
   ]
  },
  {
   "cell_type": "code",
   "execution_count": null,
   "metadata": {},
   "outputs": [],
   "source": []
  },
  {
   "cell_type": "code",
   "execution_count": null,
   "metadata": {},
   "outputs": [],
   "source": []
  },
  {
   "cell_type": "code",
   "execution_count": null,
   "metadata": {},
   "outputs": [],
   "source": []
  },
  {
   "cell_type": "markdown",
   "metadata": {},
   "source": [
    "Some of these fields are derived off of others and will naturally replace them."
   ]
  },
  {
   "cell_type": "markdown",
   "metadata": {},
   "source": [
    "# Predict Y1"
   ]
  },
  {
   "cell_type": "code",
   "execution_count": 40,
   "metadata": {},
   "outputs": [],
   "source": [
    "def test_evaluation(predictors_y1, y1):\n",
    "    # lists for f1-score and AUC\n",
    "    f1_score_lst = []\n",
    "    auc_lst = []\n",
    "\n",
    "\n",
    "    #loop to calculate f1 and auc scores and present averages after 10 runs\n",
    "    for count in range (1,10):\n",
    "        #Model building\n",
    "        clf = LogisticRegression()\n",
    "        X1_train, X1_test, y1_train, y1_test = train_test_split(predictors_y1, y1, test_size=0.2, random_state=123)\n",
    "        clf.fit(X1_train, y1_train)\n",
    "\n",
    "        y1_pred = clf.predict(X1_test)\n",
    "\n",
    "\n",
    "        #10-fold cross validation\n",
    "        kfold = model_selection.KFold(n_splits=10, random_state=7)\n",
    "        scoring = 'accuracy'\n",
    "        results = model_selection.cross_val_score(clf, X1_train, y1_train, cv=kfold, scoring=scoring)\n",
    "\n",
    "\n",
    "\n",
    "\n",
    "        #calculate f1-score and AUC\n",
    "\n",
    "        clf_roc_auc = roc_auc_score(y1_test, y1_pred)\n",
    "        f1_score_lst.append(precision_recall_fscore_support(y1_test, y1_pred, average='weighted')[2])\n",
    "        auc_lst.append(clf_roc_auc)\n",
    "\n",
    "\n",
    "    print('F1 {:.4f}; AUC {:.4f} '.format(np.mean(f1_score_lst),np.mean(auc_lst)))\n",
    "\n",
    "    #result=logit_model.fit()\n",
    "    confusion_matrix_y1 = confusion_matrix(y1_test, y1_pred)\n",
    "\n",
    "\n",
    "    #print(result.summary())\n",
    "    print('Accuracy of classifier on test set: {:.2f}'.format(clf.score(X1_test, y1_test)))\n",
    "\n",
    "    print(\"10-fold cross validation average accuracy of classifier: %.3f\" % (results.mean()))\n",
    "\n",
    "    print('Confusion Matrix for Logistic Regression Classfier:')\n",
    "    print(confusion_matrix_y1)\n",
    "\n",
    "    print('Classification Report for Logistic Regression Classfier:')\n",
    "    print(classification_report(y1_test, y1_pred))\n",
    "    \n",
    "    try:\n",
    "        imp = pd.DataFrame(zip(predictors_y1.columns, clf.coef_[0]))\n",
    "    except Exception as e:\n",
    "        imp = None\n",
    "    return clf, imp"
   ]
  },
  {
   "cell_type": "markdown",
   "metadata": {},
   "source": [
    "Initially all fields were used for prediction if they were normalized, with the exception of the variations of C6. This segmentation is necessary as C6 is formed off of the same fields used to create the target. \n",
    "\n",
    "A backwards-stepwise process was used to remove the features with the lowest absolute value for their coefficients. This proceded until the model score started to deteriorate with the removal of subsequent variables. This left us with the following model."
   ]
  },
  {
   "cell_type": "code",
   "execution_count": 41,
   "metadata": {},
   "outputs": [
    {
     "name": "stderr",
     "output_type": "stream",
     "text": [
      "/opt/tljh/user/lib/python3.6/site-packages/sklearn/model_selection/_split.py:296: FutureWarning: Setting a random_state has no effect since shuffle is False. This will raise an error in 0.24. You should leave random_state to its default (None), or set shuffle=True.\n",
      "  FutureWarning\n",
      "/opt/tljh/user/lib/python3.6/site-packages/sklearn/model_selection/_split.py:296: FutureWarning: Setting a random_state has no effect since shuffle is False. This will raise an error in 0.24. You should leave random_state to its default (None), or set shuffle=True.\n",
      "  FutureWarning\n",
      "/opt/tljh/user/lib/python3.6/site-packages/sklearn/model_selection/_split.py:296: FutureWarning: Setting a random_state has no effect since shuffle is False. This will raise an error in 0.24. You should leave random_state to its default (None), or set shuffle=True.\n",
      "  FutureWarning\n",
      "/opt/tljh/user/lib/python3.6/site-packages/sklearn/model_selection/_split.py:296: FutureWarning: Setting a random_state has no effect since shuffle is False. This will raise an error in 0.24. You should leave random_state to its default (None), or set shuffle=True.\n",
      "  FutureWarning\n",
      "/opt/tljh/user/lib/python3.6/site-packages/sklearn/model_selection/_split.py:296: FutureWarning: Setting a random_state has no effect since shuffle is False. This will raise an error in 0.24. You should leave random_state to its default (None), or set shuffle=True.\n",
      "  FutureWarning\n",
      "/opt/tljh/user/lib/python3.6/site-packages/sklearn/model_selection/_split.py:296: FutureWarning: Setting a random_state has no effect since shuffle is False. This will raise an error in 0.24. You should leave random_state to its default (None), or set shuffle=True.\n",
      "  FutureWarning\n",
      "/opt/tljh/user/lib/python3.6/site-packages/sklearn/model_selection/_split.py:296: FutureWarning: Setting a random_state has no effect since shuffle is False. This will raise an error in 0.24. You should leave random_state to its default (None), or set shuffle=True.\n",
      "  FutureWarning\n",
      "/opt/tljh/user/lib/python3.6/site-packages/sklearn/model_selection/_split.py:296: FutureWarning: Setting a random_state has no effect since shuffle is False. This will raise an error in 0.24. You should leave random_state to its default (None), or set shuffle=True.\n",
      "  FutureWarning\n",
      "/opt/tljh/user/lib/python3.6/site-packages/sklearn/model_selection/_split.py:296: FutureWarning: Setting a random_state has no effect since shuffle is False. This will raise an error in 0.24. You should leave random_state to its default (None), or set shuffle=True.\n",
      "  FutureWarning\n"
     ]
    },
    {
     "name": "stdout",
     "output_type": "stream",
     "text": [
      "F1 0.6376; AUC 0.6365 \n",
      "Accuracy of classifier on test set: 0.64\n",
      "10-fold cross validation average accuracy of classifier: 0.605\n",
      "Confusion Matrix for Logistic Regression Classfier:\n",
      "[[47 27]\n",
      " [21 37]]\n",
      "Classification Report for Logistic Regression Classfier:\n",
      "              precision    recall  f1-score   support\n",
      "\n",
      "           0       0.69      0.64      0.66        74\n",
      "           1       0.58      0.64      0.61        58\n",
      "\n",
      "    accuracy                           0.64       132\n",
      "   macro avg       0.63      0.64      0.63       132\n",
      "weighted avg       0.64      0.64      0.64       132\n",
      "\n"
     ]
    }
   ],
   "source": [
    "clf_norm, norm_imp = test_evaluation(feat_mat[[i for i in feat_mat.columns if 'iqr_standardized_normalized' in i \n",
    "                                               and 'C6' not in i and \n",
    "                                               i not in ['pos_words_percent_iqr_standardized_normalized',\n",
    "                                                         'outstanding_share_per_iqr_standardized_normalized',\n",
    "                                                         'long_sentences_per_iqr_standardized_normalized',\n",
    "                                                         'short_sentences_iqr_standardized_normalized',\n",
    "                                                         'offering_share_per_iqr_standardized_normalized',\n",
    "                                                         'non_real_word_per_iqr_standardized_normalized',\n",
    "                                                         'uncertain_words_percent_iqr_standardized_normalized',\n",
    "                                                         #'words_per_sentence_iqr_standardized_normalized'\n",
    "                                                        ]]], #+ [\n",
    "# 'data_updated']], \n",
    "                target_df.Y1.values)"
   ]
  },
  {
   "cell_type": "markdown",
   "metadata": {},
   "source": [
    "By leveraging the manual removal of features we are left with the following features as the current feature set. "
   ]
  },
  {
   "cell_type": "code",
   "execution_count": 45,
   "metadata": {},
   "outputs": [
    {
     "data": {
      "text/html": [
       "<div>\n",
       "<style scoped>\n",
       "    .dataframe tbody tr th:only-of-type {\n",
       "        vertical-align: middle;\n",
       "    }\n",
       "\n",
       "    .dataframe tbody tr th {\n",
       "        vertical-align: top;\n",
       "    }\n",
       "\n",
       "    .dataframe thead th {\n",
       "        text-align: right;\n",
       "    }\n",
       "</style>\n",
       "<table border=\"1\" class=\"dataframe\">\n",
       "  <thead>\n",
       "    <tr style=\"text-align: right;\">\n",
       "      <th></th>\n",
       "      <th>field</th>\n",
       "      <th>imp</th>\n",
       "    </tr>\n",
       "  </thead>\n",
       "  <tbody>\n",
       "    <tr>\n",
       "      <th>9</th>\n",
       "      <td>total_shares_iqr_standardized_normalized</td>\n",
       "      <td>-0.358097</td>\n",
       "    </tr>\n",
       "    <tr>\n",
       "      <th>10</th>\n",
       "      <td>sales_per_share_iqr_standardized_normalized</td>\n",
       "      <td>-0.319288</td>\n",
       "    </tr>\n",
       "    <tr>\n",
       "      <th>1</th>\n",
       "      <td>C3_imputed_iqr_standardized_normalized</td>\n",
       "      <td>-0.279956</td>\n",
       "    </tr>\n",
       "    <tr>\n",
       "      <th>6</th>\n",
       "      <td>short_sentences_per_iqr_standardized_normalized</td>\n",
       "      <td>-0.245762</td>\n",
       "    </tr>\n",
       "    <tr>\n",
       "      <th>3</th>\n",
       "      <td>C4_iqr_standardized_normalized</td>\n",
       "      <td>-0.226530</td>\n",
       "    </tr>\n",
       "    <tr>\n",
       "      <th>11</th>\n",
       "      <td>C5_prime_iqr_standardized_normalized</td>\n",
       "      <td>-0.192236</td>\n",
       "    </tr>\n",
       "    <tr>\n",
       "      <th>4</th>\n",
       "      <td>words_per_sentence_iqr_standardized_normalized</td>\n",
       "      <td>0.110621</td>\n",
       "    </tr>\n",
       "    <tr>\n",
       "      <th>2</th>\n",
       "      <td>C1_iqr_standardized_normalized</td>\n",
       "      <td>0.155663</td>\n",
       "    </tr>\n",
       "    <tr>\n",
       "      <th>7</th>\n",
       "      <td>long_words_per_iqr_standardized_normalized</td>\n",
       "      <td>0.221719</td>\n",
       "    </tr>\n",
       "    <tr>\n",
       "      <th>5</th>\n",
       "      <td>real_word_per_iqr_standardized_normalized</td>\n",
       "      <td>0.262329</td>\n",
       "    </tr>\n",
       "    <tr>\n",
       "      <th>8</th>\n",
       "      <td>neg_words_percent_iqr_standardized_normalized</td>\n",
       "      <td>0.332093</td>\n",
       "    </tr>\n",
       "    <tr>\n",
       "      <th>0</th>\n",
       "      <td>C7_imputed_iqr_standardized_normalized</td>\n",
       "      <td>0.455845</td>\n",
       "    </tr>\n",
       "  </tbody>\n",
       "</table>\n",
       "</div>"
      ],
      "text/plain": [
       "                                              field       imp\n",
       "9          total_shares_iqr_standardized_normalized -0.358097\n",
       "10      sales_per_share_iqr_standardized_normalized -0.319288\n",
       "1            C3_imputed_iqr_standardized_normalized -0.279956\n",
       "6   short_sentences_per_iqr_standardized_normalized -0.245762\n",
       "3                    C4_iqr_standardized_normalized -0.226530\n",
       "11             C5_prime_iqr_standardized_normalized -0.192236\n",
       "4    words_per_sentence_iqr_standardized_normalized  0.110621\n",
       "2                    C1_iqr_standardized_normalized  0.155663\n",
       "7        long_words_per_iqr_standardized_normalized  0.221719\n",
       "5         real_word_per_iqr_standardized_normalized  0.262329\n",
       "8     neg_words_percent_iqr_standardized_normalized  0.332093\n",
       "0            C7_imputed_iqr_standardized_normalized  0.455845"
      ]
     },
     "execution_count": 45,
     "metadata": {},
     "output_type": "execute_result"
    }
   ],
   "source": [
    "norm_imp.columns = ['field', 'imp']\n",
    "norm_imp.sort_values(by = 'imp')"
   ]
  },
  {
   "cell_type": "markdown",
   "metadata": {},
   "source": [
    "However, in referring to the correlation analysis conducted above, we can check and see if any of the fields being used are highly correlated with each other. Ideally we would want to identify and remove these. "
   ]
  },
  {
   "cell_type": "code",
   "execution_count": 46,
   "metadata": {},
   "outputs": [
    {
     "name": "stdout",
     "output_type": "stream",
     "text": [
      "C7_imputed_iqr_standardized_normalized ['sales_per_share_iqr_standardized_normalized']\n",
      "words_per_sentence_iqr_standardized_normalized ['short_sentences_per_iqr_standardized_normalized']\n",
      "short_sentences_per_iqr_standardized_normalized ['words_per_sentence_iqr_standardized_normalized']\n",
      "sales_per_share_iqr_standardized_normalized ['C7_imputed_iqr_standardized_normalized']\n"
     ]
    }
   ],
   "source": [
    "for i in high_corr_map:\n",
    "    if i in norm_imp.field.values:\n",
    "        map_flds = [j for j in high_corr_map[i] if j in norm_imp.field.values]\n",
    "        if len(map_flds) > 0:\n",
    "            print(i, map_flds)"
   ]
  },
  {
   "cell_type": "markdown",
   "metadata": {},
   "source": [
    "There are still some correlated features in the current feature set. In order to trim this we will remove those which have less impactful coefficients and retest our analysis. "
   ]
  },
  {
   "cell_type": "code",
   "execution_count": null,
   "metadata": {},
   "outputs": [],
   "source": []
  },
  {
   "cell_type": "code",
   "execution_count": 47,
   "metadata": {},
   "outputs": [
    {
     "name": "stderr",
     "output_type": "stream",
     "text": [
      "/opt/tljh/user/lib/python3.6/site-packages/sklearn/model_selection/_split.py:296: FutureWarning: Setting a random_state has no effect since shuffle is False. This will raise an error in 0.24. You should leave random_state to its default (None), or set shuffle=True.\n",
      "  FutureWarning\n",
      "/opt/tljh/user/lib/python3.6/site-packages/sklearn/model_selection/_split.py:296: FutureWarning: Setting a random_state has no effect since shuffle is False. This will raise an error in 0.24. You should leave random_state to its default (None), or set shuffle=True.\n",
      "  FutureWarning\n",
      "/opt/tljh/user/lib/python3.6/site-packages/sklearn/model_selection/_split.py:296: FutureWarning: Setting a random_state has no effect since shuffle is False. This will raise an error in 0.24. You should leave random_state to its default (None), or set shuffle=True.\n",
      "  FutureWarning\n",
      "/opt/tljh/user/lib/python3.6/site-packages/sklearn/model_selection/_split.py:296: FutureWarning: Setting a random_state has no effect since shuffle is False. This will raise an error in 0.24. You should leave random_state to its default (None), or set shuffle=True.\n",
      "  FutureWarning\n",
      "/opt/tljh/user/lib/python3.6/site-packages/sklearn/model_selection/_split.py:296: FutureWarning: Setting a random_state has no effect since shuffle is False. This will raise an error in 0.24. You should leave random_state to its default (None), or set shuffle=True.\n",
      "  FutureWarning\n",
      "/opt/tljh/user/lib/python3.6/site-packages/sklearn/model_selection/_split.py:296: FutureWarning: Setting a random_state has no effect since shuffle is False. This will raise an error in 0.24. You should leave random_state to its default (None), or set shuffle=True.\n",
      "  FutureWarning\n",
      "/opt/tljh/user/lib/python3.6/site-packages/sklearn/model_selection/_split.py:296: FutureWarning: Setting a random_state has no effect since shuffle is False. This will raise an error in 0.24. You should leave random_state to its default (None), or set shuffle=True.\n",
      "  FutureWarning\n",
      "/opt/tljh/user/lib/python3.6/site-packages/sklearn/model_selection/_split.py:296: FutureWarning: Setting a random_state has no effect since shuffle is False. This will raise an error in 0.24. You should leave random_state to its default (None), or set shuffle=True.\n",
      "  FutureWarning\n"
     ]
    },
    {
     "name": "stdout",
     "output_type": "stream",
     "text": [
      "F1 0.6223; AUC 0.6193 \n",
      "Accuracy of classifier on test set: 0.62\n",
      "10-fold cross validation average accuracy of classifier: 0.601\n",
      "Confusion Matrix for Logistic Regression Classfier:\n",
      "[[47 27]\n",
      " [23 35]]\n",
      "Classification Report for Logistic Regression Classfier:\n",
      "              precision    recall  f1-score   support\n",
      "\n",
      "           0       0.67      0.64      0.65        74\n",
      "           1       0.56      0.60      0.58        58\n",
      "\n",
      "    accuracy                           0.62       132\n",
      "   macro avg       0.62      0.62      0.62       132\n",
      "weighted avg       0.62      0.62      0.62       132\n",
      "\n"
     ]
    },
    {
     "name": "stderr",
     "output_type": "stream",
     "text": [
      "/opt/tljh/user/lib/python3.6/site-packages/sklearn/model_selection/_split.py:296: FutureWarning: Setting a random_state has no effect since shuffle is False. This will raise an error in 0.24. You should leave random_state to its default (None), or set shuffle=True.\n",
      "  FutureWarning\n"
     ]
    }
   ],
   "source": [
    "clf_norm, norm_imp = test_evaluation(feat_mat[[i for i in feat_mat.columns if 'iqr_standardized_normalized' in i \n",
    "                                               and 'C6' not in i and \n",
    "                                               i not in ['pos_words_percent_iqr_standardized_normalized',\n",
    "                                                         'outstanding_share_per_iqr_standardized_normalized',\n",
    "                                                         'long_sentences_per_iqr_standardized_normalized',\n",
    "                                                         'short_sentences_iqr_standardized_normalized',\n",
    "                                                         'offering_share_per_iqr_standardized_normalized',\n",
    "                                                         'non_real_word_per_iqr_standardized_normalized',\n",
    "                                                         'uncertain_words_percent_iqr_standardized_normalized',\n",
    "                                                         'sales_per_share_iqr_standardized_normalized',\n",
    "                                                         'words_per_sentence_iqr_standardized_normalized'\n",
    "                                                        ]]], #+ [\n",
    "# 'data_updated']], \n",
    "                target_df.Y1.values)"
   ]
  },
  {
   "cell_type": "markdown",
   "metadata": {},
   "source": [
    "Although some of the features exhibit correlation with others used for prediction, cleansing our feature set actually leads to a worse prediction. As this is the case, other methods will need to be tested to try to further improve the model."
   ]
  },
  {
   "cell_type": "code",
   "execution_count": null,
   "metadata": {},
   "outputs": [],
   "source": []
  },
  {
   "cell_type": "code",
   "execution_count": null,
   "metadata": {},
   "outputs": [],
   "source": []
  },
  {
   "cell_type": "markdown",
   "metadata": {},
   "source": [
    "# Leverage RFE to improve results"
   ]
  },
  {
   "cell_type": "markdown",
   "metadata": {},
   "source": [
    "RFE, recursive feature elimination, can be used against the set of features and order them in terms of percieved predictive power. Following this ordering we can try the best \"n\" features as seleced through RFE and see if our predicitons become better."
   ]
  },
  {
   "cell_type": "code",
   "execution_count": 59,
   "metadata": {},
   "outputs": [],
   "source": [
    "def get_important_features_rfe(xTrain, yTrain, num_feats):\n",
    "    '''\n",
    "    Takes training values and returns the most important features in order\n",
    "    '''\n",
    "    clf = LogisticRegression(random_state=123, max_iter = 1000)\n",
    "    selector = RFE(clf, num_feats, step=1)\n",
    "    selector.fit(xTrain, yTrain)\n",
    "    \n",
    "    return [x for _,x in sorted(zip(selector.ranking_, list(xTrain.columns)))]\n",
    "    \n",
    "    "
   ]
  },
  {
   "cell_type": "markdown",
   "metadata": {},
   "source": [
    "After some experimentaion we found that the top 10 features gave us the best results. This can be gathered through used of the RFE function created above and leveraged below."
   ]
  },
  {
   "cell_type": "code",
   "execution_count": 49,
   "metadata": {},
   "outputs": [],
   "source": [
    "feat_rfe = get_important_features_rfe(feat_mat[[i for i in list(feat_mat.columns) \n",
    "                                     if i not in ['I1', 'C6_prime','C6_prime_iqr_standardized','C6_prime_normalized','C6_prime_iqr_standardized_normalized']\n",
    "                                               and 'iqr_standardized_normalized' in i]],\n",
    "                          target_df.Y1.values, 10)"
   ]
  },
  {
   "cell_type": "code",
   "execution_count": 51,
   "metadata": {},
   "outputs": [
    {
     "name": "stderr",
     "output_type": "stream",
     "text": [
      "/opt/tljh/user/lib/python3.6/site-packages/sklearn/model_selection/_split.py:296: FutureWarning: Setting a random_state has no effect since shuffle is False. This will raise an error in 0.24. You should leave random_state to its default (None), or set shuffle=True.\n",
      "  FutureWarning\n",
      "/opt/tljh/user/lib/python3.6/site-packages/sklearn/model_selection/_split.py:296: FutureWarning: Setting a random_state has no effect since shuffle is False. This will raise an error in 0.24. You should leave random_state to its default (None), or set shuffle=True.\n",
      "  FutureWarning\n",
      "/opt/tljh/user/lib/python3.6/site-packages/sklearn/model_selection/_split.py:296: FutureWarning: Setting a random_state has no effect since shuffle is False. This will raise an error in 0.24. You should leave random_state to its default (None), or set shuffle=True.\n",
      "  FutureWarning\n",
      "/opt/tljh/user/lib/python3.6/site-packages/sklearn/model_selection/_split.py:296: FutureWarning: Setting a random_state has no effect since shuffle is False. This will raise an error in 0.24. You should leave random_state to its default (None), or set shuffle=True.\n",
      "  FutureWarning\n",
      "/opt/tljh/user/lib/python3.6/site-packages/sklearn/model_selection/_split.py:296: FutureWarning: Setting a random_state has no effect since shuffle is False. This will raise an error in 0.24. You should leave random_state to its default (None), or set shuffle=True.\n",
      "  FutureWarning\n",
      "/opt/tljh/user/lib/python3.6/site-packages/sklearn/model_selection/_split.py:296: FutureWarning: Setting a random_state has no effect since shuffle is False. This will raise an error in 0.24. You should leave random_state to its default (None), or set shuffle=True.\n",
      "  FutureWarning\n",
      "/opt/tljh/user/lib/python3.6/site-packages/sklearn/model_selection/_split.py:296: FutureWarning: Setting a random_state has no effect since shuffle is False. This will raise an error in 0.24. You should leave random_state to its default (None), or set shuffle=True.\n",
      "  FutureWarning\n",
      "/opt/tljh/user/lib/python3.6/site-packages/sklearn/model_selection/_split.py:296: FutureWarning: Setting a random_state has no effect since shuffle is False. This will raise an error in 0.24. You should leave random_state to its default (None), or set shuffle=True.\n",
      "  FutureWarning\n"
     ]
    },
    {
     "name": "stdout",
     "output_type": "stream",
     "text": [
      "F1 0.6376; AUC 0.6365 \n",
      "Accuracy of classifier on test set: 0.64\n",
      "10-fold cross validation average accuracy of classifier: 0.605\n",
      "Confusion Matrix for Logistic Regression Classfier:\n",
      "[[47 27]\n",
      " [21 37]]\n",
      "Classification Report for Logistic Regression Classfier:\n",
      "              precision    recall  f1-score   support\n",
      "\n",
      "           0       0.69      0.64      0.66        74\n",
      "           1       0.58      0.64      0.61        58\n",
      "\n",
      "    accuracy                           0.64       132\n",
      "   macro avg       0.63      0.64      0.63       132\n",
      "weighted avg       0.64      0.64      0.64       132\n",
      "\n"
     ]
    },
    {
     "name": "stderr",
     "output_type": "stream",
     "text": [
      "/opt/tljh/user/lib/python3.6/site-packages/sklearn/model_selection/_split.py:296: FutureWarning: Setting a random_state has no effect since shuffle is False. This will raise an error in 0.24. You should leave random_state to its default (None), or set shuffle=True.\n",
      "  FutureWarning\n"
     ]
    }
   ],
   "source": [
    "clf_rfe, rfe_imp = test_evaluation(feat_mat[[i for i in feat_rfe[0:10]]],\n",
    "                target_df.Y1.values)"
   ]
  },
  {
   "cell_type": "code",
   "execution_count": 52,
   "metadata": {},
   "outputs": [
    {
     "data": {
      "text/html": [
       "<div>\n",
       "<style scoped>\n",
       "    .dataframe tbody tr th:only-of-type {\n",
       "        vertical-align: middle;\n",
       "    }\n",
       "\n",
       "    .dataframe tbody tr th {\n",
       "        vertical-align: top;\n",
       "    }\n",
       "\n",
       "    .dataframe thead th {\n",
       "        text-align: right;\n",
       "    }\n",
       "</style>\n",
       "<table border=\"1\" class=\"dataframe\">\n",
       "  <thead>\n",
       "    <tr style=\"text-align: right;\">\n",
       "      <th></th>\n",
       "      <th>field</th>\n",
       "      <th>imp</th>\n",
       "    </tr>\n",
       "  </thead>\n",
       "  <tbody>\n",
       "    <tr>\n",
       "      <th>9</th>\n",
       "      <td>total_shares_iqr_standardized_normalized</td>\n",
       "      <td>-0.423452</td>\n",
       "    </tr>\n",
       "    <tr>\n",
       "      <th>8</th>\n",
       "      <td>short_sentences_per_iqr_standardized_normalized</td>\n",
       "      <td>-0.314324</td>\n",
       "    </tr>\n",
       "    <tr>\n",
       "      <th>7</th>\n",
       "      <td>sales_per_share_iqr_standardized_normalized</td>\n",
       "      <td>-0.282288</td>\n",
       "    </tr>\n",
       "    <tr>\n",
       "      <th>0</th>\n",
       "      <td>C3_imputed_iqr_standardized_normalized</td>\n",
       "      <td>-0.280437</td>\n",
       "    </tr>\n",
       "    <tr>\n",
       "      <th>1</th>\n",
       "      <td>C4_iqr_standardized_normalized</td>\n",
       "      <td>-0.198325</td>\n",
       "    </tr>\n",
       "    <tr>\n",
       "      <th>5</th>\n",
       "      <td>pos_words_percent_iqr_standardized_normalized</td>\n",
       "      <td>0.108857</td>\n",
       "    </tr>\n",
       "    <tr>\n",
       "      <th>3</th>\n",
       "      <td>long_words_per_iqr_standardized_normalized</td>\n",
       "      <td>0.230357</td>\n",
       "    </tr>\n",
       "    <tr>\n",
       "      <th>6</th>\n",
       "      <td>real_word_per_iqr_standardized_normalized</td>\n",
       "      <td>0.241009</td>\n",
       "    </tr>\n",
       "    <tr>\n",
       "      <th>4</th>\n",
       "      <td>neg_words_percent_iqr_standardized_normalized</td>\n",
       "      <td>0.409320</td>\n",
       "    </tr>\n",
       "    <tr>\n",
       "      <th>2</th>\n",
       "      <td>C7_imputed_iqr_standardized_normalized</td>\n",
       "      <td>0.449929</td>\n",
       "    </tr>\n",
       "  </tbody>\n",
       "</table>\n",
       "</div>"
      ],
      "text/plain": [
       "                                             field       imp\n",
       "9         total_shares_iqr_standardized_normalized -0.423452\n",
       "8  short_sentences_per_iqr_standardized_normalized -0.314324\n",
       "7      sales_per_share_iqr_standardized_normalized -0.282288\n",
       "0           C3_imputed_iqr_standardized_normalized -0.280437\n",
       "1                   C4_iqr_standardized_normalized -0.198325\n",
       "5    pos_words_percent_iqr_standardized_normalized  0.108857\n",
       "3       long_words_per_iqr_standardized_normalized  0.230357\n",
       "6        real_word_per_iqr_standardized_normalized  0.241009\n",
       "4    neg_words_percent_iqr_standardized_normalized  0.409320\n",
       "2           C7_imputed_iqr_standardized_normalized  0.449929"
      ]
     },
     "execution_count": 52,
     "metadata": {},
     "output_type": "execute_result"
    }
   ],
   "source": [
    "rfe_imp.columns = ['field', 'imp']\n",
    "rfe_imp.sort_values(by = 'imp')"
   ]
  },
  {
   "cell_type": "markdown",
   "metadata": {},
   "source": [
    "Although RFE offers us more information about the features, it does not have an immediate impact on the F1 score, or AUC values for the model. Although this is the case, the values given by RFE can be used alongside other feature engineering techniques to lead to model improvement. "
   ]
  },
  {
   "cell_type": "markdown",
   "metadata": {},
   "source": [
    "# PCA and RFE"
   ]
  },
  {
   "cell_type": "markdown",
   "metadata": {},
   "source": [
    "Pricipal Component Analysis deals with the issue of high dimensionality, attempting to take a large feature space and compress it, without losing the underlying signal provided by the feature set as a whole. In our case, we will aim to retain 95% of the variance in the original data.\n",
    "\n",
    "We only use PCA on the variables identified as the most important in RFE. We found that the top 11 features gave us the best results."
   ]
  },
  {
   "cell_type": "code",
   "execution_count": 53,
   "metadata": {},
   "outputs": [],
   "source": [
    "pca = PCA(0.95)"
   ]
  },
  {
   "cell_type": "code",
   "execution_count": 54,
   "metadata": {},
   "outputs": [],
   "source": [
    "pca_transformed = pca.fit_transform(feat_mat[[i for i in feat_rfe[:11]]])"
   ]
  },
  {
   "cell_type": "code",
   "execution_count": 91,
   "metadata": {},
   "outputs": [
    {
     "name": "stderr",
     "output_type": "stream",
     "text": [
      "/opt/tljh/user/lib/python3.6/site-packages/sklearn/model_selection/_split.py:296: FutureWarning: Setting a random_state has no effect since shuffle is False. This will raise an error in 0.24. You should leave random_state to its default (None), or set shuffle=True.\n",
      "  FutureWarning\n",
      "/opt/tljh/user/lib/python3.6/site-packages/sklearn/model_selection/_split.py:296: FutureWarning: Setting a random_state has no effect since shuffle is False. This will raise an error in 0.24. You should leave random_state to its default (None), or set shuffle=True.\n",
      "  FutureWarning\n",
      "/opt/tljh/user/lib/python3.6/site-packages/sklearn/model_selection/_split.py:296: FutureWarning: Setting a random_state has no effect since shuffle is False. This will raise an error in 0.24. You should leave random_state to its default (None), or set shuffle=True.\n",
      "  FutureWarning\n",
      "/opt/tljh/user/lib/python3.6/site-packages/sklearn/model_selection/_split.py:296: FutureWarning: Setting a random_state has no effect since shuffle is False. This will raise an error in 0.24. You should leave random_state to its default (None), or set shuffle=True.\n",
      "  FutureWarning\n",
      "/opt/tljh/user/lib/python3.6/site-packages/sklearn/model_selection/_split.py:296: FutureWarning: Setting a random_state has no effect since shuffle is False. This will raise an error in 0.24. You should leave random_state to its default (None), or set shuffle=True.\n",
      "  FutureWarning\n",
      "/opt/tljh/user/lib/python3.6/site-packages/sklearn/model_selection/_split.py:296: FutureWarning: Setting a random_state has no effect since shuffle is False. This will raise an error in 0.24. You should leave random_state to its default (None), or set shuffle=True.\n",
      "  FutureWarning\n"
     ]
    },
    {
     "name": "stdout",
     "output_type": "stream",
     "text": [
      "F1 0.6580; AUC 0.6512 \n",
      "Accuracy of classifier on test set: 0.66\n",
      "10-fold cross validation average accuracy of classifier: 0.574\n",
      "Confusion Matrix for Logistic Regression Classfier:\n",
      "[[53 21]\n",
      " [24 34]]\n",
      "Classification Report for Logistic Regression Classfier:\n",
      "              precision    recall  f1-score   support\n",
      "\n",
      "           0       0.69      0.72      0.70        74\n",
      "           1       0.62      0.59      0.60        58\n",
      "\n",
      "    accuracy                           0.66       132\n",
      "   macro avg       0.65      0.65      0.65       132\n",
      "weighted avg       0.66      0.66      0.66       132\n",
      "\n"
     ]
    },
    {
     "name": "stderr",
     "output_type": "stream",
     "text": [
      "/opt/tljh/user/lib/python3.6/site-packages/sklearn/model_selection/_split.py:296: FutureWarning: Setting a random_state has no effect since shuffle is False. This will raise an error in 0.24. You should leave random_state to its default (None), or set shuffle=True.\n",
      "  FutureWarning\n",
      "/opt/tljh/user/lib/python3.6/site-packages/sklearn/model_selection/_split.py:296: FutureWarning: Setting a random_state has no effect since shuffle is False. This will raise an error in 0.24. You should leave random_state to its default (None), or set shuffle=True.\n",
      "  FutureWarning\n",
      "/opt/tljh/user/lib/python3.6/site-packages/sklearn/model_selection/_split.py:296: FutureWarning: Setting a random_state has no effect since shuffle is False. This will raise an error in 0.24. You should leave random_state to its default (None), or set shuffle=True.\n",
      "  FutureWarning\n"
     ]
    },
    {
     "data": {
      "text/plain": [
       "(LogisticRegression(C=1.0, class_weight=None, dual=False, fit_intercept=True,\n",
       "                    intercept_scaling=1, l1_ratio=None, max_iter=100,\n",
       "                    multi_class='auto', n_jobs=None, penalty='l2',\n",
       "                    random_state=None, solver='lbfgs', tol=0.0001, verbose=0,\n",
       "                    warm_start=False), None)"
      ]
     },
     "execution_count": 91,
     "metadata": {},
     "output_type": "execute_result"
    }
   ],
   "source": [
    "test_evaluation(pca_transformed, target_df.Y1.values)"
   ]
  },
  {
   "cell_type": "code",
   "execution_count": null,
   "metadata": {},
   "outputs": [],
   "source": []
  },
  {
   "cell_type": "markdown",
   "metadata": {},
   "source": [
    "By combining both RFE and PCA we have reached a model with exceeds our intial state. While there is still room for improvement, we have significantly advaced the predictive power of our model. "
   ]
  },
  {
   "cell_type": "code",
   "execution_count": 56,
   "metadata": {},
   "outputs": [],
   "source": [
    "feat_mat.to_csv('feat_mat.csv')"
   ]
  },
  {
   "cell_type": "code",
   "execution_count": null,
   "metadata": {},
   "outputs": [],
   "source": []
  },
  {
   "cell_type": "code",
   "execution_count": null,
   "metadata": {},
   "outputs": [],
   "source": []
  },
  {
   "cell_type": "markdown",
   "metadata": {},
   "source": [
    "# Alternative models"
   ]
  },
  {
   "cell_type": "markdown",
   "metadata": {},
   "source": [
    "Alternative models can also be leveraged for the Y1 prediction. In this case a Random Forest model will be leveraged using a similar feature space as above."
   ]
  },
  {
   "cell_type": "code",
   "execution_count": 57,
   "metadata": {},
   "outputs": [],
   "source": [
    "def get_important_features_rfe_rf(xTrain, yTrain, num_feats):\n",
    "    '''\n",
    "    Takes training values and returns the most important features in order\n",
    "    '''\n",
    "    clf = RandomForestClassifier()\n",
    "    selector = RFE(clf, num_feats, step=1)\n",
    "    selector.fit(xTrain, yTrain)\n",
    "    \n",
    "    return [x for _,x in sorted(zip(selector.ranking_, list(xTrain.columns)))]\n",
    "    \n",
    "    "
   ]
  },
  {
   "cell_type": "code",
   "execution_count": 58,
   "metadata": {},
   "outputs": [],
   "source": [
    "feat_rf_rfe = get_important_features_rfe_rf(feat_mat[[i for i in list(feat_mat.columns) \n",
    "                                     if i not in ['I1', 'C6_prime','C6_prime_iqr_standardized','C6_prime_normalized','C6_prime_iqr_standardized_normalized']\n",
    "                                               and 'iqr_standardized_normalized' in i]],\n",
    "                          target_df.Y1.values, 10)"
   ]
  },
  {
   "cell_type": "code",
   "execution_count": 60,
   "metadata": {},
   "outputs": [],
   "source": [
    "def test_evaluation_rf(predictors_y1, y1):\n",
    "    # lists for f1-score and AUC\n",
    "    f1_score_lst = []\n",
    "    auc_lst = []\n",
    "\n",
    "\n",
    "    #loop to calculate f1 and auc scores and present averages after 10 runs\n",
    "    for count in range (1,10):\n",
    "        #Model building\n",
    "        clf = RandomForestClassifier()\n",
    "        X1_train, X1_test, y1_train, y1_test = train_test_split(predictors_y1, y1, test_size=0.2, random_state=123)\n",
    "        clf.fit(X1_train, y1_train)\n",
    "\n",
    "        y1_pred = clf.predict(X1_test)\n",
    "\n",
    "\n",
    "        #10-fold cross validation\n",
    "        kfold = model_selection.KFold(n_splits=10, random_state=7)\n",
    "        scoring = 'accuracy'\n",
    "        results = model_selection.cross_val_score(clf, X1_train, y1_train, cv=kfold, scoring=scoring)\n",
    "\n",
    "\n",
    "\n",
    "\n",
    "        #calculate f1-score and AUC\n",
    "\n",
    "        clf_roc_auc = roc_auc_score(y1_test, y1_pred)\n",
    "        f1_score_lst.append(precision_recall_fscore_support(y1_test, y1_pred, average='weighted')[2])\n",
    "        auc_lst.append(clf_roc_auc)\n",
    "\n",
    "\n",
    "    print('F1 {:.4f}; AUC {:.4f} '.format(np.mean(f1_score_lst),np.mean(auc_lst)))\n",
    "\n",
    "    #result=logit_model.fit()\n",
    "    confusion_matrix_y1 = confusion_matrix(y1_test, y1_pred)\n",
    "\n",
    "\n",
    "    #print(result.summary())\n",
    "    print('Accuracy of classifier on test set: {:.2f}'.format(clf.score(X1_test, y1_test)))\n",
    "\n",
    "    print(\"10-fold cross validation average accuracy of classifier: %.3f\" % (results.mean()))\n",
    "\n",
    "    print('Confusion Matrix for Logistic Regression Classfier:')\n",
    "    print(confusion_matrix_y1)\n",
    "\n",
    "    print('Classification Report for Logistic Regression Classfier:')\n",
    "    print(classification_report(y1_test, y1_pred))\n",
    "\n",
    "        \n",
    "    imp = clf.feature_importances_\n",
    "    return clf, imp"
   ]
  },
  {
   "cell_type": "code",
   "execution_count": 61,
   "metadata": {},
   "outputs": [
    {
     "name": "stderr",
     "output_type": "stream",
     "text": [
      "/opt/tljh/user/lib/python3.6/site-packages/sklearn/model_selection/_split.py:296: FutureWarning: Setting a random_state has no effect since shuffle is False. This will raise an error in 0.24. You should leave random_state to its default (None), or set shuffle=True.\n",
      "  FutureWarning\n",
      "/opt/tljh/user/lib/python3.6/site-packages/sklearn/model_selection/_split.py:296: FutureWarning: Setting a random_state has no effect since shuffle is False. This will raise an error in 0.24. You should leave random_state to its default (None), or set shuffle=True.\n",
      "  FutureWarning\n",
      "/opt/tljh/user/lib/python3.6/site-packages/sklearn/model_selection/_split.py:296: FutureWarning: Setting a random_state has no effect since shuffle is False. This will raise an error in 0.24. You should leave random_state to its default (None), or set shuffle=True.\n",
      "  FutureWarning\n",
      "/opt/tljh/user/lib/python3.6/site-packages/sklearn/model_selection/_split.py:296: FutureWarning: Setting a random_state has no effect since shuffle is False. This will raise an error in 0.24. You should leave random_state to its default (None), or set shuffle=True.\n",
      "  FutureWarning\n",
      "/opt/tljh/user/lib/python3.6/site-packages/sklearn/model_selection/_split.py:296: FutureWarning: Setting a random_state has no effect since shuffle is False. This will raise an error in 0.24. You should leave random_state to its default (None), or set shuffle=True.\n",
      "  FutureWarning\n",
      "/opt/tljh/user/lib/python3.6/site-packages/sklearn/model_selection/_split.py:296: FutureWarning: Setting a random_state has no effect since shuffle is False. This will raise an error in 0.24. You should leave random_state to its default (None), or set shuffle=True.\n",
      "  FutureWarning\n",
      "/opt/tljh/user/lib/python3.6/site-packages/sklearn/model_selection/_split.py:296: FutureWarning: Setting a random_state has no effect since shuffle is False. This will raise an error in 0.24. You should leave random_state to its default (None), or set shuffle=True.\n",
      "  FutureWarning\n",
      "/opt/tljh/user/lib/python3.6/site-packages/sklearn/model_selection/_split.py:296: FutureWarning: Setting a random_state has no effect since shuffle is False. This will raise an error in 0.24. You should leave random_state to its default (None), or set shuffle=True.\n",
      "  FutureWarning\n",
      "/opt/tljh/user/lib/python3.6/site-packages/sklearn/model_selection/_split.py:296: FutureWarning: Setting a random_state has no effect since shuffle is False. This will raise an error in 0.24. You should leave random_state to its default (None), or set shuffle=True.\n",
      "  FutureWarning\n"
     ]
    },
    {
     "name": "stdout",
     "output_type": "stream",
     "text": [
      "F1 0.5905; AUC 0.5922 \n",
      "Accuracy of classifier on test set: 0.61\n",
      "10-fold cross validation average accuracy of classifier: 0.591\n",
      "Confusion Matrix for Logistic Regression Classfier:\n",
      "[[43 31]\n",
      " [21 37]]\n",
      "Classification Report for Logistic Regression Classfier:\n",
      "              precision    recall  f1-score   support\n",
      "\n",
      "           0       0.67      0.58      0.62        74\n",
      "           1       0.54      0.64      0.59        58\n",
      "\n",
      "    accuracy                           0.61       132\n",
      "   macro avg       0.61      0.61      0.61       132\n",
      "weighted avg       0.62      0.61      0.61       132\n",
      "\n"
     ]
    }
   ],
   "source": [
    "rf_clf, rf_imp = test_evaluation_rf(feat_mat[feat_rf_rfe], target_df.Y1.values)"
   ]
  },
  {
   "cell_type": "code",
   "execution_count": 97,
   "metadata": {},
   "outputs": [
    {
     "data": {
      "text/html": [
       "<div>\n",
       "<style scoped>\n",
       "    .dataframe tbody tr th:only-of-type {\n",
       "        vertical-align: middle;\n",
       "    }\n",
       "\n",
       "    .dataframe tbody tr th {\n",
       "        vertical-align: top;\n",
       "    }\n",
       "\n",
       "    .dataframe thead th {\n",
       "        text-align: right;\n",
       "    }\n",
       "</style>\n",
       "<table border=\"1\" class=\"dataframe\">\n",
       "  <thead>\n",
       "    <tr style=\"text-align: right;\">\n",
       "      <th></th>\n",
       "      <th>field</th>\n",
       "      <th>importance</th>\n",
       "    </tr>\n",
       "  </thead>\n",
       "  <tbody>\n",
       "    <tr>\n",
       "      <th>6</th>\n",
       "      <td>offering_share_per_iqr_standardized_normalized</td>\n",
       "      <td>0.039342</td>\n",
       "    </tr>\n",
       "    <tr>\n",
       "      <th>18</th>\n",
       "      <td>C5_prime_iqr_standardized_normalized</td>\n",
       "      <td>0.043224</td>\n",
       "    </tr>\n",
       "    <tr>\n",
       "      <th>16</th>\n",
       "      <td>C1_iqr_standardized_normalized</td>\n",
       "      <td>0.044409</td>\n",
       "    </tr>\n",
       "    <tr>\n",
       "      <th>3</th>\n",
       "      <td>long_sentences_per_iqr_standardized_normalized</td>\n",
       "      <td>0.045357</td>\n",
       "    </tr>\n",
       "    <tr>\n",
       "      <th>8</th>\n",
       "      <td>short_sentences_iqr_standardized_normalized</td>\n",
       "      <td>0.047765</td>\n",
       "    </tr>\n",
       "    <tr>\n",
       "      <th>11</th>\n",
       "      <td>pos_words_percent_iqr_standardized_normalized</td>\n",
       "      <td>0.047866</td>\n",
       "    </tr>\n",
       "    <tr>\n",
       "      <th>15</th>\n",
       "      <td>outstanding_share_per_iqr_standardized_normalized</td>\n",
       "      <td>0.048397</td>\n",
       "    </tr>\n",
       "    <tr>\n",
       "      <th>12</th>\n",
       "      <td>total_shares_iqr_standardized_normalized</td>\n",
       "      <td>0.050075</td>\n",
       "    </tr>\n",
       "    <tr>\n",
       "      <th>17</th>\n",
       "      <td>short_sentences_per_iqr_standardized_normalized</td>\n",
       "      <td>0.050490</td>\n",
       "    </tr>\n",
       "    <tr>\n",
       "      <th>13</th>\n",
       "      <td>sales_per_share_iqr_standardized_normalized</td>\n",
       "      <td>0.050554</td>\n",
       "    </tr>\n",
       "    <tr>\n",
       "      <th>2</th>\n",
       "      <td>C7_imputed_iqr_standardized_normalized</td>\n",
       "      <td>0.051947</td>\n",
       "    </tr>\n",
       "    <tr>\n",
       "      <th>7</th>\n",
       "      <td>real_word_per_iqr_standardized_normalized</td>\n",
       "      <td>0.052561</td>\n",
       "    </tr>\n",
       "    <tr>\n",
       "      <th>9</th>\n",
       "      <td>uncertain_words_percent_iqr_standardized_norma...</td>\n",
       "      <td>0.054699</td>\n",
       "    </tr>\n",
       "    <tr>\n",
       "      <th>14</th>\n",
       "      <td>words_per_sentence_iqr_standardized_normalized</td>\n",
       "      <td>0.055169</td>\n",
       "    </tr>\n",
       "    <tr>\n",
       "      <th>10</th>\n",
       "      <td>non_real_word_per_iqr_standardized_normalized</td>\n",
       "      <td>0.059163</td>\n",
       "    </tr>\n",
       "    <tr>\n",
       "      <th>1</th>\n",
       "      <td>C4_iqr_standardized_normalized</td>\n",
       "      <td>0.060544</td>\n",
       "    </tr>\n",
       "    <tr>\n",
       "      <th>5</th>\n",
       "      <td>neg_words_percent_iqr_standardized_normalized</td>\n",
       "      <td>0.061287</td>\n",
       "    </tr>\n",
       "    <tr>\n",
       "      <th>4</th>\n",
       "      <td>long_words_per_iqr_standardized_normalized</td>\n",
       "      <td>0.066245</td>\n",
       "    </tr>\n",
       "    <tr>\n",
       "      <th>0</th>\n",
       "      <td>C3_imputed_iqr_standardized_normalized</td>\n",
       "      <td>0.070907</td>\n",
       "    </tr>\n",
       "  </tbody>\n",
       "</table>\n",
       "</div>"
      ],
      "text/plain": [
       "                                                field  importance\n",
       "6      offering_share_per_iqr_standardized_normalized    0.039342\n",
       "18               C5_prime_iqr_standardized_normalized    0.043224\n",
       "16                     C1_iqr_standardized_normalized    0.044409\n",
       "3      long_sentences_per_iqr_standardized_normalized    0.045357\n",
       "8         short_sentences_iqr_standardized_normalized    0.047765\n",
       "11      pos_words_percent_iqr_standardized_normalized    0.047866\n",
       "15  outstanding_share_per_iqr_standardized_normalized    0.048397\n",
       "12           total_shares_iqr_standardized_normalized    0.050075\n",
       "17    short_sentences_per_iqr_standardized_normalized    0.050490\n",
       "13        sales_per_share_iqr_standardized_normalized    0.050554\n",
       "2              C7_imputed_iqr_standardized_normalized    0.051947\n",
       "7           real_word_per_iqr_standardized_normalized    0.052561\n",
       "9   uncertain_words_percent_iqr_standardized_norma...    0.054699\n",
       "14     words_per_sentence_iqr_standardized_normalized    0.055169\n",
       "10      non_real_word_per_iqr_standardized_normalized    0.059163\n",
       "1                      C4_iqr_standardized_normalized    0.060544\n",
       "5       neg_words_percent_iqr_standardized_normalized    0.061287\n",
       "4          long_words_per_iqr_standardized_normalized    0.066245\n",
       "0              C3_imputed_iqr_standardized_normalized    0.070907"
      ]
     },
     "execution_count": 97,
     "metadata": {},
     "output_type": "execute_result"
    }
   ],
   "source": [
    "rf_feat_importance = pd.DataFrame(zip(feat_rf_rfe, rf_imp))\n",
    "rf_feat_importance.columns = ['field','importance']\n",
    "rf_feat_importance.sort_values('importance')"
   ]
  },
  {
   "cell_type": "markdown",
   "metadata": {},
   "source": [
    "Initial results do not meet the bar set by our initial Logistic Regression. We can replicate the steps which got us the best Logistic Regression model and see if we see similar results in the Random Forest."
   ]
  },
  {
   "cell_type": "code",
   "execution_count": 62,
   "metadata": {},
   "outputs": [],
   "source": [
    "pca_rf = PCA(0.95)\n",
    "pca_transformed_rf = pca_rf.fit_transform(feat_mat[[i for i in feat_rf_rfe[:11]]])"
   ]
  },
  {
   "cell_type": "code",
   "execution_count": 63,
   "metadata": {},
   "outputs": [
    {
     "name": "stderr",
     "output_type": "stream",
     "text": [
      "/opt/tljh/user/lib/python3.6/site-packages/sklearn/model_selection/_split.py:296: FutureWarning: Setting a random_state has no effect since shuffle is False. This will raise an error in 0.24. You should leave random_state to its default (None), or set shuffle=True.\n",
      "  FutureWarning\n",
      "/opt/tljh/user/lib/python3.6/site-packages/sklearn/model_selection/_split.py:296: FutureWarning: Setting a random_state has no effect since shuffle is False. This will raise an error in 0.24. You should leave random_state to its default (None), or set shuffle=True.\n",
      "  FutureWarning\n",
      "/opt/tljh/user/lib/python3.6/site-packages/sklearn/model_selection/_split.py:296: FutureWarning: Setting a random_state has no effect since shuffle is False. This will raise an error in 0.24. You should leave random_state to its default (None), or set shuffle=True.\n",
      "  FutureWarning\n",
      "/opt/tljh/user/lib/python3.6/site-packages/sklearn/model_selection/_split.py:296: FutureWarning: Setting a random_state has no effect since shuffle is False. This will raise an error in 0.24. You should leave random_state to its default (None), or set shuffle=True.\n",
      "  FutureWarning\n",
      "/opt/tljh/user/lib/python3.6/site-packages/sklearn/model_selection/_split.py:296: FutureWarning: Setting a random_state has no effect since shuffle is False. This will raise an error in 0.24. You should leave random_state to its default (None), or set shuffle=True.\n",
      "  FutureWarning\n",
      "/opt/tljh/user/lib/python3.6/site-packages/sklearn/model_selection/_split.py:296: FutureWarning: Setting a random_state has no effect since shuffle is False. This will raise an error in 0.24. You should leave random_state to its default (None), or set shuffle=True.\n",
      "  FutureWarning\n",
      "/opt/tljh/user/lib/python3.6/site-packages/sklearn/model_selection/_split.py:296: FutureWarning: Setting a random_state has no effect since shuffle is False. This will raise an error in 0.24. You should leave random_state to its default (None), or set shuffle=True.\n",
      "  FutureWarning\n",
      "/opt/tljh/user/lib/python3.6/site-packages/sklearn/model_selection/_split.py:296: FutureWarning: Setting a random_state has no effect since shuffle is False. This will raise an error in 0.24. You should leave random_state to its default (None), or set shuffle=True.\n",
      "  FutureWarning\n",
      "/opt/tljh/user/lib/python3.6/site-packages/sklearn/model_selection/_split.py:296: FutureWarning: Setting a random_state has no effect since shuffle is False. This will raise an error in 0.24. You should leave random_state to its default (None), or set shuffle=True.\n",
      "  FutureWarning\n"
     ]
    },
    {
     "name": "stdout",
     "output_type": "stream",
     "text": [
      "F1 0.5569; AUC 0.5585 \n",
      "Accuracy of classifier on test set: 0.54\n",
      "10-fold cross validation average accuracy of classifier: 0.582\n",
      "Confusion Matrix for Logistic Regression Classfier:\n",
      "[[36 38]\n",
      " [23 35]]\n",
      "Classification Report for Logistic Regression Classfier:\n",
      "              precision    recall  f1-score   support\n",
      "\n",
      "           0       0.61      0.49      0.54        74\n",
      "           1       0.48      0.60      0.53        58\n",
      "\n",
      "    accuracy                           0.54       132\n",
      "   macro avg       0.54      0.54      0.54       132\n",
      "weighted avg       0.55      0.54      0.54       132\n",
      "\n"
     ]
    },
    {
     "data": {
      "text/plain": [
       "(RandomForestClassifier(bootstrap=True, ccp_alpha=0.0, class_weight=None,\n",
       "                        criterion='gini', max_depth=None, max_features='auto',\n",
       "                        max_leaf_nodes=None, max_samples=None,\n",
       "                        min_impurity_decrease=0.0, min_impurity_split=None,\n",
       "                        min_samples_leaf=1, min_samples_split=2,\n",
       "                        min_weight_fraction_leaf=0.0, n_estimators=100,\n",
       "                        n_jobs=None, oob_score=False, random_state=None,\n",
       "                        verbose=0, warm_start=False),\n",
       " array([0.10489084, 0.09307879, 0.15621595, 0.11702601, 0.10040876,\n",
       "        0.13133614, 0.1027578 , 0.09538611, 0.09889959]))"
      ]
     },
     "execution_count": 63,
     "metadata": {},
     "output_type": "execute_result"
    }
   ],
   "source": [
    "test_evaluation_rf(pca_transformed_rf, target_df.Y1.values)"
   ]
  },
  {
   "cell_type": "code",
   "execution_count": null,
   "metadata": {},
   "outputs": [],
   "source": []
  },
  {
   "cell_type": "markdown",
   "metadata": {},
   "source": [
    "Interestingly enough, the same strategy with led to higher predictive power with the initial Logistic Regression actually made the Random Forest model its worst iteration thusfar. At this point the random forest is hardly better than a random guess at the target value. As this is the case, we will stick with the Logistic Regression model."
   ]
  },
  {
   "cell_type": "code",
   "execution_count": null,
   "metadata": {},
   "outputs": [],
   "source": []
  },
  {
   "cell_type": "markdown",
   "metadata": {},
   "source": [
    "# Predict Y2"
   ]
  },
  {
   "cell_type": "code",
   "execution_count": 66,
   "metadata": {},
   "outputs": [],
   "source": [
    "def test_evaluation_y2(predictors_y2, y2):\n",
    "    # lists for f1-score and AUC\n",
    "    f1_score_lst = []\n",
    "    auc_lst = []\n",
    "\n",
    "\n",
    "    #loop to calculate f1 and auc scores and present averages after 10 runs\n",
    "    for count in range (1,10):\n",
    "        #Model building\n",
    "        clf1 = LogisticRegression()\n",
    "\n",
    "\n",
    "        # Splitting data into testing and training\n",
    "        X2_train, X2_test, y2_train, y2_test = train_test_split(predictors_y2, y2, test_size=0.2, random_state=123)\n",
    "\n",
    "        # Begin oversampling\n",
    "        oversample = pd.concat([X2_train,y2_train],axis=1)\n",
    "        max_size = oversample['Y2'].value_counts().max()\n",
    "        lst = [oversample]\n",
    "        for class_index, group in oversample.groupby('Y2'):\n",
    "            lst.append(group.sample(max_size-len(group), replace=True))\n",
    "        X2_train = pd.concat(lst)\n",
    "        y2_train=pd.DataFrame.copy(X2_train['Y2'])\n",
    "        del X2_train['Y2']\n",
    "\n",
    "        # fitting model on oversampled data\n",
    "        clf1.fit(X2_train, y2_train)\n",
    "\n",
    "        y2_pred = clf1.predict(X2_test)\n",
    "\n",
    "\n",
    "        #10-fold cross validation\n",
    "        kfold = model_selection.KFold(n_splits=10)\n",
    "        scoring = 'accuracy'\n",
    "        results = model_selection.cross_val_score(clf1, X2_train, y2_train, cv=kfold, scoring=scoring)\n",
    "\n",
    "        #calculate f1-score and AUC\n",
    "\n",
    "        clf1_roc_auc = roc_auc_score(y2_test, y2_pred)\n",
    "\n",
    "\n",
    "        #calculate average f1-score and AUC\n",
    "        f1_score_lst.append(precision_recall_fscore_support(y2_test, y2_pred, average='weighted')[2])\n",
    "        auc_lst.append(clf1_roc_auc)\n",
    "\n",
    "\n",
    "    print('F1 {:.4f}; AUC {:.4f} '.format(np.mean(f1_score_lst),np.mean(auc_lst)))\n",
    "\n",
    "    confusion_matrix_y2 = confusion_matrix(y2_test, y2_pred)\n",
    "\n",
    "\n",
    "    print('Accuracy of classifier on test set: {:.3f}'.format(clf1.score(X2_test, y2_test)))\n",
    "\n",
    "    print(\"10-fold cross validation average accuracy of clf1: %.3f\" % (results.mean()))\n",
    "\n",
    "    print('Confusion Matrix for Classfier:')\n",
    "    print(confusion_matrix_y2)\n",
    "\n",
    "    print('Classification Report for Classfier:')\n",
    "    print(classification_report(y2_test, y2_pred))\n",
    "\n",
    "    imp = pd.DataFrame(zip(predictors_y2.columns, clf1.coef_[0]))\n",
    "    imp.columns = ['field','importance']\n",
    "    imp.sort_values('importance', inplace = True)\n",
    "    return clf1, imp\n"
   ]
  },
  {
   "cell_type": "code",
   "execution_count": null,
   "metadata": {},
   "outputs": [],
   "source": []
  },
  {
   "cell_type": "code",
   "execution_count": 57,
   "metadata": {},
   "outputs": [],
   "source": [
    "y2 = target_df.Y2"
   ]
  },
  {
   "cell_type": "code",
   "execution_count": 60,
   "metadata": {},
   "outputs": [],
   "source": [
    "feat_rfe = get_important_features_rfe(feat_mat[[i for i in list(feat_mat.columns) \n",
    "                                     if i != 'I1' and \n",
    "                                                (('iqr_standardized_normalized' in i) or \n",
    "                                                 ('normalized_alt' in i))]],\n",
    "                                      y2, 10)"
   ]
  },
  {
   "cell_type": "code",
   "execution_count": 62,
   "metadata": {},
   "outputs": [],
   "source": [
    "predictors_y2 = feat_mat[feat_rfe[:10]]"
   ]
  },
  {
   "cell_type": "code",
   "execution_count": 67,
   "metadata": {},
   "outputs": [
    {
     "name": "stdout",
     "output_type": "stream",
     "text": [
      "F1 0.6640; AUC 0.6134 \n",
      "Accuracy of classifier on test set: 0.644\n",
      "10-fold cross validation average accuracy of clf1: 0.634\n",
      "Confusion Matrix for Classfier:\n",
      "[[18 15]\n",
      " [32 67]]\n",
      "Classification Report for Classfier:\n",
      "              precision    recall  f1-score   support\n",
      "\n",
      "           0       0.36      0.55      0.43        33\n",
      "           1       0.82      0.68      0.74        99\n",
      "\n",
      "    accuracy                           0.64       132\n",
      "   macro avg       0.59      0.61      0.59       132\n",
      "weighted avg       0.70      0.64      0.66       132\n",
      "\n"
     ]
    }
   ],
   "source": [
    "clf_y2, imp = test_evaluation_y2(predictors_y2, y2)"
   ]
  },
  {
   "cell_type": "code",
   "execution_count": 65,
   "metadata": {},
   "outputs": [
    {
     "data": {
      "text/html": [
       "<div>\n",
       "<style scoped>\n",
       "    .dataframe tbody tr th:only-of-type {\n",
       "        vertical-align: middle;\n",
       "    }\n",
       "\n",
       "    .dataframe tbody tr th {\n",
       "        vertical-align: top;\n",
       "    }\n",
       "\n",
       "    .dataframe thead th {\n",
       "        text-align: right;\n",
       "    }\n",
       "</style>\n",
       "<table border=\"1\" class=\"dataframe\">\n",
       "  <thead>\n",
       "    <tr style=\"text-align: right;\">\n",
       "      <th></th>\n",
       "      <th>field</th>\n",
       "      <th>importance</th>\n",
       "    </tr>\n",
       "  </thead>\n",
       "  <tbody>\n",
       "    <tr>\n",
       "      <th>2</th>\n",
       "      <td>C4_normalized_alt</td>\n",
       "      <td>-1.335079</td>\n",
       "    </tr>\n",
       "    <tr>\n",
       "      <th>0</th>\n",
       "      <td>C3_imputed_normalized_alt</td>\n",
       "      <td>-0.431877</td>\n",
       "    </tr>\n",
       "    <tr>\n",
       "      <th>5</th>\n",
       "      <td>neg_words_percent_normalized_alt</td>\n",
       "      <td>-0.158801</td>\n",
       "    </tr>\n",
       "    <tr>\n",
       "      <th>9</th>\n",
       "      <td>short_sentences_per_normalized_alt</td>\n",
       "      <td>-0.058593</td>\n",
       "    </tr>\n",
       "    <tr>\n",
       "      <th>8</th>\n",
       "      <td>short_sentences_per_iqr_standardized_normalized</td>\n",
       "      <td>0.151666</td>\n",
       "    </tr>\n",
       "    <tr>\n",
       "      <th>7</th>\n",
       "      <td>outstanding_share_per_normalized_alt</td>\n",
       "      <td>0.348878</td>\n",
       "    </tr>\n",
       "    <tr>\n",
       "      <th>3</th>\n",
       "      <td>C5_prime_normalized_alt</td>\n",
       "      <td>0.367065</td>\n",
       "    </tr>\n",
       "    <tr>\n",
       "      <th>6</th>\n",
       "      <td>offering_share_per_iqr_standardized_normalized</td>\n",
       "      <td>0.469326</td>\n",
       "    </tr>\n",
       "    <tr>\n",
       "      <th>4</th>\n",
       "      <td>C6_prime_iqr_standardized_normalized</td>\n",
       "      <td>0.542048</td>\n",
       "    </tr>\n",
       "    <tr>\n",
       "      <th>1</th>\n",
       "      <td>C4_iqr_standardized_normalized</td>\n",
       "      <td>1.604152</td>\n",
       "    </tr>\n",
       "  </tbody>\n",
       "</table>\n",
       "</div>"
      ],
      "text/plain": [
       "                                             field  importance\n",
       "2                                C4_normalized_alt   -1.335079\n",
       "0                        C3_imputed_normalized_alt   -0.431877\n",
       "5                 neg_words_percent_normalized_alt   -0.158801\n",
       "9               short_sentences_per_normalized_alt   -0.058593\n",
       "8  short_sentences_per_iqr_standardized_normalized    0.151666\n",
       "7             outstanding_share_per_normalized_alt    0.348878\n",
       "3                          C5_prime_normalized_alt    0.367065\n",
       "6   offering_share_per_iqr_standardized_normalized    0.469326\n",
       "4             C6_prime_iqr_standardized_normalized    0.542048\n",
       "1                   C4_iqr_standardized_normalized    1.604152"
      ]
     },
     "execution_count": 65,
     "metadata": {},
     "output_type": "execute_result"
    }
   ],
   "source": [
    "imp"
   ]
  },
  {
   "cell_type": "markdown",
   "metadata": {},
   "source": [
    "We see that the initial modelling leads to a middling result for the F1 and AUC score. Additionally, this model contains correlated variables and a mix from Pipeline A and Pipeline B for predictions. However, removing correlated variables or sticking to only a single pipeline did not lead to an improvement in results. Similarly, PCA did not seem to make as much of an impact in this model as it did for predicting Y1. As this is the case, alternative modelling results were necessary. "
   ]
  },
  {
   "cell_type": "markdown",
   "metadata": {},
   "source": [
    "# XGBoost Model for Y2 Predictions"
   ]
  },
  {
   "cell_type": "markdown",
   "metadata": {},
   "source": [
    "A subset of features can be taken. These come as the non-correlated features selected from PCA against the categorical fields, Pipeline A, and Pipeline B."
   ]
  },
  {
   "cell_type": "code",
   "execution_count": 92,
   "metadata": {},
   "outputs": [],
   "source": [
    "#predictors_y2 = feat_mat[[i for i in feat_mat.columns if 'I1' not in i]]\n",
    "predictors_y2 = feat_mat[['industry_bin__Other','short_sentences_iqr_standardized','C3_imputed_normalized',\n",
    "                'total_shares_iqr_standardized','outstanding_share_per_iqr_standardized_normalized',\n",
    "                'C2','offering_share_per_iqr_standardized_normalized','C5_prime_iqr_standardized_normalized',\n",
    "                'C6_prime_iqr_standardized_normalized','C7_imputed']]"
   ]
  },
  {
   "cell_type": "markdown",
   "metadata": {},
   "source": [
    "The data is split the same as it was for other models. However, due to class imbalance oversampling is leveraged to have an equal number of targets which are 0 and which are 1."
   ]
  },
  {
   "cell_type": "code",
   "execution_count": 93,
   "metadata": {},
   "outputs": [],
   "source": [
    "# Splitting data into testing and training\n",
    "X2_train, X2_test, y2_train, y2_test = train_test_split(predictors_y2, y2, test_size=0.2, random_state=123)\n",
    "\n",
    "# Begin oversampling\n",
    "oversample = pd.concat([X2_train,y2_train],axis=1)\n",
    "max_size = oversample['Y2'].value_counts().max()\n",
    "lst = [oversample]\n",
    "for class_index, group in oversample.groupby('Y2'):\n",
    "    lst.append(group.sample(max_size-len(group), replace=True))\n",
    "X2_train = pd.concat(lst)\n",
    "y2_train=pd.DataFrame.copy(X2_train['Y2'])\n",
    "del X2_train['Y2']"
   ]
  },
  {
   "cell_type": "markdown",
   "metadata": {},
   "source": [
    "A randomized parameter sweep is used to tune the model. This is a useful substitute for more time and resource intensive grid searches. We set a grid of parameters and set the optimization for AUC. We also set a low cross validation due to the limited training data, and can then compare results to previous attempts. "
   ]
  },
  {
   "cell_type": "code",
   "execution_count": 94,
   "metadata": {},
   "outputs": [
    {
     "name": "stdout",
     "output_type": "stream",
     "text": [
      "Fitting 2 folds for each of 500 candidates, totalling 1000 fits\n"
     ]
    },
    {
     "name": "stderr",
     "output_type": "stream",
     "text": [
      "[Parallel(n_jobs=-4)]: Using backend LokyBackend with 13 concurrent workers.\n",
      "[Parallel(n_jobs=-4)]: Done   6 tasks      | elapsed:    1.0s\n",
      "[Parallel(n_jobs=-4)]: Done 102 tasks      | elapsed:    2.1s\n",
      "[Parallel(n_jobs=-4)]: Done 684 tasks      | elapsed:    7.5s\n",
      "[Parallel(n_jobs=-4)]: Done 975 out of 1000 | elapsed:    9.8s remaining:    0.3s\n",
      "[Parallel(n_jobs=-4)]: Done 1000 out of 1000 | elapsed:    9.9s finished\n"
     ]
    },
    {
     "data": {
      "text/plain": [
       "RandomizedSearchCV(cv=<generator object _BaseKFold.split at 0x7fc9b554d2b0>,\n",
       "                   error_score=nan,\n",
       "                   estimator=XGBClassifier(base_score=0.5, booster='gbtree',\n",
       "                                           colsample_bylevel=1,\n",
       "                                           colsample_bynode=1,\n",
       "                                           colsample_bytree=1,\n",
       "                                           eval_metric=['auc'],\n",
       "                                           eval_set=[(     industry_bin__Other  short_sentences_iqr_standardized  \\\n",
       "303                    0                          0.320988   \n",
       "75                     0                          0.308642   \n",
       "267                    0                          0.460905   \n",
       "491                    0                          0.399177   \n",
       "101                    0                          0.386831   \n",
       "..                   ...                               ....\n",
       "                   iid='deprecated', n_iter=500, n_jobs=-4,\n",
       "                   param_distributions={'booster': ['gbtree', 'dart'],\n",
       "                                        'colsample_bytree': [0.2, 0.3, 0.5],\n",
       "                                        'gamma': [0, 1, 5],\n",
       "                                        'lambda': [0, 0.33, 0.66, 1],\n",
       "                                        'learning_rate': [0.01, 0.05, 0.1],\n",
       "                                        'max_depth': [3, 4, 5],\n",
       "                                        'scale_pos_weight': [1],\n",
       "                                        'subsample': [0.3, 0.4],\n",
       "                                        'verbosity': [2]},\n",
       "                   pre_dispatch='2*n_jobs', random_state=6, refit=True,\n",
       "                   return_train_score=False, scoring='roc_auc', verbose=3)"
      ]
     },
     "execution_count": 94,
     "metadata": {},
     "output_type": "execute_result"
    }
   ],
   "source": [
    "parameters = {\n",
    "                'booster': ['gbtree','dart'],\n",
    "                'verbosity': [2],\n",
    "                'learning_rate': [0.01,0.05,0.1],\n",
    "#                 \"n_estimators\":[75,150,200],\n",
    "                'gamma': [0,1,5],\n",
    "                'max_depth': [3,4,5],\n",
    "                'scale_pos_weight': [1],\n",
    "                'subsample': [0.3, 0.4],\n",
    "                'colsample_bytree': [0.2,0.3,0.5],\n",
    "                'lambda': [0,0.33,0.66,1]\n",
    "            }\n",
    "\n",
    "eval_set = [(X2_train, y2_train), (X2_test, y2_test)]\n",
    "eval_metric = [\"auc\"]\n",
    "\n",
    "xgb_test = xgb.XGBClassifier(objective='binary:logistic',\n",
    "                    silent=True, eval_metric=eval_metric, eval_set=eval_set)\n",
    "\n",
    "folds = 2\n",
    "param_comb = 500\n",
    "\n",
    "skf = StratifiedKFold(n_splits=folds, shuffle = True, random_state = 6)\n",
    "\n",
    "random_search = RandomizedSearchCV(xgb_test, param_distributions=parameters, n_iter=param_comb, scoring='roc_auc', \n",
    "                                   n_jobs=-4, cv=skf.split(X2_train,y2_train), verbose=3, random_state=6 )\n",
    "\n",
    "random_search.fit(X2_train, y2_train)\n"
   ]
  },
  {
   "cell_type": "code",
   "execution_count": 95,
   "metadata": {},
   "outputs": [
    {
     "name": "stdout",
     "output_type": "stream",
     "text": [
      "              precision    recall  f1-score   support\n",
      "\n",
      "           0       0.43      0.39      0.41        33\n",
      "           1       0.80      0.83      0.82        99\n",
      "\n",
      "    accuracy                           0.72       132\n",
      "   macro avg       0.62      0.61      0.61       132\n",
      "weighted avg       0.71      0.72      0.72       132\n",
      "\n"
     ]
    }
   ],
   "source": [
    "print(classification_report(y_pred=random_search.best_estimator_.predict(X2_test), y_true=y2_test))"
   ]
  },
  {
   "cell_type": "code",
   "execution_count": 96,
   "metadata": {},
   "outputs": [
    {
     "name": "stdout",
     "output_type": "stream",
     "text": [
      "              precision    recall  f1-score   support\n",
      "\n",
      "           0       0.95      0.98      0.96       362\n",
      "           1       0.97      0.94      0.96       362\n",
      "\n",
      "    accuracy                           0.96       724\n",
      "   macro avg       0.96      0.96      0.96       724\n",
      "weighted avg       0.96      0.96      0.96       724\n",
      "\n"
     ]
    }
   ],
   "source": [
    "print(classification_report(y_pred=random_search.best_estimator_.predict(X2_train), y_true=y2_train))"
   ]
  },
  {
   "cell_type": "code",
   "execution_count": 97,
   "metadata": {},
   "outputs": [
    {
     "data": {
      "image/png": "[encoded data removed]",
      "text/plain": [
       "<Figure size 432x288 with 1 Axes>"
      ]
     },
     "metadata": {
      "needs_background": "light"
     },
     "output_type": "display_data"
    },
    {
     "name": "stdout",
     "output_type": "stream",
     "text": [
      "0.6737067646158554\n"
     ]
    }
   ],
   "source": [
    "xgb_proba = random_search.best_estimator_.predict_proba(X2_test)\n",
    "\n",
    "probs = xgb_proba[:, 1]\n",
    "# calculate roc curve\n",
    "fpr, tpr, thresholds = roc_curve(y2_test, probs)\n",
    "# plot no skill\n",
    "plt.plot([0, 1], [0, 1], linestyle='--')\n",
    "# plot the roc curve for the model\n",
    "plt.plot(fpr, tpr)\n",
    "# show the plot\n",
    "plt.show()\n",
    "auc = roc_auc_score(y2_test, probs)\n",
    "print(auc)"
   ]
  },
  {
   "cell_type": "code",
   "execution_count": null,
   "metadata": {},
   "outputs": [],
   "source": []
  },
  {
   "cell_type": "markdown",
   "metadata": {},
   "source": [
    "Through use of the Random Parameter Sweep and the XGBoost model we are able to get to our best predictions. F1 scores range between 0.70 and 0.75, while AUC consistantly ranges between 0.65 and 0.70.\n",
    "\n",
    "Although powerful, we must be careful when leveraging this model as it nearly fits the training data perfectly despite the use of the eval set to try to reduce overfitting. However, despite the potential for overfitting we also see good performance against the test set, signaling that o"
   ]
  }
 ],
 "metadata": {
  "kernelspec": {
   "display_name": "Python 3",
   "language": "python",
   "name": "python3"
  },
  "language_info": {
   "codemirror_mode": {
    "name": "ipython",
    "version": 3
   },
   "file_extension": ".py",
   "mimetype": "text/x-python",
   "name": "python",
   "nbconvert_exporter": "python",
   "pygments_lexer": "ipython3",
   "version": "3.6.7"
  }
 },
 "nbformat": 4,
 "nbformat_minor": 4
}
